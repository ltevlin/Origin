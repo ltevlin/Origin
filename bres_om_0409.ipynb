{
 "cells": [
  {
   "cell_type": "code",
   "outputs": [],
   "source": [
    "import pandas as pd\n",
    "import numpy as np\n",
    "import json\n",
    "import dask.bag as db\n",
    "import dask.dataframe as dd\n",
    "import ast\n",
    "#import tensorflow as tf\n",
    "#import seaborn as sns\n",
    "import matplotlib.pyplot as plt\n",
    "from sklearn.model_selection import train_test_split\n",
    "from sklearn.model_selection import cross_val_score\n",
    "from sklearn.preprocessing import LabelEncoder, StandardScaler\n",
    "from sklearn.tree import DecisionTreeClassifier\n",
    "from sklearn.ensemble import RandomForestClassifier\n",
    "from sklearn.svm import SVC\n",
    "from sklearn.linear_model import SGDClassifier\n",
    "from sklearn.neighbors import KNeighborsClassifier\n",
    "from sklearn.metrics import accuracy_score"
   ],
   "metadata": {
    "collapsed": false,
    "ExecuteTime": {
     "end_time": "2024-07-17T11:17:19.817189Z",
     "start_time": "2024-07-17T11:17:16.561208Z"
    }
   },
   "id": "29717e1136118dbe",
   "execution_count": 2
  },
  {
   "cell_type": "code",
   "execution_count": 6,
   "id": "initial_id",
   "metadata": {
    "collapsed": true,
    "ExecuteTime": {
     "end_time": "2024-07-17T11:36:28.360586Z",
     "start_time": "2024-07-17T11:36:28.062225Z"
    }
   },
   "outputs": [],
   "source": [
    "df_0409 = dd.read_json('bres_0409.json', blocksize=\"128 MiB\", lines=True)"
   ]
  },
  {
   "cell_type": "code",
   "outputs": [],
   "source": [
    "df1_0409 = df_0409.drop(['level', 'demand_partner', 'opn', 'dbpr', 'dflr', 'kgrp', 'message','bidresponse'], axis=1)\n",
    "df_raw0409_15 = df1_0409[df1_0409['sflr']== 15.0].drop(['sflr'], axis=1).reset_index(drop=True)"
   ],
   "metadata": {
    "collapsed": false,
    "ExecuteTime": {
     "end_time": "2024-07-17T11:36:41.454670Z",
     "start_time": "2024-07-17T11:36:41.228528Z"
    }
   },
   "id": "28a5e6fa5b3bea58",
   "execution_count": 7
  },
  {
   "cell_type": "code",
   "outputs": [],
   "source": [
    "df_raw0409_15  = df_raw0409_15.compute()"
   ],
   "metadata": {
    "collapsed": false,
    "ExecuteTime": {
     "end_time": "2024-07-17T12:11:52.726917Z",
     "start_time": "2024-07-17T11:36:47.417463Z"
    }
   },
   "id": "a0d206a0d825e468",
   "execution_count": 8
  },
  {
   "cell_type": "code",
   "outputs": [
    {
     "ename": "ArrowInvalid",
     "evalue": "offset overflow while concatenating arrays",
     "output_type": "error",
     "traceback": [
      "\u001B[0;31m---------------------------------------------------------------------------\u001B[0m",
      "\u001B[0;31mArrowInvalid\u001B[0m                              Traceback (most recent call last)",
      "Cell \u001B[0;32mIn[9], line 1\u001B[0m\n\u001B[0;32m----> 1\u001B[0m df_raw0409_15\u001B[38;5;241m.\u001B[39mto_pickle(\u001B[38;5;124m\"\u001B[39m\u001B[38;5;124mdf_raw0409_15.pkl\u001B[39m\u001B[38;5;124m\"\u001B[39m)\n",
      "File \u001B[0;32m/opt/anaconda3/lib/python3.11/site-packages/pandas/core/generic.py:3085\u001B[0m, in \u001B[0;36mNDFrame.to_pickle\u001B[0;34m(self, path, compression, protocol, storage_options)\u001B[0m\n\u001B[1;32m   3033\u001B[0m \u001B[38;5;250m\u001B[39m\u001B[38;5;124;03m\"\"\"\u001B[39;00m\n\u001B[1;32m   3034\u001B[0m \u001B[38;5;124;03mPickle (serialize) object to file.\u001B[39;00m\n\u001B[1;32m   3035\u001B[0m \n\u001B[0;32m   (...)\u001B[0m\n\u001B[1;32m   3081\u001B[0m \u001B[38;5;124;03m4    4    9\u001B[39;00m\n\u001B[1;32m   3082\u001B[0m \u001B[38;5;124;03m\"\"\"\u001B[39;00m  \u001B[38;5;66;03m# noqa: E501\u001B[39;00m\n\u001B[1;32m   3083\u001B[0m \u001B[38;5;28;01mfrom\u001B[39;00m \u001B[38;5;21;01mpandas\u001B[39;00m\u001B[38;5;21;01m.\u001B[39;00m\u001B[38;5;21;01mio\u001B[39;00m\u001B[38;5;21;01m.\u001B[39;00m\u001B[38;5;21;01mpickle\u001B[39;00m \u001B[38;5;28;01mimport\u001B[39;00m to_pickle\n\u001B[0;32m-> 3085\u001B[0m to_pickle(\n\u001B[1;32m   3086\u001B[0m     \u001B[38;5;28mself\u001B[39m,\n\u001B[1;32m   3087\u001B[0m     path,\n\u001B[1;32m   3088\u001B[0m     compression\u001B[38;5;241m=\u001B[39mcompression,\n\u001B[1;32m   3089\u001B[0m     protocol\u001B[38;5;241m=\u001B[39mprotocol,\n\u001B[1;32m   3090\u001B[0m     storage_options\u001B[38;5;241m=\u001B[39mstorage_options,\n\u001B[1;32m   3091\u001B[0m )\n",
      "File \u001B[0;32m/opt/anaconda3/lib/python3.11/site-packages/pandas/io/pickle.py:113\u001B[0m, in \u001B[0;36mto_pickle\u001B[0;34m(obj, filepath_or_buffer, compression, protocol, storage_options)\u001B[0m\n\u001B[1;32m    103\u001B[0m     protocol \u001B[38;5;241m=\u001B[39m pickle\u001B[38;5;241m.\u001B[39mHIGHEST_PROTOCOL\n\u001B[1;32m    105\u001B[0m \u001B[38;5;28;01mwith\u001B[39;00m get_handle(\n\u001B[1;32m    106\u001B[0m     filepath_or_buffer,\n\u001B[1;32m    107\u001B[0m     \u001B[38;5;124m\"\u001B[39m\u001B[38;5;124mwb\u001B[39m\u001B[38;5;124m\"\u001B[39m,\n\u001B[0;32m   (...)\u001B[0m\n\u001B[1;32m    111\u001B[0m ) \u001B[38;5;28;01mas\u001B[39;00m handles:\n\u001B[1;32m    112\u001B[0m     \u001B[38;5;66;03m# letting pickle write directly to the buffer is more memory-efficient\u001B[39;00m\n\u001B[0;32m--> 113\u001B[0m     pickle\u001B[38;5;241m.\u001B[39mdump(obj, handles\u001B[38;5;241m.\u001B[39mhandle, protocol\u001B[38;5;241m=\u001B[39mprotocol)\n",
      "File \u001B[0;32m/opt/anaconda3/lib/python3.11/site-packages/pandas/core/arrays/arrow/array.py:633\u001B[0m, in \u001B[0;36mArrowExtensionArray.__getstate__\u001B[0;34m(self)\u001B[0m\n\u001B[1;32m    631\u001B[0m \u001B[38;5;28;01mdef\u001B[39;00m \u001B[38;5;21m__getstate__\u001B[39m(\u001B[38;5;28mself\u001B[39m):\n\u001B[1;32m    632\u001B[0m     state \u001B[38;5;241m=\u001B[39m \u001B[38;5;28mself\u001B[39m\u001B[38;5;241m.\u001B[39m\u001B[38;5;18m__dict__\u001B[39m\u001B[38;5;241m.\u001B[39mcopy()\n\u001B[0;32m--> 633\u001B[0m     state[\u001B[38;5;124m\"\u001B[39m\u001B[38;5;124m_pa_array\u001B[39m\u001B[38;5;124m\"\u001B[39m] \u001B[38;5;241m=\u001B[39m \u001B[38;5;28mself\u001B[39m\u001B[38;5;241m.\u001B[39m_pa_array\u001B[38;5;241m.\u001B[39mcombine_chunks()\n\u001B[1;32m    634\u001B[0m     \u001B[38;5;28;01mreturn\u001B[39;00m state\n",
      "File \u001B[0;32m/opt/anaconda3/lib/python3.11/site-packages/pyarrow/table.pxi:745\u001B[0m, in \u001B[0;36mpyarrow.lib.ChunkedArray.combine_chunks\u001B[0;34m()\u001B[0m\n",
      "File \u001B[0;32m/opt/anaconda3/lib/python3.11/site-packages/pyarrow/array.pxi:3723\u001B[0m, in \u001B[0;36mpyarrow.lib.concat_arrays\u001B[0;34m()\u001B[0m\n",
      "File \u001B[0;32m/opt/anaconda3/lib/python3.11/site-packages/pyarrow/error.pxi:154\u001B[0m, in \u001B[0;36mpyarrow.lib.pyarrow_internal_check_status\u001B[0;34m()\u001B[0m\n",
      "File \u001B[0;32m/opt/anaconda3/lib/python3.11/site-packages/pyarrow/error.pxi:91\u001B[0m, in \u001B[0;36mpyarrow.lib.check_status\u001B[0;34m()\u001B[0m\n",
      "\u001B[0;31mArrowInvalid\u001B[0m: offset overflow while concatenating arrays"
     ]
    }
   ],
   "source": [
    "df_raw0409_15.to_pickle(\"df_raw0409_15.pkl\")"
   ],
   "metadata": {
    "collapsed": false,
    "ExecuteTime": {
     "end_time": "2024-07-17T12:31:44.700589Z",
     "start_time": "2024-07-17T12:31:42.369030Z"
    }
   },
   "id": "c20c8eedd35b3392",
   "execution_count": 9
  },
  {
   "cell_type": "code",
   "outputs": [
    {
     "ename": "FileNotFoundError",
     "evalue": "[Errno 2] No such file or directory: 'df_raw0409_15'",
     "output_type": "error",
     "traceback": [
      "\u001B[0;31m---------------------------------------------------------------------------\u001B[0m",
      "\u001B[0;31mFileNotFoundError\u001B[0m                         Traceback (most recent call last)",
      "Cell \u001B[0;32mIn[3], line 1\u001B[0m\n\u001B[0;32m----> 1\u001B[0m df_raw0409_15 \u001B[38;5;241m=\u001B[39m pd\u001B[38;5;241m.\u001B[39mread_pickle(\u001B[38;5;124m'\u001B[39m\u001B[38;5;124mdf_raw0409_15\u001B[39m\u001B[38;5;124m'\u001B[39m)\n",
      "File \u001B[0;32m/opt/anaconda3/lib/python3.11/site-packages/pandas/io/pickle.py:189\u001B[0m, in \u001B[0;36mread_pickle\u001B[0;34m(filepath_or_buffer, compression, storage_options)\u001B[0m\n\u001B[1;32m    125\u001B[0m \u001B[38;5;250m\u001B[39m\u001B[38;5;124;03m\"\"\"\u001B[39;00m\n\u001B[1;32m    126\u001B[0m \u001B[38;5;124;03mLoad pickled pandas object (or any object) from file.\u001B[39;00m\n\u001B[1;32m    127\u001B[0m \n\u001B[0;32m   (...)\u001B[0m\n\u001B[1;32m    186\u001B[0m \u001B[38;5;124;03m4    4    9\u001B[39;00m\n\u001B[1;32m    187\u001B[0m \u001B[38;5;124;03m\"\"\"\u001B[39;00m\n\u001B[1;32m    188\u001B[0m excs_to_catch \u001B[38;5;241m=\u001B[39m (\u001B[38;5;167;01mAttributeError\u001B[39;00m, \u001B[38;5;167;01mImportError\u001B[39;00m, \u001B[38;5;167;01mModuleNotFoundError\u001B[39;00m, \u001B[38;5;167;01mTypeError\u001B[39;00m)\n\u001B[0;32m--> 189\u001B[0m \u001B[38;5;28;01mwith\u001B[39;00m get_handle(\n\u001B[1;32m    190\u001B[0m     filepath_or_buffer,\n\u001B[1;32m    191\u001B[0m     \u001B[38;5;124m\"\u001B[39m\u001B[38;5;124mrb\u001B[39m\u001B[38;5;124m\"\u001B[39m,\n\u001B[1;32m    192\u001B[0m     compression\u001B[38;5;241m=\u001B[39mcompression,\n\u001B[1;32m    193\u001B[0m     is_text\u001B[38;5;241m=\u001B[39m\u001B[38;5;28;01mFalse\u001B[39;00m,\n\u001B[1;32m    194\u001B[0m     storage_options\u001B[38;5;241m=\u001B[39mstorage_options,\n\u001B[1;32m    195\u001B[0m ) \u001B[38;5;28;01mas\u001B[39;00m handles:\n\u001B[1;32m    196\u001B[0m     \u001B[38;5;66;03m# 1) try standard library Pickle\u001B[39;00m\n\u001B[1;32m    197\u001B[0m     \u001B[38;5;66;03m# 2) try pickle_compat (older pandas version) to handle subclass changes\u001B[39;00m\n\u001B[1;32m    198\u001B[0m     \u001B[38;5;66;03m# 3) try pickle_compat with latin-1 encoding upon a UnicodeDecodeError\u001B[39;00m\n\u001B[1;32m    200\u001B[0m     \u001B[38;5;28;01mtry\u001B[39;00m:\n\u001B[1;32m    201\u001B[0m         \u001B[38;5;66;03m# TypeError for Cython complaints about object.__new__ vs Tick.__new__\u001B[39;00m\n\u001B[1;32m    202\u001B[0m         \u001B[38;5;28;01mtry\u001B[39;00m:\n",
      "File \u001B[0;32m/opt/anaconda3/lib/python3.11/site-packages/pandas/io/common.py:872\u001B[0m, in \u001B[0;36mget_handle\u001B[0;34m(path_or_buf, mode, encoding, compression, memory_map, is_text, errors, storage_options)\u001B[0m\n\u001B[1;32m    863\u001B[0m         handle \u001B[38;5;241m=\u001B[39m \u001B[38;5;28mopen\u001B[39m(\n\u001B[1;32m    864\u001B[0m             handle,\n\u001B[1;32m    865\u001B[0m             ioargs\u001B[38;5;241m.\u001B[39mmode,\n\u001B[0;32m   (...)\u001B[0m\n\u001B[1;32m    868\u001B[0m             newline\u001B[38;5;241m=\u001B[39m\u001B[38;5;124m\"\u001B[39m\u001B[38;5;124m\"\u001B[39m,\n\u001B[1;32m    869\u001B[0m         )\n\u001B[1;32m    870\u001B[0m     \u001B[38;5;28;01melse\u001B[39;00m:\n\u001B[1;32m    871\u001B[0m         \u001B[38;5;66;03m# Binary mode\u001B[39;00m\n\u001B[0;32m--> 872\u001B[0m         handle \u001B[38;5;241m=\u001B[39m \u001B[38;5;28mopen\u001B[39m(handle, ioargs\u001B[38;5;241m.\u001B[39mmode)\n\u001B[1;32m    873\u001B[0m     handles\u001B[38;5;241m.\u001B[39mappend(handle)\n\u001B[1;32m    875\u001B[0m \u001B[38;5;66;03m# Convert BytesIO or file objects passed with an encoding\u001B[39;00m\n",
      "\u001B[0;31mFileNotFoundError\u001B[0m: [Errno 2] No such file or directory: 'df_raw0409_15'"
     ]
    }
   ],
   "source": [
    "df_raw0409_15 = pd.read_pickle('df_raw0409_15')"
   ],
   "metadata": {
    "collapsed": false,
    "ExecuteTime": {
     "end_time": "2024-07-17T11:17:28.898995Z",
     "start_time": "2024-07-17T11:17:28.451043Z"
    }
   },
   "id": "261d40eab900ea47",
   "execution_count": 3
  },
  {
   "cell_type": "code",
   "outputs": [],
   "source": [
    "def extract_features(df_raw):\n",
    "    list = []\n",
    "    for i in range(len(df_raw)):\n",
    "        d1 = {k:v for k,v in json.loads(df_raw.bidrequest.iloc[i]).items() if k not in ['source','at','tmax','user','regs']}\n",
    "        d2 = {}\n",
    "        d2['id'] = d1['id']\n",
    "        if 'minduration' in d1['imp'][0]['video'].keys():\n",
    "            d2['minduration'] = d1['imp'][0]['video']['minduration']\n",
    "        else: d2['minduration'] = np.nan\n",
    "        d2['maxduration'] = d1['imp'][0]['video']['maxduration']\n",
    "        d2['minbitrate']= d1['imp'][0]['video']['minbitrate']\n",
    "        d2['maxbitrate']= d1['imp'][0]['video']['maxbitrate']  \n",
    "        if 'app' in d1.keys():\n",
    "            if 'id' in d1['app'].keys():\n",
    "                d2['app_id'] = d1['app']['id']\n",
    "            else: d2['app_id'] = np.nan\n",
    "            if 'name' in d1['app'].keys():\n",
    "                d2['app_name'] = d1['app']['name']\n",
    "            else: d2['app_name'] = np.nan\n",
    "            if 'bundle' in d1['app'].keys():\n",
    "                d2['app_bundle'] = d1['app']['bundle']\n",
    "            else: d2['app_bundle'] = np.nan\n",
    "            d2['app_pub_id'] = d1['app']['publisher']['id']\n",
    "            if 'content' in d1['app'].keys():\n",
    "                if 'genre' in d1['app']['content'].keys():\n",
    "                    d2['genre'] = d1['app']['content']['genre']\n",
    "                else: d2['genre'] = np.nan\n",
    "                if 'language' in d1['app']['content'].keys():\n",
    "                    d2['language'] = d1['app']['content']['language']\n",
    "                else: d2['language'] = np.nan\n",
    "            else: d2['genre'] = d2['language'] = np.nan\n",
    "        else: d2['app_id'] = d2['app_bundle']= d2['app_pub_id'] = d2['genre'] = d2['language'] = np.nan\n",
    "        d2['device_make'] = d1['device']['make']\n",
    "        if 'model' in d1['device'].keys():\n",
    "            d2['device_model'] = d1['device']['model']\n",
    "        else: d2['device_model'] = np.nan\n",
    "        if 'os' in d1['device'].keys():\n",
    "            d2['device_os'] = d1['device']['os']\n",
    "        else: d2['device_os'] = np.nan\n",
    "        if 'language' in d1['device'].keys():\n",
    "            d2['device_language'] = d1['device']['language']\n",
    "        else: d2['device_language'] = np.nan\n",
    "        if 'geo' in d1['device'].keys() and 'region' in d1['device']['geo'].keys():\n",
    "            d2['geo_region'] = d1['device']['geo']['region']\n",
    "        else: d2['geo_region'] = np.nan\n",
    "        if 'geo' in d1['device'].keys() and 'metro' in d1['device']['geo'].keys():\n",
    "            d2['geo_metro'] = d1['device']['geo']['metro']\n",
    "        else: d2['geo_metro'] = np.nan\n",
    "        list.append(d2)\n",
    "    df_cl = pd.DataFrame(list)\n",
    "#    time_df = pd.to_datetime(df_raw.time).dt.tz_localize(None)\n",
    "#    df_cl = df_cl.assign(time=time_df)\n",
    "    #df_cl = df_cl.join(sbpr=df_raw.sbpr)\n",
    "    return df_cl"
   ],
   "metadata": {
    "collapsed": false,
    "ExecuteTime": {
     "end_time": "2024-07-17T12:32:25.882338Z",
     "start_time": "2024-07-17T12:32:25.694722Z"
    }
   },
   "id": "17555215b5000d5f",
   "execution_count": 11
  },
  {
   "cell_type": "code",
   "outputs": [],
   "source": [
    "df_extr0409_15 = extract_features(df_raw0409_15)"
   ],
   "metadata": {
    "collapsed": false,
    "ExecuteTime": {
     "end_time": "2024-07-17T12:35:05.830534Z",
     "start_time": "2024-07-17T12:32:28.774799Z"
    }
   },
   "id": "3bb8ac051be583ec",
   "execution_count": 12
  },
  {
   "cell_type": "code",
   "outputs": [],
   "source": [
    "def process(df_raw):\n",
    "    \"\"\" 1. input a raw file; output a processed file\n",
    "    2. extract features from bidrequest\n",
    "    3. add sbpr and time from the raw file\n",
    "    4. drop publisher_id and bidrequest columns\n",
    "    5. add tod column, do not drop time column\"\"\"\n",
    "    def extract_features_row(df_row):\n",
    "        d1 = {k:v for k,v in json.loads(df_row.bidrequest).items() if k not in ['source','at','tmax','user','regs']}\n",
    "        d2 = {}\n",
    "        d2['id'] = d1['id']\n",
    "        if 'minduration' in d1['imp'][0]['video'].keys():\n",
    "            d2['minduration'] = d1['imp'][0]['video']['minduration']\n",
    "        else: d2['minduration'] = np.nan\n",
    "        d2['maxduration'] = d1['imp'][0]['video']['maxduration']\n",
    "        d2['minbitrate']= d1['imp'][0]['video']['minbitrate']\n",
    "        d2['maxbitrate']= d1['imp'][0]['video']['maxbitrate']  \n",
    "        if 'app' in d1.keys():\n",
    "            if 'id' in d1['app'].keys():\n",
    "                d2['app_id'] = d1['app']['id']\n",
    "            else: d2['app_id'] = np.nan\n",
    "            if 'name' in d1['app'].keys():\n",
    "                d2['app_name'] = d1['app']['name']\n",
    "            else: d2['app_name'] = np.nan\n",
    "            if 'bundle' in d1['app'].keys():\n",
    "                d2['app_bundle'] = d1['app']['bundle']\n",
    "            else: d2['app_bundle'] = np.nan\n",
    "            d2['app_pub_id'] = d1['app']['publisher']['id']\n",
    "            if 'content' in d1['app'].keys():\n",
    "                if 'genre' in d1['app']['content'].keys():\n",
    "                    d2['genre'] = d1['app']['content']['genre']\n",
    "                else: d2['genre'] = np.nan\n",
    "                if 'language' in d1['app']['content'].keys():\n",
    "                    d2['language'] = d1['app']['content']['language']\n",
    "                else: d2['language'] = np.nan\n",
    "            else: d2['genre'] = d2['language'] = np.nan\n",
    "        else: d2['app_id'] = d2['app_bundle']= d2['app_pub_id'] = d2['genre'] = d2['language'] = np.nan\n",
    "        d2['device_make'] = d1['device']['make']\n",
    "        if 'model' in d1['device'].keys():\n",
    "            d2['device_model'] = d1['device']['model']\n",
    "        else: d2['device_model'] = np.nan\n",
    "        if 'os' in d1['device'].keys():\n",
    "            d2['device_os'] = d1['device']['os']\n",
    "        else: d2['device_os'] = np.nan\n",
    "        if 'language' in d1['device'].keys():\n",
    "            d2['device_language'] = d1['device']['language']\n",
    "        else: d2['device_language'] = np.nan\n",
    "        if 'geo' in d1['device'].keys() and 'region' in d1['device']['geo'].keys():\n",
    "            d2['geo_region'] = d1['device']['geo']['region']\n",
    "        else: d2['geo_region'] = np.nan\n",
    "        if 'geo' in d1['device'].keys() and 'metro' in d1['device']['geo'].keys():\n",
    "            d2['geo_metro'] = d1['device']['geo']['metro']\n",
    "        else: d2['geo_metro'] = np.nan\n",
    "        return d2\n",
    "    applied_df = df_raw.apply(lambda row: extract_features_row(row), axis='columns', result_type='expand')\n",
    "    df_proc_15 = pd.concat([df_raw, applied_df], axis='columns').drop(['publisher_id', 'bidrequest'], axis=1)\n",
    "    time_df = pd.to_datetime(df_proc_15.time).dt.tz_localize(None)\n",
    "    df_proc_15 = df_proc_15.assign(time=time_df)\n",
    "    new_time = pd.to_datetime(df_proc_15.time, format='%Y-%m-%d %H:%M:%S.%f')\n",
    "    df_proc_15 = df_proc_15.assign(new_time=new_time)\n",
    "    df_proc_15['tod'] = pd.cut(df_proc_15.time.dt.hour,\n",
    "       bins=[0, 6, 12, 18, 24],\n",
    "       labels=['night', 'morning', 'afternoon', 'evening'],\n",
    "       right=False,\n",
    "       include_lowest=True)\n",
    "    #df_proc_15.drop('time', axis=1, inplace=True)\n",
    "    # drop device_language as it's always en\n",
    "    if df_proc_15['device_language'].nunique() == 1:\n",
    "        df_proc_15.drop('device_language', axis=1, inplace=True)\n",
    "    # convert all strings to lower case\n",
    "    for column in df_proc_15.columns:\n",
    "        if df_proc_15[column].dtype == 'object':\n",
    "            df_proc_15[column] = df_proc_15[column].str.lower() \n",
    "    return df_proc_15"
   ],
   "metadata": {
    "collapsed": false,
    "ExecuteTime": {
     "end_time": "2024-07-19T13:35:43.137669Z",
     "start_time": "2024-07-19T13:35:42.716367Z"
    }
   },
   "id": "282b9b7dabfe048d",
   "execution_count": 95
  },
  {
   "cell_type": "code",
   "outputs": [],
   "source": [
    "df_extr0409_15 = process(df_raw0409_15)\n"
   ],
   "metadata": {
    "collapsed": false,
    "ExecuteTime": {
     "end_time": "2024-07-19T13:38:06.217071Z",
     "start_time": "2024-07-19T13:35:46.070102Z"
    }
   },
   "id": "73b365e14ade0649",
   "execution_count": 96
  },
  {
   "cell_type": "code",
   "outputs": [
    {
     "data": {
      "text/plain": "   sbpr                time                                    id  \\\n0  15.0 2024-04-09 00:00:01  51821639-48a2-447b-b5de-aee0beb878bd   \n1  15.0 2024-04-09 00:00:01  5aa54938-a3a7-447b-b6cf-14b43764f8e3   \n2  15.0 2024-04-09 00:00:02  37b89a1e-e9e3-4697-a7f9-e20f0906fd30   \n3  16.5 2024-04-09 00:00:03  ee6d522b-838e-4ecd-bb10-71637c4b0505   \n4  15.0 2024-04-09 00:00:03  97253b20-00e5-445c-90c0-8cdf19da12c6   \n5  16.5 2024-04-09 00:00:04  5daa92d5-43c5-478c-b608-0c906248351a   \n6  15.0 2024-04-09 00:00:04  038f25ab-a500-40a6-a830-36cfa516eebe   \n7  15.0 2024-04-09 00:00:04  6473d65f-5740-4bbb-b126-e06fb365836e   \n8  15.0 2024-04-09 00:00:04  3d5e2791-1e20-423d-bdff-51941e7d100f   \n9  16.5 2024-04-09 00:00:05  29d0ecfa-be16-469f-8cfd-356332f8bac4   \n\n   minduration  maxduration  minbitrate  maxbitrate  app_id  \\\n0            1          120           1      280000  702131   \n1            1          120           1      280000  711665   \n2            1          120           1      280000  726329   \n3            1           70           1      280000  711667   \n4            1           70           1      280000  711667   \n5            1           70           1      280000  711667   \n6            1           70           1      280000  711665   \n7            1           70           1      280000  711665   \n8            1           70           1      280000  711665   \n9            1          120           1      280000  711665   \n\n                         app_name    app_bundle app_pub_id          genre  \\\n0                            plex  g15147002586       1034  entertainment   \n1  sling: live tv, shows & movies     com.sling       1034            NaN   \n2                            plex  g15147002586       1034  entertainment   \n3  fubotv: watch live sports & tv     905401434       1034            NaN   \n4  fubotv: watch live sports & tv     905401434       1034            NaN   \n5  fubotv: watch live sports & tv     905401434       1034            NaN   \n6                            xumo         96065       1034            NaN   \n7                   samsungtvplus  g15147002586       1034            NaN   \n8                   samsungtvplus  g15147002586       1034            NaN   \n9  sling: live tv, shows & movies     com.sling       1034            NaN   \n\n  language device_make          device_model device_os geo_region geo_metro  \\\n0      NaN     samsung              tizen tv     tizen         sc       546   \n1      NaN     generic    generic android tv   android         oh       NaN   \n2      NaN     samsung              tizen tv     tizen         tn       691   \n3       en       apple              tv a1625     other         ga       524   \n4       en       apple              tv a1625     other         ga       524   \n5       en       apple              tv a1625     other         fl       NaN   \n6      NaN        roku  digital video player   roku os         tn       640   \n7      NaN     samsung              tizen tv     tizen         ny       501   \n8      NaN     samsung              tizen tv     tizen         ny       501   \n9      NaN      nvidia     shield android tv   android         fl       NaN   \n\n             new_time    tod  \n0 2024-04-09 00:00:01  night  \n1 2024-04-09 00:00:01  night  \n2 2024-04-09 00:00:02  night  \n3 2024-04-09 00:00:03  night  \n4 2024-04-09 00:00:03  night  \n5 2024-04-09 00:00:04  night  \n6 2024-04-09 00:00:04  night  \n7 2024-04-09 00:00:04  night  \n8 2024-04-09 00:00:04  night  \n9 2024-04-09 00:00:05  night  ",
      "text/html": "<div>\n<style scoped>\n    .dataframe tbody tr th:only-of-type {\n        vertical-align: middle;\n    }\n\n    .dataframe tbody tr th {\n        vertical-align: top;\n    }\n\n    .dataframe thead th {\n        text-align: right;\n    }\n</style>\n<table border=\"1\" class=\"dataframe\">\n  <thead>\n    <tr style=\"text-align: right;\">\n      <th></th>\n      <th>sbpr</th>\n      <th>time</th>\n      <th>id</th>\n      <th>minduration</th>\n      <th>maxduration</th>\n      <th>minbitrate</th>\n      <th>maxbitrate</th>\n      <th>app_id</th>\n      <th>app_name</th>\n      <th>app_bundle</th>\n      <th>app_pub_id</th>\n      <th>genre</th>\n      <th>language</th>\n      <th>device_make</th>\n      <th>device_model</th>\n      <th>device_os</th>\n      <th>geo_region</th>\n      <th>geo_metro</th>\n      <th>new_time</th>\n      <th>tod</th>\n    </tr>\n  </thead>\n  <tbody>\n    <tr>\n      <th>0</th>\n      <td>15.0</td>\n      <td>2024-04-09 00:00:01</td>\n      <td>51821639-48a2-447b-b5de-aee0beb878bd</td>\n      <td>1</td>\n      <td>120</td>\n      <td>1</td>\n      <td>280000</td>\n      <td>702131</td>\n      <td>plex</td>\n      <td>g15147002586</td>\n      <td>1034</td>\n      <td>entertainment</td>\n      <td>NaN</td>\n      <td>samsung</td>\n      <td>tizen tv</td>\n      <td>tizen</td>\n      <td>sc</td>\n      <td>546</td>\n      <td>2024-04-09 00:00:01</td>\n      <td>night</td>\n    </tr>\n    <tr>\n      <th>1</th>\n      <td>15.0</td>\n      <td>2024-04-09 00:00:01</td>\n      <td>5aa54938-a3a7-447b-b6cf-14b43764f8e3</td>\n      <td>1</td>\n      <td>120</td>\n      <td>1</td>\n      <td>280000</td>\n      <td>711665</td>\n      <td>sling: live tv, shows &amp; movies</td>\n      <td>com.sling</td>\n      <td>1034</td>\n      <td>NaN</td>\n      <td>NaN</td>\n      <td>generic</td>\n      <td>generic android tv</td>\n      <td>android</td>\n      <td>oh</td>\n      <td>NaN</td>\n      <td>2024-04-09 00:00:01</td>\n      <td>night</td>\n    </tr>\n    <tr>\n      <th>2</th>\n      <td>15.0</td>\n      <td>2024-04-09 00:00:02</td>\n      <td>37b89a1e-e9e3-4697-a7f9-e20f0906fd30</td>\n      <td>1</td>\n      <td>120</td>\n      <td>1</td>\n      <td>280000</td>\n      <td>726329</td>\n      <td>plex</td>\n      <td>g15147002586</td>\n      <td>1034</td>\n      <td>entertainment</td>\n      <td>NaN</td>\n      <td>samsung</td>\n      <td>tizen tv</td>\n      <td>tizen</td>\n      <td>tn</td>\n      <td>691</td>\n      <td>2024-04-09 00:00:02</td>\n      <td>night</td>\n    </tr>\n    <tr>\n      <th>3</th>\n      <td>16.5</td>\n      <td>2024-04-09 00:00:03</td>\n      <td>ee6d522b-838e-4ecd-bb10-71637c4b0505</td>\n      <td>1</td>\n      <td>70</td>\n      <td>1</td>\n      <td>280000</td>\n      <td>711667</td>\n      <td>fubotv: watch live sports &amp; tv</td>\n      <td>905401434</td>\n      <td>1034</td>\n      <td>NaN</td>\n      <td>en</td>\n      <td>apple</td>\n      <td>tv a1625</td>\n      <td>other</td>\n      <td>ga</td>\n      <td>524</td>\n      <td>2024-04-09 00:00:03</td>\n      <td>night</td>\n    </tr>\n    <tr>\n      <th>4</th>\n      <td>15.0</td>\n      <td>2024-04-09 00:00:03</td>\n      <td>97253b20-00e5-445c-90c0-8cdf19da12c6</td>\n      <td>1</td>\n      <td>70</td>\n      <td>1</td>\n      <td>280000</td>\n      <td>711667</td>\n      <td>fubotv: watch live sports &amp; tv</td>\n      <td>905401434</td>\n      <td>1034</td>\n      <td>NaN</td>\n      <td>en</td>\n      <td>apple</td>\n      <td>tv a1625</td>\n      <td>other</td>\n      <td>ga</td>\n      <td>524</td>\n      <td>2024-04-09 00:00:03</td>\n      <td>night</td>\n    </tr>\n    <tr>\n      <th>5</th>\n      <td>16.5</td>\n      <td>2024-04-09 00:00:04</td>\n      <td>5daa92d5-43c5-478c-b608-0c906248351a</td>\n      <td>1</td>\n      <td>70</td>\n      <td>1</td>\n      <td>280000</td>\n      <td>711667</td>\n      <td>fubotv: watch live sports &amp; tv</td>\n      <td>905401434</td>\n      <td>1034</td>\n      <td>NaN</td>\n      <td>en</td>\n      <td>apple</td>\n      <td>tv a1625</td>\n      <td>other</td>\n      <td>fl</td>\n      <td>NaN</td>\n      <td>2024-04-09 00:00:04</td>\n      <td>night</td>\n    </tr>\n    <tr>\n      <th>6</th>\n      <td>15.0</td>\n      <td>2024-04-09 00:00:04</td>\n      <td>038f25ab-a500-40a6-a830-36cfa516eebe</td>\n      <td>1</td>\n      <td>70</td>\n      <td>1</td>\n      <td>280000</td>\n      <td>711665</td>\n      <td>xumo</td>\n      <td>96065</td>\n      <td>1034</td>\n      <td>NaN</td>\n      <td>NaN</td>\n      <td>roku</td>\n      <td>digital video player</td>\n      <td>roku os</td>\n      <td>tn</td>\n      <td>640</td>\n      <td>2024-04-09 00:00:04</td>\n      <td>night</td>\n    </tr>\n    <tr>\n      <th>7</th>\n      <td>15.0</td>\n      <td>2024-04-09 00:00:04</td>\n      <td>6473d65f-5740-4bbb-b126-e06fb365836e</td>\n      <td>1</td>\n      <td>70</td>\n      <td>1</td>\n      <td>280000</td>\n      <td>711665</td>\n      <td>samsungtvplus</td>\n      <td>g15147002586</td>\n      <td>1034</td>\n      <td>NaN</td>\n      <td>NaN</td>\n      <td>samsung</td>\n      <td>tizen tv</td>\n      <td>tizen</td>\n      <td>ny</td>\n      <td>501</td>\n      <td>2024-04-09 00:00:04</td>\n      <td>night</td>\n    </tr>\n    <tr>\n      <th>8</th>\n      <td>15.0</td>\n      <td>2024-04-09 00:00:04</td>\n      <td>3d5e2791-1e20-423d-bdff-51941e7d100f</td>\n      <td>1</td>\n      <td>70</td>\n      <td>1</td>\n      <td>280000</td>\n      <td>711665</td>\n      <td>samsungtvplus</td>\n      <td>g15147002586</td>\n      <td>1034</td>\n      <td>NaN</td>\n      <td>NaN</td>\n      <td>samsung</td>\n      <td>tizen tv</td>\n      <td>tizen</td>\n      <td>ny</td>\n      <td>501</td>\n      <td>2024-04-09 00:00:04</td>\n      <td>night</td>\n    </tr>\n    <tr>\n      <th>9</th>\n      <td>16.5</td>\n      <td>2024-04-09 00:00:05</td>\n      <td>29d0ecfa-be16-469f-8cfd-356332f8bac4</td>\n      <td>1</td>\n      <td>120</td>\n      <td>1</td>\n      <td>280000</td>\n      <td>711665</td>\n      <td>sling: live tv, shows &amp; movies</td>\n      <td>com.sling</td>\n      <td>1034</td>\n      <td>NaN</td>\n      <td>NaN</td>\n      <td>nvidia</td>\n      <td>shield android tv</td>\n      <td>android</td>\n      <td>fl</td>\n      <td>NaN</td>\n      <td>2024-04-09 00:00:05</td>\n      <td>night</td>\n    </tr>\n  </tbody>\n</table>\n</div>"
     },
     "execution_count": 97,
     "metadata": {},
     "output_type": "execute_result"
    }
   ],
   "source": [
    "df_extr0409_15.head(10)"
   ],
   "metadata": {
    "collapsed": false,
    "ExecuteTime": {
     "end_time": "2024-07-19T13:38:12.436932Z",
     "start_time": "2024-07-19T13:38:11.359934Z"
    }
   },
   "id": "78e8ce20b320892f",
   "execution_count": 97
  },
  {
   "cell_type": "code",
   "outputs": [],
   "source": [
    "df_extr0409_15.to_pickle('bres_0409_15_processed.pkl')"
   ],
   "metadata": {
    "collapsed": false,
    "ExecuteTime": {
     "end_time": "2024-07-19T13:43:25.832073Z",
     "start_time": "2024-07-19T13:43:19.048349Z"
    }
   },
   "id": "d72fb8598d0613bf",
   "execution_count": 98
  },
  {
   "cell_type": "code",
   "outputs": [],
   "source": [
    "df_extr0409_15 = pd.read_pickle('bres_0409_15_processed.pkl')"
   ],
   "metadata": {
    "collapsed": false,
    "ExecuteTime": {
     "end_time": "2024-06-08T16:46:45.962074Z",
     "start_time": "2024-06-08T16:46:43.979820Z"
    }
   },
   "id": "9a1c9ce7e7b3b3e4",
   "execution_count": 14
  },
  {
   "cell_type": "code",
   "outputs": [
    {
     "data": {
      "text/plain": "0        0\n1        0\n2        0\n3        0\n4        0\n        ..\n6683    23\n6684    23\n6685    23\n6686    23\n6687    23\nName: new_time, Length: 1176608, dtype: int32"
     },
     "execution_count": 100,
     "metadata": {},
     "output_type": "execute_result"
    }
   ],
   "source": [
    "df_extr0409_15.new_time.dt.hour"
   ],
   "metadata": {
    "collapsed": false,
    "ExecuteTime": {
     "end_time": "2024-07-19T13:43:54.399558Z",
     "start_time": "2024-07-19T13:43:54.127149Z"
    }
   },
   "id": "b796cb9408b2a253",
   "execution_count": 100
  },
  {
   "cell_type": "markdown",
   "source": [
    "Now clean the 'om' file, the impressions with successful bids"
   ],
   "metadata": {
    "collapsed": false
   },
   "id": "d7dea3f54c1c2220"
  },
  {
   "cell_type": "code",
   "outputs": [],
   "source": [
    "om_raw = pd.read_json('om_0409.json', lines=True)"
   ],
   "metadata": {
    "collapsed": false,
    "ExecuteTime": {
     "end_time": "2024-06-08T21:59:37.953676Z",
     "start_time": "2024-06-08T21:56:38.219716Z"
    }
   },
   "id": "c0dbffe5028afedf",
   "execution_count": 158
  },
  {
   "cell_type": "code",
   "outputs": [
    {
     "data": {
      "text/plain": "Index(['level', 'fields', 'time', 'message'], dtype='object')"
     },
     "execution_count": 164,
     "metadata": {},
     "output_type": "execute_result"
    }
   ],
   "source": [
    "om_raw.columns"
   ],
   "metadata": {
    "collapsed": false,
    "ExecuteTime": {
     "end_time": "2024-06-08T22:09:24.460221Z",
     "start_time": "2024-06-08T22:09:24.430260Z"
    }
   },
   "id": "92a7294f992f0a45",
   "execution_count": 164
  },
  {
   "cell_type": "code",
   "outputs": [],
   "source": [
    "om_raw.drop(['level', 'time', 'message'], axis=1, inplace=True)"
   ],
   "metadata": {
    "collapsed": false,
    "ExecuteTime": {
     "end_time": "2024-06-08T22:10:36.559754Z",
     "start_time": "2024-06-08T22:10:36.360955Z"
    }
   },
   "id": "1c1fd1c72e8089de",
   "execution_count": 165
  },
  {
   "cell_type": "code",
   "outputs": [
    {
     "data": {
      "text/plain": "fields    {'_om': ['LhYGClQLOAYBGwgmHBdLLB0EQQgKOBcIVAk8...\nName: 0, dtype: object"
     },
     "execution_count": 167,
     "metadata": {},
     "output_type": "execute_result"
    }
   ],
   "source": [
    "om_raw.loc[0]"
   ],
   "metadata": {
    "collapsed": false,
    "ExecuteTime": {
     "end_time": "2024-06-08T22:10:54.149287Z",
     "start_time": "2024-06-08T22:10:54.089975Z"
    }
   },
   "id": "e25bc83f2f9ce15d",
   "execution_count": 167
  },
  {
   "cell_type": "code",
   "outputs": [
    {
     "data": {
      "text/plain": "dict_keys(['_om', 'adom', 'adurl', 'apn', 'apr', 'bdid', 'bidts', 'bun', 'chanid', 'country', 'dbpr', 'dflr', 'dmd', 'dom', 'dur', 'dvid', 'exp', 'iab', 'mak', 'mlti', 'opn', 'pubid', 'reg', 'sbpr', 'sflr', 'sup', 'zip'])"
     },
     "execution_count": 200,
     "metadata": {},
     "output_type": "execute_result"
    }
   ],
   "source": [
    "om_raw.fields[0].keys()"
   ],
   "metadata": {
    "collapsed": false,
    "ExecuteTime": {
     "end_time": "2024-06-09T11:34:18.614703Z",
     "start_time": "2024-06-09T11:34:18.544204Z"
    }
   },
   "id": "5efc1d5a125669d3",
   "execution_count": 200
  },
  {
   "cell_type": "code",
   "outputs": [],
   "source": [
    "def clean_om(row):\n",
    "    d = {}\n",
    "    for k,v in row.fields.items():\n",
    "        if k == 'bdid':\n",
    "            d[k] = v[0]\n",
    "        if k == 'sflr':\n",
    "            d[k] = float(v[0])\n",
    "        if k == 'sbpr':\n",
    "            d[k] = float(v[0])\n",
    "    return d\n"
   ],
   "metadata": {
    "collapsed": false,
    "ExecuteTime": {
     "end_time": "2024-06-09T11:34:43.801705Z",
     "start_time": "2024-06-09T11:34:43.764693Z"
    }
   },
   "id": "bc329d5107487386",
   "execution_count": 201
  },
  {
   "cell_type": "code",
   "outputs": [
    {
     "data": {
      "text/plain": "{'dvid': 'A4636FBE-8A5C-A152-D709-27C0F4DA3C6E', 'sbpr': 2.0, 'sflr': 2.0}"
     },
     "execution_count": 195,
     "metadata": {},
     "output_type": "execute_result"
    }
   ],
   "source": [
    "clean_om(om_raw.loc[1])"
   ],
   "metadata": {
    "collapsed": false,
    "ExecuteTime": {
     "end_time": "2024-06-08T22:31:54.975508Z",
     "start_time": "2024-06-08T22:31:54.718803Z"
    }
   },
   "id": "6721907eb2097049",
   "execution_count": 195
  },
  {
   "cell_type": "code",
   "outputs": [],
   "source": [
    "om_clean_0409 = om_raw.apply(clean_om, axis=1, result_type='expand')"
   ],
   "metadata": {
    "collapsed": false,
    "ExecuteTime": {
     "end_time": "2024-06-09T11:36:44.592350Z",
     "start_time": "2024-06-09T11:34:48.781044Z"
    }
   },
   "id": "552d1bd1928e9ddd",
   "execution_count": 202
  },
  {
   "cell_type": "code",
   "outputs": [
    {
     "data": {
      "text/plain": "                                   bdid     sbpr  sflr\n0  1cca5f27-4ebf-4912-8f74-056f14c7df05   7.5000   5.5\n1  7bb13811-7b59-4d0d-ba1d-1941455813c1   2.0000   2.0\n2  ecc9b610-52c7-48b4-8d1d-4413efe378af  11.2000  10.0\n3  85c980e3-fb1a-469f-8b5a-782731d71832  15.1533  13.0\n4  0f8e3f1c-30ca-4e62-bbc8-a18aa54817b3   7.0000   7.0",
      "text/html": "<div>\n<style scoped>\n    .dataframe tbody tr th:only-of-type {\n        vertical-align: middle;\n    }\n\n    .dataframe tbody tr th {\n        vertical-align: top;\n    }\n\n    .dataframe thead th {\n        text-align: right;\n    }\n</style>\n<table border=\"1\" class=\"dataframe\">\n  <thead>\n    <tr style=\"text-align: right;\">\n      <th></th>\n      <th>bdid</th>\n      <th>sbpr</th>\n      <th>sflr</th>\n    </tr>\n  </thead>\n  <tbody>\n    <tr>\n      <th>0</th>\n      <td>1cca5f27-4ebf-4912-8f74-056f14c7df05</td>\n      <td>7.5000</td>\n      <td>5.5</td>\n    </tr>\n    <tr>\n      <th>1</th>\n      <td>7bb13811-7b59-4d0d-ba1d-1941455813c1</td>\n      <td>2.0000</td>\n      <td>2.0</td>\n    </tr>\n    <tr>\n      <th>2</th>\n      <td>ecc9b610-52c7-48b4-8d1d-4413efe378af</td>\n      <td>11.2000</td>\n      <td>10.0</td>\n    </tr>\n    <tr>\n      <th>3</th>\n      <td>85c980e3-fb1a-469f-8b5a-782731d71832</td>\n      <td>15.1533</td>\n      <td>13.0</td>\n    </tr>\n    <tr>\n      <th>4</th>\n      <td>0f8e3f1c-30ca-4e62-bbc8-a18aa54817b3</td>\n      <td>7.0000</td>\n      <td>7.0</td>\n    </tr>\n  </tbody>\n</table>\n</div>"
     },
     "execution_count": 203,
     "metadata": {},
     "output_type": "execute_result"
    }
   ],
   "source": [
    "om_clean_0409.head()"
   ],
   "metadata": {
    "collapsed": false,
    "ExecuteTime": {
     "end_time": "2024-06-09T11:36:58.282302Z",
     "start_time": "2024-06-09T11:36:58.260445Z"
    }
   },
   "id": "ccd1d9796bbea4e2",
   "execution_count": 203
  },
  {
   "cell_type": "code",
   "outputs": [],
   "source": [
    "om_clean_0409.to_pickle('om_clean_0409.pkl')"
   ],
   "metadata": {
    "collapsed": false,
    "ExecuteTime": {
     "end_time": "2024-06-09T11:37:04.507101Z",
     "start_time": "2024-06-09T11:37:03.441429Z"
    }
   },
   "id": "220ead1b7ad19ef7",
   "execution_count": 204
  },
  {
   "cell_type": "code",
   "outputs": [],
   "source": [
    "om_clean_0409 = pd.read_pickle('om_clean_0409.pkl')"
   ],
   "metadata": {
    "collapsed": false,
    "ExecuteTime": {
     "end_time": "2024-07-17T13:02:52.472331Z",
     "start_time": "2024-07-17T13:02:51.855816Z"
    }
   },
   "id": "f58181c967278f72",
   "execution_count": 20
  },
  {
   "cell_type": "code",
   "outputs": [
    {
     "data": {
      "text/plain": "1776345"
     },
     "execution_count": 199,
     "metadata": {},
     "output_type": "execute_result"
    }
   ],
   "source": [
    "len(om_clean_0409)"
   ],
   "metadata": {
    "collapsed": false,
    "ExecuteTime": {
     "end_time": "2024-06-08T22:42:43.619701Z",
     "start_time": "2024-06-08T22:42:43.069785Z"
    }
   },
   "id": "2f253e25fbe5d1ae",
   "execution_count": 199
  },
  {
   "cell_type": "code",
   "outputs": [],
   "source": [
    "bdid_set = set(om_clean_0409[om_clean_0409.sflr == 15.0].bdid)"
   ],
   "metadata": {
    "collapsed": false,
    "ExecuteTime": {
     "end_time": "2024-07-17T12:45:36.137412Z",
     "start_time": "2024-07-17T12:45:35.904101Z"
    }
   },
   "id": "a446e49d96aa7259",
   "execution_count": 18
  },
  {
   "cell_type": "code",
   "outputs": [
    {
     "data": {
      "text/plain": "{'03c2101d-4b96-45bb-b935-cc7d174fd74a',\n '8a04c158-80ec-4dda-add3-21f7be4b8686',\n '0be474e3-89c2-4cf4-b087-8438b8ddbe07',\n 'd87eaaab-7ca7-49d7-b389-45a17fa0a4e2',\n '00848e63-ddc5-49be-afcf-884b02e5e38e',\n '2bcae35a-a139-45e6-b060-1b054d9817e5',\n '7091f7ba-1be0-486e-a5c7-1b83c52eca4e',\n 'e754acc9-66a4-4c2f-be8c-3067c8034da8',\n 'd7dcf377-2ec4-40e0-ac42-e5b66a766a22',\n '639a59cf-ce18-46bd-a335-00e2fa1416d8',\n '36dff71e-b840-4ed5-b812-e1dc434ba2f3',\n '971b5bd9-98fc-41cb-9177-44ecc88c3cb7',\n 'c3516c47-0253-4bca-bde9-07a6e01c96e5',\n '5a468c84-af5a-4783-af86-c9ff5ad45f6d',\n '50f2932a-2053-4ec6-b9f2-522b06af9338',\n '0e071f9c-8932-4450-bcb5-5c4f67f6e181',\n '038a7550-3a0a-4245-914c-aa8672025cdb',\n 'bd36cf50-7589-4bc9-97c3-78d36404202a',\n '4205bec0-fc98-43ce-aa84-0f82b35228c1',\n '0e9336ef-8ab1-48e3-80b2-8fb320f38cb3',\n '8c6ca99d-9132-4290-b07c-de87cb729a66',\n '60490e02-de85-466f-89ad-92815b53cb65',\n '41aaf6fc-9f9e-42e8-908d-b545ad84f307',\n 'd3c2bca0-a7fb-4b8b-a179-d8858eb2e67c',\n '008a47ff-d098-41cb-8359-b04d68086fca',\n '79cadf60-6724-4639-b517-2a1b5f9aefc6',\n 'e80af56b-b142-4d1d-a2f6-ffc8e97e0366',\n 'bae52630-1734-454b-9a59-d38a2a2da480',\n '10ba4113-8c0d-406d-a466-1f5793855416',\n '994975d5-92ee-4a62-b0ca-c8b848c7ac84',\n '570f34af-e9cc-4df3-8a20-3a841e8249c9',\n '5340bfa0-6d15-4761-a9d6-50dc45a369ec',\n 'b76145d0-b717-48c8-9151-15d45c74d3f2',\n '5368aeac-8ebd-443d-9964-d3867af308bc',\n 'a2fdcff8-0bb9-425b-817b-49da362e606c',\n '1043d15c-94ba-4bf5-9d28-aac2683ca6ed',\n '3cd14d47-8f75-4865-875f-4efe46c1f4fc',\n '720be931-c86f-416a-aed8-7ea39dad3ada',\n '1eca63fd-7777-4305-9954-5bd6abec9659',\n '02b37c22-75ce-4833-a6e0-5d502fbe045c',\n '390680db-ee41-49d0-b98e-9a5fb748cac8',\n '79f51a99-d086-411a-a5fd-baa7e3fa3624',\n 'bd3a35ab-1391-4797-af19-5ff5f41550cb',\n 'c08a4a30-0af5-4934-abce-62c9e47a14a4',\n '7590d54b-c221-42f2-9e3d-9bf773adb91e',\n '88df9568-8f0c-4864-8aa4-765b5c134d4b',\n '892da5ba-36d5-450c-bee1-1ff20dbbd8e9',\n '9d569712-950c-401e-bbea-49630f78fa34',\n '00349e18-1eee-4dcc-ae13-28d4047f473b',\n '1dde8bfd-c1f8-4344-89ed-dc776a2cf184',\n '66473812-4315-4e45-807e-b3feff6b6650',\n '1ee7f93f-7f97-45f0-a01f-25e21975e6d3',\n '20ae1f5c-c5cf-4279-8be0-8293f2284ada',\n 'f9db56d1-29f1-4b69-97df-669568ba2833',\n '41a6245a-56d8-4cc7-bdeb-c2adbd57785e',\n '48d93f75-1e24-4da5-9987-5c9a4c2c212e',\n 'd484c3b5-c495-49f6-92d7-d3b056d3fcd8',\n 'df5cbc7c-a1e1-4c6f-ac3f-186f3786e31c',\n '68b83c31-2bc2-425a-929d-90cc277182e8',\n 'decb16ef-91a5-44a0-acd0-3e0588291f01',\n 'b38888a4-d750-4ef5-bbed-bbd3b5067487',\n '0c699043-e536-4945-a4dd-f798ac73fd97',\n '422115ab-690f-4920-884b-d95d4afa927d',\n '0f676ba6-5322-4c36-b1a6-169bb683d63d',\n 'b0e76b12-068c-4dd8-a0f2-b79fc6ea2ee8',\n '349b4472-1cca-4429-b580-b96f7f83846f',\n 'c0557e52-529d-42bf-93c6-756245dd1524',\n '0f4054e3-8df4-48ef-aa56-8b1e9ccd1265',\n 'a61bde9b-e34d-47b5-a84e-d8acbdfbd69e',\n '9eb08cb3-37ab-4ee4-aaaa-eca35020fab0',\n '006f93a9-41e0-4cd4-b4c7-1451624de16b',\n 'b83395e5-fb8d-4bb7-b81e-9b5ec4d1b2c8',\n 'a765e296-b858-4121-8cdb-90aab754ad71',\n 'f8080e45-c678-4b7e-a09e-16b1c7c62048',\n 'cb66aa2d-4fd5-4eb8-a8f5-0f39310ea5c8',\n '3eb57736-1c60-43c3-b0ac-10e76e2c4fa5',\n '6b9237db-fde9-49e0-87d3-72ce460e0249',\n 'b973974e-d65b-4c4b-9a8c-bdbcabc22354',\n 'af868cbd-5bf6-4bab-91ac-6cbaa135eb97',\n '590e5076-82f1-4d5f-8558-a8cb6020d94a',\n 'b2c1b623-536e-4a92-905e-1a2747f0feb7',\n '2d84f87d-72e6-4b6d-8366-487efd12b668',\n '9de32f14-4b27-4b60-801a-56bfccc84260',\n 'ec63b5d9-7d1f-45f7-a59e-c9e3a4f1f5f0',\n 'f7788522-cccd-448a-84b3-442c358123f4',\n '7c5dfc3e-7581-43f8-9efd-fa89bff69aeb',\n '723677f5-ca04-44fb-8d37-534a8016a4ce',\n 'd7a628ec-4b7d-4afa-8c49-7c33ffe8d3aa',\n '4a341a31-6fb8-43d7-841f-83c4249acc30',\n 'd79b499c-111f-4530-a1f5-26da056bb531',\n '30009bfe-83b5-46d7-80f2-335211b503a4',\n 'e9fdf364-ae12-43e5-ae1e-0bd2d1c667c0',\n '7f2654fe-a5b1-487f-aac8-7e60c5854443',\n 'c8f643ab-bbaf-4b40-96e7-717645b2cdd1',\n '83e2cc10-3a82-43b4-ad68-9c2202181e57',\n '3057cb3d-5c38-40ea-bd3e-99025c572836',\n '73e45862-c7c4-4b9c-986d-1f1bc49fe911',\n '72740837-c8bf-4d3a-b0fc-baeef9bc7ada',\n '5e06bbae-6ec3-4039-b977-473c7863140e',\n 'f4023a19-e295-4c4a-8501-2c660cb88c86',\n 'e31c8103-6d59-4b25-b691-2828e4220efc',\n '45f7de9c-e8c7-4dca-a265-a1f6c8c6f42f',\n 'f376e121-e7d6-47fd-a9b2-9f579b7e103e',\n '8d9ec758-2ccf-4f95-bc64-6cfeed287a63',\n '38ed681f-0247-4de6-867c-0adbd1529a8c',\n '62e51828-28dd-451e-8a2c-76af3f6af989',\n '591891f5-e5f9-4bae-8a28-c5c453fc7851',\n 'a07d02e8-a615-4e24-9e47-7fe5e867f9b8',\n '9868bb10-7605-40a4-bbc4-6a34cd762b1a',\n '6461e40f-917a-4fe1-a870-921448b168a9',\n '8f28967a-31f2-4fcf-b4e8-612f4931c418',\n '7b9336a3-80dc-4b53-ae1b-dde7dca9736b',\n '95422ea5-774d-49ea-a423-602213d27f39',\n '25ce3a64-e38e-448a-bba9-c8e4e99e4235',\n 'e87e7853-b720-4757-b74e-ce773c6003c5',\n '7d845037-8d00-4de4-8bb2-616290891d0a',\n 'ca37724b-4307-4f5a-bf20-acb4d8fa8da1',\n 'eab23c8b-b0c2-4d6f-9cf6-177e782ea06f',\n '97999cc8-b196-47d2-b116-c9ff3d93e4a8',\n '11898620-b413-4246-9e7b-f62ea52ce563',\n 'e70c8b11-2b98-443d-8698-cdfa98249fd7',\n 'a146d738-83c5-4bd8-8c62-7df989c1f570',\n 'b307c410-aced-480a-9850-230ab2ffa71b',\n '33849ff0-4319-4dab-bb8d-9d6355322e4b',\n 'b1abc023-94ac-44d4-ae11-763312b517bb',\n '32d3a809-7b35-43f6-bdd9-a47b4dd0d897',\n 'b5ba5b06-7e11-497c-a8f2-8cff0f1da525',\n '0c3c93f9-7b66-4529-9308-c7019c20b9f0',\n '14eeab35-c44b-4629-af7e-b2a821a7f2af',\n '3fb2cabc-3abb-4370-8156-29c2e9dafb45',\n '853e4953-aebd-43f9-a03a-70d3bf5c8d8d',\n '2c8b5ccb-9ab5-4d59-afa0-efd1cb2663d5',\n '1e8bf43f-efb8-4f12-adda-95f3af062169',\n '9585e40e-7243-4f9c-ba3e-fe187084fdb5',\n 'dc39b236-dfb6-4f62-98fe-933ab19beaf2',\n '01932235-5cac-410f-9b61-aa8da28a8322',\n '651e0fe9-89d8-4c0a-ae10-b18187fd6172',\n '16bd1e63-3981-4368-9603-9bda67dad9c4',\n '142be6a7-f2b8-4426-aed5-f2ceb5274a8e',\n '4c054e18-bff3-4601-aee4-09327d837d79',\n '9d9de30b-4e09-4b0e-a233-6e6c10e71c91',\n 'ba0a2fb1-22f1-4b37-be23-dbf2490f1259',\n '9111c745-84b5-43b1-ae54-403522bf370a',\n '9ab7d3db-41c2-4753-81fd-43014936ffe6',\n 'af68fc2c-dd81-4204-8133-715e0545c928',\n '87aba61e-65f7-41e7-9b89-f5cdffd3f476',\n '84d64112-926a-4b97-a971-08f132b72a15',\n '90c18a72-2d65-49a8-a489-901dbe9134e8',\n '877a8487-bce9-4090-90a8-445169a86f9e',\n '1dfd5f15-e81b-4d36-8eb6-f13f5ddf46cf',\n '63125e04-69d8-41db-a00d-7951ec24d662',\n 'f5342edd-c74f-4772-a075-d605d5ea74dd',\n 'b38575d3-adbf-44b8-9931-0b0164a9102b',\n 'dbf4b8c6-323d-443b-a33e-86bf7c6a3e44',\n '02fdac95-81c4-48cd-ba86-463a59bf877c',\n '200ad3f3-e478-428a-bd5c-620eeea72c50',\n '37ef648c-d288-4f01-a625-0c21217daed3',\n '362a1237-35de-4a11-9718-4212ea18253e',\n '3cd66155-2116-4a1d-8465-ddab48b80424',\n '819288f7-8e4c-41e4-9a45-db079413610a',\n '57b4aa63-4e5a-4687-b7dd-c6ff19fcca9b',\n 'cc57937a-1d6c-4dca-b1ad-aaa03a4edd52',\n '43dcd5b3-24c7-4ade-bb4b-a15532718954',\n '636bb324-8abd-4529-a2ed-8bc4dce51759',\n 'c9a0d3fa-8bd0-42f7-bdd2-66bffbc55939',\n 'dfd67ccc-aa9b-4283-b0c9-8f39db1c2f9d',\n 'e85ed6eb-93e5-4a48-90c8-9147df8d3526',\n 'ef23b603-9a1b-4264-a5fa-35660ca250ea',\n 'f45db453-bb41-4901-9818-b5919adff6d1',\n '701c5665-d802-4382-9a83-d3da580e48ca',\n 'ef768136-47e8-47c4-a07b-77d088db8487',\n '5f01eeda-5700-4418-92b9-f7989b2d2e81',\n '3b36f226-8cdd-43b8-b658-f1437f19852a',\n '9eb476f9-1fe9-4e06-afa7-ab4fffa97dd0',\n '325494b3-b0df-4a33-a387-8e9f1e4e978d',\n '8f134822-3ccc-43a1-9220-365106dc8795',\n 'c648a3d6-dc0e-40c9-a8b7-25ff2cb5aadc',\n '845e2d85-64cc-4c5b-bb31-842de51369e9',\n '32dfc2ee-ff35-48ca-8a61-57bca358f120',\n 'fcca9e3c-8f8c-443b-b31a-59b5f19ee180',\n '8de08518-aacc-4981-9487-d7cbbc88515e',\n 'b7bea656-5e5a-4de0-8b61-cd153dbc2aff',\n 'f14f1d4e-6a91-4af6-8f82-6486a4879612',\n 'e9b1ccc8-5b91-41b8-8f72-085afffc7321',\n 'f73fa988-76b5-4dcb-9ac0-5fb8a09674d5',\n '0cc6fad8-7327-4443-9ef6-b47502b2dcbe',\n 'b99a515e-bca5-4093-8311-6e328f01753c',\n '5ce66f09-31cc-4a5b-8397-fa23eb6769f4',\n 'b68e4790-fb6b-4425-b2d3-e37bf779b13e',\n 'c86e4bd0-fe43-49d7-85f2-ac9e64732cf2',\n '7c7ed2c1-2424-4f13-a9e7-53e5d561ad03',\n '94ae7581-cd68-48f9-8c88-fcbea0697b92',\n '3df77fde-b272-4d43-a36d-1df07a665af6',\n '579107a9-ede5-4bd2-9990-fa8fa0374d63',\n '2a8d5544-96d5-4567-b809-0605a9497077',\n '80f0ff38-8e5a-4c42-83e9-f7635dbc8ba7',\n 'ddd395bf-3c80-40dd-9c16-edf99c7cb2c6',\n '18d9ac6a-050e-4c35-a724-ce628736929a',\n '1cf95251-a6bb-4288-9fbd-9857e540a033',\n 'dbf245de-3c5d-4f2f-a76d-47fbb58219b9',\n '5ce5f4aa-6f0a-4faa-8e89-a1988455db28',\n '5d198240-3165-4111-b0e1-3e547c6044d1',\n '0bea876d-03f3-4192-9d31-c30e23353c78',\n '3bfd6df7-662a-445e-8bbc-71632e0746cb',\n '5ceab7d4-d5eb-4469-8125-fdf7bb38d5a1',\n '3223142b-dd5c-48c5-a507-da4f386048a9',\n '8202e938-c7c2-4a1c-8b1d-7ecd31957a26',\n '874afe86-72a3-47aa-a9ba-fd69f26aae2b',\n 'c3f631b3-f4bf-4964-bd11-bedaff391670',\n '10dc62d4-236d-46e2-a814-6615da482d1a',\n 'dfda9653-4b9d-406c-9dc1-cfab9ba2657b',\n 'c6c10075-127d-4b80-8a7e-e13f1a102e94',\n 'ed1c2732-9be5-440c-8888-b8bb6cddf62d',\n '63d38cdd-5ca5-4dd8-a377-751ac21594bc',\n 'f9542020-255c-4faa-bc1a-feb58ef4c720',\n '74a95cc0-3693-4a93-af4d-103ba7bf7f35',\n 'c0ea15c5-bf15-4c5e-b21e-7ef6f17f8a22',\n '9df896ad-08c2-4cee-b371-803b192743af',\n '97e87240-c4ea-46f3-a94f-6f2d03447ef0',\n '34a1dd6c-3b58-4681-a9ff-e1e09c5c08ea',\n '278a994e-5983-4823-a101-3b597824ee1d',\n '78deb67c-96f1-4777-97b4-e86f7b4133c5',\n 'e0d0c429-93d3-4762-82c4-a573912653de',\n '3980c477-53f4-4552-b57f-716a9dea8335',\n '70f74042-1b8b-452c-8036-51f2d5640a5c',\n 'f6333450-5d0a-48b1-8dbe-50c94959f7da',\n 'ca13919f-fd7e-4697-b5d8-65c950813c61',\n '25db4137-cf45-40a5-8a51-cf8ec22e3d21',\n 'a1d485db-9277-49ae-9af5-1d4e2f909c5c',\n '32e27a7c-abc6-40fd-8aa0-d9e390842095',\n '48529656-f390-44f6-aaff-de03a78758a2',\n '3b53cc83-5ce2-4691-9c1d-e0835fb3892b',\n 'dba06add-9613-4aab-a575-b56e43c39aa0',\n '76f77024-1700-4c0d-ba33-185d80fb03d5',\n 'f0997f16-a37d-4380-9bab-e9a2cf9bef82',\n '2687420e-a021-4ded-8a1e-572d975d8fb8',\n '12cc61a4-099e-4541-8863-1a776c2120d5',\n '817f8186-bad2-4d72-b5c9-6279e920c977',\n 'f1992199-e585-47f7-a3d6-8c1e6a96effe',\n '605a35f1-22f4-4952-8c2e-99fe313e0c50',\n '63d3ab34-4a30-47cc-8305-265c608d65ee',\n 'b6ba3eec-5cb2-42bc-9070-4b16219fd072',\n '63f0e70f-3308-482b-9481-5c89d9e23437',\n 'e944a657-e533-43b9-9cce-a29863399931',\n '635f7897-a9a3-445e-a70f-378f8d8ad36a',\n '24fc3596-1906-4bb3-8ee1-dfeb1fc5a390',\n 'f73821b7-27af-4596-be02-9b8c235c9cbd',\n 'd61f9652-8373-48f3-8186-4e10b7b81d43',\n '40ff5633-57e5-4ae6-9fa4-77a56a7ca8da',\n '6a54a10c-6ce4-4d3c-877a-ce54247b5e11',\n '527e1adc-d72b-4738-88f3-58c0418cd95c',\n 'd46b06c9-f3cb-4534-b88d-60542966d245',\n '76fad53e-8f81-4ffb-9d7a-df529fd131f6',\n '54d2dc1f-dc88-4dcb-851b-8db746d2ab52',\n 'f0646f5d-b35c-410c-b599-cf93f46fc481',\n '067675da-db43-4240-b4e6-ff348c7d6399',\n '24421609-a444-4cf8-937c-40e9a1dedd1a',\n 'bbd0bab8-057d-40c0-acf7-0c69b0bad55b',\n '8060ec98-5f72-49b2-9d72-ce512da8f6c7',\n 'ca525a42-cac9-499c-9747-96ad9b6cfc5c',\n 'a49c65ed-c9b7-44dd-945a-f7d2a000d630',\n 'fceb9653-1f3e-46b2-bf53-1e38e2df497d',\n '846232b5-fb39-4309-bb77-2370d0de4b85',\n '4c803ced-b40a-453d-8d65-c8802c143862',\n '3e37af08-874a-46ea-87a7-e5fd51fac22a',\n '8f2d3287-8030-42c1-8eae-e5aa35e5d3d8',\n '1cc563c3-2454-45b6-880a-27ab752fc4f3',\n 'efc31dbc-b54d-40f0-b465-dd087ad59eb2',\n '37dfc5f1-5a36-4c56-8d57-bf0137fac73f',\n '3ca78038-e342-40ce-b564-0f842fcd093d',\n '9a49caac-647d-4c85-9fc4-98ea19024f4c',\n '326e3e46-578d-4d4e-930b-140817b72960',\n '6e1fcfb6-c5e0-4afd-9d4a-bc02ab1b14a8',\n 'e0e32b16-286a-41c0-81a0-90e1a01b29e8',\n '795fad70-91b1-43e4-a045-a18cea76e610',\n '88848925-d677-44cb-be1a-05ed98f32a2b',\n 'bdc340ac-f1e9-4ed0-964a-d5983f25e7bf',\n '7f738445-caa9-4dc5-9ec6-a090edb73b7a',\n 'f25bfa1f-52c1-464b-9dab-bbe8f3ae0283',\n '3c87ec19-38ff-4f07-88a6-65eeb48a4664',\n '42c45cb6-bc23-40b2-a383-aed614cbab50',\n 'dece4d7a-7485-4aa7-ae73-f95115d139b9',\n '88138c8e-d3dc-486f-8f22-163d4370fa3e',\n 'b139450c-0ab6-4bdd-b187-6affbac93ca9',\n 'a080a46e-48a6-4f5f-9d98-12d34c299ef7',\n '3cb59569-da3d-4a3b-912e-4e5a12173b94',\n 'c84df77a-e559-4535-a643-4632f6bc0857',\n '6b7b25f3-e7ab-47f1-ae15-2b9bc66435ca',\n 'e551295f-3909-4f79-8ad0-22b99938612b',\n 'd862e851-0ffd-479e-94a1-ff178fdcd828',\n 'a5cc300d-976b-4211-b447-96447911b5cf',\n 'd7b7da05-0bf6-43ac-91d9-7bf9a1c69d5c',\n 'c84ad7e1-2ae6-4d23-85b4-74e65f47a782',\n 'caf8eff0-bd54-4731-a7dd-c0b263311b3b',\n '44d96636-9197-4d00-b134-02ed4f58ada7',\n 'c243a67e-00ee-41ca-a3f7-40852d63cbd4',\n '2827da74-132f-423e-aa18-04d3c314a999',\n 'fd8fb5e1-cfca-442c-95c7-41bbdc3f0cc5',\n '30145a51-5d38-408c-924f-eb5d95ecf0d2',\n '2bcb0785-5667-425f-a546-665aca6759ed',\n '2130ebfb-6ff6-4bd9-8e7c-83cd34e16810',\n 'edffd00c-3d80-4a54-8508-d477f52fb502',\n 'f0ed5179-8e7b-4cba-8919-55aea45a6bb5',\n '7c8248d2-fb41-4e74-96d2-a98bf15a0fa2',\n '25fd15a7-df21-4822-8a33-f813e374ea10',\n '5465d7bb-0bd5-4c3c-9fe7-a7088c3c43a6',\n '9687572f-09ae-4153-b026-e18a14892cd3',\n 'c9703807-835c-4389-8eb8-ab84f70065c2',\n 'da8b2d5b-1821-4098-96c3-8d1e948d4f68',\n '8fe2cf08-f81c-4982-97a4-1480094da864',\n '5fb1ca0e-6f99-444e-a96a-9ab63faa58b0',\n 'ef54fd3d-3d1c-4eb8-a0fb-a28210538034',\n '3f640f6e-e3b9-4986-9c92-6aa9fe24c2d4',\n '17ec5230-95e8-42cc-8f11-3d1ce87761c2',\n 'ee4eb1ea-b092-4894-8b41-4141a9ea3e27',\n '02046458-d5e2-48ce-aec5-b797760a22ab',\n '8268c355-a07d-499c-b491-55f409fc39b0',\n 'cea99565-99fe-4076-b8a5-7ff435056ceb',\n 'eaa2844d-5f0d-449d-9046-989d1191c7e8',\n '453b57bb-9c4b-4737-b577-46b133044e7a',\n '5ae43589-c884-4d9d-9c4d-f495b0d903ad',\n '3dcdedda-dc99-4644-83bb-d2b866145b6d',\n 'f06dc02b-9e3e-4c4a-af08-eeea6bd5f7ff',\n 'ceed1fe8-7306-471d-a1c6-85c34717d863',\n 'ee5c1bf0-0c5d-4809-aacd-398190d9543a',\n '37ffc524-9e13-41b1-bccd-488cc0c965e8',\n '73d1b231-a9cc-444a-9da7-8decd6917503',\n '550c8223-3336-407d-a926-47848f013737',\n 'd5e8aed6-90ce-4e55-9536-e0d86e4e0b2f',\n 'adf976c2-4b86-4f01-b74b-c39de9cf7308',\n 'aa195f3c-9e8a-46a5-b294-839f022c6008',\n 'ac732218-afad-4954-a8f6-97f9a1553ecf',\n '11895431-743f-4c7f-be49-836429864ec1',\n 'ddd2867c-57db-41ab-8e29-2aca2ed35963',\n 'fe87517c-3607-4b77-a230-6badc93cf314',\n 'b4a74391-70eb-4599-a8a2-b861926cd5d3',\n '612759aa-be6e-47d4-97b1-339224ee4caa',\n 'b7539d39-f1ce-4e34-8d62-da5fb6ae5cce',\n '4557c4c4-ab7b-48f8-a042-ddf106d62772',\n 'd36f0bba-fa82-4c79-a213-8c7ddf6bd7a1',\n '762e8341-6bcd-4fed-a02f-07fa6a435936',\n 'eb2bf032-8000-43fe-b34f-ac6e0bce679b',\n 'd6c88b0e-0542-4fe6-ac20-cb8fc4ca1ade',\n '7edbdc0d-3833-4237-be09-dba7359d3800',\n '7db3a939-9f92-472b-a779-3c2550f5116a',\n 'cf25ceca-0a06-4d0d-8b11-12cbf40cfc42',\n 'f1822c15-66e2-4968-9e33-5f4a5a9dcdca',\n '7ce1f223-8fa2-4331-9f2c-1bcc20a9968d',\n 'ff9accc0-bbf2-4ece-b9ee-d9df5699ab06',\n '7aa235e5-d1be-4e51-824c-18e083698f09',\n 'e86c9adb-0b3c-4700-ab0f-37a27d5d21a6',\n '1eebf14b-7e8d-474a-be5e-bc29c4f19888',\n '3bf7ea8e-4e40-4aa5-a87e-c8611ae4df6e',\n 'e8b65cba-5d8f-49e4-a858-425b77283238',\n 'fa89d4e3-561b-4422-9f81-8b226824a872',\n '27a25748-1ce5-4b7d-90f4-464929fe7b7b',\n '31a89167-e30b-462c-b6d7-38c59d16714f',\n '325e7fec-15f9-4f38-b5d6-cc43d24b87c2',\n '8357034a-7eb5-48fe-baaf-c0d91c508787',\n '5c9125f3-01be-4f46-9ce2-3d277019042e',\n '3f6db87f-7a87-43f2-8385-da2fa1462072',\n '9ac01544-78ef-4278-a0f8-de4405e41f46',\n '3d349434-4373-49ef-bb83-0b0b1b6226a7',\n '4e38d954-aab2-4610-bb4e-c7c0e013c106',\n '2df4621b-8a49-4812-b420-c8c708f52c4a',\n '219d7211-490a-48c3-b53c-1af0f83672bb',\n 'cdc773e5-537f-4b6c-a5c8-43997a40f27c',\n '4da60d2c-7f6e-488a-bd3d-3288ebe81893',\n 'b7f7edd7-3686-40c5-b660-85dfab6e3a73',\n '00da48e9-e7a1-4377-8876-735c88066b36',\n '9832e60f-8cab-4e95-ad33-5aff9c56e505',\n '354a3437-b6a3-4c36-95da-338e796f5cdc',\n 'a960f1d3-acec-47ab-98fe-215231914478',\n '82960aed-517f-45d5-8dea-6c8eb86f851f',\n '1eaffb80-fe2b-4918-85d1-b78168be1470',\n '04331aed-76f1-41ed-a37f-1aa70718a19e',\n '5be73d09-5a6b-4f9f-9f9e-ca6bd7319c95',\n '110fd9bd-2ad7-4d98-a039-9d7ae3de1aa9',\n '358394f1-ccdc-46e6-93c7-b517df27af2c',\n 'bb44fa70-40f5-45cc-82c7-e8fc72641630',\n '86444513-76d7-4ede-839e-9536c0103179',\n '4593d48b-4b01-48bb-8dc2-2a1a4d414783',\n 'a2e8307e-9e63-47e3-9cd2-e788b1ebcbfd',\n 'f3eae751-81f9-48f3-822a-8705d7c1884c',\n 'a48dc2f9-b452-4712-bfcf-84c1e0ecb3e7',\n 'ae9a6190-f519-455d-bdad-aff812934f72',\n '4cf2de28-a775-4214-b749-3013f851ad98',\n 'e3dff070-2b23-4d47-845f-c3a2636fb80c',\n '974cfc91-91f3-4038-8a19-15c8a4f0fd27',\n '664afbe8-0591-4f29-8716-9eb1296799ed',\n 'd2ecaaee-e669-4215-950d-d42d0b83ccff',\n '6bf4608f-8092-446d-b66a-ec8c632a00ec',\n 'fb08f6c4-7c39-40ce-9bfa-34b37c76ae3a',\n '27d0ea71-c212-42f1-b6d5-e8626d5c50e8',\n '557b5c83-ceac-4283-b952-4a3e0fc36d76',\n '708112b7-d55d-4aed-b0b8-8d3cdaeac123',\n '8965db49-86c8-4646-8540-0ad3dbf83ae9',\n 'bc85f977-f4b2-4286-afa5-b44c30302325',\n 'e4d4d8c4-824a-4b61-a0ab-709848726b4f',\n 'cb07f8ac-fe81-4a74-a358-9cde885f3a8d',\n 'dfa335d0-e0ba-460c-af1f-9c2eb6be87db',\n '4f4a8cf4-effe-4d55-b5f0-d8cf1955e86c',\n 'd803ea5d-b790-48a5-a127-84fedf51c9f1',\n '3931a304-aa08-4f47-93c2-c5e5164a52d9',\n '9b973bb7-2a08-4515-abff-1ca19a807ad4',\n '592f10ad-22c5-4399-a117-8f1403e5a289',\n '2aa48e17-ccb8-4471-b267-26cd82e8386b',\n 'd5558a42-d51e-48a3-b75b-60fa3229b257',\n 'b59b47c2-bce1-42a5-8215-ad3d59d8ce82',\n '4af4f9b8-44c3-4841-9ae4-e5ddb27d89aa',\n 'a3282728-55b0-4c28-8582-c6bd8cc9d3df',\n 'd1cd2cac-3b88-4010-923b-fa77e9263bb4',\n 'e6fcf077-ef7d-4f1c-8baf-c8b14bd218ed',\n '4cd57ae9-c608-4fa7-8c3d-e4cee3ea9a90',\n '690bbc24-a8a8-48e2-a352-314692a44b70',\n '018862fe-09a3-40fb-a898-ba06bc901d6a',\n '1208c8b5-e947-4a28-832d-714d8192b4bf',\n 'd1452726-4e5c-4143-942a-60fdd924a78e',\n 'b18d76e6-4988-46eb-bc3f-88f923df17e1',\n '5760e8a6-ce8d-413b-8901-93798a7fbbdd',\n '1e7c5bf3-4d70-41da-8b1c-d48e63da378e',\n '6fd7f764-cb4c-478f-8fdb-1e14e59c17fe',\n '2d7d4329-cd8b-4dfe-98bf-5cf5319ff7fb',\n 'bde4ec63-95ab-42d5-9aac-a4bf49911bdc',\n '545402ce-1934-4791-8c99-19d20a4c6e36',\n '8de9f911-989a-4ee1-ab1a-4691a7bfeae0',\n '143b1fca-ab9f-4c2d-ac09-609df9c2321b',\n '5ffcf8d0-c23b-4a67-b8ca-3326fa88c079',\n 'ecc74b1b-c605-4801-942e-7c2cd1525912',\n '00291014-aa60-43a7-821e-34f901e6be36',\n '1adb23b3-c1ba-4305-a683-a74b004fd6e5',\n 'af70237f-2ad2-465b-a992-cf78be776913',\n 'a5c9d0d2-4a04-491e-b95c-0cb7a906b0c0',\n '337ed44b-be15-49d4-842c-ea18a0343e1d',\n '5fae8085-b214-479c-860c-b9a3e40693a0',\n '32f6bd6e-81cb-4e1c-ac9d-e2720667e7d9',\n '99edf742-6c99-4e21-9ea2-7eefed7cc989',\n 'd6abc260-3e1d-4ca0-b20d-5c44b072f567',\n '72212793-6fff-427a-9378-26f4dc5e568a',\n '4790a8c7-0b1c-4606-a707-2b5150999ff4',\n 'a6ff2a5a-e4a6-4b9d-8d4c-67776bd32263',\n 'f035e9a4-d2d0-4a74-b6de-d8438d548f3a',\n 'bc601ce1-62b2-44aa-9e25-b7b0b5cd8e72',\n '8d77ff95-14e5-4324-aee6-b4ea65fa5fd6',\n '3338c915-362d-4ab0-8d26-a8de9e79df70',\n 'f860920e-b757-4632-afb2-f2bc27178b32',\n 'ed0f35ed-1b4d-48ba-8f9e-47381ea1bd3d',\n '19cf56cd-d755-491f-9af6-b65457e44e61',\n '4bccd0c5-9bdd-42ca-9835-f42d1eb1c0fd',\n '6f070cb4-e62a-4a5d-af25-8e17fbe59528',\n 'a4828594-b5b8-4f59-a4ed-d1169ee43754',\n '078eed6f-ab05-431c-a3dc-d7e4dade37b2',\n 'c5c62984-4973-4eac-8520-fe4b64d5fd96',\n '3074cb38-8cff-4398-b2b1-f3288a618bcb',\n '34b17d9e-659e-4fe8-a76b-ba4d44eb04d7',\n '33663de6-7d29-47b4-af48-7f9472b5461a',\n '8961471b-5de0-4e3d-b8c0-34008461f09f',\n '4fdb9a2b-e9b8-4352-8abf-d08181f5c63f',\n '546fe34b-ea05-4e50-8e0a-c9ff6591abbd',\n '8624e243-191f-47c6-9291-a141759a1a48',\n '703c56d3-743c-4827-8752-4bad319dc8ca',\n '3a8b1e1f-71fd-4c53-85c2-2b218f478271',\n 'fdec8ede-db6c-4291-afd3-107c3582f9a2',\n 'b791d8bc-1ce2-4dea-a22e-4448a19052bf',\n '0ae6212e-f1da-40d1-a984-e44636d97bed',\n 'a3fa46c7-1148-461f-bcec-c3047e8aef5e',\n 'e2f439eb-53c6-4fda-b3ac-19ad5252e971',\n 'f72d0bab-e73b-42c2-bdc2-2b4d8c1735c0',\n 'db9eb08a-2267-42ef-851a-8da4808a8bda',\n '7d63349d-7827-46bb-9557-237ddf8f4d79',\n '9d97b568-e679-4167-a044-d31249882f87',\n '03b5dc98-6c8b-4433-9223-ba237666817e',\n '8f52f56f-a557-463d-948a-60a7109b2737',\n 'e0dd3a6b-8912-4298-a7ca-1699c631546f',\n 'aca89ea2-9cdb-4192-8a74-96dea016356f',\n 'a4c7a7e3-1fdf-42dd-ad3d-4f1d7b1a426f',\n 'f45f6e99-5823-4fbf-8bd2-84121cf07894',\n '99c61493-3326-494e-8a22-12edf9d0e081',\n 'd9e53c00-e3bc-4107-a361-a8d05c15a13d',\n '094f513b-92d8-4f31-ab20-71ce0ade06dd',\n '4a9c85ce-06a1-44c4-a7d1-72efd814f7b0',\n '6e969726-ed90-48e4-8e25-9fc067512c72',\n '5635abbf-297b-46c2-b114-5aba5011c704',\n 'ecd6ec64-aa00-4ab2-84e2-d9e52f60e734',\n 'ed11542c-a66c-4246-b1d9-78cfbe771da4',\n 'eb5bcf4e-974f-406d-94c2-b929ab9f5e19',\n 'f7187126-6da0-4eef-8a18-631b8a9c1531',\n 'c8e44eaf-ce7d-469e-978b-349f601f8e1f',\n '2e3ef82c-b09c-4318-a60c-ccfc94884416',\n 'd08eb886-4f47-45fb-a529-1313990d1261',\n '43a45b00-bb26-4518-af03-06d045b0843a',\n '61bc15ba-3ae6-4f20-9aa7-9f3a27726bda',\n '1d06eb1e-b032-4fa6-873a-3ec8176f6c4b',\n '0cf58420-bfa2-4788-88b9-304885e04343',\n '5e1a7cfc-ee5b-453d-abb9-331d413d79b5',\n '62809a24-80a8-4bad-a21f-8452e81f8f98',\n 'f68c17de-7b82-42a3-b55e-1a97312b309f',\n '91aaa6ee-aba7-4801-a4c0-e2c72c5426c0',\n '08adf086-ceed-4731-a1da-6b9f2e4ecc06',\n '0c878571-dc25-4f9b-8a97-9acee6da6c90',\n '6bfc1462-48c5-43a7-add0-1c095e42e2b3',\n '8b4b7f91-192e-4454-89f2-5a136a744630',\n 'd96d1f5d-7efb-44b7-a57a-858b922949a4',\n '449edd59-1e24-4d82-a904-d2d0e5bafc65',\n 'f684ccdc-9506-4313-9d71-e005fd35c9a1',\n 'e15290f0-963e-43ab-ae35-2220a1113ea5',\n 'b3784fc6-b8f0-4958-9341-e86bfca7cedf',\n '77cb84f5-1680-401a-a637-ca7e2d6aae01',\n 'b6e88daa-1da2-4b00-a156-3af6ba0d7b86',\n '01d257b5-e290-412e-8c9e-a1672642692a',\n '7f346f92-75af-4e5c-821c-7a2340beac69',\n 'edf9aea0-26a1-4818-afe2-05adf4155a58',\n '05658049-0ca7-4b56-b0f8-f433ad977f93',\n '99993281-fc14-4ae8-93f9-7cc44625a160',\n 'a8427a02-277e-45ff-9cea-8429e71d3f8a',\n '06b690c8-def4-4cec-8a09-6bc2563eff63',\n '4c51857a-37ca-477e-ad92-26938c869a6f',\n 'f13ae1c7-1619-466e-a207-94be19fcb9ba',\n 'a5134492-01f4-472c-aefb-177b52015f72',\n '566d8554-876d-4f8a-a0fb-38ebd7c3c731',\n '536b1f65-8c65-4617-9088-39a2c7aecac6',\n '6ccc3c6b-3c69-4429-b87f-bd02d4324223',\n '7612a92f-61ab-461d-a8df-4916f79542c3',\n 'f4778189-a09b-4dbe-8e84-92681e08b4d0',\n 'dead04c4-1af6-464e-85bd-2d02a2c813e6',\n '90f0d36d-bff1-407a-b56c-ac5386da7d1c',\n 'f0c2c062-b753-4ae9-bffb-2c607702de26',\n '394998cb-5439-4f44-9048-237f4898a2ae',\n '015bd879-5589-462f-add7-1c98cb4f6a78',\n 'b76ed68d-3d2d-4b02-b749-93ec3ff63533',\n '969a0168-197b-48da-9d85-4fd955e9e68b',\n '7e8645da-1ab7-4e54-9771-3acde1fcd9be',\n '4cdf0985-bf04-48a5-8738-10508cf918a4',\n 'd19f9790-d9f8-4107-9dc7-ee6208277e4b',\n '7deed719-36f5-4401-9042-51d43d2de582',\n '42c7ebd9-c80f-4ebe-aea5-beef9be8f8d6',\n '54432c9e-22c2-48d1-9159-6a5941d2921e',\n 'b12b15c4-4251-487e-9495-65a8a6c13850',\n '5c36a2cb-be13-481b-aad4-5c1376cf33a2',\n 'bfd54190-36db-493a-97ee-b222571b2763',\n '3dc7939b-86db-4bb8-9bff-e8874c115516',\n 'b4ce55b0-c353-4d0d-b0b7-d00ee28336d5',\n 'e3703507-eeb8-4f5d-9502-8771dd159b52',\n 'f557a6d5-3890-4b9a-b75a-7204d6777c7c',\n 'b4d206c6-222d-496c-9259-3e8ab031d4d8',\n '1715c99a-8150-41b7-acde-1546d2dd51cc',\n '2006713b-637c-4409-a1f6-e32e54f8e161',\n '22929587-f024-48df-93df-2c699b6539f0',\n 'fa285ed3-d5d0-4e8c-aded-4213a49e7610',\n '78502d82-3511-4156-bbc7-35395f35eb66',\n 'ee28a6c7-8a96-425b-9ad3-cb08707601a1',\n '4853bd77-aac2-41b2-95e9-aeada015240f',\n '184d17f1-c709-46e0-9362-e6f6ddea7963',\n 'cda7065a-8134-4c60-ab4f-363240434fcd',\n '1abea7c9-284f-4b14-b318-5a7069f26dcb',\n '4f7ef7b7-a8be-418f-9dc2-f4edc6b14134',\n '3c5fc753-8255-4674-81f1-eba7daa5c478',\n 'ce4a79bb-039e-45a0-96ec-64dd2485405b',\n '4b0d140e-5761-4b4e-8591-b0189ff5979e',\n '02c40f9e-6a9a-4706-9b99-d53522043746',\n 'b0444908-0ade-4fd6-871b-ec98d928c318',\n '81737ca0-32b7-4324-a5e1-5302cd66f36a',\n '7e4b86c2-dcb2-4566-8b87-0f1d6b1b60d8',\n '1651420a-5667-4ba3-a774-b732a65c1f07',\n '94cb4347-b231-4d31-88f7-ccbf8de84125',\n '0f9248cb-8eb0-458a-b7b6-7245b46a6399',\n '488c9138-5e74-4a92-9042-4f03cb495cbf',\n 'a2dd4b75-46d7-478e-a975-940644884493',\n '8520bc23-96fc-4eb0-a8ed-423b2350e7b3',\n 'b262e9d6-ec57-4f01-81b9-8d6d26709e5c',\n '15fe3bd9-fd5d-43ec-8553-1d60f551492a',\n 'e3c224a7-44df-423d-9805-083266dc152e',\n 'fec22b1f-253d-45a6-9841-22aed169d460',\n '2016b9a6-40e7-4a9f-a26c-731d0e5a7951',\n 'b1f6df83-03f1-49cd-beb1-365beb7fd3eb',\n '46b2ec24-039f-4d01-bc1e-e1c76aa68e15',\n '79cad588-5cfe-4197-a3d7-90701bb1af2c',\n 'e38f01aa-f90b-428b-b877-6d98ec4508ed',\n '88e0f554-7649-4ff7-93f5-f8a1a5749556',\n '09fbe23a-adfe-416e-bd0c-d3a77ab7de64',\n '19fb646f-8b5f-4a8b-9c21-12006a5fb7b6',\n 'ea7ce6b8-4592-4949-89e9-9c2730365810',\n 'cf73d4e7-0a81-4bcc-9959-e47e3239dfee',\n 'ee1fe144-67f3-42a7-9207-b2f0ab79c1eb',\n 'e2844b97-8dee-477b-a243-5c0a91e806aa',\n 'fbae0157-d063-4576-a4e3-a77624d9349e',\n 'd0df68e1-7914-4f66-86ea-577d405d25fa',\n 'a6a3a5dd-72c9-4958-a553-5639a4909671',\n '723afcd1-31d5-4927-8e4b-c6cc0289584f',\n '75b430dd-5854-4303-8364-9ec9193a5122',\n '3293943c-22c9-4a69-b6cc-b3e55a8afc1f',\n 'e5804fa6-52ef-4f42-91aa-3ba6e56f72bd',\n '78a5db42-d781-450d-88eb-0ac5607aa30e',\n '01bede09-3683-4d0d-a8a3-44abb35ab98f',\n '82da8ad7-081e-4927-9bb0-bca9fe0b203a',\n 'eadb8b7f-e4ed-4596-be87-4befe3e51d9b',\n '95c44e98-2bc4-44ea-8fb3-b3f390cde4b4',\n 'c000a132-8ff4-4277-b82b-d6c0d7f7b239',\n 'e9f62b94-3105-4c80-80dd-4243a3203a74',\n '9eb72b58-80f5-460a-8b61-207897dadeb2',\n 'e5162a09-ba08-4573-924f-47c83745199c',\n '7122c534-0317-45a3-8b0a-0344c69e21a6',\n '50c32908-46d1-49c5-9d0a-011de3cf66a0',\n '7c82bdd3-c0fe-4ba6-997a-518de2f94b2f',\n 'ea777d96-6e8f-4d98-a179-ab000c052300',\n '8778f1a5-0015-4e82-8be5-a91cd8d276f0',\n '0fbc75c7-c81f-4613-9eb0-ab248642588b',\n 'a9aac9a7-db0e-4d8d-990b-91e807d4834a',\n '2c02c17c-902f-4ab5-8cbf-2b88e3cd6d59',\n '8f2532d4-b81f-4ed9-b7cc-389aee6a3ee5',\n 'fed4a17a-7b95-4fa6-bf77-c375f0a46521',\n '8a1656e0-be2b-42de-aa50-4b9b62c20d78',\n 'c7d4f872-8c10-4d2f-9104-e4752ce2da23',\n 'f5086936-c93c-47f2-bad9-51338da08cdd',\n '3a6518c3-2795-4900-bb4d-d4df2c767a28',\n '38e3c42e-adeb-40cd-99b3-929cb2784d67',\n 'fd42d702-fddc-40ee-96bf-ec89d23316cb',\n '78fae6d2-9463-49af-9b0e-ed94b618bd57',\n '784902f7-1173-47b2-8e09-3174aaa6c286',\n '5c069ffb-a3b6-4559-95a8-78ab03a85331',\n '0a605dcf-f279-4bdd-aa4b-2759f96bd3fc',\n '08986764-1ea9-4379-b7b2-ca8dddf6d72d',\n 'a6e69572-df44-49b2-b775-570c250ae66b',\n '3ebdfb1d-0167-4520-a78e-75140a39724a',\n 'af959e5d-6f05-41b1-a248-1c0c55c7a6a6',\n '97c305a9-6ac5-450c-a803-e88ba83d7f96',\n '0d55005d-a73c-41a8-a02f-ff66ff285068',\n 'd74d94b0-eef3-4140-bd71-799123a077e7',\n '227f629e-078c-48b4-90ff-e47ed199f3ee',\n '424038f7-0c66-4a09-9046-2c658da95d0e',\n '30dba60c-6139-472f-bd51-ac019cc155ab',\n '5b6bf2fe-dfb6-43cc-bb42-4383854ba319',\n 'aba20171-0266-4186-a412-3f27928d4d09',\n '94498020-5a68-4317-abb2-900ccc135c7a',\n '42253897-9945-410c-b7a7-964d7233aefa',\n '49d359c5-c562-41cf-bf1a-5531120e45bc',\n '77c3f21b-3048-4346-acd9-e3f6a3593765',\n 'cbc40246-3864-4220-a5c2-480a76e27f4c',\n 'bad8bc55-0fde-4273-b045-6925c25260d8',\n 'cce2e35c-b4e4-4f41-a763-ce71c83d8949',\n 'c2fdd2e3-a2d6-4e16-a529-c39e2b09dc45',\n '694db899-8a0a-47df-8a9a-eaae79721be2',\n '5754a7bb-df95-4241-8e13-066b5c111e36',\n 'a536d539-fb61-43ec-ade9-88fc3db76ded',\n 'cd1550c5-af2c-4fd7-9513-5d11a620405d',\n '1c7a3e20-b818-4327-8020-0db3b4abc34c',\n 'bf9ad846-d177-48f2-993c-a06af1717dc0',\n 'fc1c5348-502d-4af5-b203-ea35c0f034f8',\n '9eb7e326-846e-4438-9852-fb50900c07f9',\n '4033126e-bc4e-462e-90c6-26aeaeeb850b',\n 'b0b5befc-440e-4459-acfa-1e169b617d8d',\n '899af9e0-5c37-4359-bdd4-8bac4f67b033',\n 'af16854b-cbed-442a-8ee9-135b72350bda',\n '0ee5caf1-a967-4b4f-a198-b20fbcd07003',\n '4fe2cccd-952d-4b96-a22b-f23cc7374088',\n 'f502d1d7-54ce-4735-9349-ae7917ad1fc7',\n '2030db59-79a6-402a-a177-a9dac7f60ec3',\n '538f3e3a-1847-4823-80dd-34c4fd9189c2',\n '29975392-4521-4d30-9cb5-4280753b75c1',\n '3d17c744-d54b-467d-984a-5e63c16fc675',\n '7739b241-1013-4c3e-91fa-f923da216685',\n 'f960f625-87e0-4986-b11f-e121b11bb176',\n 'b49d5ba4-73be-4f69-84ba-e9a43cbf6452',\n '52574e4b-782a-450e-ab0e-7bc5d7c18dc2',\n 'd9684ae6-e628-420e-b5e4-195e19ef1ec7',\n '04be5b04-cdae-44b4-9443-150206b54d22',\n '2dadc611-86a3-482d-9be9-d7dbba717434',\n '35c2a9e9-30ce-4705-84b1-1b074c0b08be',\n 'b289eda0-b42d-4da5-a25b-acebe750c8bf',\n 'dcd17f06-c902-4613-9ea2-86ef9878dd2d',\n 'c3a61c1a-d534-40ee-989c-bdae1e646c55',\n '0062a3f2-5ca3-4c40-af87-41f861d8b02a',\n '54a9b67d-e327-47c5-b225-87e9345436f9',\n '603742aa-b925-477c-b0f4-5bef8d9849ea',\n '644b8e46-fb14-4ad9-9fd1-4a9d34531169',\n 'cd0ddb8e-77ef-4efa-96b4-d3e55d441d86',\n '4bca15b9-63d0-4fe7-885c-b7e7106ab68c',\n 'e619cc27-d092-45f4-b0db-cb652c93fbeb',\n 'f35848eb-9cde-4b27-a700-21b79d755a8f',\n '10ec7cd0-d6ec-443b-9e18-aa43a5ee38de',\n 'fca6bf2c-2fe7-482a-8b64-bebf420fdefc',\n 'c8e73d1d-466a-43d8-8ac5-eaa3583f91bc',\n 'd980ebbf-6e2b-4e5f-887d-8e700da01f3d',\n '0f3d0af6-96ab-45c9-89b9-534c76f7a639',\n '5e25718b-6f68-4a5a-8b13-73041d5f4563',\n 'd30bfdb1-fe93-47d8-9a70-8b027a35810a',\n '0adebff3-2f21-418e-bbb2-7a2c141ba1ca',\n 'adbe45ab-3f76-4f2a-93be-9911defc659f',\n '03854f1a-4f00-416c-aa64-fabe715e2aea',\n '8c14297a-c3e0-426f-abcd-b0f83db63b33',\n '8c4a624a-8bed-4fad-bb3a-859d4c5c18ab',\n 'cb42cb50-927c-4453-a0b0-59518c384231',\n 'dedc6701-6c43-41db-81ae-a6637f7ed563',\n 'a032e70f-1fa4-41f6-86f7-b98142d58861',\n '1dbbd5e9-108c-47d5-81fc-c2bb7cb91155',\n '1d1333d1-18cf-4e88-854b-0baf9af1fbb2',\n '54d0ef32-d239-449e-a34d-80fc5052089d',\n 'd9f3eba3-7d36-4cb8-af06-49a7dc694067',\n 'f8f0da29-f8e1-4a90-92fa-d7fc970fa5ba',\n '058a15ad-03bf-403f-a772-4fa1bf36327e',\n 'dc73c30b-4eba-4d12-a6c0-0f548c324d35',\n '3f5fbac5-53f1-4261-a865-587888519ef6',\n '4e51abc3-77ce-44f4-93ff-02b62dee8577',\n '83843ed4-5b6e-47b3-8afa-33333d621fd9',\n '4e647480-e4f0-4320-ae6d-dbea2b3c24d3',\n '37de2288-2332-4716-b8c2-e9768c742196',\n '74e3f2ca-1412-40dd-8e43-448cfe2ec00d',\n '54e57d11-06de-4754-98f5-dd116d42144d',\n '8e5e2345-ae19-485e-a652-ee7fa3a0691d',\n '235cd316-dbb5-4e5b-8332-83afae3cc85c',\n '443275c1-0029-4f10-9911-29da95843e16',\n '8d1c1d9a-b239-4111-85f1-fb12cef7b108',\n '4013801d-a9ac-4551-a06c-4b90dc70e0c7',\n '064b3673-b235-4cca-82ea-821b6cba9470',\n 'e846d11e-5687-4c97-a922-6d75bc22ecb0',\n '4845a7d6-8078-46ed-a092-05ac6645f6ff',\n '41d33b76-c870-46ca-bd81-fd04319e3356',\n '74b810fa-1c92-49f5-9f1c-d9246bcefbf7',\n '6fabceda-e6e9-4b2a-a569-63a568998eba',\n '173529a1-7481-4030-bab7-fdaef0f049d1',\n 'c267ad8c-b016-4dd0-8c97-35030b061780',\n 'a79b95e1-1014-4a99-b92e-c0f6cc1c5477',\n '156e10e4-f6bd-49d7-858b-50ecfbfd440c',\n '1fe68b86-acb7-4a49-b0f3-de1c5eae3cc7',\n '1d778980-0846-4e7e-80d5-9231445cbe59',\n '341117e8-2e65-445b-8647-114e9a4b5470',\n '98aa5b10-ddc3-4802-9577-9d973230e17d',\n '9f376815-a2b6-475d-adb1-cee6ccd1ac47',\n '83d6f80a-7e21-4b6d-ad6b-80cc9f34c0a6',\n '62f0e9bd-8757-4177-b3c4-5af2e847d562',\n '01818d10-119c-4420-8154-368c27216e66',\n '9b1d86a6-944d-41f7-b4e4-db6736201adf',\n 'f8b1516d-0031-48ef-bb69-d0b4fec5f6bb',\n '60e0f037-f759-44ce-814d-28512d293030',\n '8d4da73e-65b3-4a36-a91b-dff48c7d07a5',\n '85857812-9294-4711-b107-2d8b3f510a4d',\n 'b897fed0-0232-43c3-9389-4b76a54e1ae1',\n '21cd5937-787d-40f0-817b-3ec9f9dfe62c',\n '563417b6-006d-44f3-a6b8-93cc53edb9eb',\n '0f2225c3-5037-4e9a-a943-830ac52b10ff',\n '256fd598-fb07-45fe-bb72-b7122dbcfee8',\n '132d6d70-5f9e-4066-bb06-6abec3b67128',\n 'ba99b094-94a2-42f6-bd69-e29b7ff01e92',\n '6f210d98-357d-47d7-a147-1ee17c1bb4fc',\n 'd623ae4c-e25e-46d1-9bb2-492fde007682',\n 'a79d4aa8-5002-4dbb-ba68-765ecd4dfb31',\n '9998296a-680e-46a2-a049-20dadb162439',\n '89207c4a-4f53-441c-83c5-ff2fe77ab6c1',\n '94d17587-ae70-4d51-a1d5-3a55fbf8e068',\n '92625308-7ec9-4e15-82a5-15915017de78',\n '08f2e0a0-211f-4c51-9e64-d0efff6800b1',\n '01d52e15-0ad6-4ce3-a06e-a674d0ed02b4',\n '10d11ac1-57fc-4523-9de6-3733bc146435',\n 'e20c2b57-c189-4e03-baa9-b69666e8d8ac',\n '980180fe-be76-482e-9c95-a4bbce9595d7',\n '6e4ce955-9593-4e7c-8f37-ac3bdcf0742c',\n 'ef91138c-31cc-4d79-940b-5354505a1484',\n '3ee3dabe-168c-46a2-b1cb-5888b93a0684',\n '99e5f8fc-4c2b-41c3-8cdc-1bd0a56fbe3f',\n '2a40852d-d5af-400e-be64-83e0752125e0',\n '9a638262-8bd4-4032-9101-4854167b8204',\n '31125397-61a9-4bab-83d5-b91c2569c151',\n 'f310d6d0-2317-4b33-8f50-b42fd7502199',\n '101790e3-0480-4f7e-ac00-117e2a5ec97a',\n '23200cd2-1dad-4070-9ea2-ef52e31b0684',\n '26b9f678-52cc-4914-9205-4d9808a87f49',\n '5e50ddc9-97fd-48fc-89fc-3a49019d0c69',\n '1d344097-7917-491a-9952-d9767bf90b3f',\n '57eba726-5277-4be0-b8d7-b3f0ee8a2ee1',\n '2731e991-d035-4319-b0a5-b5e9a872bc7c',\n 'faf282b3-8a1a-4de8-91ab-ace904f73897',\n '7c0f59e7-2f42-4228-bcd4-73775b20ad58',\n '7e48a99c-7ef1-4269-a603-5126a3099875',\n '242824d4-1425-41c0-afd8-6385f3f718e8',\n 'a892ad96-d5aa-423f-bc4f-88b32b813aee',\n 'dc38f390-7b99-4643-a6a9-c6c78586ec4b',\n '37b4809f-0b09-4d8f-9f4d-f94a3d8681eb',\n '94b72cbb-7754-4e60-9a88-fdef96802a47',\n '24469ec1-0738-456b-b4eb-610cec71a9e7',\n '205e362e-ed37-4249-8af2-221c8104ff23',\n 'abe266fa-4a8e-446d-9162-4ff758222428',\n 'fe394511-bc8c-4d7c-9f42-a45e727c9e6e',\n 'f7ef572e-b624-43d5-a44a-e2c53c2bbf9d',\n 'bd4a895d-3bd1-4fe2-9372-f09b672baa8a',\n 'd6651c20-99b7-40b1-b040-4ea608b4a612',\n '10bb3422-5232-48f8-8e9c-5c9ec2a77c3b',\n '7571544c-829f-41a0-bd59-f3b264188147',\n '0c11425b-eb6d-40c1-b18c-c10164a3cda9',\n 'b18ab563-79d2-41f0-b4a5-6e23ecb0064d',\n '4076d544-7e0a-4c96-9882-75e51911e5e1',\n '86b747e1-4662-449a-868a-57fab1ca0370',\n '065c57ac-8a11-4857-8856-f54862d313df',\n '046ad23a-2d52-425c-b7e0-54ea37dc15e1',\n '745807e2-abf8-4be6-892a-1fd6cb2e4e8f',\n '2fd18c11-0f9b-43ea-a12b-197a894ab1d7',\n '08fa8484-6556-460c-bc73-4b255188a2e0',\n '3ca832d8-95af-4f65-8387-379729b117fd',\n '154c9441-7dc6-43c6-997e-52609902f3ad',\n '1098ccfd-8b32-46d0-9e00-eb7eea8f5ab2',\n '35e81df3-7427-4416-8ffa-4d3626def518',\n '9f76b093-7035-4391-ac11-a18d8d5a9194',\n '5e2bc4f7-7190-47d2-9929-d2670482eadb',\n '4fa43747-0f28-496b-a13c-032b9f55254b',\n '4dcd2bff-9e0e-4e88-8034-c3123dae495c',\n '955726ea-f20c-42aa-9e89-1bf9fe1b4caa',\n 'e700ec21-876c-4530-96ea-8c0a598a0033',\n 'ead1b47a-5ba3-4b7e-9ef8-25a2dfcd1f37',\n 'edda100d-a62e-4160-9157-8839ef93a729',\n '484df111-78f0-44ec-8cc9-f547900e7905',\n '8dae1ed1-a4b9-46e7-a807-3bab2d609d32',\n '83aae060-f321-492f-be93-d190b75bc28c',\n 'c1bfdd75-0513-4856-877e-1cf9805dcc4c',\n '0242f8fb-257c-4ba7-8726-180905456e39',\n '115ceb64-8747-43dd-8613-7a7e5a7659c3',\n 'a60c34b8-6844-41f5-9c24-9cba4152dfb7',\n '00a0a26d-e2d2-43dc-8b14-67bf56f4d095',\n 'd4aea3a8-68e2-4714-afc4-f55d284fc212',\n '992fc7de-4b75-40f2-983a-a84913d26312',\n '80ffd7f6-1981-409e-a966-e71ccfebe1d7',\n '1f98812a-9caf-4936-8eb9-9e006c7c69b7',\n '5c6e2dd6-1820-46ac-8a4e-5d24bbc95d88',\n 'f135ac46-632f-406f-b53a-7fe6172ade9f',\n '5170ec62-4dca-4f0a-9f58-d8581a837acf',\n '592ec9de-bb51-4f0c-8bee-e8733471a943',\n '2a5dbac1-e972-4f57-af5a-f0ef0703ab4f',\n '8813014a-3172-498e-9e2d-5cdfa218fbd3',\n 'f7c4f0a7-ea1c-48d7-b52c-ec5871861112',\n '0880891d-403b-4f47-b325-0aa7ad9ccb7e',\n '3e9e428b-a63d-4c30-b967-e0c998b03c4a',\n '52a52712-e46a-4889-af83-c1d7bd5b34e1',\n '0a4d090f-53f8-4fe5-93ab-7122a0301ecd',\n '902a4db5-5f39-4310-8c48-78adae471d25',\n 'b42b3abb-e419-4dd3-98ec-1228c21823cc',\n '1994154e-f2e1-4315-95f4-ce7dd2db9ace',\n '7c5cd268-7ba5-426c-91d6-f693dd285ed7',\n '6aaba45e-9904-458d-b1a8-ceb8b3248ec9',\n '7fa87527-d076-4106-bf74-db08d85cbbdd',\n '3696786c-a2bc-4c04-b411-356ba5feb44c',\n '496ea05e-f23c-4634-bdef-c5beaae68a2e',\n '0e02deef-11c2-4044-9369-74d10f220645',\n '23c8e16b-30db-4e65-9604-c395c3e67a8b',\n 'dee8b4cc-1e7c-431e-8636-0da0cd594e85',\n '2a9d1ebe-41be-4fd0-914e-28c1f6ed1c63',\n 'd65c783e-8b32-4b26-ae17-8a386c1c010a',\n '33633e7b-b651-47f9-b911-a9ac51e04a80',\n '13523a4e-34b0-4e3c-9d2d-f0b0fd69c24e',\n '0da83e03-ca04-435b-8447-3d6d06f7e32d',\n '2c368d0a-eb3f-4f8d-8622-216bc6ba6278',\n '8c629b77-e0cf-49f9-b669-494269e6e8a3',\n 'd5e036c3-178b-4358-9aa1-4152c302f467',\n '4522bf27-c4ba-42b3-abae-96225a688d15',\n 'd10ef8a1-915c-4438-87ab-f3b6147c526f',\n '2c568619-c1a4-4b52-9933-3f60dd35b729',\n '42b87018-2043-428a-b859-3c7deacea029',\n 'ba0af09a-e971-4d4b-bad0-d994aaf89dbb',\n '60d35384-ff7d-412a-8301-afcaf4495c70',\n 'c32e32f0-b976-4fce-9853-74595f41c6ee',\n 'e21330d6-f27c-4107-83d8-6f9468ab4b25',\n '6d534b80-024d-437b-9978-76d518e038f4',\n '8beb3bda-cfde-4918-99ba-02b1a0bc2370',\n '83af15da-1539-452b-b422-954d54425fa0',\n '706c1268-7772-491a-ab56-0c7a244b1cb6',\n 'a8390c5a-169e-4a32-ab22-7b6a70882a35',\n 'c6baf7c1-f490-4d50-9d62-2d200732a59b',\n 'f11de56a-3305-4635-a801-542b9ef5671d',\n 'abedcca7-5b03-4ded-8d9f-153388c52141',\n '16d91f4f-704c-4eec-a5ae-802b164232b7',\n '1ef67d2d-2ef1-4189-b38c-6d6b6f21f9af',\n '7d0f911d-a1b5-49ef-8976-d7926948ec67',\n 'a608c4d2-d535-407b-af13-d73856e53792',\n '1692192e-8e69-40b8-97a7-9f34ef22e9d5',\n '5d290c2d-c70f-4ab8-a352-9559b2b2551a',\n '669f0860-d70d-41bd-9daa-359b77c7516d',\n '0b071103-dc8c-4d34-8ce7-f32cb7b4e063',\n '8b09ad45-4971-4d51-a28b-24735d735ef1',\n '3651e1ab-345c-4477-ba72-d86805b4b2ea',\n '7e382cd6-43b9-4e0f-b641-e7cab5bad8dc',\n 'bb62d5fa-897b-4006-8de4-e2a43d66f1bb',\n '40bfa218-cd9e-4764-8d00-cf6d9f30b5e1',\n 'a9b027a4-d335-47a7-9963-61af85d91e78',\n 'b8fbd415-88b0-4ad1-87a9-3d026e072dfa',\n '7af3ba6f-5a2c-466b-ab4c-6862b74bf3b2',\n '04fd2a35-0bcc-4110-a631-e6c902eb1674',\n '1fb35d60-fa8e-4ea8-b347-31c630808b26',\n '5602370c-0470-435c-b685-a72424bc515a',\n '6a3ec2a3-37e8-422e-812a-218b18a233c9',\n 'ed6251ef-2941-4731-8713-0ec41ea48a7e',\n '713e1cc2-e8dd-4fa0-8eb9-2fdb341ee039',\n '93171a29-5e27-44c9-8035-5c37f06ac29a',\n 'bdd9acd1-0b9f-4eda-bb40-9b84f953d9f3',\n 'd470761a-96a4-4444-92fc-5f2c0e794065',\n '29f61f8c-9ae7-4296-881d-f45dc6a3f621',\n '5d0a915d-22df-4995-a740-40a036761cca',\n 'c086b01d-9eee-4c90-bb71-8bf311beffb0',\n 'ef230878-39d4-4b5f-b6ee-0fba1ad58330',\n 'bedbe072-6d2c-485b-80b9-5f93d5a1479b',\n '26004e46-2099-4856-b56d-3e016760bd87',\n 'e4849a43-4d7f-4213-87b7-01f52626abee',\n 'c5e41f0f-3163-40d9-940b-6652a04d2b36',\n 'efd932c3-0bbf-401e-86aa-2d27925f8178',\n '9e3c9337-94f0-44bf-9aaf-88753f59818a',\n 'e713acd7-9c8c-4246-b278-78676cd38000',\n 'f861c0ef-d204-4537-9691-752011d23e52',\n 'e080c319-1608-46db-a766-9f3b1d67ed27',\n '40f340e7-8c24-4e82-bf96-fd43c14bc7a0',\n '1857990d-87bc-49ed-af78-d5f04dea430b',\n '9961725c-4797-4a73-a699-8bce4123b897',\n '7085cc7f-9289-4ebc-b602-4d02efa38ebc',\n 'ba99929f-002e-4fc3-a879-aa9358761aa7',\n '15943a5d-5296-494c-b210-e974eb419e7d',\n '63cb3f42-dff9-4c32-9139-0824ef224eea',\n '281b5920-9eea-40f5-a8e7-ecfa5a18af3f',\n '7c46f817-beaa-412f-becf-72d9bc2c533d',\n '22c99f5e-0444-4da9-918b-5f86b09ccadc',\n '8730cbb2-c784-45dd-9690-bc9d0f31ed00',\n 'f96cf7ba-87e4-4728-a013-79ca0af2296b',\n '45077182-46d1-4500-ae86-454b80490078',\n 'e913611c-72ee-483d-9d78-ad8c3560b04e',\n 'aaa2e97f-e5a2-434a-99b2-53588c0e16a4',\n '4f63934e-3f7a-4454-9171-cc780e09cb49',\n 'da40214f-7f77-4302-b086-afae1256d68f',\n '0c369bb9-e63e-45f1-ba6b-28a2583a913f',\n 'ee972cc3-c057-4af3-8d0b-a81cbdbe7c40',\n '2785fc3f-6cfd-4460-a329-1174be6f38fc',\n '134d0149-17b7-44d9-a23c-0289b3f5b91e',\n 'ec66a779-deb7-4b39-97a4-080908aa72eb',\n '62e539d2-5904-4979-91d4-8825433395bc',\n 'c57e302f-ae49-49aa-8778-c3eadb2f2fa1',\n 'bd3a887f-0d6c-4a1e-b0c7-2a89fcd870a3',\n 'd563ab54-7f52-4a5f-a821-cad6f503946f',\n '8d74b048-8e1e-4f83-886d-c2984ae7726a',\n 'd0e7ab77-0de3-4fbe-8b31-f1ec32d88f6e',\n '633c0505-e4c5-45bc-9644-d0d821cabdf1',\n '8bc14724-fc68-4fef-9e59-84389e70af86',\n '6e09e546-db1f-4964-b9fa-16ee9132ff5c',\n 'f7304e21-3724-443b-a8e3-bbe99170e6d7',\n 'c282543f-9c47-4129-ad55-6e21ec8f541c',\n '9526d718-1ad9-41ef-81ea-cc634de42cc5',\n 'da27f452-b6b7-4841-a330-b3abc69b9ef5',\n 'dbc10d6a-6643-4f56-b2de-8def62c7e645',\n '3835bc15-c7ad-4e84-8a61-4b0d9377451d',\n '48e5d642-897b-4475-a8a5-94b424fa582a',\n 'b574fae4-3b8c-4b46-8ffe-c6ff69cce899',\n '2468e1bc-00b0-4b27-b586-95bfc8fc5f4d',\n '28649417-68b3-4f31-b4d5-2efac4c83ad7',\n '742b3caf-d6c7-4428-a7ff-231087fdcbad',\n 'd42f7d71-5b6e-4168-91bb-7eb744d04c25',\n '12cc7db4-7c5d-490d-a6e5-845babfecfcc',\n 'd250f88b-4e7c-4b05-b1b8-4ed64bc124be',\n '7f03e76a-aa06-454f-ac0a-ed9e6694a90f',\n 'fcc9c0e1-ed34-48fc-abe1-5c8837af5961',\n '57c549ed-bef5-40da-8710-fb7389681f08',\n '492bb884-5613-4dba-9b6b-0f524f02a8d4',\n 'e6329198-9059-48c6-bdb2-9f6285cc9148',\n '275620bd-9c91-4de2-b965-7cb99814f819',\n '75c7c2f4-2762-4b44-9283-3d58444c296b',\n '06502df6-46ad-40c3-b5e6-e4eb73bf0ff1',\n '18e1c9b6-52ac-45ec-a811-6a653d84c3d1',\n 'b6926bc4-cdcd-453f-9864-cca21675449e',\n 'b26af302-cbcd-4cc7-ac61-d8a05bb4d7d2',\n '6c0829c7-96d8-4997-ad25-51878a2d58ec',\n '380545a6-a019-49e6-b91c-51bc2ac697cf',\n '732e8a84-2d00-42b2-a581-1b470014ecb1',\n '6512ff27-38c9-4e07-ad15-e58de611681b',\n '1f758496-6b6b-43d5-b7e1-6a31e89643f4',\n '6779630b-e602-49c3-8206-75adc5731cb8',\n 'dbc08579-035f-459f-b9c9-8cef6f9573bd',\n '1cdcb0e5-2a9e-471d-915f-fb10a95d4c98',\n '055f4499-c7ec-40ad-9b9f-92b16f5ec982',\n 'a1389611-b922-47f8-9773-057b05699329',\n '6037644f-3868-461c-ab5c-c2d4d7311bfc',\n '19a50cac-913b-4d82-8fb0-64bcf08bd809',\n '414864a8-6d95-4ada-af2b-8fd11ad61217',\n '139b84e9-52f8-4a85-8033-48a574c972e5',\n '48c54e52-6a82-4e2b-933a-9826d52edcc7',\n '05e86071-2907-4ce8-92fd-8326d9a51b8f',\n 'b33c73c9-f9fb-4349-a5fe-4280158ddc01',\n '730423ac-0903-417d-a9b0-93b62d129739',\n '1a7669e7-0492-423d-a61e-bb7bb8c54c7f',\n '97657e69-0928-4794-8aab-da3c4e5b8146',\n '8c3441ae-75a1-46fc-a0b1-7c431d24140a',\n '15cca19e-a812-4fe4-97cc-f57578483445',\n 'f3f36fca-0240-472e-8da4-91fd993fa00c',\n '197c15a6-d735-4b2a-b1d3-9cb7b3264d54',\n '2f260a7d-37c9-402a-9026-4aa5a28273a0',\n 'f21b977b-97a7-46ed-b5a3-722f7c5622bb',\n '29730f76-61a6-4471-8791-a189b145c4b5',\n '1436ed8f-3b61-407d-afae-fcc593ed9bfa',\n '57c31b10-2b05-4ca8-a4df-fba4f7b29e29',\n '99dc7b58-3b9e-45e4-9583-c5251580df37',\n 'a3fa48cd-3ee5-4da0-ab59-401b072453d9',\n 'f8dd32a6-c222-45dc-86ed-ab38108246bf',\n '7dd1f2f9-04a7-4c67-8c34-93af21a7e9e8',\n '833c4639-13c9-47ab-805b-8ef73918351b',\n '4657f341-4388-4f69-b01c-8fe9c2a9fd71',\n '96bf4721-3ffb-41af-9b75-be33de82eedb',\n '55952ae1-e10e-47d9-8f6e-3fcd254980a2',\n '12675d79-7782-4837-a53a-6dcf6520a8c2',\n '0645378b-215a-489d-b336-1b1ec869ba5a',\n 'e9fefc98-87a0-48dc-b3ea-244588ece089',\n ...}"
     },
     "execution_count": 206,
     "metadata": {},
     "output_type": "execute_result"
    }
   ],
   "source": [
    "bdid_set"
   ],
   "metadata": {
    "collapsed": false,
    "ExecuteTime": {
     "end_time": "2024-06-09T11:38:56.263298Z",
     "start_time": "2024-06-09T11:38:56.184333Z"
    }
   },
   "id": "6023f72166d8da8a",
   "execution_count": 206
  },
  {
   "cell_type": "markdown",
   "source": [
    "Function to clean raw om file. Outputs a set of IDs == bdid for a given sflr"
   ],
   "metadata": {
    "collapsed": false
   },
   "id": "3e86a529f5625fa0"
  },
  {
   "cell_type": "code",
   "outputs": [],
   "source": [
    "def total_clean_om(df_raw, sbpr=15.0):\n",
    "   df_raw.drop(['level', 'time', 'message'], axis=1, inplace=True) \n",
    "   def clean_om(row):\n",
    "    d = {}\n",
    "    for k,v in row.fields.items():\n",
    "        if k == 'bdid':\n",
    "            d[k] = v[0]\n",
    "        if k == 'sflr':\n",
    "            d[k] = float(v[0])\n",
    "        if k == 'sbpr':\n",
    "            d[k] = float(v[0])\n",
    "    return d\n",
    "    om_clean = df_raw.apply(clean_om, axis=1, result_type='expand')\n",
    "    bdid_set = set(om_clean[om_clean.sflr == sbpr].bdid)\n",
    "    return bdid_set\n",
    "    "
   ],
   "metadata": {
    "collapsed": false,
    "ExecuteTime": {
     "end_time": "2024-06-09T11:45:41.514067Z",
     "start_time": "2024-06-09T11:45:41.170809Z"
    }
   },
   "id": "e6c97e54e76c767",
   "execution_count": 207
  },
  {
   "cell_type": "code",
   "outputs": [
    {
     "data": {
      "text/plain": "   sbpr                time                                    id  \\\n0  15.0 2024-04-09 00:00:01  51821639-48a2-447b-b5de-aee0beb878bd   \n1  15.0 2024-04-09 00:00:01  5aa54938-a3a7-447b-b6cf-14b43764f8e3   \n2  15.0 2024-04-09 00:00:02  37b89a1e-e9e3-4697-a7f9-e20f0906fd30   \n3  16.5 2024-04-09 00:00:03  ee6d522b-838e-4ecd-bb10-71637c4b0505   \n4  15.0 2024-04-09 00:00:03  97253b20-00e5-445c-90c0-8cdf19da12c6   \n\n   minduration  maxduration  minbitrate  maxbitrate  app_id  \\\n0            1          120           1      280000  702131   \n1            1          120           1      280000  711665   \n2            1          120           1      280000  726329   \n3            1           70           1      280000  711667   \n4            1           70           1      280000  711667   \n\n                         app_name    app_bundle  ...          genre language  \\\n0                            plex  g15147002586  ...  entertainment      NaN   \n1  sling: live tv, shows & movies     com.sling  ...            NaN      NaN   \n2                            plex  g15147002586  ...  entertainment      NaN   \n3  fubotv: watch live sports & tv     905401434  ...            NaN       en   \n4  fubotv: watch live sports & tv     905401434  ...            NaN       en   \n\n  device_make        device_model device_os geo_region geo_metro  \\\n0     samsung            tizen tv     tizen         sc       546   \n1     generic  generic android tv   android         oh       NaN   \n2     samsung            tizen tv     tizen         tn       691   \n3       apple            tv a1625     other         ga       524   \n4       apple            tv a1625     other         ga       524   \n\n             new_time    tod   data  \n0 2024-04-09 00:00:01  night  False  \n1 2024-04-09 00:00:01  night  False  \n2 2024-04-09 00:00:02  night  False  \n3 2024-04-09 00:00:03  night  False  \n4 2024-04-09 00:00:03  night  False  \n\n[5 rows x 21 columns]",
      "text/html": "<div>\n<style scoped>\n    .dataframe tbody tr th:only-of-type {\n        vertical-align: middle;\n    }\n\n    .dataframe tbody tr th {\n        vertical-align: top;\n    }\n\n    .dataframe thead th {\n        text-align: right;\n    }\n</style>\n<table border=\"1\" class=\"dataframe\">\n  <thead>\n    <tr style=\"text-align: right;\">\n      <th></th>\n      <th>sbpr</th>\n      <th>time</th>\n      <th>id</th>\n      <th>minduration</th>\n      <th>maxduration</th>\n      <th>minbitrate</th>\n      <th>maxbitrate</th>\n      <th>app_id</th>\n      <th>app_name</th>\n      <th>app_bundle</th>\n      <th>...</th>\n      <th>genre</th>\n      <th>language</th>\n      <th>device_make</th>\n      <th>device_model</th>\n      <th>device_os</th>\n      <th>geo_region</th>\n      <th>geo_metro</th>\n      <th>new_time</th>\n      <th>tod</th>\n      <th>data</th>\n    </tr>\n  </thead>\n  <tbody>\n    <tr>\n      <th>0</th>\n      <td>15.0</td>\n      <td>2024-04-09 00:00:01</td>\n      <td>51821639-48a2-447b-b5de-aee0beb878bd</td>\n      <td>1</td>\n      <td>120</td>\n      <td>1</td>\n      <td>280000</td>\n      <td>702131</td>\n      <td>plex</td>\n      <td>g15147002586</td>\n      <td>...</td>\n      <td>entertainment</td>\n      <td>NaN</td>\n      <td>samsung</td>\n      <td>tizen tv</td>\n      <td>tizen</td>\n      <td>sc</td>\n      <td>546</td>\n      <td>2024-04-09 00:00:01</td>\n      <td>night</td>\n      <td>False</td>\n    </tr>\n    <tr>\n      <th>1</th>\n      <td>15.0</td>\n      <td>2024-04-09 00:00:01</td>\n      <td>5aa54938-a3a7-447b-b6cf-14b43764f8e3</td>\n      <td>1</td>\n      <td>120</td>\n      <td>1</td>\n      <td>280000</td>\n      <td>711665</td>\n      <td>sling: live tv, shows &amp; movies</td>\n      <td>com.sling</td>\n      <td>...</td>\n      <td>NaN</td>\n      <td>NaN</td>\n      <td>generic</td>\n      <td>generic android tv</td>\n      <td>android</td>\n      <td>oh</td>\n      <td>NaN</td>\n      <td>2024-04-09 00:00:01</td>\n      <td>night</td>\n      <td>False</td>\n    </tr>\n    <tr>\n      <th>2</th>\n      <td>15.0</td>\n      <td>2024-04-09 00:00:02</td>\n      <td>37b89a1e-e9e3-4697-a7f9-e20f0906fd30</td>\n      <td>1</td>\n      <td>120</td>\n      <td>1</td>\n      <td>280000</td>\n      <td>726329</td>\n      <td>plex</td>\n      <td>g15147002586</td>\n      <td>...</td>\n      <td>entertainment</td>\n      <td>NaN</td>\n      <td>samsung</td>\n      <td>tizen tv</td>\n      <td>tizen</td>\n      <td>tn</td>\n      <td>691</td>\n      <td>2024-04-09 00:00:02</td>\n      <td>night</td>\n      <td>False</td>\n    </tr>\n    <tr>\n      <th>3</th>\n      <td>16.5</td>\n      <td>2024-04-09 00:00:03</td>\n      <td>ee6d522b-838e-4ecd-bb10-71637c4b0505</td>\n      <td>1</td>\n      <td>70</td>\n      <td>1</td>\n      <td>280000</td>\n      <td>711667</td>\n      <td>fubotv: watch live sports &amp; tv</td>\n      <td>905401434</td>\n      <td>...</td>\n      <td>NaN</td>\n      <td>en</td>\n      <td>apple</td>\n      <td>tv a1625</td>\n      <td>other</td>\n      <td>ga</td>\n      <td>524</td>\n      <td>2024-04-09 00:00:03</td>\n      <td>night</td>\n      <td>False</td>\n    </tr>\n    <tr>\n      <th>4</th>\n      <td>15.0</td>\n      <td>2024-04-09 00:00:03</td>\n      <td>97253b20-00e5-445c-90c0-8cdf19da12c6</td>\n      <td>1</td>\n      <td>70</td>\n      <td>1</td>\n      <td>280000</td>\n      <td>711667</td>\n      <td>fubotv: watch live sports &amp; tv</td>\n      <td>905401434</td>\n      <td>...</td>\n      <td>NaN</td>\n      <td>en</td>\n      <td>apple</td>\n      <td>tv a1625</td>\n      <td>other</td>\n      <td>ga</td>\n      <td>524</td>\n      <td>2024-04-09 00:00:03</td>\n      <td>night</td>\n      <td>False</td>\n    </tr>\n  </tbody>\n</table>\n<p>5 rows × 21 columns</p>\n</div>"
     },
     "execution_count": 102,
     "metadata": {},
     "output_type": "execute_result"
    }
   ],
   "source": [
    "df_extr0409_15['data'] = df_extr0409_15.apply(lambda row: row.id in bdid_set, axis=1)\n",
    "df_extr0409_15.head()"
   ],
   "metadata": {
    "collapsed": false,
    "ExecuteTime": {
     "end_time": "2024-07-19T13:44:51.193622Z",
     "start_time": "2024-07-19T13:44:37.952725Z"
    }
   },
   "id": "f1c96e1b1838b442",
   "execution_count": 102
  },
  {
   "cell_type": "code",
   "outputs": [],
   "source": [
    "df_extr0409_15.to_pickle('df_extr0409_15YN.pkl')"
   ],
   "metadata": {
    "collapsed": false,
    "ExecuteTime": {
     "end_time": "2024-07-19T13:45:05.815583Z",
     "start_time": "2024-07-19T13:45:00.136848Z"
    }
   },
   "id": "24f328f2f9668a46",
   "execution_count": 103
  },
  {
   "cell_type": "code",
   "outputs": [
    {
     "data": {
      "text/plain": "501051"
     },
     "execution_count": 218,
     "metadata": {},
     "output_type": "execute_result"
    }
   ],
   "source": [
    "len(df_extr0409_15[(df_extr0409_15.sbpr==15) & (df_extr0409_15.data == True)])"
   ],
   "metadata": {
    "collapsed": false,
    "ExecuteTime": {
     "end_time": "2024-06-09T12:00:57.412197Z",
     "start_time": "2024-06-09T12:00:57.104461Z"
    }
   },
   "id": "40148cb8ab01",
   "execution_count": 218
  },
  {
   "cell_type": "code",
   "outputs": [
    {
     "data": {
      "text/plain": "514624"
     },
     "execution_count": 219,
     "metadata": {},
     "output_type": "execute_result"
    }
   ],
   "source": [
    "len(df_extr0409_15[(df_extr0409_15.sbpr==15) & (df_extr0409_15.data == False)])"
   ],
   "metadata": {
    "collapsed": false,
    "ExecuteTime": {
     "end_time": "2024-06-09T12:02:45.787813Z",
     "start_time": "2024-06-09T12:02:45.477890Z"
    }
   },
   "id": "59007e74cf309be3",
   "execution_count": 219
  },
  {
   "cell_type": "code",
   "outputs": [
    {
     "data": {
      "text/plain": "76901"
     },
     "execution_count": 220,
     "metadata": {},
     "output_type": "execute_result"
    }
   ],
   "source": [
    "len(df_extr0409_15[(df_extr0409_15.sbpr != 15) & (df_extr0409_15.data == True)])"
   ],
   "metadata": {
    "collapsed": false,
    "ExecuteTime": {
     "end_time": "2024-06-09T12:03:41.211769Z",
     "start_time": "2024-06-09T12:03:41.124354Z"
    }
   },
   "id": "2318d1304057e519",
   "execution_count": 220
  },
  {
   "cell_type": "code",
   "outputs": [
    {
     "data": {
      "text/plain": "84032"
     },
     "execution_count": 221,
     "metadata": {},
     "output_type": "execute_result"
    }
   ],
   "source": [
    "len(df_extr0409_15[(df_extr0409_15.sbpr != 15) & (df_extr0409_15.data == False)])"
   ],
   "metadata": {
    "collapsed": false,
    "ExecuteTime": {
     "end_time": "2024-06-09T12:04:00.458609Z",
     "start_time": "2024-06-09T12:04:00.335701Z"
    }
   },
   "id": "f01087889d153dd7",
   "execution_count": 221
  },
  {
   "cell_type": "code",
   "outputs": [],
   "source": [
    "df_extr0409_15['data'] = df_extr0409_15['data'].astype('int8')"
   ],
   "metadata": {
    "collapsed": false,
    "ExecuteTime": {
     "end_time": "2024-07-19T13:28:21.575353Z",
     "start_time": "2024-07-19T13:28:21.393575Z"
    }
   },
   "id": "eca713d97247a36f",
   "execution_count": 92
  },
  {
   "cell_type": "code",
   "outputs": [
    {
     "ename": "ValueError",
     "evalue": "hist method requires numerical or datetime columns, nothing to plot.",
     "output_type": "error",
     "traceback": [
      "\u001B[0;31m---------------------------------------------------------------------------\u001B[0m",
      "\u001B[0;31mValueError\u001B[0m                                Traceback (most recent call last)",
      "Cell \u001B[0;32mIn[93], line 1\u001B[0m\n\u001B[0;32m----> 1\u001B[0m ax \u001B[38;5;241m=\u001B[39m df_extr0409_15[(df_extr0409_15\u001B[38;5;241m.\u001B[39msbpr\u001B[38;5;241m==\u001B[39m\u001B[38;5;241m15\u001B[39m)\u001B[38;5;241m&\u001B[39m (df_extr0409_15\u001B[38;5;241m.\u001B[39mdata \u001B[38;5;241m==\u001B[39m \u001B[38;5;28;01mTrue\u001B[39;00m)]\u001B[38;5;241m.\u001B[39mhist(column\u001B[38;5;241m=\u001B[39m\u001B[38;5;124m'\u001B[39m\u001B[38;5;124mtime\u001B[39m\u001B[38;5;124m'\u001B[39m, bins\u001B[38;5;241m=\u001B[39m\u001B[38;5;241m12\u001B[39m, color \u001B[38;5;241m=\u001B[39m \u001B[38;5;124m'\u001B[39m\u001B[38;5;124mg\u001B[39m\u001B[38;5;124m'\u001B[39m)\n\u001B[1;32m      2\u001B[0m ax \u001B[38;5;241m=\u001B[39m df_extr0409_15[(df_extr0409_15\u001B[38;5;241m.\u001B[39msbpr\u001B[38;5;241m==\u001B[39m\u001B[38;5;241m15\u001B[39m)\u001B[38;5;241m&\u001B[39m (df_extr0409_15\u001B[38;5;241m.\u001B[39mdata \u001B[38;5;241m==\u001B[39m \u001B[38;5;28;01mFalse\u001B[39;00m)]\u001B[38;5;241m.\u001B[39mhist(ax\u001B[38;5;241m=\u001B[39max, column\u001B[38;5;241m=\u001B[39m\u001B[38;5;124m'\u001B[39m\u001B[38;5;124mtime\u001B[39m\u001B[38;5;124m'\u001B[39m, bins\u001B[38;5;241m=\u001B[39m\u001B[38;5;241m12\u001B[39m, color \u001B[38;5;241m=\u001B[39m \u001B[38;5;124m'\u001B[39m\u001B[38;5;124mr\u001B[39m\u001B[38;5;124m'\u001B[39m)\n",
      "File \u001B[0;32m/opt/anaconda3/lib/python3.11/site-packages/pandas/plotting/_core.py:247\u001B[0m, in \u001B[0;36mhist_frame\u001B[0;34m(data, column, by, grid, xlabelsize, xrot, ylabelsize, yrot, ax, sharex, sharey, figsize, layout, bins, backend, legend, **kwargs)\u001B[0m\n\u001B[1;32m    160\u001B[0m \u001B[38;5;250m\u001B[39m\u001B[38;5;124;03m\"\"\"\u001B[39;00m\n\u001B[1;32m    161\u001B[0m \u001B[38;5;124;03mMake a histogram of the DataFrame's columns.\u001B[39;00m\n\u001B[1;32m    162\u001B[0m \n\u001B[0;32m   (...)\u001B[0m\n\u001B[1;32m    244\u001B[0m \u001B[38;5;124;03m    >>> hist = df.hist(bins=3)\u001B[39;00m\n\u001B[1;32m    245\u001B[0m \u001B[38;5;124;03m\"\"\"\u001B[39;00m\n\u001B[1;32m    246\u001B[0m plot_backend \u001B[38;5;241m=\u001B[39m _get_plot_backend(backend)\n\u001B[0;32m--> 247\u001B[0m \u001B[38;5;28;01mreturn\u001B[39;00m plot_backend\u001B[38;5;241m.\u001B[39mhist_frame(\n\u001B[1;32m    248\u001B[0m     data,\n\u001B[1;32m    249\u001B[0m     column\u001B[38;5;241m=\u001B[39mcolumn,\n\u001B[1;32m    250\u001B[0m     by\u001B[38;5;241m=\u001B[39mby,\n\u001B[1;32m    251\u001B[0m     grid\u001B[38;5;241m=\u001B[39mgrid,\n\u001B[1;32m    252\u001B[0m     xlabelsize\u001B[38;5;241m=\u001B[39mxlabelsize,\n\u001B[1;32m    253\u001B[0m     xrot\u001B[38;5;241m=\u001B[39mxrot,\n\u001B[1;32m    254\u001B[0m     ylabelsize\u001B[38;5;241m=\u001B[39mylabelsize,\n\u001B[1;32m    255\u001B[0m     yrot\u001B[38;5;241m=\u001B[39myrot,\n\u001B[1;32m    256\u001B[0m     ax\u001B[38;5;241m=\u001B[39max,\n\u001B[1;32m    257\u001B[0m     sharex\u001B[38;5;241m=\u001B[39msharex,\n\u001B[1;32m    258\u001B[0m     sharey\u001B[38;5;241m=\u001B[39msharey,\n\u001B[1;32m    259\u001B[0m     figsize\u001B[38;5;241m=\u001B[39mfigsize,\n\u001B[1;32m    260\u001B[0m     layout\u001B[38;5;241m=\u001B[39mlayout,\n\u001B[1;32m    261\u001B[0m     legend\u001B[38;5;241m=\u001B[39mlegend,\n\u001B[1;32m    262\u001B[0m     bins\u001B[38;5;241m=\u001B[39mbins,\n\u001B[1;32m    263\u001B[0m     \u001B[38;5;241m*\u001B[39m\u001B[38;5;241m*\u001B[39mkwargs,\n\u001B[1;32m    264\u001B[0m )\n",
      "File \u001B[0;32m/opt/anaconda3/lib/python3.11/site-packages/pandas/plotting/_matplotlib/hist.py:516\u001B[0m, in \u001B[0;36mhist_frame\u001B[0;34m(data, column, by, grid, xlabelsize, xrot, ylabelsize, yrot, ax, sharex, sharey, figsize, layout, bins, legend, **kwds)\u001B[0m\n\u001B[1;32m    513\u001B[0m naxes \u001B[38;5;241m=\u001B[39m \u001B[38;5;28mlen\u001B[39m(data\u001B[38;5;241m.\u001B[39mcolumns)\n\u001B[1;32m    515\u001B[0m \u001B[38;5;28;01mif\u001B[39;00m naxes \u001B[38;5;241m==\u001B[39m \u001B[38;5;241m0\u001B[39m:\n\u001B[0;32m--> 516\u001B[0m     \u001B[38;5;28;01mraise\u001B[39;00m \u001B[38;5;167;01mValueError\u001B[39;00m(\n\u001B[1;32m    517\u001B[0m         \u001B[38;5;124m\"\u001B[39m\u001B[38;5;124mhist method requires numerical or datetime columns, nothing to plot.\u001B[39m\u001B[38;5;124m\"\u001B[39m\n\u001B[1;32m    518\u001B[0m     )\n\u001B[1;32m    520\u001B[0m fig, axes \u001B[38;5;241m=\u001B[39m create_subplots(\n\u001B[1;32m    521\u001B[0m     naxes\u001B[38;5;241m=\u001B[39mnaxes,\n\u001B[1;32m    522\u001B[0m     ax\u001B[38;5;241m=\u001B[39max,\n\u001B[0;32m   (...)\u001B[0m\n\u001B[1;32m    527\u001B[0m     layout\u001B[38;5;241m=\u001B[39mlayout,\n\u001B[1;32m    528\u001B[0m )\n\u001B[1;32m    529\u001B[0m _axes \u001B[38;5;241m=\u001B[39m flatten_axes(axes)\n",
      "\u001B[0;31mValueError\u001B[0m: hist method requires numerical or datetime columns, nothing to plot."
     ]
    }
   ],
   "source": [
    "ax = df_extr0409_15[(df_extr0409_15.sbpr==15)& (df_extr0409_15.data == True)].hist(column='time', bins=12, color = 'g')\n",
    "ax = df_extr0409_15[(df_extr0409_15.sbpr==15)& (df_extr0409_15.data == False)].hist(ax=ax, column='time', bins=12, color = 'r')"
   ],
   "metadata": {
    "collapsed": false,
    "ExecuteTime": {
     "end_time": "2024-07-19T13:28:37.996413Z",
     "start_time": "2024-07-19T13:28:37.496765Z"
    }
   },
   "id": "ca9d7ef52f37c305",
   "execution_count": 93
  },
  {
   "cell_type": "code",
   "outputs": [
    {
     "data": {
      "text/plain": "<Figure size 640x480 with 1 Axes>",
      "image/png": "[encoded data removed]"
     },
     "metadata": {},
     "output_type": "display_data"
    }
   ],
   "source": [
    "plt.hist([df_extr0409_15[(df_extr0409_15.sbpr==15)& (df_extr0409_15.data == True)].time.dt.hour,df_extr0409_15[(df_extr0409_15.sbpr==15)& (df_extr0409_15.data == False)].time.dt.hour], histtype='step', stacked=True, fill=False, bins = 48, color = ['red', 'lime'],  label = ['in om', 'not in  om'])\n",
    "plt.legend(loc = 'best')\n",
    "plt.xlabel('time, hour')\n",
    "plt.xticks(range(25))\n",
    "plt.ylabel('Number of impressions')\n",
    "plt.title('Impressions in \"om\" and not')\n",
    "plt.show()"
   ],
   "metadata": {
    "collapsed": false,
    "ExecuteTime": {
     "end_time": "2024-07-19T13:49:44.980199Z",
     "start_time": "2024-07-19T13:49:43.575222Z"
    }
   },
   "id": "c528839d738de28b",
   "execution_count": 108
  },
  {
   "cell_type": "markdown",
   "source": [
    "start cleaning categories"
   ],
   "metadata": {
    "collapsed": false
   },
   "id": "35bce667b0a17388"
  },
  {
   "cell_type": "code",
   "outputs": [
    {
     "data": {
      "text/plain": "array([nan, 'en', 'es', 'english', 'en_us', 'ru', 'zh', 'ko',\n       'english, japanese', 'mandarin, cantonese, english', 'th', 'ja',\n       'japanese', 'yue'], dtype=object)"
     },
     "execution_count": 222,
     "metadata": {},
     "output_type": "execute_result"
    }
   ],
   "source": [
    "df_extr0409_15.language = df_extr0409_15.language.str.lower().str.replace('-', \"_\").str.replace('\\[[^\\]]*\\]', 'NaN', regex=True).replace('NaN', np.nan)\n",
    "df_extr0409_15.language.unique()"
   ],
   "metadata": {
    "collapsed": false,
    "ExecuteTime": {
     "end_time": "2024-06-09T13:47:32.115743Z",
     "start_time": "2024-06-09T13:47:30.421249Z"
    }
   },
   "id": "3513102bd46a771f",
   "execution_count": 222
  },
  {
   "cell_type": "code",
   "outputs": [
    {
     "data": {
      "text/plain": "language\nen                              0.996388\nes                              0.002437\nenglish                         0.000753\nzh                              0.000191\nen_us                           0.000177\nko                              0.000025\nja                              0.000012\nth                              0.000007\nmandarin, cantonese, english    0.000003\nyue                             0.000003\nru                              0.000001\nenglish, japanese               0.000001\njapanese                        0.000001\nName: proportion, dtype: float64"
     },
     "execution_count": 223,
     "metadata": {},
     "output_type": "execute_result"
    }
   ],
   "source": [
    "df_extr0409_15.language.value_counts(normalize=True)"
   ],
   "metadata": {
    "collapsed": false,
    "ExecuteTime": {
     "end_time": "2024-06-09T13:51:55.969945Z",
     "start_time": "2024-06-09T13:51:55.934658Z"
    }
   },
   "id": "b2b086026597d33c",
   "execution_count": 223
  },
  {
   "cell_type": "code",
   "outputs": [],
   "source": [
    "df_extr0409_15.drop('language', axis=1, inplace=True)"
   ],
   "metadata": {
    "collapsed": false,
    "ExecuteTime": {
     "end_time": "2024-06-09T13:54:29.795879Z",
     "start_time": "2024-06-09T13:54:29.407391Z"
    }
   },
   "id": "8588317d97123520",
   "execution_count": 224
  },
  {
   "cell_type": "code",
   "outputs": [
    {
     "data": {
      "text/plain": "app_id\n711667    5.000076e-01\n711665    3.807649e-01\n726329    4.550793e-02\n635564    2.262096e-02\n623265    7.431532e-03\n              ...     \n723588    8.499007e-07\n678654    8.499007e-07\n709722    8.499007e-07\n659536    8.499007e-07\n625512    8.499007e-07\nName: proportion, Length: 411, dtype: float64"
     },
     "execution_count": 225,
     "metadata": {},
     "output_type": "execute_result"
    }
   ],
   "source": [
    "df_extr0409_15.app_id.value_counts(normalize=True)"
   ],
   "metadata": {
    "collapsed": false,
    "ExecuteTime": {
     "end_time": "2024-06-09T13:57:45.608524Z",
     "start_time": "2024-06-09T13:57:45.590700Z"
    }
   },
   "id": "f7b08de59373946e",
   "execution_count": 225
  },
  {
   "cell_type": "code",
   "outputs": [],
   "source": [
    "def clean_app_id(df, cut_off=0.01):\n",
    "    ids = df.app_id.value_counts(normalize=True) >= cut_off\n",
    "    labels = ids[ids].index\n",
    "    def clean_app_id(row,labels):\n",
    "        if row in labels:\n",
    "            return row\n",
    "        else: \n",
    "            return 'other_id'\n",
    "    df.app_id = df.app_id.apply(clean_app_id, args = (labels,))\n",
    "    return df"
   ],
   "metadata": {
    "collapsed": false,
    "ExecuteTime": {
     "end_time": "2024-06-09T14:04:55.226485Z",
     "start_time": "2024-06-09T14:04:55.136773Z"
    }
   },
   "id": "f2612ae7be667dff",
   "execution_count": 226
  },
  {
   "cell_type": "code",
   "outputs": [
    {
     "data": {
      "text/plain": "           sbpr                                    id  minduration  \\\n0     15.000000  51821639-48a2-447b-b5de-aee0beb878bd            1   \n1     15.000000  5aa54938-a3a7-447b-b6cf-14b43764f8e3            1   \n2     15.000000  37b89a1e-e9e3-4697-a7f9-e20f0906fd30            1   \n3     16.500000  ee6d522b-838e-4ecd-bb10-71637c4b0505            1   \n4     15.000000  97253b20-00e5-445c-90c0-8cdf19da12c6            1   \n...         ...                                   ...          ...   \n6683  15.000000  2ac8cea8-7284-4649-adb1-572cb89e5142            1   \n6684  15.220674  4094145f-1bcb-46e5-8f14-6f26ab8a1fdd            1   \n6685  15.600000  1d33c229-9c0c-4efd-ad20-c609d486a78e            1   \n6686  15.000000  77df0a7c-89a8-4327-b27f-f535483741b3            1   \n6687  15.000000  03951cba-c2cf-481b-aee5-c92956c21181            1   \n\n      maxduration  minbitrate  maxbitrate    app_id  \\\n0             120           1      280000  other_id   \n1             120           1      280000    711665   \n2             120           1      280000    726329   \n3              70           1      280000    711667   \n4              70           1      280000    711667   \n...           ...         ...         ...       ...   \n6683           70           1      280000    711667   \n6684          120           1      280000    711665   \n6685           70           1      280000    711665   \n6686           70           1      280000    711667   \n6687          120           1      280000    711665   \n\n                            app_name    app_bundle app_pub_id          genre  \\\n0                               plex  g15147002586       1034  entertainment   \n1     sling: live tv, shows & movies     com.sling       1034            NaN   \n2                               plex  g15147002586       1034  entertainment   \n3     fubotv: watch live sports & tv     905401434       1034            NaN   \n4     fubotv: watch live sports & tv     905401434       1034            NaN   \n...                              ...           ...        ...            ...   \n6683                          fubotv    b019dchdzk       1034            NaN   \n6684                            plex     383457673       1034            NaN   \n6685                          fubotv    b019dchdzk       1034            NaN   \n6686                          fubotv    b019dchdzk       1034            NaN   \n6687                            xumo         96065       1034            NaN   \n\n     device_make          device_model device_os geo_region geo_metro  \\\n0        samsung              tizen tv     tizen         sc       546   \n1        generic    generic android tv   android         oh       NaN   \n2        samsung              tizen tv     tizen         tn       691   \n3          apple              tv a1625     other         ga       524   \n4          apple              tv a1625     other         ga       524   \n...          ...                   ...       ...        ...       ...   \n6683     unknown                 aftmm   fire os         nj       501   \n6684       apple              tv a1625     other         tx       623   \n6685      amazon                aftsss   fire os         hi       744   \n6686      amazon                  aftt   fire os         nc       NaN   \n6687        roku  digital video player   roku os         sc       546   \n\n          tod   data  \n0       night  False  \n1       night  False  \n2       night  False  \n3       night  False  \n4       night  False  \n...       ...    ...  \n6683  evening  False  \n6684  evening  False  \n6685  evening  False  \n6686  evening   True  \n6687  evening  False  \n\n[1176608 rows x 18 columns]",
      "text/html": "<div>\n<style scoped>\n    .dataframe tbody tr th:only-of-type {\n        vertical-align: middle;\n    }\n\n    .dataframe tbody tr th {\n        vertical-align: top;\n    }\n\n    .dataframe thead th {\n        text-align: right;\n    }\n</style>\n<table border=\"1\" class=\"dataframe\">\n  <thead>\n    <tr style=\"text-align: right;\">\n      <th></th>\n      <th>sbpr</th>\n      <th>id</th>\n      <th>minduration</th>\n      <th>maxduration</th>\n      <th>minbitrate</th>\n      <th>maxbitrate</th>\n      <th>app_id</th>\n      <th>app_name</th>\n      <th>app_bundle</th>\n      <th>app_pub_id</th>\n      <th>genre</th>\n      <th>device_make</th>\n      <th>device_model</th>\n      <th>device_os</th>\n      <th>geo_region</th>\n      <th>geo_metro</th>\n      <th>tod</th>\n      <th>data</th>\n    </tr>\n  </thead>\n  <tbody>\n    <tr>\n      <th>0</th>\n      <td>15.000000</td>\n      <td>51821639-48a2-447b-b5de-aee0beb878bd</td>\n      <td>1</td>\n      <td>120</td>\n      <td>1</td>\n      <td>280000</td>\n      <td>other_id</td>\n      <td>plex</td>\n      <td>g15147002586</td>\n      <td>1034</td>\n      <td>entertainment</td>\n      <td>samsung</td>\n      <td>tizen tv</td>\n      <td>tizen</td>\n      <td>sc</td>\n      <td>546</td>\n      <td>night</td>\n      <td>False</td>\n    </tr>\n    <tr>\n      <th>1</th>\n      <td>15.000000</td>\n      <td>5aa54938-a3a7-447b-b6cf-14b43764f8e3</td>\n      <td>1</td>\n      <td>120</td>\n      <td>1</td>\n      <td>280000</td>\n      <td>711665</td>\n      <td>sling: live tv, shows &amp; movies</td>\n      <td>com.sling</td>\n      <td>1034</td>\n      <td>NaN</td>\n      <td>generic</td>\n      <td>generic android tv</td>\n      <td>android</td>\n      <td>oh</td>\n      <td>NaN</td>\n      <td>night</td>\n      <td>False</td>\n    </tr>\n    <tr>\n      <th>2</th>\n      <td>15.000000</td>\n      <td>37b89a1e-e9e3-4697-a7f9-e20f0906fd30</td>\n      <td>1</td>\n      <td>120</td>\n      <td>1</td>\n      <td>280000</td>\n      <td>726329</td>\n      <td>plex</td>\n      <td>g15147002586</td>\n      <td>1034</td>\n      <td>entertainment</td>\n      <td>samsung</td>\n      <td>tizen tv</td>\n      <td>tizen</td>\n      <td>tn</td>\n      <td>691</td>\n      <td>night</td>\n      <td>False</td>\n    </tr>\n    <tr>\n      <th>3</th>\n      <td>16.500000</td>\n      <td>ee6d522b-838e-4ecd-bb10-71637c4b0505</td>\n      <td>1</td>\n      <td>70</td>\n      <td>1</td>\n      <td>280000</td>\n      <td>711667</td>\n      <td>fubotv: watch live sports &amp; tv</td>\n      <td>905401434</td>\n      <td>1034</td>\n      <td>NaN</td>\n      <td>apple</td>\n      <td>tv a1625</td>\n      <td>other</td>\n      <td>ga</td>\n      <td>524</td>\n      <td>night</td>\n      <td>False</td>\n    </tr>\n    <tr>\n      <th>4</th>\n      <td>15.000000</td>\n      <td>97253b20-00e5-445c-90c0-8cdf19da12c6</td>\n      <td>1</td>\n      <td>70</td>\n      <td>1</td>\n      <td>280000</td>\n      <td>711667</td>\n      <td>fubotv: watch live sports &amp; tv</td>\n      <td>905401434</td>\n      <td>1034</td>\n      <td>NaN</td>\n      <td>apple</td>\n      <td>tv a1625</td>\n      <td>other</td>\n      <td>ga</td>\n      <td>524</td>\n      <td>night</td>\n      <td>False</td>\n    </tr>\n    <tr>\n      <th>...</th>\n      <td>...</td>\n      <td>...</td>\n      <td>...</td>\n      <td>...</td>\n      <td>...</td>\n      <td>...</td>\n      <td>...</td>\n      <td>...</td>\n      <td>...</td>\n      <td>...</td>\n      <td>...</td>\n      <td>...</td>\n      <td>...</td>\n      <td>...</td>\n      <td>...</td>\n      <td>...</td>\n      <td>...</td>\n      <td>...</td>\n    </tr>\n    <tr>\n      <th>6683</th>\n      <td>15.000000</td>\n      <td>2ac8cea8-7284-4649-adb1-572cb89e5142</td>\n      <td>1</td>\n      <td>70</td>\n      <td>1</td>\n      <td>280000</td>\n      <td>711667</td>\n      <td>fubotv</td>\n      <td>b019dchdzk</td>\n      <td>1034</td>\n      <td>NaN</td>\n      <td>unknown</td>\n      <td>aftmm</td>\n      <td>fire os</td>\n      <td>nj</td>\n      <td>501</td>\n      <td>evening</td>\n      <td>False</td>\n    </tr>\n    <tr>\n      <th>6684</th>\n      <td>15.220674</td>\n      <td>4094145f-1bcb-46e5-8f14-6f26ab8a1fdd</td>\n      <td>1</td>\n      <td>120</td>\n      <td>1</td>\n      <td>280000</td>\n      <td>711665</td>\n      <td>plex</td>\n      <td>383457673</td>\n      <td>1034</td>\n      <td>NaN</td>\n      <td>apple</td>\n      <td>tv a1625</td>\n      <td>other</td>\n      <td>tx</td>\n      <td>623</td>\n      <td>evening</td>\n      <td>False</td>\n    </tr>\n    <tr>\n      <th>6685</th>\n      <td>15.600000</td>\n      <td>1d33c229-9c0c-4efd-ad20-c609d486a78e</td>\n      <td>1</td>\n      <td>70</td>\n      <td>1</td>\n      <td>280000</td>\n      <td>711665</td>\n      <td>fubotv</td>\n      <td>b019dchdzk</td>\n      <td>1034</td>\n      <td>NaN</td>\n      <td>amazon</td>\n      <td>aftsss</td>\n      <td>fire os</td>\n      <td>hi</td>\n      <td>744</td>\n      <td>evening</td>\n      <td>False</td>\n    </tr>\n    <tr>\n      <th>6686</th>\n      <td>15.000000</td>\n      <td>77df0a7c-89a8-4327-b27f-f535483741b3</td>\n      <td>1</td>\n      <td>70</td>\n      <td>1</td>\n      <td>280000</td>\n      <td>711667</td>\n      <td>fubotv</td>\n      <td>b019dchdzk</td>\n      <td>1034</td>\n      <td>NaN</td>\n      <td>amazon</td>\n      <td>aftt</td>\n      <td>fire os</td>\n      <td>nc</td>\n      <td>NaN</td>\n      <td>evening</td>\n      <td>True</td>\n    </tr>\n    <tr>\n      <th>6687</th>\n      <td>15.000000</td>\n      <td>03951cba-c2cf-481b-aee5-c92956c21181</td>\n      <td>1</td>\n      <td>120</td>\n      <td>1</td>\n      <td>280000</td>\n      <td>711665</td>\n      <td>xumo</td>\n      <td>96065</td>\n      <td>1034</td>\n      <td>NaN</td>\n      <td>roku</td>\n      <td>digital video player</td>\n      <td>roku os</td>\n      <td>sc</td>\n      <td>546</td>\n      <td>evening</td>\n      <td>False</td>\n    </tr>\n  </tbody>\n</table>\n<p>1176608 rows × 18 columns</p>\n</div>"
     },
     "execution_count": 227,
     "metadata": {},
     "output_type": "execute_result"
    }
   ],
   "source": [
    "clean_app_id(df_extr0409_15)"
   ],
   "metadata": {
    "collapsed": false,
    "ExecuteTime": {
     "end_time": "2024-06-09T14:05:14.036946Z",
     "start_time": "2024-06-09T14:05:12.545191Z"
    }
   },
   "id": "ba964148ff5a3487",
   "execution_count": 227
  },
  {
   "cell_type": "code",
   "outputs": [
    {
     "data": {
      "text/plain": "app_name\nfubotv                            2.272347e-01\nplex                              1.451037e-01\nxumo                              1.183439e-01\nfubotv: watch live sports & tv    1.171903e-01\nsling: live tv, shows & movies    9.651820e-02\n                                      ...     \nwzmq 19                           8.501110e-07\n21 alive news                     8.501110e-07\n23 news to go                     8.501110e-07\nabc-7 kvia.com                    8.501110e-07\nwrdw news 12 | wagt nbc 26        8.501110e-07\nName: proportion, Length: 233, dtype: float64"
     },
     "execution_count": 228,
     "metadata": {},
     "output_type": "execute_result"
    }
   ],
   "source": [
    "df_extr0409_15.app_name.value_counts(normalize=True)"
   ],
   "metadata": {
    "collapsed": false,
    "ExecuteTime": {
     "end_time": "2024-06-09T14:14:13.939338Z",
     "start_time": "2024-06-09T14:14:13.781465Z"
    }
   },
   "id": "cb520da2dc37734a",
   "execution_count": 228
  },
  {
   "cell_type": "code",
   "outputs": [],
   "source": [
    "def clean_app_name(row):\n",
    "    if type(row) == float:\n",
    "        return 'other_name'\n",
    "    if 'fubo' in row:\n",
    "        return 'fubo'\n",
    "    if 'xumo' in row:\n",
    "        return 'xumo'\n",
    "    if 'news' in row:\n",
    "        return 'news'\n",
    "    if 'sling' in row:\n",
    "        return 'sling'\n",
    "    if 'samsung' in row:\n",
    "        return 'samsung tv'\n",
    "    if 'fox' in row:\n",
    "        return 'fox tv'\n",
    "    if 'pluto' in row: \n",
    "        return 'pluto tv'\n",
    "    if 'weather' in row:\n",
    "        return 'weather tv'\n",
    "    if 'plex' in row:\n",
    "        return 'plex'\n",
    "    if 'cbs' in row:\n",
    "        return 'cbs tv'\n",
    "    if 'lg' in row :\n",
    "        return 'lg tv'\n",
    "    if 'wisc' in row:\n",
    "        return 'wisc tv'\n",
    "    if 'stirr' in row:\n",
    "        return 'stirr tv'\n",
    "    if 'kavu' in row:\n",
    "        return 'kavu tv'\n",
    "    if 'frndly' in row:\n",
    "        return 'frndly tv'\n",
    "    if 'live' in row:\n",
    "        return 'live tv'\n",
    "    if 'wlbt' in row:\n",
    "        return 'wlbt tv'\n",
    "    if 'lg' in row:\n",
    "        return 'lg tv'\n",
    "    if 'wafb' in row:\n",
    "        return 'wafb tv'\n",
    "    if 'wfsb' in row:\n",
    "        return 'wfsb tv'\n",
    "    if 'wabi' in row:\n",
    "        return 'wabi tv'\n",
    "    else: return row"
   ],
   "metadata": {
    "collapsed": false,
    "ExecuteTime": {
     "end_time": "2024-06-09T14:20:47.707487Z",
     "start_time": "2024-06-09T14:20:47.526472Z"
    }
   },
   "id": "e5e9b9dfb95c6d48",
   "execution_count": 229
  },
  {
   "cell_type": "code",
   "outputs": [],
   "source": [
    "df_extr0409_15.app_name = df_extr0409_15.app_name.apply(clean_app_name)"
   ],
   "metadata": {
    "collapsed": false,
    "ExecuteTime": {
     "end_time": "2024-06-09T14:21:25.609652Z",
     "start_time": "2024-06-09T14:21:25.255914Z"
    }
   },
   "id": "bdc1e51949ce26f2",
   "execution_count": 230
  },
  {
   "cell_type": "code",
   "outputs": [
    {
     "data": {
      "text/plain": "app_bundle\nb019dchdzk      2.240157e-01\n96065           1.236549e-01\n905401434       1.177113e-01\ng15147002586    1.093454e-01\ncom.sling       1.021423e-01\n                    ...     \nb06y4z1l62      8.499318e-07\n449395459       8.499318e-07\n420526286       8.499318e-07\n699789          8.499318e-07\nb00v3utycg      8.499318e-07\nName: proportion, Length: 319, dtype: float64"
     },
     "execution_count": 231,
     "metadata": {},
     "output_type": "execute_result"
    }
   ],
   "source": [
    "bun_val = df_extr0409_15.app_bundle.value_counts(normalize=True)\n",
    "bun_val"
   ],
   "metadata": {
    "collapsed": false,
    "ExecuteTime": {
     "end_time": "2024-06-09T14:49:32.938215Z",
     "start_time": "2024-06-09T14:49:32.824661Z"
    }
   },
   "id": "53aaa52d48178612",
   "execution_count": 231
  },
  {
   "cell_type": "code",
   "outputs": [],
   "source": [
    "def app_bundle_clean(df, cut_off=0.01):\n",
    "    ids = df.app_bundle.value_counts(normalize=True) >= cut_off\n",
    "    labels = ids[ids].index\n",
    "    def clean_app_bundle(row,labels):\n",
    "        if row in labels:\n",
    "            return row\n",
    "        else: \n",
    "            return 'other_bundle'\n",
    "    df.app_bundle = df.app_bundle.apply(clean_app_bundle, args = (labels,))\n",
    "    return df"
   ],
   "metadata": {
    "collapsed": false,
    "ExecuteTime": {
     "end_time": "2024-06-09T18:04:44.099312Z",
     "start_time": "2024-06-09T18:04:44.061543Z"
    }
   },
   "id": "73cf5cbf5b5119c",
   "execution_count": 233
  },
  {
   "cell_type": "code",
   "outputs": [
    {
     "data": {
      "text/plain": "           sbpr                                    id  minduration  \\\n0     15.000000  51821639-48a2-447b-b5de-aee0beb878bd            1   \n1     15.000000  5aa54938-a3a7-447b-b6cf-14b43764f8e3            1   \n2     15.000000  37b89a1e-e9e3-4697-a7f9-e20f0906fd30            1   \n3     16.500000  ee6d522b-838e-4ecd-bb10-71637c4b0505            1   \n4     15.000000  97253b20-00e5-445c-90c0-8cdf19da12c6            1   \n...         ...                                   ...          ...   \n6683  15.000000  2ac8cea8-7284-4649-adb1-572cb89e5142            1   \n6684  15.220674  4094145f-1bcb-46e5-8f14-6f26ab8a1fdd            1   \n6685  15.600000  1d33c229-9c0c-4efd-ad20-c609d486a78e            1   \n6686  15.000000  77df0a7c-89a8-4327-b27f-f535483741b3            1   \n6687  15.000000  03951cba-c2cf-481b-aee5-c92956c21181            1   \n\n      maxduration  minbitrate  maxbitrate    app_id app_name    app_bundle  \\\n0             120           1      280000  other_id     plex  g15147002586   \n1             120           1      280000    711665    sling     com.sling   \n2             120           1      280000    726329     plex  g15147002586   \n3              70           1      280000    711667     fubo     905401434   \n4              70           1      280000    711667     fubo     905401434   \n...           ...         ...         ...       ...      ...           ...   \n6683           70           1      280000    711667     fubo    b019dchdzk   \n6684          120           1      280000    711665     plex     383457673   \n6685           70           1      280000    711665     fubo    b019dchdzk   \n6686           70           1      280000    711667     fubo    b019dchdzk   \n6687          120           1      280000    711665     xumo         96065   \n\n     app_pub_id          genre device_make          device_model device_os  \\\n0          1034  entertainment     samsung              tizen tv     tizen   \n1          1034            NaN     generic    generic android tv   android   \n2          1034  entertainment     samsung              tizen tv     tizen   \n3          1034            NaN       apple              tv a1625     other   \n4          1034            NaN       apple              tv a1625     other   \n...         ...            ...         ...                   ...       ...   \n6683       1034            NaN     unknown                 aftmm   fire os   \n6684       1034            NaN       apple              tv a1625     other   \n6685       1034            NaN      amazon                aftsss   fire os   \n6686       1034            NaN      amazon                  aftt   fire os   \n6687       1034            NaN        roku  digital video player   roku os   \n\n     geo_region geo_metro      tod   data  \n0            sc       546    night  False  \n1            oh       NaN    night  False  \n2            tn       691    night  False  \n3            ga       524    night  False  \n4            ga       524    night  False  \n...         ...       ...      ...    ...  \n6683         nj       501  evening  False  \n6684         tx       623  evening  False  \n6685         hi       744  evening  False  \n6686         nc       NaN  evening   True  \n6687         sc       546  evening  False  \n\n[1176608 rows x 18 columns]",
      "text/html": "<div>\n<style scoped>\n    .dataframe tbody tr th:only-of-type {\n        vertical-align: middle;\n    }\n\n    .dataframe tbody tr th {\n        vertical-align: top;\n    }\n\n    .dataframe thead th {\n        text-align: right;\n    }\n</style>\n<table border=\"1\" class=\"dataframe\">\n  <thead>\n    <tr style=\"text-align: right;\">\n      <th></th>\n      <th>sbpr</th>\n      <th>id</th>\n      <th>minduration</th>\n      <th>maxduration</th>\n      <th>minbitrate</th>\n      <th>maxbitrate</th>\n      <th>app_id</th>\n      <th>app_name</th>\n      <th>app_bundle</th>\n      <th>app_pub_id</th>\n      <th>genre</th>\n      <th>device_make</th>\n      <th>device_model</th>\n      <th>device_os</th>\n      <th>geo_region</th>\n      <th>geo_metro</th>\n      <th>tod</th>\n      <th>data</th>\n    </tr>\n  </thead>\n  <tbody>\n    <tr>\n      <th>0</th>\n      <td>15.000000</td>\n      <td>51821639-48a2-447b-b5de-aee0beb878bd</td>\n      <td>1</td>\n      <td>120</td>\n      <td>1</td>\n      <td>280000</td>\n      <td>other_id</td>\n      <td>plex</td>\n      <td>g15147002586</td>\n      <td>1034</td>\n      <td>entertainment</td>\n      <td>samsung</td>\n      <td>tizen tv</td>\n      <td>tizen</td>\n      <td>sc</td>\n      <td>546</td>\n      <td>night</td>\n      <td>False</td>\n    </tr>\n    <tr>\n      <th>1</th>\n      <td>15.000000</td>\n      <td>5aa54938-a3a7-447b-b6cf-14b43764f8e3</td>\n      <td>1</td>\n      <td>120</td>\n      <td>1</td>\n      <td>280000</td>\n      <td>711665</td>\n      <td>sling</td>\n      <td>com.sling</td>\n      <td>1034</td>\n      <td>NaN</td>\n      <td>generic</td>\n      <td>generic android tv</td>\n      <td>android</td>\n      <td>oh</td>\n      <td>NaN</td>\n      <td>night</td>\n      <td>False</td>\n    </tr>\n    <tr>\n      <th>2</th>\n      <td>15.000000</td>\n      <td>37b89a1e-e9e3-4697-a7f9-e20f0906fd30</td>\n      <td>1</td>\n      <td>120</td>\n      <td>1</td>\n      <td>280000</td>\n      <td>726329</td>\n      <td>plex</td>\n      <td>g15147002586</td>\n      <td>1034</td>\n      <td>entertainment</td>\n      <td>samsung</td>\n      <td>tizen tv</td>\n      <td>tizen</td>\n      <td>tn</td>\n      <td>691</td>\n      <td>night</td>\n      <td>False</td>\n    </tr>\n    <tr>\n      <th>3</th>\n      <td>16.500000</td>\n      <td>ee6d522b-838e-4ecd-bb10-71637c4b0505</td>\n      <td>1</td>\n      <td>70</td>\n      <td>1</td>\n      <td>280000</td>\n      <td>711667</td>\n      <td>fubo</td>\n      <td>905401434</td>\n      <td>1034</td>\n      <td>NaN</td>\n      <td>apple</td>\n      <td>tv a1625</td>\n      <td>other</td>\n      <td>ga</td>\n      <td>524</td>\n      <td>night</td>\n      <td>False</td>\n    </tr>\n    <tr>\n      <th>4</th>\n      <td>15.000000</td>\n      <td>97253b20-00e5-445c-90c0-8cdf19da12c6</td>\n      <td>1</td>\n      <td>70</td>\n      <td>1</td>\n      <td>280000</td>\n      <td>711667</td>\n      <td>fubo</td>\n      <td>905401434</td>\n      <td>1034</td>\n      <td>NaN</td>\n      <td>apple</td>\n      <td>tv a1625</td>\n      <td>other</td>\n      <td>ga</td>\n      <td>524</td>\n      <td>night</td>\n      <td>False</td>\n    </tr>\n    <tr>\n      <th>...</th>\n      <td>...</td>\n      <td>...</td>\n      <td>...</td>\n      <td>...</td>\n      <td>...</td>\n      <td>...</td>\n      <td>...</td>\n      <td>...</td>\n      <td>...</td>\n      <td>...</td>\n      <td>...</td>\n      <td>...</td>\n      <td>...</td>\n      <td>...</td>\n      <td>...</td>\n      <td>...</td>\n      <td>...</td>\n      <td>...</td>\n    </tr>\n    <tr>\n      <th>6683</th>\n      <td>15.000000</td>\n      <td>2ac8cea8-7284-4649-adb1-572cb89e5142</td>\n      <td>1</td>\n      <td>70</td>\n      <td>1</td>\n      <td>280000</td>\n      <td>711667</td>\n      <td>fubo</td>\n      <td>b019dchdzk</td>\n      <td>1034</td>\n      <td>NaN</td>\n      <td>unknown</td>\n      <td>aftmm</td>\n      <td>fire os</td>\n      <td>nj</td>\n      <td>501</td>\n      <td>evening</td>\n      <td>False</td>\n    </tr>\n    <tr>\n      <th>6684</th>\n      <td>15.220674</td>\n      <td>4094145f-1bcb-46e5-8f14-6f26ab8a1fdd</td>\n      <td>1</td>\n      <td>120</td>\n      <td>1</td>\n      <td>280000</td>\n      <td>711665</td>\n      <td>plex</td>\n      <td>383457673</td>\n      <td>1034</td>\n      <td>NaN</td>\n      <td>apple</td>\n      <td>tv a1625</td>\n      <td>other</td>\n      <td>tx</td>\n      <td>623</td>\n      <td>evening</td>\n      <td>False</td>\n    </tr>\n    <tr>\n      <th>6685</th>\n      <td>15.600000</td>\n      <td>1d33c229-9c0c-4efd-ad20-c609d486a78e</td>\n      <td>1</td>\n      <td>70</td>\n      <td>1</td>\n      <td>280000</td>\n      <td>711665</td>\n      <td>fubo</td>\n      <td>b019dchdzk</td>\n      <td>1034</td>\n      <td>NaN</td>\n      <td>amazon</td>\n      <td>aftsss</td>\n      <td>fire os</td>\n      <td>hi</td>\n      <td>744</td>\n      <td>evening</td>\n      <td>False</td>\n    </tr>\n    <tr>\n      <th>6686</th>\n      <td>15.000000</td>\n      <td>77df0a7c-89a8-4327-b27f-f535483741b3</td>\n      <td>1</td>\n      <td>70</td>\n      <td>1</td>\n      <td>280000</td>\n      <td>711667</td>\n      <td>fubo</td>\n      <td>b019dchdzk</td>\n      <td>1034</td>\n      <td>NaN</td>\n      <td>amazon</td>\n      <td>aftt</td>\n      <td>fire os</td>\n      <td>nc</td>\n      <td>NaN</td>\n      <td>evening</td>\n      <td>True</td>\n    </tr>\n    <tr>\n      <th>6687</th>\n      <td>15.000000</td>\n      <td>03951cba-c2cf-481b-aee5-c92956c21181</td>\n      <td>1</td>\n      <td>120</td>\n      <td>1</td>\n      <td>280000</td>\n      <td>711665</td>\n      <td>xumo</td>\n      <td>96065</td>\n      <td>1034</td>\n      <td>NaN</td>\n      <td>roku</td>\n      <td>digital video player</td>\n      <td>roku os</td>\n      <td>sc</td>\n      <td>546</td>\n      <td>evening</td>\n      <td>False</td>\n    </tr>\n  </tbody>\n</table>\n<p>1176608 rows × 18 columns</p>\n</div>"
     },
     "execution_count": 234,
     "metadata": {},
     "output_type": "execute_result"
    }
   ],
   "source": [
    "app_bundle_clean(df_extr0409_15)"
   ],
   "metadata": {
    "collapsed": false,
    "ExecuteTime": {
     "end_time": "2024-06-09T18:05:15.957042Z",
     "start_time": "2024-06-09T18:05:14.800858Z"
    }
   },
   "id": "d19d42443a398670",
   "execution_count": 234
  },
  {
   "cell_type": "code",
   "outputs": [
    {
     "data": {
      "text/plain": "app_pub_id\n1034    0.934937\n1024    0.026277\n1077    0.016351\n1043    0.010268\n1112    0.007813\n1009    0.002716\n1261    0.001565\n1109    0.000059\n1270    0.000014\nName: proportion, dtype: float64"
     },
     "execution_count": 236,
     "metadata": {},
     "output_type": "execute_result"
    }
   ],
   "source": [
    "app_pub = df_extr0409_15.app_pub_id.value_counts(normalize=True)\n",
    "app_pub"
   ],
   "metadata": {
    "collapsed": false,
    "ExecuteTime": {
     "end_time": "2024-06-09T18:07:45.579110Z",
     "start_time": "2024-06-09T18:07:45.568764Z"
    }
   },
   "id": "887dc4ac3c41fb83",
   "execution_count": 236
  },
  {
   "cell_type": "code",
   "outputs": [],
   "source": [
    "def app_pub_clean(df, cut_off=0.001):\n",
    "    ids = df.app_pub_id.value_counts(normalize=True) >= cut_off\n",
    "    labels = ids[ids].index\n",
    "    def clean_app_pub(row,labels):\n",
    "        if row in labels:\n",
    "            return row\n",
    "        else: \n",
    "            return 'other_pub_id'\n",
    "    df.app_pub_id = df.app_pub_id.apply(clean_app_pub, args = (labels,))\n",
    "    return df"
   ],
   "metadata": {
    "collapsed": false,
    "ExecuteTime": {
     "end_time": "2024-06-09T18:09:42.034845Z",
     "start_time": "2024-06-09T18:09:41.983201Z"
    }
   },
   "id": "7201bc8c8e10c166",
   "execution_count": 237
  },
  {
   "cell_type": "code",
   "outputs": [
    {
     "data": {
      "text/plain": "           sbpr                                    id  minduration  \\\n0     15.000000  51821639-48a2-447b-b5de-aee0beb878bd            1   \n1     15.000000  5aa54938-a3a7-447b-b6cf-14b43764f8e3            1   \n2     15.000000  37b89a1e-e9e3-4697-a7f9-e20f0906fd30            1   \n3     16.500000  ee6d522b-838e-4ecd-bb10-71637c4b0505            1   \n4     15.000000  97253b20-00e5-445c-90c0-8cdf19da12c6            1   \n...         ...                                   ...          ...   \n6683  15.000000  2ac8cea8-7284-4649-adb1-572cb89e5142            1   \n6684  15.220674  4094145f-1bcb-46e5-8f14-6f26ab8a1fdd            1   \n6685  15.600000  1d33c229-9c0c-4efd-ad20-c609d486a78e            1   \n6686  15.000000  77df0a7c-89a8-4327-b27f-f535483741b3            1   \n6687  15.000000  03951cba-c2cf-481b-aee5-c92956c21181            1   \n\n      maxduration  minbitrate  maxbitrate    app_id app_name    app_bundle  \\\n0             120           1      280000  other_id     plex  g15147002586   \n1             120           1      280000    711665    sling     com.sling   \n2             120           1      280000    726329     plex  g15147002586   \n3              70           1      280000    711667     fubo     905401434   \n4              70           1      280000    711667     fubo     905401434   \n...           ...         ...         ...       ...      ...           ...   \n6683           70           1      280000    711667     fubo    b019dchdzk   \n6684          120           1      280000    711665     plex     383457673   \n6685           70           1      280000    711665     fubo    b019dchdzk   \n6686           70           1      280000    711667     fubo    b019dchdzk   \n6687          120           1      280000    711665     xumo         96065   \n\n     app_pub_id          genre device_make          device_model device_os  \\\n0          1034  entertainment     samsung              tizen tv     tizen   \n1          1034            NaN     generic    generic android tv   android   \n2          1034  entertainment     samsung              tizen tv     tizen   \n3          1034            NaN       apple              tv a1625     other   \n4          1034            NaN       apple              tv a1625     other   \n...         ...            ...         ...                   ...       ...   \n6683       1034            NaN     unknown                 aftmm   fire os   \n6684       1034            NaN       apple              tv a1625     other   \n6685       1034            NaN      amazon                aftsss   fire os   \n6686       1034            NaN      amazon                  aftt   fire os   \n6687       1034            NaN        roku  digital video player   roku os   \n\n     geo_region geo_metro      tod   data  \n0            sc       546    night  False  \n1            oh       NaN    night  False  \n2            tn       691    night  False  \n3            ga       524    night  False  \n4            ga       524    night  False  \n...         ...       ...      ...    ...  \n6683         nj       501  evening  False  \n6684         tx       623  evening  False  \n6685         hi       744  evening  False  \n6686         nc       NaN  evening   True  \n6687         sc       546  evening  False  \n\n[1176608 rows x 18 columns]",
      "text/html": "<div>\n<style scoped>\n    .dataframe tbody tr th:only-of-type {\n        vertical-align: middle;\n    }\n\n    .dataframe tbody tr th {\n        vertical-align: top;\n    }\n\n    .dataframe thead th {\n        text-align: right;\n    }\n</style>\n<table border=\"1\" class=\"dataframe\">\n  <thead>\n    <tr style=\"text-align: right;\">\n      <th></th>\n      <th>sbpr</th>\n      <th>id</th>\n      <th>minduration</th>\n      <th>maxduration</th>\n      <th>minbitrate</th>\n      <th>maxbitrate</th>\n      <th>app_id</th>\n      <th>app_name</th>\n      <th>app_bundle</th>\n      <th>app_pub_id</th>\n      <th>genre</th>\n      <th>device_make</th>\n      <th>device_model</th>\n      <th>device_os</th>\n      <th>geo_region</th>\n      <th>geo_metro</th>\n      <th>tod</th>\n      <th>data</th>\n    </tr>\n  </thead>\n  <tbody>\n    <tr>\n      <th>0</th>\n      <td>15.000000</td>\n      <td>51821639-48a2-447b-b5de-aee0beb878bd</td>\n      <td>1</td>\n      <td>120</td>\n      <td>1</td>\n      <td>280000</td>\n      <td>other_id</td>\n      <td>plex</td>\n      <td>g15147002586</td>\n      <td>1034</td>\n      <td>entertainment</td>\n      <td>samsung</td>\n      <td>tizen tv</td>\n      <td>tizen</td>\n      <td>sc</td>\n      <td>546</td>\n      <td>night</td>\n      <td>False</td>\n    </tr>\n    <tr>\n      <th>1</th>\n      <td>15.000000</td>\n      <td>5aa54938-a3a7-447b-b6cf-14b43764f8e3</td>\n      <td>1</td>\n      <td>120</td>\n      <td>1</td>\n      <td>280000</td>\n      <td>711665</td>\n      <td>sling</td>\n      <td>com.sling</td>\n      <td>1034</td>\n      <td>NaN</td>\n      <td>generic</td>\n      <td>generic android tv</td>\n      <td>android</td>\n      <td>oh</td>\n      <td>NaN</td>\n      <td>night</td>\n      <td>False</td>\n    </tr>\n    <tr>\n      <th>2</th>\n      <td>15.000000</td>\n      <td>37b89a1e-e9e3-4697-a7f9-e20f0906fd30</td>\n      <td>1</td>\n      <td>120</td>\n      <td>1</td>\n      <td>280000</td>\n      <td>726329</td>\n      <td>plex</td>\n      <td>g15147002586</td>\n      <td>1034</td>\n      <td>entertainment</td>\n      <td>samsung</td>\n      <td>tizen tv</td>\n      <td>tizen</td>\n      <td>tn</td>\n      <td>691</td>\n      <td>night</td>\n      <td>False</td>\n    </tr>\n    <tr>\n      <th>3</th>\n      <td>16.500000</td>\n      <td>ee6d522b-838e-4ecd-bb10-71637c4b0505</td>\n      <td>1</td>\n      <td>70</td>\n      <td>1</td>\n      <td>280000</td>\n      <td>711667</td>\n      <td>fubo</td>\n      <td>905401434</td>\n      <td>1034</td>\n      <td>NaN</td>\n      <td>apple</td>\n      <td>tv a1625</td>\n      <td>other</td>\n      <td>ga</td>\n      <td>524</td>\n      <td>night</td>\n      <td>False</td>\n    </tr>\n    <tr>\n      <th>4</th>\n      <td>15.000000</td>\n      <td>97253b20-00e5-445c-90c0-8cdf19da12c6</td>\n      <td>1</td>\n      <td>70</td>\n      <td>1</td>\n      <td>280000</td>\n      <td>711667</td>\n      <td>fubo</td>\n      <td>905401434</td>\n      <td>1034</td>\n      <td>NaN</td>\n      <td>apple</td>\n      <td>tv a1625</td>\n      <td>other</td>\n      <td>ga</td>\n      <td>524</td>\n      <td>night</td>\n      <td>False</td>\n    </tr>\n    <tr>\n      <th>...</th>\n      <td>...</td>\n      <td>...</td>\n      <td>...</td>\n      <td>...</td>\n      <td>...</td>\n      <td>...</td>\n      <td>...</td>\n      <td>...</td>\n      <td>...</td>\n      <td>...</td>\n      <td>...</td>\n      <td>...</td>\n      <td>...</td>\n      <td>...</td>\n      <td>...</td>\n      <td>...</td>\n      <td>...</td>\n      <td>...</td>\n    </tr>\n    <tr>\n      <th>6683</th>\n      <td>15.000000</td>\n      <td>2ac8cea8-7284-4649-adb1-572cb89e5142</td>\n      <td>1</td>\n      <td>70</td>\n      <td>1</td>\n      <td>280000</td>\n      <td>711667</td>\n      <td>fubo</td>\n      <td>b019dchdzk</td>\n      <td>1034</td>\n      <td>NaN</td>\n      <td>unknown</td>\n      <td>aftmm</td>\n      <td>fire os</td>\n      <td>nj</td>\n      <td>501</td>\n      <td>evening</td>\n      <td>False</td>\n    </tr>\n    <tr>\n      <th>6684</th>\n      <td>15.220674</td>\n      <td>4094145f-1bcb-46e5-8f14-6f26ab8a1fdd</td>\n      <td>1</td>\n      <td>120</td>\n      <td>1</td>\n      <td>280000</td>\n      <td>711665</td>\n      <td>plex</td>\n      <td>383457673</td>\n      <td>1034</td>\n      <td>NaN</td>\n      <td>apple</td>\n      <td>tv a1625</td>\n      <td>other</td>\n      <td>tx</td>\n      <td>623</td>\n      <td>evening</td>\n      <td>False</td>\n    </tr>\n    <tr>\n      <th>6685</th>\n      <td>15.600000</td>\n      <td>1d33c229-9c0c-4efd-ad20-c609d486a78e</td>\n      <td>1</td>\n      <td>70</td>\n      <td>1</td>\n      <td>280000</td>\n      <td>711665</td>\n      <td>fubo</td>\n      <td>b019dchdzk</td>\n      <td>1034</td>\n      <td>NaN</td>\n      <td>amazon</td>\n      <td>aftsss</td>\n      <td>fire os</td>\n      <td>hi</td>\n      <td>744</td>\n      <td>evening</td>\n      <td>False</td>\n    </tr>\n    <tr>\n      <th>6686</th>\n      <td>15.000000</td>\n      <td>77df0a7c-89a8-4327-b27f-f535483741b3</td>\n      <td>1</td>\n      <td>70</td>\n      <td>1</td>\n      <td>280000</td>\n      <td>711667</td>\n      <td>fubo</td>\n      <td>b019dchdzk</td>\n      <td>1034</td>\n      <td>NaN</td>\n      <td>amazon</td>\n      <td>aftt</td>\n      <td>fire os</td>\n      <td>nc</td>\n      <td>NaN</td>\n      <td>evening</td>\n      <td>True</td>\n    </tr>\n    <tr>\n      <th>6687</th>\n      <td>15.000000</td>\n      <td>03951cba-c2cf-481b-aee5-c92956c21181</td>\n      <td>1</td>\n      <td>120</td>\n      <td>1</td>\n      <td>280000</td>\n      <td>711665</td>\n      <td>xumo</td>\n      <td>96065</td>\n      <td>1034</td>\n      <td>NaN</td>\n      <td>roku</td>\n      <td>digital video player</td>\n      <td>roku os</td>\n      <td>sc</td>\n      <td>546</td>\n      <td>evening</td>\n      <td>False</td>\n    </tr>\n  </tbody>\n</table>\n<p>1176608 rows × 18 columns</p>\n</div>"
     },
     "execution_count": 238,
     "metadata": {},
     "output_type": "execute_result"
    }
   ],
   "source": [
    "app_bundle_clean(df_extr0409_15)"
   ],
   "metadata": {
    "collapsed": false,
    "ExecuteTime": {
     "end_time": "2024-06-09T18:09:58.876938Z",
     "start_time": "2024-06-09T18:09:57.838632Z"
    }
   },
   "id": "eb98f3e684ea4c88",
   "execution_count": 238
  },
  {
   "cell_type": "code",
   "outputs": [
    {
     "data": {
      "text/plain": "genre\nnews                                                    0.266181\nhome and garden,arts,documentary                        0.079191\nentertainment                                           0.061116\nweather                                                 0.041592\naction                                                  0.039671\n                                                          ...   \nmedical                                                 0.000008\noutdoors,preview,sports_stuff                           0.000008\ncomedy,romance,drama,comedy_drama                       0.000008\ngenre_thriller,genre_crime,genre_drama,genre_mystery    0.000008\nother,drama,suspense_thriller                           0.000008\nName: proportion, Length: 1310, dtype: float64"
     },
     "execution_count": 239,
     "metadata": {},
     "output_type": "execute_result"
    }
   ],
   "source": [
    "df_extr0409_15.genre.value_counts(normalize=True)"
   ],
   "metadata": {
    "collapsed": false,
    "ExecuteTime": {
     "end_time": "2024-06-09T18:10:47.788436Z",
     "start_time": "2024-06-09T18:10:47.775112Z"
    }
   },
   "id": "8ac9bf6a1ce10aaf",
   "execution_count": 239
  },
  {
   "cell_type": "code",
   "outputs": [],
   "source": [
    "def cleanup_genre(row):\n",
    "    if type(row) == float: return 'other_genre'\n",
    "    if 'news' in row: return 'news'\n",
    "    if 'talk' in row: return 'talk'\n",
    "    if 'home' in row: return 'home'\n",
    "    if 'documentary' in row: return 'documentary'\n",
    "    if 'weather' in row: return 'weather'\n",
    "    if 'comedy' in row: return 'comedy'\n",
    "    if 'action' in row: return 'action'\n",
    "    if 'sitcom' in row: return 'sitcom'\n",
    "    if 'my city' in row: return 'my city'\n",
    "    if 'drama' in row: return 'drama'\n",
    "    else: return 'other_genre'"
   ],
   "metadata": {
    "collapsed": false,
    "ExecuteTime": {
     "end_time": "2024-06-09T18:17:15.360194Z",
     "start_time": "2024-06-09T18:17:15.080403Z"
    }
   },
   "id": "5e26c352353ee172",
   "execution_count": 240
  },
  {
   "cell_type": "code",
   "outputs": [],
   "source": [
    "df_extr0409_15.genre = df_extr0409_15.genre.apply(cleanup_genre)"
   ],
   "metadata": {
    "collapsed": false,
    "ExecuteTime": {
     "end_time": "2024-06-09T18:17:48.163956Z",
     "start_time": "2024-06-09T18:17:47.976472Z"
    }
   },
   "id": "3cc837b2bc939d5",
   "execution_count": 241
  },
  {
   "cell_type": "code",
   "outputs": [
    {
     "data": {
      "text/plain": "device_make\nroku                        2.072381e-01\nsamsung                     1.905605e-01\namazon                      1.679497e-01\napple                       1.448554e-01\nunknown                     8.241827e-02\n                                ...     \nhkc                         8.499007e-07\n6.3.9                       8.499007e-07\nhikeen_siliconplayer_rca    8.499007e-07\ntoshiba (vidaa)             8.499007e-07\narris                       8.499007e-07\nName: proportion, Length: 82, dtype: float64"
     },
     "execution_count": 242,
     "metadata": {},
     "output_type": "execute_result"
    }
   ],
   "source": [
    "df_extr0409_15.device_make.value_counts(normalize=True)"
   ],
   "metadata": {
    "collapsed": false,
    "ExecuteTime": {
     "end_time": "2024-06-09T18:18:36.414554Z",
     "start_time": "2024-06-09T18:18:36.376457Z"
    }
   },
   "id": "f6432c4b39aefe38",
   "execution_count": 242
  },
  {
   "cell_type": "code",
   "outputs": [],
   "source": [
    "def device_clean(df):\n",
    "    def cleanup_device(row):\n",
    "        if 'samsung' in row: return 'samsung'\n",
    "        if 'apple' in row: return 'apple'\n",
    "        if 'roku' in row: return 'roku'\n",
    "        if 'amazon' in row: return 'amazon' \n",
    "        if 'xiaomi' in row: return 'xiaomi'\n",
    "        if 'lg' in row: return 'lg'\n",
    "        if 'tcl' in row: return 'tcl'\n",
    "        if 'vizio' in row: return 'vizio'\n",
    "        if 'generic' in row: return 'generic'\n",
    "        if 'insignia' in row: return 'insignia'\n",
    "        if 'sony' in row: return 'sony'\n",
    "        if 'toshiba' in row: return 'toshiba'\n",
    "        else: return 'device_unknown'\n",
    "    df.device_make = df.device_make.apply(cleanup_device)\n",
    "    return df"
   ],
   "metadata": {
    "collapsed": false,
    "ExecuteTime": {
     "end_time": "2024-06-09T18:26:52.324967Z",
     "start_time": "2024-06-09T18:26:52.210471Z"
    }
   },
   "id": "6aee74509edc06cc",
   "execution_count": 243
  },
  {
   "cell_type": "code",
   "outputs": [
    {
     "data": {
      "text/plain": "           sbpr                                    id  minduration  \\\n0     15.000000  51821639-48a2-447b-b5de-aee0beb878bd            1   \n1     15.000000  5aa54938-a3a7-447b-b6cf-14b43764f8e3            1   \n2     15.000000  37b89a1e-e9e3-4697-a7f9-e20f0906fd30            1   \n3     16.500000  ee6d522b-838e-4ecd-bb10-71637c4b0505            1   \n4     15.000000  97253b20-00e5-445c-90c0-8cdf19da12c6            1   \n...         ...                                   ...          ...   \n6683  15.000000  2ac8cea8-7284-4649-adb1-572cb89e5142            1   \n6684  15.220674  4094145f-1bcb-46e5-8f14-6f26ab8a1fdd            1   \n6685  15.600000  1d33c229-9c0c-4efd-ad20-c609d486a78e            1   \n6686  15.000000  77df0a7c-89a8-4327-b27f-f535483741b3            1   \n6687  15.000000  03951cba-c2cf-481b-aee5-c92956c21181            1   \n\n      maxduration  minbitrate  maxbitrate    app_id app_name    app_bundle  \\\n0             120           1      280000  other_id     plex  g15147002586   \n1             120           1      280000    711665    sling     com.sling   \n2             120           1      280000    726329     plex  g15147002586   \n3              70           1      280000    711667     fubo     905401434   \n4              70           1      280000    711667     fubo     905401434   \n...           ...         ...         ...       ...      ...           ...   \n6683           70           1      280000    711667     fubo    b019dchdzk   \n6684          120           1      280000    711665     plex     383457673   \n6685           70           1      280000    711665     fubo    b019dchdzk   \n6686           70           1      280000    711667     fubo    b019dchdzk   \n6687          120           1      280000    711665     xumo         96065   \n\n     app_pub_id        genre     device_make          device_model device_os  \\\n0          1034  other_genre         samsung              tizen tv     tizen   \n1          1034  other_genre         generic    generic android tv   android   \n2          1034  other_genre         samsung              tizen tv     tizen   \n3          1034  other_genre           apple              tv a1625     other   \n4          1034  other_genre           apple              tv a1625     other   \n...         ...          ...             ...                   ...       ...   \n6683       1034  other_genre  device_unknown                 aftmm   fire os   \n6684       1034  other_genre           apple              tv a1625     other   \n6685       1034  other_genre          amazon                aftsss   fire os   \n6686       1034  other_genre          amazon                  aftt   fire os   \n6687       1034  other_genre            roku  digital video player   roku os   \n\n     geo_region geo_metro      tod   data  \n0            sc       546    night  False  \n1            oh       NaN    night  False  \n2            tn       691    night  False  \n3            ga       524    night  False  \n4            ga       524    night  False  \n...         ...       ...      ...    ...  \n6683         nj       501  evening  False  \n6684         tx       623  evening  False  \n6685         hi       744  evening  False  \n6686         nc       NaN  evening   True  \n6687         sc       546  evening  False  \n\n[1176608 rows x 18 columns]",
      "text/html": "<div>\n<style scoped>\n    .dataframe tbody tr th:only-of-type {\n        vertical-align: middle;\n    }\n\n    .dataframe tbody tr th {\n        vertical-align: top;\n    }\n\n    .dataframe thead th {\n        text-align: right;\n    }\n</style>\n<table border=\"1\" class=\"dataframe\">\n  <thead>\n    <tr style=\"text-align: right;\">\n      <th></th>\n      <th>sbpr</th>\n      <th>id</th>\n      <th>minduration</th>\n      <th>maxduration</th>\n      <th>minbitrate</th>\n      <th>maxbitrate</th>\n      <th>app_id</th>\n      <th>app_name</th>\n      <th>app_bundle</th>\n      <th>app_pub_id</th>\n      <th>genre</th>\n      <th>device_make</th>\n      <th>device_model</th>\n      <th>device_os</th>\n      <th>geo_region</th>\n      <th>geo_metro</th>\n      <th>tod</th>\n      <th>data</th>\n    </tr>\n  </thead>\n  <tbody>\n    <tr>\n      <th>0</th>\n      <td>15.000000</td>\n      <td>51821639-48a2-447b-b5de-aee0beb878bd</td>\n      <td>1</td>\n      <td>120</td>\n      <td>1</td>\n      <td>280000</td>\n      <td>other_id</td>\n      <td>plex</td>\n      <td>g15147002586</td>\n      <td>1034</td>\n      <td>other_genre</td>\n      <td>samsung</td>\n      <td>tizen tv</td>\n      <td>tizen</td>\n      <td>sc</td>\n      <td>546</td>\n      <td>night</td>\n      <td>False</td>\n    </tr>\n    <tr>\n      <th>1</th>\n      <td>15.000000</td>\n      <td>5aa54938-a3a7-447b-b6cf-14b43764f8e3</td>\n      <td>1</td>\n      <td>120</td>\n      <td>1</td>\n      <td>280000</td>\n      <td>711665</td>\n      <td>sling</td>\n      <td>com.sling</td>\n      <td>1034</td>\n      <td>other_genre</td>\n      <td>generic</td>\n      <td>generic android tv</td>\n      <td>android</td>\n      <td>oh</td>\n      <td>NaN</td>\n      <td>night</td>\n      <td>False</td>\n    </tr>\n    <tr>\n      <th>2</th>\n      <td>15.000000</td>\n      <td>37b89a1e-e9e3-4697-a7f9-e20f0906fd30</td>\n      <td>1</td>\n      <td>120</td>\n      <td>1</td>\n      <td>280000</td>\n      <td>726329</td>\n      <td>plex</td>\n      <td>g15147002586</td>\n      <td>1034</td>\n      <td>other_genre</td>\n      <td>samsung</td>\n      <td>tizen tv</td>\n      <td>tizen</td>\n      <td>tn</td>\n      <td>691</td>\n      <td>night</td>\n      <td>False</td>\n    </tr>\n    <tr>\n      <th>3</th>\n      <td>16.500000</td>\n      <td>ee6d522b-838e-4ecd-bb10-71637c4b0505</td>\n      <td>1</td>\n      <td>70</td>\n      <td>1</td>\n      <td>280000</td>\n      <td>711667</td>\n      <td>fubo</td>\n      <td>905401434</td>\n      <td>1034</td>\n      <td>other_genre</td>\n      <td>apple</td>\n      <td>tv a1625</td>\n      <td>other</td>\n      <td>ga</td>\n      <td>524</td>\n      <td>night</td>\n      <td>False</td>\n    </tr>\n    <tr>\n      <th>4</th>\n      <td>15.000000</td>\n      <td>97253b20-00e5-445c-90c0-8cdf19da12c6</td>\n      <td>1</td>\n      <td>70</td>\n      <td>1</td>\n      <td>280000</td>\n      <td>711667</td>\n      <td>fubo</td>\n      <td>905401434</td>\n      <td>1034</td>\n      <td>other_genre</td>\n      <td>apple</td>\n      <td>tv a1625</td>\n      <td>other</td>\n      <td>ga</td>\n      <td>524</td>\n      <td>night</td>\n      <td>False</td>\n    </tr>\n    <tr>\n      <th>...</th>\n      <td>...</td>\n      <td>...</td>\n      <td>...</td>\n      <td>...</td>\n      <td>...</td>\n      <td>...</td>\n      <td>...</td>\n      <td>...</td>\n      <td>...</td>\n      <td>...</td>\n      <td>...</td>\n      <td>...</td>\n      <td>...</td>\n      <td>...</td>\n      <td>...</td>\n      <td>...</td>\n      <td>...</td>\n      <td>...</td>\n    </tr>\n    <tr>\n      <th>6683</th>\n      <td>15.000000</td>\n      <td>2ac8cea8-7284-4649-adb1-572cb89e5142</td>\n      <td>1</td>\n      <td>70</td>\n      <td>1</td>\n      <td>280000</td>\n      <td>711667</td>\n      <td>fubo</td>\n      <td>b019dchdzk</td>\n      <td>1034</td>\n      <td>other_genre</td>\n      <td>device_unknown</td>\n      <td>aftmm</td>\n      <td>fire os</td>\n      <td>nj</td>\n      <td>501</td>\n      <td>evening</td>\n      <td>False</td>\n    </tr>\n    <tr>\n      <th>6684</th>\n      <td>15.220674</td>\n      <td>4094145f-1bcb-46e5-8f14-6f26ab8a1fdd</td>\n      <td>1</td>\n      <td>120</td>\n      <td>1</td>\n      <td>280000</td>\n      <td>711665</td>\n      <td>plex</td>\n      <td>383457673</td>\n      <td>1034</td>\n      <td>other_genre</td>\n      <td>apple</td>\n      <td>tv a1625</td>\n      <td>other</td>\n      <td>tx</td>\n      <td>623</td>\n      <td>evening</td>\n      <td>False</td>\n    </tr>\n    <tr>\n      <th>6685</th>\n      <td>15.600000</td>\n      <td>1d33c229-9c0c-4efd-ad20-c609d486a78e</td>\n      <td>1</td>\n      <td>70</td>\n      <td>1</td>\n      <td>280000</td>\n      <td>711665</td>\n      <td>fubo</td>\n      <td>b019dchdzk</td>\n      <td>1034</td>\n      <td>other_genre</td>\n      <td>amazon</td>\n      <td>aftsss</td>\n      <td>fire os</td>\n      <td>hi</td>\n      <td>744</td>\n      <td>evening</td>\n      <td>False</td>\n    </tr>\n    <tr>\n      <th>6686</th>\n      <td>15.000000</td>\n      <td>77df0a7c-89a8-4327-b27f-f535483741b3</td>\n      <td>1</td>\n      <td>70</td>\n      <td>1</td>\n      <td>280000</td>\n      <td>711667</td>\n      <td>fubo</td>\n      <td>b019dchdzk</td>\n      <td>1034</td>\n      <td>other_genre</td>\n      <td>amazon</td>\n      <td>aftt</td>\n      <td>fire os</td>\n      <td>nc</td>\n      <td>NaN</td>\n      <td>evening</td>\n      <td>True</td>\n    </tr>\n    <tr>\n      <th>6687</th>\n      <td>15.000000</td>\n      <td>03951cba-c2cf-481b-aee5-c92956c21181</td>\n      <td>1</td>\n      <td>120</td>\n      <td>1</td>\n      <td>280000</td>\n      <td>711665</td>\n      <td>xumo</td>\n      <td>96065</td>\n      <td>1034</td>\n      <td>other_genre</td>\n      <td>roku</td>\n      <td>digital video player</td>\n      <td>roku os</td>\n      <td>sc</td>\n      <td>546</td>\n      <td>evening</td>\n      <td>False</td>\n    </tr>\n  </tbody>\n</table>\n<p>1176608 rows × 18 columns</p>\n</div>"
     },
     "execution_count": 244,
     "metadata": {},
     "output_type": "execute_result"
    }
   ],
   "source": [
    "device_clean(df_extr0409_15)"
   ],
   "metadata": {
    "collapsed": false,
    "ExecuteTime": {
     "end_time": "2024-06-09T18:27:05.818203Z",
     "start_time": "2024-06-09T18:27:05.512208Z"
    }
   },
   "id": "aa263eef6239e0f2",
   "execution_count": 244
  },
  {
   "cell_type": "code",
   "outputs": [
    {
     "data": {
      "text/plain": "device_model\ndigital video player    1.738064e-01\ntizen tv                1.696504e-01\ntv a1625                1.248394e-01\naftmm                   8.433650e-02\naftsss                  5.901031e-02\n                            ...     \nun43ru7200fxza          8.499007e-07\ne80-e3                  8.499007e-07\n55a53fevs_0008          8.499007e-07\nt-msmakuc-1420.0        8.499007e-07\nun60ku6270              8.499007e-07\nName: proportion, Length: 838, dtype: float64"
     },
     "execution_count": 245,
     "metadata": {},
     "output_type": "execute_result"
    }
   ],
   "source": [
    "df_extr0409_15.device_model.value_counts(normalize=True)"
   ],
   "metadata": {
    "collapsed": false,
    "ExecuteTime": {
     "end_time": "2024-06-09T18:36:12.407536Z",
     "start_time": "2024-06-09T18:36:12.111044Z"
    }
   },
   "id": "c4e9c3d0bb027f03",
   "execution_count": 245
  },
  {
   "cell_type": "code",
   "outputs": [],
   "source": [
    "def device_model_clean(df, model_cut_off=0.001):\n",
    "    ids = df.device_model.value_counts(normalize=True) >= model_cut_off\n",
    "    labels = ids[ids].index\n",
    "    def clean_device_model(row,labels):\n",
    "        if row in labels:\n",
    "            return row\n",
    "        else: \n",
    "            return 'other_device_model'\n",
    "    df.app_pub_id = df.app_pub_id.apply(clean_device_model, args = (labels,))\n",
    "    return df"
   ],
   "metadata": {
    "collapsed": false,
    "ExecuteTime": {
     "end_time": "2024-06-09T18:39:43.562843Z",
     "start_time": "2024-06-09T18:39:43.463087Z"
    }
   },
   "id": "35f81773d7f1a8df",
   "execution_count": 246
  },
  {
   "cell_type": "code",
   "outputs": [
    {
     "data": {
      "text/plain": "           sbpr                                    id  minduration  \\\n0     15.000000  51821639-48a2-447b-b5de-aee0beb878bd            1   \n1     15.000000  5aa54938-a3a7-447b-b6cf-14b43764f8e3            1   \n2     15.000000  37b89a1e-e9e3-4697-a7f9-e20f0906fd30            1   \n3     16.500000  ee6d522b-838e-4ecd-bb10-71637c4b0505            1   \n4     15.000000  97253b20-00e5-445c-90c0-8cdf19da12c6            1   \n...         ...                                   ...          ...   \n6683  15.000000  2ac8cea8-7284-4649-adb1-572cb89e5142            1   \n6684  15.220674  4094145f-1bcb-46e5-8f14-6f26ab8a1fdd            1   \n6685  15.600000  1d33c229-9c0c-4efd-ad20-c609d486a78e            1   \n6686  15.000000  77df0a7c-89a8-4327-b27f-f535483741b3            1   \n6687  15.000000  03951cba-c2cf-481b-aee5-c92956c21181            1   \n\n      maxduration  minbitrate  maxbitrate    app_id app_name    app_bundle  \\\n0             120           1      280000  other_id     plex  g15147002586   \n1             120           1      280000    711665    sling     com.sling   \n2             120           1      280000    726329     plex  g15147002586   \n3              70           1      280000    711667     fubo     905401434   \n4              70           1      280000    711667     fubo     905401434   \n...           ...         ...         ...       ...      ...           ...   \n6683           70           1      280000    711667     fubo    b019dchdzk   \n6684          120           1      280000    711665     plex     383457673   \n6685           70           1      280000    711665     fubo    b019dchdzk   \n6686           70           1      280000    711667     fubo    b019dchdzk   \n6687          120           1      280000    711665     xumo         96065   \n\n              app_pub_id        genre     device_make          device_model  \\\n0     other_device_model  other_genre         samsung              tizen tv   \n1     other_device_model  other_genre         generic    generic android tv   \n2     other_device_model  other_genre         samsung              tizen tv   \n3     other_device_model  other_genre           apple              tv a1625   \n4     other_device_model  other_genre           apple              tv a1625   \n...                  ...          ...             ...                   ...   \n6683  other_device_model  other_genre  device_unknown                 aftmm   \n6684  other_device_model  other_genre           apple              tv a1625   \n6685  other_device_model  other_genre          amazon                aftsss   \n6686  other_device_model  other_genre          amazon                  aftt   \n6687  other_device_model  other_genre            roku  digital video player   \n\n     device_os geo_region geo_metro      tod   data  \n0        tizen         sc       546    night  False  \n1      android         oh       NaN    night  False  \n2        tizen         tn       691    night  False  \n3        other         ga       524    night  False  \n4        other         ga       524    night  False  \n...        ...        ...       ...      ...    ...  \n6683   fire os         nj       501  evening  False  \n6684     other         tx       623  evening  False  \n6685   fire os         hi       744  evening  False  \n6686   fire os         nc       NaN  evening   True  \n6687   roku os         sc       546  evening  False  \n\n[1176608 rows x 18 columns]",
      "text/html": "<div>\n<style scoped>\n    .dataframe tbody tr th:only-of-type {\n        vertical-align: middle;\n    }\n\n    .dataframe tbody tr th {\n        vertical-align: top;\n    }\n\n    .dataframe thead th {\n        text-align: right;\n    }\n</style>\n<table border=\"1\" class=\"dataframe\">\n  <thead>\n    <tr style=\"text-align: right;\">\n      <th></th>\n      <th>sbpr</th>\n      <th>id</th>\n      <th>minduration</th>\n      <th>maxduration</th>\n      <th>minbitrate</th>\n      <th>maxbitrate</th>\n      <th>app_id</th>\n      <th>app_name</th>\n      <th>app_bundle</th>\n      <th>app_pub_id</th>\n      <th>genre</th>\n      <th>device_make</th>\n      <th>device_model</th>\n      <th>device_os</th>\n      <th>geo_region</th>\n      <th>geo_metro</th>\n      <th>tod</th>\n      <th>data</th>\n    </tr>\n  </thead>\n  <tbody>\n    <tr>\n      <th>0</th>\n      <td>15.000000</td>\n      <td>51821639-48a2-447b-b5de-aee0beb878bd</td>\n      <td>1</td>\n      <td>120</td>\n      <td>1</td>\n      <td>280000</td>\n      <td>other_id</td>\n      <td>plex</td>\n      <td>g15147002586</td>\n      <td>other_device_model</td>\n      <td>other_genre</td>\n      <td>samsung</td>\n      <td>tizen tv</td>\n      <td>tizen</td>\n      <td>sc</td>\n      <td>546</td>\n      <td>night</td>\n      <td>False</td>\n    </tr>\n    <tr>\n      <th>1</th>\n      <td>15.000000</td>\n      <td>5aa54938-a3a7-447b-b6cf-14b43764f8e3</td>\n      <td>1</td>\n      <td>120</td>\n      <td>1</td>\n      <td>280000</td>\n      <td>711665</td>\n      <td>sling</td>\n      <td>com.sling</td>\n      <td>other_device_model</td>\n      <td>other_genre</td>\n      <td>generic</td>\n      <td>generic android tv</td>\n      <td>android</td>\n      <td>oh</td>\n      <td>NaN</td>\n      <td>night</td>\n      <td>False</td>\n    </tr>\n    <tr>\n      <th>2</th>\n      <td>15.000000</td>\n      <td>37b89a1e-e9e3-4697-a7f9-e20f0906fd30</td>\n      <td>1</td>\n      <td>120</td>\n      <td>1</td>\n      <td>280000</td>\n      <td>726329</td>\n      <td>plex</td>\n      <td>g15147002586</td>\n      <td>other_device_model</td>\n      <td>other_genre</td>\n      <td>samsung</td>\n      <td>tizen tv</td>\n      <td>tizen</td>\n      <td>tn</td>\n      <td>691</td>\n      <td>night</td>\n      <td>False</td>\n    </tr>\n    <tr>\n      <th>3</th>\n      <td>16.500000</td>\n      <td>ee6d522b-838e-4ecd-bb10-71637c4b0505</td>\n      <td>1</td>\n      <td>70</td>\n      <td>1</td>\n      <td>280000</td>\n      <td>711667</td>\n      <td>fubo</td>\n      <td>905401434</td>\n      <td>other_device_model</td>\n      <td>other_genre</td>\n      <td>apple</td>\n      <td>tv a1625</td>\n      <td>other</td>\n      <td>ga</td>\n      <td>524</td>\n      <td>night</td>\n      <td>False</td>\n    </tr>\n    <tr>\n      <th>4</th>\n      <td>15.000000</td>\n      <td>97253b20-00e5-445c-90c0-8cdf19da12c6</td>\n      <td>1</td>\n      <td>70</td>\n      <td>1</td>\n      <td>280000</td>\n      <td>711667</td>\n      <td>fubo</td>\n      <td>905401434</td>\n      <td>other_device_model</td>\n      <td>other_genre</td>\n      <td>apple</td>\n      <td>tv a1625</td>\n      <td>other</td>\n      <td>ga</td>\n      <td>524</td>\n      <td>night</td>\n      <td>False</td>\n    </tr>\n    <tr>\n      <th>...</th>\n      <td>...</td>\n      <td>...</td>\n      <td>...</td>\n      <td>...</td>\n      <td>...</td>\n      <td>...</td>\n      <td>...</td>\n      <td>...</td>\n      <td>...</td>\n      <td>...</td>\n      <td>...</td>\n      <td>...</td>\n      <td>...</td>\n      <td>...</td>\n      <td>...</td>\n      <td>...</td>\n      <td>...</td>\n      <td>...</td>\n    </tr>\n    <tr>\n      <th>6683</th>\n      <td>15.000000</td>\n      <td>2ac8cea8-7284-4649-adb1-572cb89e5142</td>\n      <td>1</td>\n      <td>70</td>\n      <td>1</td>\n      <td>280000</td>\n      <td>711667</td>\n      <td>fubo</td>\n      <td>b019dchdzk</td>\n      <td>other_device_model</td>\n      <td>other_genre</td>\n      <td>device_unknown</td>\n      <td>aftmm</td>\n      <td>fire os</td>\n      <td>nj</td>\n      <td>501</td>\n      <td>evening</td>\n      <td>False</td>\n    </tr>\n    <tr>\n      <th>6684</th>\n      <td>15.220674</td>\n      <td>4094145f-1bcb-46e5-8f14-6f26ab8a1fdd</td>\n      <td>1</td>\n      <td>120</td>\n      <td>1</td>\n      <td>280000</td>\n      <td>711665</td>\n      <td>plex</td>\n      <td>383457673</td>\n      <td>other_device_model</td>\n      <td>other_genre</td>\n      <td>apple</td>\n      <td>tv a1625</td>\n      <td>other</td>\n      <td>tx</td>\n      <td>623</td>\n      <td>evening</td>\n      <td>False</td>\n    </tr>\n    <tr>\n      <th>6685</th>\n      <td>15.600000</td>\n      <td>1d33c229-9c0c-4efd-ad20-c609d486a78e</td>\n      <td>1</td>\n      <td>70</td>\n      <td>1</td>\n      <td>280000</td>\n      <td>711665</td>\n      <td>fubo</td>\n      <td>b019dchdzk</td>\n      <td>other_device_model</td>\n      <td>other_genre</td>\n      <td>amazon</td>\n      <td>aftsss</td>\n      <td>fire os</td>\n      <td>hi</td>\n      <td>744</td>\n      <td>evening</td>\n      <td>False</td>\n    </tr>\n    <tr>\n      <th>6686</th>\n      <td>15.000000</td>\n      <td>77df0a7c-89a8-4327-b27f-f535483741b3</td>\n      <td>1</td>\n      <td>70</td>\n      <td>1</td>\n      <td>280000</td>\n      <td>711667</td>\n      <td>fubo</td>\n      <td>b019dchdzk</td>\n      <td>other_device_model</td>\n      <td>other_genre</td>\n      <td>amazon</td>\n      <td>aftt</td>\n      <td>fire os</td>\n      <td>nc</td>\n      <td>NaN</td>\n      <td>evening</td>\n      <td>True</td>\n    </tr>\n    <tr>\n      <th>6687</th>\n      <td>15.000000</td>\n      <td>03951cba-c2cf-481b-aee5-c92956c21181</td>\n      <td>1</td>\n      <td>120</td>\n      <td>1</td>\n      <td>280000</td>\n      <td>711665</td>\n      <td>xumo</td>\n      <td>96065</td>\n      <td>other_device_model</td>\n      <td>other_genre</td>\n      <td>roku</td>\n      <td>digital video player</td>\n      <td>roku os</td>\n      <td>sc</td>\n      <td>546</td>\n      <td>evening</td>\n      <td>False</td>\n    </tr>\n  </tbody>\n</table>\n<p>1176608 rows × 18 columns</p>\n</div>"
     },
     "execution_count": 247,
     "metadata": {},
     "output_type": "execute_result"
    }
   ],
   "source": [
    "device_model_clean(df_extr0409_15)"
   ],
   "metadata": {
    "collapsed": false,
    "ExecuteTime": {
     "end_time": "2024-06-09T18:40:06.221204Z",
     "start_time": "2024-06-09T18:40:03.455602Z"
    }
   },
   "id": "d807d154085ddbf4",
   "execution_count": 247
  },
  {
   "cell_type": "code",
   "outputs": [
    {
     "data": {
      "text/plain": "sbpr            False\nid              False\nminduration     False\nmaxduration     False\nminbitrate      False\nmaxbitrate      False\napp_id          False\napp_name        False\napp_bundle      False\napp_pub_id      False\ngenre           False\ndevice_make     False\ndevice_model    False\ndevice_os       False\ngeo_region       True\ngeo_metro        True\ntod             False\ndata            False\ndtype: bool"
     },
     "execution_count": 248,
     "metadata": {},
     "output_type": "execute_result"
    }
   ],
   "source": [
    "df_extr0409_15.isnull().any()"
   ],
   "metadata": {
    "collapsed": false,
    "ExecuteTime": {
     "end_time": "2024-06-09T18:41:56.825378Z",
     "start_time": "2024-06-09T18:41:55.930953Z"
    }
   },
   "id": "ac3f9b4a3c48eef8",
   "execution_count": 248
  },
  {
   "cell_type": "code",
   "outputs": [],
   "source": [
    "def geo_region_clean(df):\n",
    "    def clean_region(row):\n",
    "        if type(row) == float:\n",
    "            return 'other_region'\n",
    "        else: return row\n",
    "    df.geo_region = df.geo_region.apply(clean_region)\n",
    "    return df"
   ],
   "metadata": {
    "collapsed": false,
    "ExecuteTime": {
     "end_time": "2024-06-09T18:45:39.308130Z",
     "start_time": "2024-06-09T18:45:39.202251Z"
    }
   },
   "id": "e92aedc9642746f1",
   "execution_count": 249
  },
  {
   "cell_type": "code",
   "outputs": [
    {
     "data": {
      "text/plain": "           sbpr                                    id  minduration  \\\n0     15.000000  51821639-48a2-447b-b5de-aee0beb878bd            1   \n1     15.000000  5aa54938-a3a7-447b-b6cf-14b43764f8e3            1   \n2     15.000000  37b89a1e-e9e3-4697-a7f9-e20f0906fd30            1   \n3     16.500000  ee6d522b-838e-4ecd-bb10-71637c4b0505            1   \n4     15.000000  97253b20-00e5-445c-90c0-8cdf19da12c6            1   \n...         ...                                   ...          ...   \n6683  15.000000  2ac8cea8-7284-4649-adb1-572cb89e5142            1   \n6684  15.220674  4094145f-1bcb-46e5-8f14-6f26ab8a1fdd            1   \n6685  15.600000  1d33c229-9c0c-4efd-ad20-c609d486a78e            1   \n6686  15.000000  77df0a7c-89a8-4327-b27f-f535483741b3            1   \n6687  15.000000  03951cba-c2cf-481b-aee5-c92956c21181            1   \n\n      maxduration  minbitrate  maxbitrate    app_id app_name    app_bundle  \\\n0             120           1      280000  other_id     plex  g15147002586   \n1             120           1      280000    711665    sling     com.sling   \n2             120           1      280000    726329     plex  g15147002586   \n3              70           1      280000    711667     fubo     905401434   \n4              70           1      280000    711667     fubo     905401434   \n...           ...         ...         ...       ...      ...           ...   \n6683           70           1      280000    711667     fubo    b019dchdzk   \n6684          120           1      280000    711665     plex     383457673   \n6685           70           1      280000    711665     fubo    b019dchdzk   \n6686           70           1      280000    711667     fubo    b019dchdzk   \n6687          120           1      280000    711665     xumo         96065   \n\n              app_pub_id        genre     device_make          device_model  \\\n0     other_device_model  other_genre         samsung              tizen tv   \n1     other_device_model  other_genre         generic    generic android tv   \n2     other_device_model  other_genre         samsung              tizen tv   \n3     other_device_model  other_genre           apple              tv a1625   \n4     other_device_model  other_genre           apple              tv a1625   \n...                  ...          ...             ...                   ...   \n6683  other_device_model  other_genre  device_unknown                 aftmm   \n6684  other_device_model  other_genre           apple              tv a1625   \n6685  other_device_model  other_genre          amazon                aftsss   \n6686  other_device_model  other_genre          amazon                  aftt   \n6687  other_device_model  other_genre            roku  digital video player   \n\n     device_os geo_region geo_metro      tod   data  \n0        tizen         sc       546    night  False  \n1      android         oh       NaN    night  False  \n2        tizen         tn       691    night  False  \n3        other         ga       524    night  False  \n4        other         ga       524    night  False  \n...        ...        ...       ...      ...    ...  \n6683   fire os         nj       501  evening  False  \n6684     other         tx       623  evening  False  \n6685   fire os         hi       744  evening  False  \n6686   fire os         nc       NaN  evening   True  \n6687   roku os         sc       546  evening  False  \n\n[1176608 rows x 18 columns]",
      "text/html": "<div>\n<style scoped>\n    .dataframe tbody tr th:only-of-type {\n        vertical-align: middle;\n    }\n\n    .dataframe tbody tr th {\n        vertical-align: top;\n    }\n\n    .dataframe thead th {\n        text-align: right;\n    }\n</style>\n<table border=\"1\" class=\"dataframe\">\n  <thead>\n    <tr style=\"text-align: right;\">\n      <th></th>\n      <th>sbpr</th>\n      <th>id</th>\n      <th>minduration</th>\n      <th>maxduration</th>\n      <th>minbitrate</th>\n      <th>maxbitrate</th>\n      <th>app_id</th>\n      <th>app_name</th>\n      <th>app_bundle</th>\n      <th>app_pub_id</th>\n      <th>genre</th>\n      <th>device_make</th>\n      <th>device_model</th>\n      <th>device_os</th>\n      <th>geo_region</th>\n      <th>geo_metro</th>\n      <th>tod</th>\n      <th>data</th>\n    </tr>\n  </thead>\n  <tbody>\n    <tr>\n      <th>0</th>\n      <td>15.000000</td>\n      <td>51821639-48a2-447b-b5de-aee0beb878bd</td>\n      <td>1</td>\n      <td>120</td>\n      <td>1</td>\n      <td>280000</td>\n      <td>other_id</td>\n      <td>plex</td>\n      <td>g15147002586</td>\n      <td>other_device_model</td>\n      <td>other_genre</td>\n      <td>samsung</td>\n      <td>tizen tv</td>\n      <td>tizen</td>\n      <td>sc</td>\n      <td>546</td>\n      <td>night</td>\n      <td>False</td>\n    </tr>\n    <tr>\n      <th>1</th>\n      <td>15.000000</td>\n      <td>5aa54938-a3a7-447b-b6cf-14b43764f8e3</td>\n      <td>1</td>\n      <td>120</td>\n      <td>1</td>\n      <td>280000</td>\n      <td>711665</td>\n      <td>sling</td>\n      <td>com.sling</td>\n      <td>other_device_model</td>\n      <td>other_genre</td>\n      <td>generic</td>\n      <td>generic android tv</td>\n      <td>android</td>\n      <td>oh</td>\n      <td>NaN</td>\n      <td>night</td>\n      <td>False</td>\n    </tr>\n    <tr>\n      <th>2</th>\n      <td>15.000000</td>\n      <td>37b89a1e-e9e3-4697-a7f9-e20f0906fd30</td>\n      <td>1</td>\n      <td>120</td>\n      <td>1</td>\n      <td>280000</td>\n      <td>726329</td>\n      <td>plex</td>\n      <td>g15147002586</td>\n      <td>other_device_model</td>\n      <td>other_genre</td>\n      <td>samsung</td>\n      <td>tizen tv</td>\n      <td>tizen</td>\n      <td>tn</td>\n      <td>691</td>\n      <td>night</td>\n      <td>False</td>\n    </tr>\n    <tr>\n      <th>3</th>\n      <td>16.500000</td>\n      <td>ee6d522b-838e-4ecd-bb10-71637c4b0505</td>\n      <td>1</td>\n      <td>70</td>\n      <td>1</td>\n      <td>280000</td>\n      <td>711667</td>\n      <td>fubo</td>\n      <td>905401434</td>\n      <td>other_device_model</td>\n      <td>other_genre</td>\n      <td>apple</td>\n      <td>tv a1625</td>\n      <td>other</td>\n      <td>ga</td>\n      <td>524</td>\n      <td>night</td>\n      <td>False</td>\n    </tr>\n    <tr>\n      <th>4</th>\n      <td>15.000000</td>\n      <td>97253b20-00e5-445c-90c0-8cdf19da12c6</td>\n      <td>1</td>\n      <td>70</td>\n      <td>1</td>\n      <td>280000</td>\n      <td>711667</td>\n      <td>fubo</td>\n      <td>905401434</td>\n      <td>other_device_model</td>\n      <td>other_genre</td>\n      <td>apple</td>\n      <td>tv a1625</td>\n      <td>other</td>\n      <td>ga</td>\n      <td>524</td>\n      <td>night</td>\n      <td>False</td>\n    </tr>\n    <tr>\n      <th>...</th>\n      <td>...</td>\n      <td>...</td>\n      <td>...</td>\n      <td>...</td>\n      <td>...</td>\n      <td>...</td>\n      <td>...</td>\n      <td>...</td>\n      <td>...</td>\n      <td>...</td>\n      <td>...</td>\n      <td>...</td>\n      <td>...</td>\n      <td>...</td>\n      <td>...</td>\n      <td>...</td>\n      <td>...</td>\n      <td>...</td>\n    </tr>\n    <tr>\n      <th>6683</th>\n      <td>15.000000</td>\n      <td>2ac8cea8-7284-4649-adb1-572cb89e5142</td>\n      <td>1</td>\n      <td>70</td>\n      <td>1</td>\n      <td>280000</td>\n      <td>711667</td>\n      <td>fubo</td>\n      <td>b019dchdzk</td>\n      <td>other_device_model</td>\n      <td>other_genre</td>\n      <td>device_unknown</td>\n      <td>aftmm</td>\n      <td>fire os</td>\n      <td>nj</td>\n      <td>501</td>\n      <td>evening</td>\n      <td>False</td>\n    </tr>\n    <tr>\n      <th>6684</th>\n      <td>15.220674</td>\n      <td>4094145f-1bcb-46e5-8f14-6f26ab8a1fdd</td>\n      <td>1</td>\n      <td>120</td>\n      <td>1</td>\n      <td>280000</td>\n      <td>711665</td>\n      <td>plex</td>\n      <td>383457673</td>\n      <td>other_device_model</td>\n      <td>other_genre</td>\n      <td>apple</td>\n      <td>tv a1625</td>\n      <td>other</td>\n      <td>tx</td>\n      <td>623</td>\n      <td>evening</td>\n      <td>False</td>\n    </tr>\n    <tr>\n      <th>6685</th>\n      <td>15.600000</td>\n      <td>1d33c229-9c0c-4efd-ad20-c609d486a78e</td>\n      <td>1</td>\n      <td>70</td>\n      <td>1</td>\n      <td>280000</td>\n      <td>711665</td>\n      <td>fubo</td>\n      <td>b019dchdzk</td>\n      <td>other_device_model</td>\n      <td>other_genre</td>\n      <td>amazon</td>\n      <td>aftsss</td>\n      <td>fire os</td>\n      <td>hi</td>\n      <td>744</td>\n      <td>evening</td>\n      <td>False</td>\n    </tr>\n    <tr>\n      <th>6686</th>\n      <td>15.000000</td>\n      <td>77df0a7c-89a8-4327-b27f-f535483741b3</td>\n      <td>1</td>\n      <td>70</td>\n      <td>1</td>\n      <td>280000</td>\n      <td>711667</td>\n      <td>fubo</td>\n      <td>b019dchdzk</td>\n      <td>other_device_model</td>\n      <td>other_genre</td>\n      <td>amazon</td>\n      <td>aftt</td>\n      <td>fire os</td>\n      <td>nc</td>\n      <td>NaN</td>\n      <td>evening</td>\n      <td>True</td>\n    </tr>\n    <tr>\n      <th>6687</th>\n      <td>15.000000</td>\n      <td>03951cba-c2cf-481b-aee5-c92956c21181</td>\n      <td>1</td>\n      <td>120</td>\n      <td>1</td>\n      <td>280000</td>\n      <td>711665</td>\n      <td>xumo</td>\n      <td>96065</td>\n      <td>other_device_model</td>\n      <td>other_genre</td>\n      <td>roku</td>\n      <td>digital video player</td>\n      <td>roku os</td>\n      <td>sc</td>\n      <td>546</td>\n      <td>evening</td>\n      <td>False</td>\n    </tr>\n  </tbody>\n</table>\n<p>1176608 rows × 18 columns</p>\n</div>"
     },
     "execution_count": 250,
     "metadata": {},
     "output_type": "execute_result"
    }
   ],
   "source": [
    "geo_region_clean(df_extr0409_15)"
   ],
   "metadata": {
    "collapsed": false,
    "ExecuteTime": {
     "end_time": "2024-06-09T18:45:51.544826Z",
     "start_time": "2024-06-09T18:45:51.308918Z"
    }
   },
   "id": "32511bb0c9c5a2a1",
   "execution_count": 250
  },
  {
   "cell_type": "code",
   "outputs": [
    {
     "data": {
      "text/plain": "geo_metro\n501    0.100693\n602    0.053127\n528    0.048700\n623    0.045657\n524    0.038776\n         ...   \n976    0.000001\n946    0.000001\n928    0.000001\n966    0.000001\n927    0.000001\nName: proportion, Length: 230, dtype: float64"
     },
     "execution_count": 251,
     "metadata": {},
     "output_type": "execute_result"
    }
   ],
   "source": [
    "df_extr0409_15.geo_metro.value_counts(normalize=True)"
   ],
   "metadata": {
    "collapsed": false,
    "ExecuteTime": {
     "end_time": "2024-06-09T18:46:58.489589Z",
     "start_time": "2024-06-09T18:46:58.471682Z"
    }
   },
   "id": "2e1f61a86413264e",
   "execution_count": 251
  },
  {
   "cell_type": "code",
   "outputs": [],
   "source": [
    "def geo_metro_clean(df):\n",
    "    def clean_metro(row):\n",
    "        if type(row) == float:\n",
    "            return 'other_metro'\n",
    "        else: return row\n",
    "    df.geo_metro = df.geo_metro.apply(clean_metro)\n",
    "    return df"
   ],
   "metadata": {
    "collapsed": false,
    "ExecuteTime": {
     "end_time": "2024-06-09T18:50:30.267090Z",
     "start_time": "2024-06-09T18:50:30.188487Z"
    }
   },
   "id": "2b1c38d3fe613b9e",
   "execution_count": 256
  },
  {
   "cell_type": "code",
   "outputs": [
    {
     "data": {
      "text/plain": "           sbpr                                    id  minduration  \\\n0     15.000000  51821639-48a2-447b-b5de-aee0beb878bd            1   \n1     15.000000  5aa54938-a3a7-447b-b6cf-14b43764f8e3            1   \n2     15.000000  37b89a1e-e9e3-4697-a7f9-e20f0906fd30            1   \n3     16.500000  ee6d522b-838e-4ecd-bb10-71637c4b0505            1   \n4     15.000000  97253b20-00e5-445c-90c0-8cdf19da12c6            1   \n...         ...                                   ...          ...   \n6683  15.000000  2ac8cea8-7284-4649-adb1-572cb89e5142            1   \n6684  15.220674  4094145f-1bcb-46e5-8f14-6f26ab8a1fdd            1   \n6685  15.600000  1d33c229-9c0c-4efd-ad20-c609d486a78e            1   \n6686  15.000000  77df0a7c-89a8-4327-b27f-f535483741b3            1   \n6687  15.000000  03951cba-c2cf-481b-aee5-c92956c21181            1   \n\n      maxduration  minbitrate  maxbitrate    app_id app_name    app_bundle  \\\n0             120           1      280000  other_id     plex  g15147002586   \n1             120           1      280000    711665    sling     com.sling   \n2             120           1      280000    726329     plex  g15147002586   \n3              70           1      280000    711667     fubo     905401434   \n4              70           1      280000    711667     fubo     905401434   \n...           ...         ...         ...       ...      ...           ...   \n6683           70           1      280000    711667     fubo    b019dchdzk   \n6684          120           1      280000    711665     plex     383457673   \n6685           70           1      280000    711665     fubo    b019dchdzk   \n6686           70           1      280000    711667     fubo    b019dchdzk   \n6687          120           1      280000    711665     xumo         96065   \n\n              app_pub_id        genre     device_make          device_model  \\\n0     other_device_model  other_genre         samsung              tizen tv   \n1     other_device_model  other_genre         generic    generic android tv   \n2     other_device_model  other_genre         samsung              tizen tv   \n3     other_device_model  other_genre           apple              tv a1625   \n4     other_device_model  other_genre           apple              tv a1625   \n...                  ...          ...             ...                   ...   \n6683  other_device_model  other_genre  device_unknown                 aftmm   \n6684  other_device_model  other_genre           apple              tv a1625   \n6685  other_device_model  other_genre          amazon                aftsss   \n6686  other_device_model  other_genre          amazon                  aftt   \n6687  other_device_model  other_genre            roku  digital video player   \n\n     device_os geo_region    geo_metro      tod   data  \n0        tizen         sc          546    night  False  \n1      android         oh  other_metro    night  False  \n2        tizen         tn          691    night  False  \n3        other         ga          524    night  False  \n4        other         ga          524    night  False  \n...        ...        ...          ...      ...    ...  \n6683   fire os         nj          501  evening  False  \n6684     other         tx          623  evening  False  \n6685   fire os         hi          744  evening  False  \n6686   fire os         nc  other_metro  evening   True  \n6687   roku os         sc          546  evening  False  \n\n[1176608 rows x 18 columns]",
      "text/html": "<div>\n<style scoped>\n    .dataframe tbody tr th:only-of-type {\n        vertical-align: middle;\n    }\n\n    .dataframe tbody tr th {\n        vertical-align: top;\n    }\n\n    .dataframe thead th {\n        text-align: right;\n    }\n</style>\n<table border=\"1\" class=\"dataframe\">\n  <thead>\n    <tr style=\"text-align: right;\">\n      <th></th>\n      <th>sbpr</th>\n      <th>id</th>\n      <th>minduration</th>\n      <th>maxduration</th>\n      <th>minbitrate</th>\n      <th>maxbitrate</th>\n      <th>app_id</th>\n      <th>app_name</th>\n      <th>app_bundle</th>\n      <th>app_pub_id</th>\n      <th>genre</th>\n      <th>device_make</th>\n      <th>device_model</th>\n      <th>device_os</th>\n      <th>geo_region</th>\n      <th>geo_metro</th>\n      <th>tod</th>\n      <th>data</th>\n    </tr>\n  </thead>\n  <tbody>\n    <tr>\n      <th>0</th>\n      <td>15.000000</td>\n      <td>51821639-48a2-447b-b5de-aee0beb878bd</td>\n      <td>1</td>\n      <td>120</td>\n      <td>1</td>\n      <td>280000</td>\n      <td>other_id</td>\n      <td>plex</td>\n      <td>g15147002586</td>\n      <td>other_device_model</td>\n      <td>other_genre</td>\n      <td>samsung</td>\n      <td>tizen tv</td>\n      <td>tizen</td>\n      <td>sc</td>\n      <td>546</td>\n      <td>night</td>\n      <td>False</td>\n    </tr>\n    <tr>\n      <th>1</th>\n      <td>15.000000</td>\n      <td>5aa54938-a3a7-447b-b6cf-14b43764f8e3</td>\n      <td>1</td>\n      <td>120</td>\n      <td>1</td>\n      <td>280000</td>\n      <td>711665</td>\n      <td>sling</td>\n      <td>com.sling</td>\n      <td>other_device_model</td>\n      <td>other_genre</td>\n      <td>generic</td>\n      <td>generic android tv</td>\n      <td>android</td>\n      <td>oh</td>\n      <td>other_metro</td>\n      <td>night</td>\n      <td>False</td>\n    </tr>\n    <tr>\n      <th>2</th>\n      <td>15.000000</td>\n      <td>37b89a1e-e9e3-4697-a7f9-e20f0906fd30</td>\n      <td>1</td>\n      <td>120</td>\n      <td>1</td>\n      <td>280000</td>\n      <td>726329</td>\n      <td>plex</td>\n      <td>g15147002586</td>\n      <td>other_device_model</td>\n      <td>other_genre</td>\n      <td>samsung</td>\n      <td>tizen tv</td>\n      <td>tizen</td>\n      <td>tn</td>\n      <td>691</td>\n      <td>night</td>\n      <td>False</td>\n    </tr>\n    <tr>\n      <th>3</th>\n      <td>16.500000</td>\n      <td>ee6d522b-838e-4ecd-bb10-71637c4b0505</td>\n      <td>1</td>\n      <td>70</td>\n      <td>1</td>\n      <td>280000</td>\n      <td>711667</td>\n      <td>fubo</td>\n      <td>905401434</td>\n      <td>other_device_model</td>\n      <td>other_genre</td>\n      <td>apple</td>\n      <td>tv a1625</td>\n      <td>other</td>\n      <td>ga</td>\n      <td>524</td>\n      <td>night</td>\n      <td>False</td>\n    </tr>\n    <tr>\n      <th>4</th>\n      <td>15.000000</td>\n      <td>97253b20-00e5-445c-90c0-8cdf19da12c6</td>\n      <td>1</td>\n      <td>70</td>\n      <td>1</td>\n      <td>280000</td>\n      <td>711667</td>\n      <td>fubo</td>\n      <td>905401434</td>\n      <td>other_device_model</td>\n      <td>other_genre</td>\n      <td>apple</td>\n      <td>tv a1625</td>\n      <td>other</td>\n      <td>ga</td>\n      <td>524</td>\n      <td>night</td>\n      <td>False</td>\n    </tr>\n    <tr>\n      <th>...</th>\n      <td>...</td>\n      <td>...</td>\n      <td>...</td>\n      <td>...</td>\n      <td>...</td>\n      <td>...</td>\n      <td>...</td>\n      <td>...</td>\n      <td>...</td>\n      <td>...</td>\n      <td>...</td>\n      <td>...</td>\n      <td>...</td>\n      <td>...</td>\n      <td>...</td>\n      <td>...</td>\n      <td>...</td>\n      <td>...</td>\n    </tr>\n    <tr>\n      <th>6683</th>\n      <td>15.000000</td>\n      <td>2ac8cea8-7284-4649-adb1-572cb89e5142</td>\n      <td>1</td>\n      <td>70</td>\n      <td>1</td>\n      <td>280000</td>\n      <td>711667</td>\n      <td>fubo</td>\n      <td>b019dchdzk</td>\n      <td>other_device_model</td>\n      <td>other_genre</td>\n      <td>device_unknown</td>\n      <td>aftmm</td>\n      <td>fire os</td>\n      <td>nj</td>\n      <td>501</td>\n      <td>evening</td>\n      <td>False</td>\n    </tr>\n    <tr>\n      <th>6684</th>\n      <td>15.220674</td>\n      <td>4094145f-1bcb-46e5-8f14-6f26ab8a1fdd</td>\n      <td>1</td>\n      <td>120</td>\n      <td>1</td>\n      <td>280000</td>\n      <td>711665</td>\n      <td>plex</td>\n      <td>383457673</td>\n      <td>other_device_model</td>\n      <td>other_genre</td>\n      <td>apple</td>\n      <td>tv a1625</td>\n      <td>other</td>\n      <td>tx</td>\n      <td>623</td>\n      <td>evening</td>\n      <td>False</td>\n    </tr>\n    <tr>\n      <th>6685</th>\n      <td>15.600000</td>\n      <td>1d33c229-9c0c-4efd-ad20-c609d486a78e</td>\n      <td>1</td>\n      <td>70</td>\n      <td>1</td>\n      <td>280000</td>\n      <td>711665</td>\n      <td>fubo</td>\n      <td>b019dchdzk</td>\n      <td>other_device_model</td>\n      <td>other_genre</td>\n      <td>amazon</td>\n      <td>aftsss</td>\n      <td>fire os</td>\n      <td>hi</td>\n      <td>744</td>\n      <td>evening</td>\n      <td>False</td>\n    </tr>\n    <tr>\n      <th>6686</th>\n      <td>15.000000</td>\n      <td>77df0a7c-89a8-4327-b27f-f535483741b3</td>\n      <td>1</td>\n      <td>70</td>\n      <td>1</td>\n      <td>280000</td>\n      <td>711667</td>\n      <td>fubo</td>\n      <td>b019dchdzk</td>\n      <td>other_device_model</td>\n      <td>other_genre</td>\n      <td>amazon</td>\n      <td>aftt</td>\n      <td>fire os</td>\n      <td>nc</td>\n      <td>other_metro</td>\n      <td>evening</td>\n      <td>True</td>\n    </tr>\n    <tr>\n      <th>6687</th>\n      <td>15.000000</td>\n      <td>03951cba-c2cf-481b-aee5-c92956c21181</td>\n      <td>1</td>\n      <td>120</td>\n      <td>1</td>\n      <td>280000</td>\n      <td>711665</td>\n      <td>xumo</td>\n      <td>96065</td>\n      <td>other_device_model</td>\n      <td>other_genre</td>\n      <td>roku</td>\n      <td>digital video player</td>\n      <td>roku os</td>\n      <td>sc</td>\n      <td>546</td>\n      <td>evening</td>\n      <td>False</td>\n    </tr>\n  </tbody>\n</table>\n<p>1176608 rows × 18 columns</p>\n</div>"
     },
     "execution_count": 257,
     "metadata": {},
     "output_type": "execute_result"
    }
   ],
   "source": [
    "geo_metro_clean(df_extr0409_15)"
   ],
   "metadata": {
    "collapsed": false,
    "ExecuteTime": {
     "end_time": "2024-06-09T18:50:33.797707Z",
     "start_time": "2024-06-09T18:50:33.558135Z"
    }
   },
   "id": "f924c03c09d6e2b2",
   "execution_count": 257
  },
  {
   "cell_type": "code",
   "outputs": [
    {
     "data": {
      "text/plain": "sbpr            False\nid              False\nminduration     False\nmaxduration     False\nminbitrate      False\nmaxbitrate      False\napp_id          False\napp_name        False\napp_bundle      False\napp_pub_id      False\ngenre           False\ndevice_make     False\ndevice_model    False\ndevice_os       False\ngeo_region      False\ngeo_metro       False\ntod             False\ndata            False\ndtype: bool"
     },
     "execution_count": 258,
     "metadata": {},
     "output_type": "execute_result"
    }
   ],
   "source": [
    "df_extr0409_15.isnull().any()"
   ],
   "metadata": {
    "collapsed": false,
    "ExecuteTime": {
     "end_time": "2024-06-09T18:50:44.986675Z",
     "start_time": "2024-06-09T18:50:44.258220Z"
    }
   },
   "id": "9f9f3d6fed2729d",
   "execution_count": 258
  },
  {
   "cell_type": "code",
   "outputs": [],
   "source": [
    "df_extr0409_15.sbpr = df_extr0409_15.sbpr.apply(round, args=(2,))"
   ],
   "metadata": {
    "collapsed": false,
    "ExecuteTime": {
     "end_time": "2024-06-10T20:46:05.273742Z",
     "start_time": "2024-06-10T20:46:02.415225Z"
    }
   },
   "id": "d93626220105dbe5",
   "execution_count": 314
  },
  {
   "cell_type": "code",
   "outputs": [],
   "source": [
    "df_extr0409_15.to_pickle('df_0409_15_ready.pkl') # this is a totally cleaned/reduced bres file labelled with Y/N, that is whether the impression is in om as well."
   ],
   "metadata": {
    "collapsed": false,
    "ExecuteTime": {
     "end_time": "2024-06-10T20:46:21.604417Z",
     "start_time": "2024-06-10T20:46:13.663486Z"
    }
   },
   "id": "46fda816d625380d",
   "execution_count": 315
  },
  {
   "cell_type": "code",
   "outputs": [],
   "source": [
    "df_extr0409_15 = pd.read_pickle('df_0409_15_ready.pkl')"
   ],
   "metadata": {
    "collapsed": false,
    "ExecuteTime": {
     "end_time": "2024-06-21T17:21:52.321511Z",
     "start_time": "2024-06-21T17:21:50.737746Z"
    }
   },
   "id": "2f4e88a16fc3c44c",
   "execution_count": 2
  },
  {
   "cell_type": "code",
   "outputs": [
    {
     "data": {
      "text/plain": "Index(['sbpr', 'id', 'minduration', 'maxduration', 'minbitrate', 'maxbitrate',\n       'app_id', 'app_name', 'app_bundle', 'app_pub_id', 'genre',\n       'device_make', 'device_model', 'device_os', 'geo_region', 'geo_metro',\n       'tod', 'data'],\n      dtype='object')"
     },
     "execution_count": 3,
     "metadata": {},
     "output_type": "execute_result"
    }
   ],
   "source": [
    "df_extr0409_15.columns"
   ],
   "metadata": {
    "collapsed": false,
    "ExecuteTime": {
     "end_time": "2024-06-20T20:12:16.517844Z",
     "start_time": "2024-06-20T20:12:16.410136Z"
    }
   },
   "id": "90f7c6c997f4850a",
   "execution_count": 3
  },
  {
   "cell_type": "code",
   "outputs": [],
   "source": [
    "one_hot_1 = pd.get_dummies(df_extr0409_15[['minduration', 'maxduration', 'minbitrate', 'maxbitrate','app_id','app_name','app_bundle',\n",
    " 'app_pub_id', 'genre', 'device_make', 'device_model','device_os','geo_region','geo_metro','tod']],drop_first=False)"
   ],
   "metadata": {
    "collapsed": false,
    "ExecuteTime": {
     "end_time": "2024-06-21T17:22:09.078467Z",
     "start_time": "2024-06-21T17:21:57.783141Z"
    }
   },
   "id": "7027eba99e132bd",
   "execution_count": 3
  },
  {
   "cell_type": "markdown",
   "source": [
    "since one-hot-encoded data is missing sbpr and Y/N attach it back"
   ],
   "metadata": {
    "collapsed": false
   },
   "id": "fab4fec3ab790496"
  },
  {
   "cell_type": "code",
   "outputs": [],
   "source": [
    "one_hot_data = pd.concat([one_hot_1,df_extr0409_15[['sbpr', 'data']]], axis=1)"
   ],
   "metadata": {
    "collapsed": false,
    "ExecuteTime": {
     "end_time": "2024-06-21T17:22:12.287743Z",
     "start_time": "2024-06-21T17:22:09.095549Z"
    }
   },
   "id": "ee5813f0dec9ec3",
   "execution_count": 4
  },
  {
   "cell_type": "markdown",
   "source": [
    "now split into training (sbpr == 15) and the one to be predicted (sbpr != 15)"
   ],
   "metadata": {
    "collapsed": false
   },
   "id": "6394a908ecc797ee"
  },
  {
   "cell_type": "code",
   "outputs": [],
   "source": [
    "df_train_all = one_hot_data[one_hot_data.sbpr == 15.0]"
   ],
   "metadata": {
    "collapsed": false,
    "ExecuteTime": {
     "end_time": "2024-06-21T17:22:15.159650Z",
     "start_time": "2024-06-21T17:22:12.289576Z"
    }
   },
   "id": "790f4c4e89b60823",
   "execution_count": 5
  },
  {
   "cell_type": "code",
   "outputs": [],
   "source": [
    "train_b, test_b = train_test_split(df_train_all, test_size=0.2)\n",
    "train_data_b, train_label_b = train_b.iloc[:, :-2], train_b.iloc[:, [-1]]\n",
    "test_data_b, test_label_b = test_b.iloc[:, :-2], test_b.iloc[:, [-1]]"
   ],
   "metadata": {
    "collapsed": false,
    "ExecuteTime": {
     "end_time": "2024-06-21T17:22:21.197863Z",
     "start_time": "2024-06-21T17:22:15.135772Z"
    }
   },
   "id": "8c7e679ec938d8b0",
   "execution_count": 6
  },
  {
   "cell_type": "code",
   "outputs": [],
   "source": [
    "tree_b = DecisionTreeClassifier(criterion='entropy')\n",
    "tree_fit_b = tree_b.fit(train_data_b, train_label_b)"
   ],
   "metadata": {
    "collapsed": false,
    "ExecuteTime": {
     "end_time": "2024-06-10T20:49:34.550698Z",
     "start_time": "2024-06-10T20:47:15.839330Z"
    }
   },
   "id": "b9b3ee2395289dca",
   "execution_count": 320
  },
  {
   "cell_type": "code",
   "outputs": [
    {
     "name": "stdout",
     "output_type": "stream",
     "text": [
      "Model accuracy score: 0.6684\n"
     ]
    }
   ],
   "source": [
    "pred_b = tree_fit_b.predict(test_data_b)\n",
    "print('Model accuracy score: {0:0.4f}'. format(accuracy_score(test_label_b, pred_b)))"
   ],
   "metadata": {
    "collapsed": false,
    "ExecuteTime": {
     "end_time": "2024-06-10T20:49:58.573946Z",
     "start_time": "2024-06-10T20:49:56.002809Z"
    }
   },
   "id": "11c428853a418e5a",
   "execution_count": 321
  },
  {
   "cell_type": "code",
   "outputs": [
    {
     "name": "stdout",
     "output_type": "stream",
     "text": [
      "Model accuracy score: 0.7053\n"
     ]
    }
   ],
   "source": [
    "pred_a = tree_fit_b.predict(train_data_b)\n",
    "print('Model accuracy score: {0:0.4f}'. format(accuracy_score(train_label_b, pred_a)))"
   ],
   "metadata": {
    "collapsed": false,
    "ExecuteTime": {
     "end_time": "2024-06-10T20:50:22.110191Z",
     "start_time": "2024-06-10T20:50:12.274095Z"
    }
   },
   "id": "8cb2cfc3b2179b89",
   "execution_count": 322
  },
  {
   "cell_type": "code",
   "outputs": [
    {
     "name": "stdout",
     "output_type": "stream",
     "text": [
      "166\n"
     ]
    }
   ],
   "source": [
    "print(tree_b.tree_.max_depth)"
   ],
   "metadata": {
    "collapsed": false,
    "ExecuteTime": {
     "end_time": "2024-06-10T20:50:28.207823Z",
     "start_time": "2024-06-10T20:50:27.926012Z"
    }
   },
   "id": "33d774e558c800d0",
   "execution_count": 323
  },
  {
   "cell_type": "code",
   "outputs": [],
   "source": [
    "def run_trees():\n",
    "    # to be changed - needs to output a dictionary so that I can find optimal, need to add train test accuracy as well tto compare\n",
    "    for criterion in ['gini', 'entropy']:\n",
    "        for max_depth in range(75, 165, 20):\n",
    "            for min_samples_split in range(2,6,2):\n",
    "                for min_samples_leaf in range(2,5):\n",
    "                    tree_b = DecisionTreeClassifier(criterion=criterion, max_depth=max_depth, min_samples_split=min_samples_split, min_samples_leaf=min_samples_leaf)\n",
    "                    tree_fit_b = tree_b.fit(train_data_b, train_label_b)\n",
    "                    pred_b = tree_fit_b.predict(test_data_b)\n",
    "                    acc = accuracy_score(test_label_b, pred_b)\n",
    "                    print(f'Model {criterion} with accuracy score: {acc:.4f}, Max depth: {max_depth}, Min depth: {min_samples_split}, Min samples: {min_samples_leaf}')"
   ],
   "metadata": {
    "collapsed": false,
    "ExecuteTime": {
     "end_time": "2024-06-09T19:41:06.937393Z",
     "start_time": "2024-06-09T19:41:06.488032Z"
    }
   },
   "id": "e940f0a1741017d2",
   "execution_count": 269
  },
  {
   "cell_type": "code",
   "outputs": [
    {
     "name": "stdout",
     "output_type": "stream",
     "text": [
      "Model gini with accuracy score: 0.6649, Max depth: 75, Min depth: 2, Min samples: 2\n",
      "Model gini with accuracy score: 0.6645, Max depth: 75, Min depth: 2, Min samples: 3\n",
      "Model gini with accuracy score: 0.6637, Max depth: 75, Min depth: 2, Min samples: 4\n"
     ]
    },
    {
     "ename": "KeyboardInterrupt",
     "evalue": "",
     "output_type": "error",
     "traceback": [
      "\u001B[0;31m---------------------------------------------------------------------------\u001B[0m",
      "\u001B[0;31mKeyboardInterrupt\u001B[0m                         Traceback (most recent call last)",
      "Cell \u001B[0;32mIn[270], line 1\u001B[0m\n\u001B[0;32m----> 1\u001B[0m run_trees()\n",
      "Cell \u001B[0;32mIn[269], line 7\u001B[0m, in \u001B[0;36mrun_trees\u001B[0;34m()\u001B[0m\n\u001B[1;32m      5\u001B[0m \u001B[38;5;28;01mfor\u001B[39;00m min_samples_leaf \u001B[38;5;129;01min\u001B[39;00m \u001B[38;5;28mrange\u001B[39m(\u001B[38;5;241m2\u001B[39m,\u001B[38;5;241m5\u001B[39m):\n\u001B[1;32m      6\u001B[0m     tree_b \u001B[38;5;241m=\u001B[39m DecisionTreeClassifier(criterion\u001B[38;5;241m=\u001B[39mcriterion, max_depth\u001B[38;5;241m=\u001B[39mmax_depth, min_samples_split\u001B[38;5;241m=\u001B[39mmin_samples_split, min_samples_leaf\u001B[38;5;241m=\u001B[39mmin_samples_leaf)\n\u001B[0;32m----> 7\u001B[0m     tree_fit_b \u001B[38;5;241m=\u001B[39m tree_b\u001B[38;5;241m.\u001B[39mfit(train_data_b, train_label_b)\n\u001B[1;32m      8\u001B[0m     pred_b \u001B[38;5;241m=\u001B[39m tree_fit_b\u001B[38;5;241m.\u001B[39mpredict(test_data_b)\n\u001B[1;32m      9\u001B[0m     acc \u001B[38;5;241m=\u001B[39m accuracy_score(test_label_b, pred_b)\n",
      "File \u001B[0;32m/opt/anaconda3/lib/python3.11/site-packages/sklearn/base.py:1474\u001B[0m, in \u001B[0;36m_fit_context.<locals>.decorator.<locals>.wrapper\u001B[0;34m(estimator, *args, **kwargs)\u001B[0m\n\u001B[1;32m   1467\u001B[0m     estimator\u001B[38;5;241m.\u001B[39m_validate_params()\n\u001B[1;32m   1469\u001B[0m \u001B[38;5;28;01mwith\u001B[39;00m config_context(\n\u001B[1;32m   1470\u001B[0m     skip_parameter_validation\u001B[38;5;241m=\u001B[39m(\n\u001B[1;32m   1471\u001B[0m         prefer_skip_nested_validation \u001B[38;5;129;01mor\u001B[39;00m global_skip_validation\n\u001B[1;32m   1472\u001B[0m     )\n\u001B[1;32m   1473\u001B[0m ):\n\u001B[0;32m-> 1474\u001B[0m     \u001B[38;5;28;01mreturn\u001B[39;00m fit_method(estimator, \u001B[38;5;241m*\u001B[39margs, \u001B[38;5;241m*\u001B[39m\u001B[38;5;241m*\u001B[39mkwargs)\n",
      "File \u001B[0;32m/opt/anaconda3/lib/python3.11/site-packages/sklearn/tree/_classes.py:1009\u001B[0m, in \u001B[0;36mDecisionTreeClassifier.fit\u001B[0;34m(self, X, y, sample_weight, check_input)\u001B[0m\n\u001B[1;32m    978\u001B[0m \u001B[38;5;129m@_fit_context\u001B[39m(prefer_skip_nested_validation\u001B[38;5;241m=\u001B[39m\u001B[38;5;28;01mTrue\u001B[39;00m)\n\u001B[1;32m    979\u001B[0m \u001B[38;5;28;01mdef\u001B[39;00m \u001B[38;5;21mfit\u001B[39m(\u001B[38;5;28mself\u001B[39m, X, y, sample_weight\u001B[38;5;241m=\u001B[39m\u001B[38;5;28;01mNone\u001B[39;00m, check_input\u001B[38;5;241m=\u001B[39m\u001B[38;5;28;01mTrue\u001B[39;00m):\n\u001B[1;32m    980\u001B[0m \u001B[38;5;250m    \u001B[39m\u001B[38;5;124;03m\"\"\"Build a decision tree classifier from the training set (X, y).\u001B[39;00m\n\u001B[1;32m    981\u001B[0m \n\u001B[1;32m    982\u001B[0m \u001B[38;5;124;03m    Parameters\u001B[39;00m\n\u001B[0;32m   (...)\u001B[0m\n\u001B[1;32m   1006\u001B[0m \u001B[38;5;124;03m        Fitted estimator.\u001B[39;00m\n\u001B[1;32m   1007\u001B[0m \u001B[38;5;124;03m    \"\"\"\u001B[39;00m\n\u001B[0;32m-> 1009\u001B[0m     \u001B[38;5;28msuper\u001B[39m()\u001B[38;5;241m.\u001B[39m_fit(\n\u001B[1;32m   1010\u001B[0m         X,\n\u001B[1;32m   1011\u001B[0m         y,\n\u001B[1;32m   1012\u001B[0m         sample_weight\u001B[38;5;241m=\u001B[39msample_weight,\n\u001B[1;32m   1013\u001B[0m         check_input\u001B[38;5;241m=\u001B[39mcheck_input,\n\u001B[1;32m   1014\u001B[0m     )\n\u001B[1;32m   1015\u001B[0m     \u001B[38;5;28;01mreturn\u001B[39;00m \u001B[38;5;28mself\u001B[39m\n",
      "File \u001B[0;32m/opt/anaconda3/lib/python3.11/site-packages/sklearn/tree/_classes.py:472\u001B[0m, in \u001B[0;36mBaseDecisionTree._fit\u001B[0;34m(self, X, y, sample_weight, check_input, missing_values_in_feature_mask)\u001B[0m\n\u001B[1;32m    461\u001B[0m \u001B[38;5;28;01melse\u001B[39;00m:\n\u001B[1;32m    462\u001B[0m     builder \u001B[38;5;241m=\u001B[39m BestFirstTreeBuilder(\n\u001B[1;32m    463\u001B[0m         splitter,\n\u001B[1;32m    464\u001B[0m         min_samples_split,\n\u001B[0;32m   (...)\u001B[0m\n\u001B[1;32m    469\u001B[0m         \u001B[38;5;28mself\u001B[39m\u001B[38;5;241m.\u001B[39mmin_impurity_decrease,\n\u001B[1;32m    470\u001B[0m     )\n\u001B[0;32m--> 472\u001B[0m builder\u001B[38;5;241m.\u001B[39mbuild(\u001B[38;5;28mself\u001B[39m\u001B[38;5;241m.\u001B[39mtree_, X, y, sample_weight, missing_values_in_feature_mask)\n\u001B[1;32m    474\u001B[0m \u001B[38;5;28;01mif\u001B[39;00m \u001B[38;5;28mself\u001B[39m\u001B[38;5;241m.\u001B[39mn_outputs_ \u001B[38;5;241m==\u001B[39m \u001B[38;5;241m1\u001B[39m \u001B[38;5;129;01mand\u001B[39;00m is_classifier(\u001B[38;5;28mself\u001B[39m):\n\u001B[1;32m    475\u001B[0m     \u001B[38;5;28mself\u001B[39m\u001B[38;5;241m.\u001B[39mn_classes_ \u001B[38;5;241m=\u001B[39m \u001B[38;5;28mself\u001B[39m\u001B[38;5;241m.\u001B[39mn_classes_[\u001B[38;5;241m0\u001B[39m]\n",
      "\u001B[0;31mKeyboardInterrupt\u001B[0m: "
     ]
    }
   ],
   "source": [
    "run_trees()"
   ],
   "metadata": {
    "collapsed": false,
    "ExecuteTime": {
     "end_time": "2024-06-09T19:48:30.744669Z",
     "start_time": "2024-06-09T19:41:14.171794Z"
    }
   },
   "id": "6f00d931a9131281",
   "execution_count": 270
  },
  {
   "cell_type": "markdown",
   "source": [
    "do the prediction"
   ],
   "metadata": {
    "collapsed": false
   },
   "id": "6fccc54b955acb45"
  },
  {
   "cell_type": "code",
   "outputs": [],
   "source": [
    "df_predict_all = one_hot_data[one_hot_data.sbpr > 15.0]"
   ],
   "metadata": {
    "collapsed": false,
    "ExecuteTime": {
     "end_time": "2024-06-10T20:50:37.978121Z",
     "start_time": "2024-06-10T20:50:37.482890Z"
    }
   },
   "id": "57ecd64f2317968a",
   "execution_count": 324
  },
  {
   "cell_type": "code",
   "outputs": [],
   "source": [
    "to_predict_data = df_predict_all.iloc[:,:-2]"
   ],
   "metadata": {
    "collapsed": false,
    "ExecuteTime": {
     "end_time": "2024-06-10T20:50:42.437983Z",
     "start_time": "2024-06-10T20:50:42.115942Z"
    }
   },
   "id": "802e7c69d01ffc57",
   "execution_count": 325
  },
  {
   "cell_type": "code",
   "outputs": [],
   "source": [
    "real_pred_b = tree_fit_b.predict(to_predict_data)"
   ],
   "metadata": {
    "collapsed": false,
    "ExecuteTime": {
     "end_time": "2024-06-10T20:50:48.961321Z",
     "start_time": "2024-06-10T20:50:47.087504Z"
    }
   },
   "id": "11cc5e7a70e2090a",
   "execution_count": 326
  },
  {
   "cell_type": "code",
   "outputs": [],
   "source": [
    "# these are the columns that matter below. Will use sbpr > 15 to select those for which the prediction has been made; will use data to select those that are in om\n",
    "df_prel = df_extr0409_15[['sbpr', 'data']]"
   ],
   "metadata": {
    "collapsed": false,
    "ExecuteTime": {
     "end_time": "2024-06-10T20:50:53.461647Z",
     "start_time": "2024-06-10T20:50:53.210202Z"
    }
   },
   "id": "e33454194b180e22",
   "execution_count": 327
  },
  {
   "cell_type": "code",
   "outputs": [
    {
     "data": {
      "text/plain": "    sbpr   data\n0  16.50  False\n1  16.50  False\n2  16.50  False\n3  15.60  False\n4  16.77  False",
      "text/html": "<div>\n<style scoped>\n    .dataframe tbody tr th:only-of-type {\n        vertical-align: middle;\n    }\n\n    .dataframe tbody tr th {\n        vertical-align: top;\n    }\n\n    .dataframe thead th {\n        text-align: right;\n    }\n</style>\n<table border=\"1\" class=\"dataframe\">\n  <thead>\n    <tr style=\"text-align: right;\">\n      <th></th>\n      <th>sbpr</th>\n      <th>data</th>\n    </tr>\n  </thead>\n  <tbody>\n    <tr>\n      <th>0</th>\n      <td>16.50</td>\n      <td>False</td>\n    </tr>\n    <tr>\n      <th>1</th>\n      <td>16.50</td>\n      <td>False</td>\n    </tr>\n    <tr>\n      <th>2</th>\n      <td>16.50</td>\n      <td>False</td>\n    </tr>\n    <tr>\n      <th>3</th>\n      <td>15.60</td>\n      <td>False</td>\n    </tr>\n    <tr>\n      <th>4</th>\n      <td>16.77</td>\n      <td>False</td>\n    </tr>\n  </tbody>\n</table>\n</div>"
     },
     "execution_count": 328,
     "metadata": {},
     "output_type": "execute_result"
    }
   ],
   "source": [
    "df_m = df_prel[df_prel.sbpr > 15.0]\n",
    "df_m.reset_index(inplace=True, drop=True)\n",
    "df_m.head()"
   ],
   "metadata": {
    "collapsed": false,
    "ExecuteTime": {
     "end_time": "2024-06-10T20:50:58.592104Z",
     "start_time": "2024-06-10T20:50:58.366546Z"
    }
   },
   "id": "38da34de6429072",
   "execution_count": 328
  },
  {
   "cell_type": "code",
   "outputs": [
    {
     "data": {
      "text/plain": "    pred\n0  False\n1  False\n2  False\n3  False\n4  False",
      "text/html": "<div>\n<style scoped>\n    .dataframe tbody tr th:only-of-type {\n        vertical-align: middle;\n    }\n\n    .dataframe tbody tr th {\n        vertical-align: top;\n    }\n\n    .dataframe thead th {\n        text-align: right;\n    }\n</style>\n<table border=\"1\" class=\"dataframe\">\n  <thead>\n    <tr style=\"text-align: right;\">\n      <th></th>\n      <th>pred</th>\n    </tr>\n  </thead>\n  <tbody>\n    <tr>\n      <th>0</th>\n      <td>False</td>\n    </tr>\n    <tr>\n      <th>1</th>\n      <td>False</td>\n    </tr>\n    <tr>\n      <th>2</th>\n      <td>False</td>\n    </tr>\n    <tr>\n      <th>3</th>\n      <td>False</td>\n    </tr>\n    <tr>\n      <th>4</th>\n      <td>False</td>\n    </tr>\n  </tbody>\n</table>\n</div>"
     },
     "execution_count": 329,
     "metadata": {},
     "output_type": "execute_result"
    }
   ],
   "source": [
    "#create a df from predictions np array\n",
    "df_pred_b = pd.DataFrame(real_pred_b, columns=[\"pred\"])\n",
    "df_pred_b.head()"
   ],
   "metadata": {
    "collapsed": false,
    "ExecuteTime": {
     "end_time": "2024-06-10T20:51:12.627588Z",
     "start_time": "2024-06-10T20:51:12.324856Z"
    }
   },
   "id": "f73983bace40b5a5",
   "execution_count": 329
  },
  {
   "cell_type": "code",
   "outputs": [
    {
     "data": {
      "text/plain": "    sbpr   data   pred\n0  16.50  False  False\n1  16.50  False  False\n2  16.50  False  False\n3  15.60  False  False\n4  16.77  False  False",
      "text/html": "<div>\n<style scoped>\n    .dataframe tbody tr th:only-of-type {\n        vertical-align: middle;\n    }\n\n    .dataframe tbody tr th {\n        vertical-align: top;\n    }\n\n    .dataframe thead th {\n        text-align: right;\n    }\n</style>\n<table border=\"1\" class=\"dataframe\">\n  <thead>\n    <tr style=\"text-align: right;\">\n      <th></th>\n      <th>sbpr</th>\n      <th>data</th>\n      <th>pred</th>\n    </tr>\n  </thead>\n  <tbody>\n    <tr>\n      <th>0</th>\n      <td>16.50</td>\n      <td>False</td>\n      <td>False</td>\n    </tr>\n    <tr>\n      <th>1</th>\n      <td>16.50</td>\n      <td>False</td>\n      <td>False</td>\n    </tr>\n    <tr>\n      <th>2</th>\n      <td>16.50</td>\n      <td>False</td>\n      <td>False</td>\n    </tr>\n    <tr>\n      <th>3</th>\n      <td>15.60</td>\n      <td>False</td>\n      <td>False</td>\n    </tr>\n    <tr>\n      <th>4</th>\n      <td>16.77</td>\n      <td>False</td>\n      <td>False</td>\n    </tr>\n  </tbody>\n</table>\n</div>"
     },
     "execution_count": 330,
     "metadata": {},
     "output_type": "execute_result"
    }
   ],
   "source": [
    "df_matters = pd.concat([df_m, df_pred_b], axis=1)\n",
    "df_matters.head()"
   ],
   "metadata": {
    "collapsed": false,
    "ExecuteTime": {
     "end_time": "2024-06-10T20:51:19.825163Z",
     "start_time": "2024-06-10T20:51:19.611068Z"
    }
   },
   "id": "5d9d02687878090c",
   "execution_count": 330
  },
  {
   "cell_type": "code",
   "outputs": [
    {
     "data": {
      "text/plain": "       total_cnt\nsbpr            \n15.01       2137\n15.02        218\n15.03         12\n15.04          7\n15.05         19\n15.06         12\n15.07          9\n15.08         49\n15.09         20\n15.10        366",
      "text/html": "<div>\n<style scoped>\n    .dataframe tbody tr th:only-of-type {\n        vertical-align: middle;\n    }\n\n    .dataframe tbody tr th {\n        vertical-align: top;\n    }\n\n    .dataframe thead th {\n        text-align: right;\n    }\n</style>\n<table border=\"1\" class=\"dataframe\">\n  <thead>\n    <tr style=\"text-align: right;\">\n      <th></th>\n      <th>total_cnt</th>\n    </tr>\n    <tr>\n      <th>sbpr</th>\n      <th></th>\n    </tr>\n  </thead>\n  <tbody>\n    <tr>\n      <th>15.01</th>\n      <td>2137</td>\n    </tr>\n    <tr>\n      <th>15.02</th>\n      <td>218</td>\n    </tr>\n    <tr>\n      <th>15.03</th>\n      <td>12</td>\n    </tr>\n    <tr>\n      <th>15.04</th>\n      <td>7</td>\n    </tr>\n    <tr>\n      <th>15.05</th>\n      <td>19</td>\n    </tr>\n    <tr>\n      <th>15.06</th>\n      <td>12</td>\n    </tr>\n    <tr>\n      <th>15.07</th>\n      <td>9</td>\n    </tr>\n    <tr>\n      <th>15.08</th>\n      <td>49</td>\n    </tr>\n    <tr>\n      <th>15.09</th>\n      <td>20</td>\n    </tr>\n    <tr>\n      <th>15.10</th>\n      <td>366</td>\n    </tr>\n  </tbody>\n</table>\n</div>"
     },
     "execution_count": 331,
     "metadata": {},
     "output_type": "execute_result"
    }
   ],
   "source": [
    "df_all_bres = pd.DataFrame(df_matters.groupby(['sbpr'])['sbpr'].count())\n",
    "df_all_bres=df_all_bres.rename(columns={\"sbpr\":\"total_cnt\"})\n",
    "df_all_bres.head(10)"
   ],
   "metadata": {
    "collapsed": false,
    "ExecuteTime": {
     "end_time": "2024-06-10T20:51:25.363961Z",
     "start_time": "2024-06-10T20:51:25.100472Z"
    }
   },
   "id": "202de2be5c055d7b",
   "execution_count": 331
  },
  {
   "cell_type": "code",
   "outputs": [
    {
     "data": {
      "text/plain": "       om_cnt\nsbpr         \n15.01    1041\n15.02      23\n15.03       4\n15.04       1\n15.05      10",
      "text/html": "<div>\n<style scoped>\n    .dataframe tbody tr th:only-of-type {\n        vertical-align: middle;\n    }\n\n    .dataframe tbody tr th {\n        vertical-align: top;\n    }\n\n    .dataframe thead th {\n        text-align: right;\n    }\n</style>\n<table border=\"1\" class=\"dataframe\">\n  <thead>\n    <tr style=\"text-align: right;\">\n      <th></th>\n      <th>om_cnt</th>\n    </tr>\n    <tr>\n      <th>sbpr</th>\n      <th></th>\n    </tr>\n  </thead>\n  <tbody>\n    <tr>\n      <th>15.01</th>\n      <td>1041</td>\n    </tr>\n    <tr>\n      <th>15.02</th>\n      <td>23</td>\n    </tr>\n    <tr>\n      <th>15.03</th>\n      <td>4</td>\n    </tr>\n    <tr>\n      <th>15.04</th>\n      <td>1</td>\n    </tr>\n    <tr>\n      <th>15.05</th>\n      <td>10</td>\n    </tr>\n  </tbody>\n</table>\n</div>"
     },
     "execution_count": 332,
     "metadata": {},
     "output_type": "execute_result"
    }
   ],
   "source": [
    "df_all_om = pd.DataFrame(df_matters[df_matters.data==True].groupby(['sbpr'])['sbpr'].count()) # weeding out those that are not in om\n",
    "df_all_om=df_all_om.rename(columns={\"sbpr\":\"om_cnt\"})\n",
    "df_all_om.head()"
   ],
   "metadata": {
    "collapsed": false,
    "ExecuteTime": {
     "end_time": "2024-06-10T20:51:30.228903Z",
     "start_time": "2024-06-10T20:51:30.028472Z"
    }
   },
   "id": "9b41b16e47552ce9",
   "execution_count": 332
  },
  {
   "cell_type": "code",
   "outputs": [],
   "source": [
    "prob_1 = df_all_om.join(df_all_bres, on='sbpr', how=\"left\")\n",
    "prob_2 = prob_1[prob_1.om_cnt>100] # eliminate low count data points"
   ],
   "metadata": {
    "collapsed": false,
    "ExecuteTime": {
     "end_time": "2024-06-10T20:51:41.692562Z",
     "start_time": "2024-06-10T20:51:41.556250Z"
    }
   },
   "id": "cce3d2eebdbcdfb7",
   "execution_count": 333
  },
  {
   "cell_type": "code",
   "outputs": [
    {
     "name": "stderr",
     "output_type": "stream",
     "text": [
      "/var/folders/kx/b_1b_kg17090wwlbwz4s8m940000gn/T/ipykernel_67232/1477795586.py:1: SettingWithCopyWarning: \n",
      "A value is trying to be set on a copy of a slice from a DataFrame.\n",
      "Try using .loc[row_indexer,col_indexer] = value instead\n",
      "\n",
      "See the caveats in the documentation: https://pandas.pydata.org/pandas-docs/stable/user_guide/indexing.html#returning-a-view-versus-a-copy\n",
      "  prob_2[\"prob_before\"] = prob_2.om_cnt/prob_2.total_cnt\n"
     ]
    }
   ],
   "source": [
    "prob_2[\"prob_before\"] = prob_2.om_cnt/prob_2.total_cnt\n"
   ],
   "metadata": {
    "collapsed": false,
    "ExecuteTime": {
     "end_time": "2024-06-10T20:51:44.903211Z",
     "start_time": "2024-06-10T20:51:44.708403Z"
    }
   },
   "id": "77ea6b2dd854cfb",
   "execution_count": 334
  },
  {
   "cell_type": "code",
   "outputs": [
    {
     "data": {
      "text/plain": "    sbpr  om_cnt  total_cnt  prob_before\n0  15.01    1041       2137     0.487131\n1  15.10     242        366     0.661202\n2  15.17     909       3027     0.300297\n3  15.38    2396       5453     0.439391\n4  15.52     946       3063     0.308848",
      "text/html": "<div>\n<style scoped>\n    .dataframe tbody tr th:only-of-type {\n        vertical-align: middle;\n    }\n\n    .dataframe tbody tr th {\n        vertical-align: top;\n    }\n\n    .dataframe thead th {\n        text-align: right;\n    }\n</style>\n<table border=\"1\" class=\"dataframe\">\n  <thead>\n    <tr style=\"text-align: right;\">\n      <th></th>\n      <th>sbpr</th>\n      <th>om_cnt</th>\n      <th>total_cnt</th>\n      <th>prob_before</th>\n    </tr>\n  </thead>\n  <tbody>\n    <tr>\n      <th>0</th>\n      <td>15.01</td>\n      <td>1041</td>\n      <td>2137</td>\n      <td>0.487131</td>\n    </tr>\n    <tr>\n      <th>1</th>\n      <td>15.10</td>\n      <td>242</td>\n      <td>366</td>\n      <td>0.661202</td>\n    </tr>\n    <tr>\n      <th>2</th>\n      <td>15.17</td>\n      <td>909</td>\n      <td>3027</td>\n      <td>0.300297</td>\n    </tr>\n    <tr>\n      <th>3</th>\n      <td>15.38</td>\n      <td>2396</td>\n      <td>5453</td>\n      <td>0.439391</td>\n    </tr>\n    <tr>\n      <th>4</th>\n      <td>15.52</td>\n      <td>946</td>\n      <td>3063</td>\n      <td>0.308848</td>\n    </tr>\n  </tbody>\n</table>\n</div>"
     },
     "execution_count": 344,
     "metadata": {},
     "output_type": "execute_result"
    }
   ],
   "source": [
    "prob_2 = prob_2.reset_index()\n",
    "prob_2.head()"
   ],
   "metadata": {
    "collapsed": false,
    "ExecuteTime": {
     "end_time": "2024-06-10T20:53:45.151999Z",
     "start_time": "2024-06-10T20:53:44.996494Z"
    }
   },
   "id": "96e2c6e4281026d4",
   "execution_count": 344
  },
  {
   "cell_type": "code",
   "outputs": [],
   "source": [
    "# now weed out those data points which the prediction shows should be at sbpr == 15\n",
    "df_clean = df_matters[df_matters.pred==False]"
   ],
   "metadata": {
    "collapsed": false,
    "ExecuteTime": {
     "end_time": "2024-06-10T20:51:51.374118Z",
     "start_time": "2024-06-10T20:51:51.221835Z"
    }
   },
   "id": "e0ed368cad887fce",
   "execution_count": 335
  },
  {
   "cell_type": "code",
   "outputs": [
    {
     "data": {
      "text/plain": "       total_cnt\nsbpr            \n15.01       1089\n15.02        175\n15.03          8\n15.04          7\n15.05         10",
      "text/html": "<div>\n<style scoped>\n    .dataframe tbody tr th:only-of-type {\n        vertical-align: middle;\n    }\n\n    .dataframe tbody tr th {\n        vertical-align: top;\n    }\n\n    .dataframe thead th {\n        text-align: right;\n    }\n</style>\n<table border=\"1\" class=\"dataframe\">\n  <thead>\n    <tr style=\"text-align: right;\">\n      <th></th>\n      <th>total_cnt</th>\n    </tr>\n    <tr>\n      <th>sbpr</th>\n      <th></th>\n    </tr>\n  </thead>\n  <tbody>\n    <tr>\n      <th>15.01</th>\n      <td>1089</td>\n    </tr>\n    <tr>\n      <th>15.02</th>\n      <td>175</td>\n    </tr>\n    <tr>\n      <th>15.03</th>\n      <td>8</td>\n    </tr>\n    <tr>\n      <th>15.04</th>\n      <td>7</td>\n    </tr>\n    <tr>\n      <th>15.05</th>\n      <td>10</td>\n    </tr>\n  </tbody>\n</table>\n</div>"
     },
     "execution_count": 336,
     "metadata": {},
     "output_type": "execute_result"
    }
   ],
   "source": [
    "df_bres_after = pd.DataFrame(df_clean.groupby(['sbpr'])['sbpr'].count())\n",
    "df_bres_after=df_bres_after.rename(columns={\"sbpr\":\"total_cnt\"})\n",
    "df_bres_after.head()"
   ],
   "metadata": {
    "collapsed": false,
    "ExecuteTime": {
     "end_time": "2024-06-10T20:51:55.508896Z",
     "start_time": "2024-06-10T20:51:55.301215Z"
    }
   },
   "id": "884fbfc47db4055b",
   "execution_count": 336
  },
  {
   "cell_type": "code",
   "outputs": [],
   "source": [
    "df_om_after = pd.DataFrame(df_clean[df_clean.data==True].groupby(['sbpr'])['sbpr'].count())\n",
    "df_om_after = df_om_after.rename(columns={\"sbpr\":\"om_cnt\"})"
   ],
   "metadata": {
    "collapsed": false,
    "ExecuteTime": {
     "end_time": "2024-06-10T20:52:14.547363Z",
     "start_time": "2024-06-10T20:52:14.299630Z"
    }
   },
   "id": "b486b10026addc7a",
   "execution_count": 338
  },
  {
   "cell_type": "code",
   "outputs": [
    {
     "data": {
      "text/plain": "       om_cnt  total_cnt\nsbpr                    \n15.01     390       1089\n15.10     152        228\n15.17     455       2141\n15.38     959       3156\n15.52     466       2151",
      "text/html": "<div>\n<style scoped>\n    .dataframe tbody tr th:only-of-type {\n        vertical-align: middle;\n    }\n\n    .dataframe tbody tr th {\n        vertical-align: top;\n    }\n\n    .dataframe thead th {\n        text-align: right;\n    }\n</style>\n<table border=\"1\" class=\"dataframe\">\n  <thead>\n    <tr style=\"text-align: right;\">\n      <th></th>\n      <th>om_cnt</th>\n      <th>total_cnt</th>\n    </tr>\n    <tr>\n      <th>sbpr</th>\n      <th></th>\n      <th></th>\n    </tr>\n  </thead>\n  <tbody>\n    <tr>\n      <th>15.01</th>\n      <td>390</td>\n      <td>1089</td>\n    </tr>\n    <tr>\n      <th>15.10</th>\n      <td>152</td>\n      <td>228</td>\n    </tr>\n    <tr>\n      <th>15.17</th>\n      <td>455</td>\n      <td>2141</td>\n    </tr>\n    <tr>\n      <th>15.38</th>\n      <td>959</td>\n      <td>3156</td>\n    </tr>\n    <tr>\n      <th>15.52</th>\n      <td>466</td>\n      <td>2151</td>\n    </tr>\n  </tbody>\n</table>\n</div>"
     },
     "execution_count": 339,
     "metadata": {},
     "output_type": "execute_result"
    }
   ],
   "source": [
    "prob_1_after = df_om_after.join(df_bres_after, on='sbpr', how=\"left\")\n",
    "prob_2_after = prob_1_after[prob_1_after.om_cnt>100]\n",
    "prob_2_after.head()"
   ],
   "metadata": {
    "collapsed": false,
    "ExecuteTime": {
     "end_time": "2024-06-10T20:52:17.864116Z",
     "start_time": "2024-06-10T20:52:17.344144Z"
    }
   },
   "id": "ed27756d4f701a34",
   "execution_count": 339
  },
  {
   "cell_type": "code",
   "outputs": [],
   "source": [
    "prob_2_after[\"prob_after\"] = prob_2_after.om_cnt/prob_2_after.total_cnt\n",
    "prob_2_after = prob_2_after.reset_index()"
   ],
   "metadata": {
    "collapsed": false,
    "ExecuteTime": {
     "end_time": "2024-06-10T20:53:25.642942Z",
     "start_time": "2024-06-10T20:53:25.322191Z"
    }
   },
   "id": "de87d9dee24538cd",
   "execution_count": 342
  },
  {
   "cell_type": "code",
   "outputs": [
    {
     "data": {
      "text/plain": "Text(0, 0.5, 'Probability')"
     },
     "execution_count": 345,
     "metadata": {},
     "output_type": "execute_result"
    },
    {
     "data": {
      "text/plain": "<Figure size 640x480 with 1 Axes>",
      "image/png": "[encoded data removed]"
     },
     "metadata": {},
     "output_type": "display_data"
    }
   ],
   "source": [
    "ax = prob_2_after.plot(kind='scatter', x='sbpr', y='prob_after', color='g') #, title=f'sflr = 15.0 vs prob after'\n",
    "ax = prob_2.plot(ax=ax, kind='scatter', x='sbpr', y='prob_before', color='r', title=f'sflr = 15.0; prob before (in red) and after (in green) classification')\n",
    "ax.set_ylabel(\"Probability\")"
   ],
   "metadata": {
    "collapsed": false,
    "ExecuteTime": {
     "end_time": "2024-06-10T20:53:52.006061Z",
     "start_time": "2024-06-10T20:53:51.538760Z"
    }
   },
   "id": "641fb9291a1883de",
   "execution_count": 345
  },
  {
   "cell_type": "code",
   "outputs": [
    {
     "data": {
      "text/plain": "<Axes: title={'center': 'sflr = 15.0 vs prob after'}, xlabel='sbpr', ylabel='prob_after'>"
     },
     "execution_count": 346,
     "metadata": {},
     "output_type": "execute_result"
    },
    {
     "data": {
      "text/plain": "<Figure size 640x480 with 1 Axes>",
      "image/png": "[encoded data removed]"
     },
     "metadata": {},
     "output_type": "display_data"
    }
   ],
   "source": [
    "prob_2_after.plot(kind='scatter', x='sbpr', y='prob_after', color='g', s = prob_2_after.prob_after*100 , title=f'sflr = 15.0 vs prob after')"
   ],
   "metadata": {
    "collapsed": false,
    "ExecuteTime": {
     "end_time": "2024-06-10T20:54:15.432890Z",
     "start_time": "2024-06-10T20:54:15.019256Z"
    }
   },
   "id": "f1bf3adec56e1c65",
   "execution_count": 346
  },
  {
   "cell_type": "code",
   "outputs": [
    {
     "data": {
      "text/plain": "    index   sbpr  om_cnt  total_cnt  prob_after\n0       0  15.01     390       1089    0.358127\n1       1  15.10     152        228    0.666667\n2       2  15.17     455       2141    0.212518\n3       3  15.38     959       3156    0.303866\n4       4  15.52     466       2151    0.216643\n5       5  15.60   10004      26349    0.379673\n6       6  15.61     363        746    0.486595\n7       7  15.75     597       1999    0.298649\n8       8  15.76     313        892    0.350897\n9       9  15.87    1602       4322    0.370662\n10     10  16.00     290        706    0.410765\n11     11  16.05     108        448    0.241071\n12     12  16.12     333       1228    0.271173\n13     13  16.13     299        920    0.325000\n14     14  16.38     201        449    0.447661\n15     15  16.50    9418      28276    0.333074\n16     16  16.51     311        895    0.347486\n17     17  16.77     186        421    0.441805\n18     18  20.19     170        204    0.833333",
      "text/html": "<div>\n<style scoped>\n    .dataframe tbody tr th:only-of-type {\n        vertical-align: middle;\n    }\n\n    .dataframe tbody tr th {\n        vertical-align: top;\n    }\n\n    .dataframe thead th {\n        text-align: right;\n    }\n</style>\n<table border=\"1\" class=\"dataframe\">\n  <thead>\n    <tr style=\"text-align: right;\">\n      <th></th>\n      <th>index</th>\n      <th>sbpr</th>\n      <th>om_cnt</th>\n      <th>total_cnt</th>\n      <th>prob_after</th>\n    </tr>\n  </thead>\n  <tbody>\n    <tr>\n      <th>0</th>\n      <td>0</td>\n      <td>15.01</td>\n      <td>390</td>\n      <td>1089</td>\n      <td>0.358127</td>\n    </tr>\n    <tr>\n      <th>1</th>\n      <td>1</td>\n      <td>15.10</td>\n      <td>152</td>\n      <td>228</td>\n      <td>0.666667</td>\n    </tr>\n    <tr>\n      <th>2</th>\n      <td>2</td>\n      <td>15.17</td>\n      <td>455</td>\n      <td>2141</td>\n      <td>0.212518</td>\n    </tr>\n    <tr>\n      <th>3</th>\n      <td>3</td>\n      <td>15.38</td>\n      <td>959</td>\n      <td>3156</td>\n      <td>0.303866</td>\n    </tr>\n    <tr>\n      <th>4</th>\n      <td>4</td>\n      <td>15.52</td>\n      <td>466</td>\n      <td>2151</td>\n      <td>0.216643</td>\n    </tr>\n    <tr>\n      <th>5</th>\n      <td>5</td>\n      <td>15.60</td>\n      <td>10004</td>\n      <td>26349</td>\n      <td>0.379673</td>\n    </tr>\n    <tr>\n      <th>6</th>\n      <td>6</td>\n      <td>15.61</td>\n      <td>363</td>\n      <td>746</td>\n      <td>0.486595</td>\n    </tr>\n    <tr>\n      <th>7</th>\n      <td>7</td>\n      <td>15.75</td>\n      <td>597</td>\n      <td>1999</td>\n      <td>0.298649</td>\n    </tr>\n    <tr>\n      <th>8</th>\n      <td>8</td>\n      <td>15.76</td>\n      <td>313</td>\n      <td>892</td>\n      <td>0.350897</td>\n    </tr>\n    <tr>\n      <th>9</th>\n      <td>9</td>\n      <td>15.87</td>\n      <td>1602</td>\n      <td>4322</td>\n      <td>0.370662</td>\n    </tr>\n    <tr>\n      <th>10</th>\n      <td>10</td>\n      <td>16.00</td>\n      <td>290</td>\n      <td>706</td>\n      <td>0.410765</td>\n    </tr>\n    <tr>\n      <th>11</th>\n      <td>11</td>\n      <td>16.05</td>\n      <td>108</td>\n      <td>448</td>\n      <td>0.241071</td>\n    </tr>\n    <tr>\n      <th>12</th>\n      <td>12</td>\n      <td>16.12</td>\n      <td>333</td>\n      <td>1228</td>\n      <td>0.271173</td>\n    </tr>\n    <tr>\n      <th>13</th>\n      <td>13</td>\n      <td>16.13</td>\n      <td>299</td>\n      <td>920</td>\n      <td>0.325000</td>\n    </tr>\n    <tr>\n      <th>14</th>\n      <td>14</td>\n      <td>16.38</td>\n      <td>201</td>\n      <td>449</td>\n      <td>0.447661</td>\n    </tr>\n    <tr>\n      <th>15</th>\n      <td>15</td>\n      <td>16.50</td>\n      <td>9418</td>\n      <td>28276</td>\n      <td>0.333074</td>\n    </tr>\n    <tr>\n      <th>16</th>\n      <td>16</td>\n      <td>16.51</td>\n      <td>311</td>\n      <td>895</td>\n      <td>0.347486</td>\n    </tr>\n    <tr>\n      <th>17</th>\n      <td>17</td>\n      <td>16.77</td>\n      <td>186</td>\n      <td>421</td>\n      <td>0.441805</td>\n    </tr>\n    <tr>\n      <th>18</th>\n      <td>18</td>\n      <td>20.19</td>\n      <td>170</td>\n      <td>204</td>\n      <td>0.833333</td>\n    </tr>\n  </tbody>\n</table>\n</div>"
     },
     "execution_count": 349,
     "metadata": {},
     "output_type": "execute_result"
    }
   ],
   "source": [
    "prob_2_after.head(20)"
   ],
   "metadata": {
    "collapsed": false,
    "ExecuteTime": {
     "end_time": "2024-06-10T20:56:31.417688Z",
     "start_time": "2024-06-10T20:56:31.144256Z"
    }
   },
   "id": "7dfbf7ea01d7235e",
   "execution_count": 349
  },
  {
   "cell_type": "markdown",
   "source": [
    "Random Forest"
   ],
   "metadata": {
    "collapsed": false
   },
   "id": "5c741b1bbd60eeec"
  },
  {
   "cell_type": "code",
   "outputs": [
    {
     "data": {
      "text/plain": "RandomForestClassifier(n_estimators=50, random_state=42)",
      "text/html": "<style>#sk-container-id-1 {\n  /* Definition of color scheme common for light and dark mode */\n  --sklearn-color-text: black;\n  --sklearn-color-line: gray;\n  /* Definition of color scheme for unfitted estimators */\n  --sklearn-color-unfitted-level-0: #fff5e6;\n  --sklearn-color-unfitted-level-1: #f6e4d2;\n  --sklearn-color-unfitted-level-2: #ffe0b3;\n  --sklearn-color-unfitted-level-3: chocolate;\n  /* Definition of color scheme for fitted estimators */\n  --sklearn-color-fitted-level-0: #f0f8ff;\n  --sklearn-color-fitted-level-1: #d4ebff;\n  --sklearn-color-fitted-level-2: #b3dbfd;\n  --sklearn-color-fitted-level-3: cornflowerblue;\n\n  /* Specific color for light theme */\n  --sklearn-color-text-on-default-background: var(--sg-text-color, var(--theme-code-foreground, var(--jp-content-font-color1, black)));\n  --sklearn-color-background: var(--sg-background-color, var(--theme-background, var(--jp-layout-color0, white)));\n  --sklearn-color-border-box: var(--sg-text-color, var(--theme-code-foreground, var(--jp-content-font-color1, black)));\n  --sklearn-color-icon: #696969;\n\n  @media (prefers-color-scheme: dark) {\n    /* Redefinition of color scheme for dark theme */\n    --sklearn-color-text-on-default-background: var(--sg-text-color, var(--theme-code-foreground, var(--jp-content-font-color1, white)));\n    --sklearn-color-background: var(--sg-background-color, var(--theme-background, var(--jp-layout-color0, #111)));\n    --sklearn-color-border-box: var(--sg-text-color, var(--theme-code-foreground, var(--jp-content-font-color1, white)));\n    --sklearn-color-icon: #878787;\n  }\n}\n\n#sk-container-id-1 {\n  color: var(--sklearn-color-text);\n}\n\n#sk-container-id-1 pre {\n  padding: 0;\n}\n\n#sk-container-id-1 input.sk-hidden--visually {\n  border: 0;\n  clip: rect(1px 1px 1px 1px);\n  clip: rect(1px, 1px, 1px, 1px);\n  height: 1px;\n  margin: -1px;\n  overflow: hidden;\n  padding: 0;\n  position: absolute;\n  width: 1px;\n}\n\n#sk-container-id-1 div.sk-dashed-wrapped {\n  border: 1px dashed var(--sklearn-color-line);\n  margin: 0 0.4em 0.5em 0.4em;\n  box-sizing: border-box;\n  padding-bottom: 0.4em;\n  background-color: var(--sklearn-color-background);\n}\n\n#sk-container-id-1 div.sk-container {\n  /* jupyter's `normalize.less` sets `[hidden] { display: none; }`\n     but bootstrap.min.css set `[hidden] { display: none !important; }`\n     so we also need the `!important` here to be able to override the\n     default hidden behavior on the sphinx rendered scikit-learn.org.\n     See: https://github.com/scikit-learn/scikit-learn/issues/21755 */\n  display: inline-block !important;\n  position: relative;\n}\n\n#sk-container-id-1 div.sk-text-repr-fallback {\n  display: none;\n}\n\ndiv.sk-parallel-item,\ndiv.sk-serial,\ndiv.sk-item {\n  /* draw centered vertical line to link estimators */\n  background-image: linear-gradient(var(--sklearn-color-text-on-default-background), var(--sklearn-color-text-on-default-background));\n  background-size: 2px 100%;\n  background-repeat: no-repeat;\n  background-position: center center;\n}\n\n/* Parallel-specific style estimator block */\n\n#sk-container-id-1 div.sk-parallel-item::after {\n  content: \"\";\n  width: 100%;\n  border-bottom: 2px solid var(--sklearn-color-text-on-default-background);\n  flex-grow: 1;\n}\n\n#sk-container-id-1 div.sk-parallel {\n  display: flex;\n  align-items: stretch;\n  justify-content: center;\n  background-color: var(--sklearn-color-background);\n  position: relative;\n}\n\n#sk-container-id-1 div.sk-parallel-item {\n  display: flex;\n  flex-direction: column;\n}\n\n#sk-container-id-1 div.sk-parallel-item:first-child::after {\n  align-self: flex-end;\n  width: 50%;\n}\n\n#sk-container-id-1 div.sk-parallel-item:last-child::after {\n  align-self: flex-start;\n  width: 50%;\n}\n\n#sk-container-id-1 div.sk-parallel-item:only-child::after {\n  width: 0;\n}\n\n/* Serial-specific style estimator block */\n\n#sk-container-id-1 div.sk-serial {\n  display: flex;\n  flex-direction: column;\n  align-items: center;\n  background-color: var(--sklearn-color-background);\n  padding-right: 1em;\n  padding-left: 1em;\n}\n\n\n/* Toggleable style: style used for estimator/Pipeline/ColumnTransformer box that is\nclickable and can be expanded/collapsed.\n- Pipeline and ColumnTransformer use this feature and define the default style\n- Estimators will overwrite some part of the style using the `sk-estimator` class\n*/\n\n/* Pipeline and ColumnTransformer style (default) */\n\n#sk-container-id-1 div.sk-toggleable {\n  /* Default theme specific background. It is overwritten whether we have a\n  specific estimator or a Pipeline/ColumnTransformer */\n  background-color: var(--sklearn-color-background);\n}\n\n/* Toggleable label */\n#sk-container-id-1 label.sk-toggleable__label {\n  cursor: pointer;\n  display: block;\n  width: 100%;\n  margin-bottom: 0;\n  padding: 0.5em;\n  box-sizing: border-box;\n  text-align: center;\n}\n\n#sk-container-id-1 label.sk-toggleable__label-arrow:before {\n  /* Arrow on the left of the label */\n  content: \"▸\";\n  float: left;\n  margin-right: 0.25em;\n  color: var(--sklearn-color-icon);\n}\n\n#sk-container-id-1 label.sk-toggleable__label-arrow:hover:before {\n  color: var(--sklearn-color-text);\n}\n\n/* Toggleable content - dropdown */\n\n#sk-container-id-1 div.sk-toggleable__content {\n  max-height: 0;\n  max-width: 0;\n  overflow: hidden;\n  text-align: left;\n  /* unfitted */\n  background-color: var(--sklearn-color-unfitted-level-0);\n}\n\n#sk-container-id-1 div.sk-toggleable__content.fitted {\n  /* fitted */\n  background-color: var(--sklearn-color-fitted-level-0);\n}\n\n#sk-container-id-1 div.sk-toggleable__content pre {\n  margin: 0.2em;\n  border-radius: 0.25em;\n  color: var(--sklearn-color-text);\n  /* unfitted */\n  background-color: var(--sklearn-color-unfitted-level-0);\n}\n\n#sk-container-id-1 div.sk-toggleable__content.fitted pre {\n  /* unfitted */\n  background-color: var(--sklearn-color-fitted-level-0);\n}\n\n#sk-container-id-1 input.sk-toggleable__control:checked~div.sk-toggleable__content {\n  /* Expand drop-down */\n  max-height: 200px;\n  max-width: 100%;\n  overflow: auto;\n}\n\n#sk-container-id-1 input.sk-toggleable__control:checked~label.sk-toggleable__label-arrow:before {\n  content: \"▾\";\n}\n\n/* Pipeline/ColumnTransformer-specific style */\n\n#sk-container-id-1 div.sk-label input.sk-toggleable__control:checked~label.sk-toggleable__label {\n  color: var(--sklearn-color-text);\n  background-color: var(--sklearn-color-unfitted-level-2);\n}\n\n#sk-container-id-1 div.sk-label.fitted input.sk-toggleable__control:checked~label.sk-toggleable__label {\n  background-color: var(--sklearn-color-fitted-level-2);\n}\n\n/* Estimator-specific style */\n\n/* Colorize estimator box */\n#sk-container-id-1 div.sk-estimator input.sk-toggleable__control:checked~label.sk-toggleable__label {\n  /* unfitted */\n  background-color: var(--sklearn-color-unfitted-level-2);\n}\n\n#sk-container-id-1 div.sk-estimator.fitted input.sk-toggleable__control:checked~label.sk-toggleable__label {\n  /* fitted */\n  background-color: var(--sklearn-color-fitted-level-2);\n}\n\n#sk-container-id-1 div.sk-label label.sk-toggleable__label,\n#sk-container-id-1 div.sk-label label {\n  /* The background is the default theme color */\n  color: var(--sklearn-color-text-on-default-background);\n}\n\n/* On hover, darken the color of the background */\n#sk-container-id-1 div.sk-label:hover label.sk-toggleable__label {\n  color: var(--sklearn-color-text);\n  background-color: var(--sklearn-color-unfitted-level-2);\n}\n\n/* Label box, darken color on hover, fitted */\n#sk-container-id-1 div.sk-label.fitted:hover label.sk-toggleable__label.fitted {\n  color: var(--sklearn-color-text);\n  background-color: var(--sklearn-color-fitted-level-2);\n}\n\n/* Estimator label */\n\n#sk-container-id-1 div.sk-label label {\n  font-family: monospace;\n  font-weight: bold;\n  display: inline-block;\n  line-height: 1.2em;\n}\n\n#sk-container-id-1 div.sk-label-container {\n  text-align: center;\n}\n\n/* Estimator-specific */\n#sk-container-id-1 div.sk-estimator {\n  font-family: monospace;\n  border: 1px dotted var(--sklearn-color-border-box);\n  border-radius: 0.25em;\n  box-sizing: border-box;\n  margin-bottom: 0.5em;\n  /* unfitted */\n  background-color: var(--sklearn-color-unfitted-level-0);\n}\n\n#sk-container-id-1 div.sk-estimator.fitted {\n  /* fitted */\n  background-color: var(--sklearn-color-fitted-level-0);\n}\n\n/* on hover */\n#sk-container-id-1 div.sk-estimator:hover {\n  /* unfitted */\n  background-color: var(--sklearn-color-unfitted-level-2);\n}\n\n#sk-container-id-1 div.sk-estimator.fitted:hover {\n  /* fitted */\n  background-color: var(--sklearn-color-fitted-level-2);\n}\n\n/* Specification for estimator info (e.g. \"i\" and \"?\") */\n\n/* Common style for \"i\" and \"?\" */\n\n.sk-estimator-doc-link,\na:link.sk-estimator-doc-link,\na:visited.sk-estimator-doc-link {\n  float: right;\n  font-size: smaller;\n  line-height: 1em;\n  font-family: monospace;\n  background-color: var(--sklearn-color-background);\n  border-radius: 1em;\n  height: 1em;\n  width: 1em;\n  text-decoration: none !important;\n  margin-left: 1ex;\n  /* unfitted */\n  border: var(--sklearn-color-unfitted-level-1) 1pt solid;\n  color: var(--sklearn-color-unfitted-level-1);\n}\n\n.sk-estimator-doc-link.fitted,\na:link.sk-estimator-doc-link.fitted,\na:visited.sk-estimator-doc-link.fitted {\n  /* fitted */\n  border: var(--sklearn-color-fitted-level-1) 1pt solid;\n  color: var(--sklearn-color-fitted-level-1);\n}\n\n/* On hover */\ndiv.sk-estimator:hover .sk-estimator-doc-link:hover,\n.sk-estimator-doc-link:hover,\ndiv.sk-label-container:hover .sk-estimator-doc-link:hover,\n.sk-estimator-doc-link:hover {\n  /* unfitted */\n  background-color: var(--sklearn-color-unfitted-level-3);\n  color: var(--sklearn-color-background);\n  text-decoration: none;\n}\n\ndiv.sk-estimator.fitted:hover .sk-estimator-doc-link.fitted:hover,\n.sk-estimator-doc-link.fitted:hover,\ndiv.sk-label-container:hover .sk-estimator-doc-link.fitted:hover,\n.sk-estimator-doc-link.fitted:hover {\n  /* fitted */\n  background-color: var(--sklearn-color-fitted-level-3);\n  color: var(--sklearn-color-background);\n  text-decoration: none;\n}\n\n/* Span, style for the box shown on hovering the info icon */\n.sk-estimator-doc-link span {\n  display: none;\n  z-index: 9999;\n  position: relative;\n  font-weight: normal;\n  right: .2ex;\n  padding: .5ex;\n  margin: .5ex;\n  width: min-content;\n  min-width: 20ex;\n  max-width: 50ex;\n  color: var(--sklearn-color-text);\n  box-shadow: 2pt 2pt 4pt #999;\n  /* unfitted */\n  background: var(--sklearn-color-unfitted-level-0);\n  border: .5pt solid var(--sklearn-color-unfitted-level-3);\n}\n\n.sk-estimator-doc-link.fitted span {\n  /* fitted */\n  background: var(--sklearn-color-fitted-level-0);\n  border: var(--sklearn-color-fitted-level-3);\n}\n\n.sk-estimator-doc-link:hover span {\n  display: block;\n}\n\n/* \"?\"-specific style due to the `<a>` HTML tag */\n\n#sk-container-id-1 a.estimator_doc_link {\n  float: right;\n  font-size: 1rem;\n  line-height: 1em;\n  font-family: monospace;\n  background-color: var(--sklearn-color-background);\n  border-radius: 1rem;\n  height: 1rem;\n  width: 1rem;\n  text-decoration: none;\n  /* unfitted */\n  color: var(--sklearn-color-unfitted-level-1);\n  border: var(--sklearn-color-unfitted-level-1) 1pt solid;\n}\n\n#sk-container-id-1 a.estimator_doc_link.fitted {\n  /* fitted */\n  border: var(--sklearn-color-fitted-level-1) 1pt solid;\n  color: var(--sklearn-color-fitted-level-1);\n}\n\n/* On hover */\n#sk-container-id-1 a.estimator_doc_link:hover {\n  /* unfitted */\n  background-color: var(--sklearn-color-unfitted-level-3);\n  color: var(--sklearn-color-background);\n  text-decoration: none;\n}\n\n#sk-container-id-1 a.estimator_doc_link.fitted:hover {\n  /* fitted */\n  background-color: var(--sklearn-color-fitted-level-3);\n}\n</style><div id=\"sk-container-id-1\" class=\"sk-top-container\"><div class=\"sk-text-repr-fallback\"><pre>RandomForestClassifier(n_estimators=50, random_state=42)</pre><b>In a Jupyter environment, please rerun this cell to show the HTML representation or trust the notebook. <br />On GitHub, the HTML representation is unable to render, please try loading this page with nbviewer.org.</b></div><div class=\"sk-container\" hidden><div class=\"sk-item\"><div class=\"sk-estimator fitted sk-toggleable\"><input class=\"sk-toggleable__control sk-hidden--visually\" id=\"sk-estimator-id-1\" type=\"checkbox\" checked><label for=\"sk-estimator-id-1\" class=\"sk-toggleable__label fitted sk-toggleable__label-arrow fitted\">&nbsp;&nbsp;RandomForestClassifier<a class=\"sk-estimator-doc-link fitted\" rel=\"noreferrer\" target=\"_blank\" href=\"https://scikit-learn.org/1.4/modules/generated/sklearn.ensemble.RandomForestClassifier.html\">?<span>Documentation for RandomForestClassifier</span></a><span class=\"sk-estimator-doc-link fitted\">i<span>Fitted</span></span></label><div class=\"sk-toggleable__content fitted\"><pre>RandomForestClassifier(n_estimators=50, random_state=42)</pre></div> </div></div></div></div>"
     },
     "execution_count": 9,
     "metadata": {},
     "output_type": "execute_result"
    }
   ],
   "source": [
    "rfc = RandomForestClassifier(n_estimators = 50, random_state = 42)\n",
    "# accuracies = cross_val_score(rfc, train_data_b, train_label_b.values.ravel(), cv=5)\n",
    "rfc.fit(train_data_b, train_label_b.values.ravel())\n"
   ],
   "metadata": {
    "collapsed": false,
    "ExecuteTime": {
     "end_time": "2024-06-21T12:21:51.956955Z",
     "start_time": "2024-06-21T12:10:41.661176Z"
    }
   },
   "id": "be92ad0c8e36eecf",
   "execution_count": 9
  },
  {
   "cell_type": "code",
   "outputs": [
    {
     "data": {
      "text/plain": "(812765,)"
     },
     "execution_count": 15,
     "metadata": {},
     "output_type": "execute_result"
    }
   ],
   "source": [
    "train_label_b.values.ravel().shape"
   ],
   "metadata": {
    "collapsed": false,
    "ExecuteTime": {
     "end_time": "2024-06-20T20:30:50.466743Z",
     "start_time": "2024-06-20T20:30:50.324481Z"
    }
   },
   "id": "97fc68b33ac72480",
   "execution_count": 15
  },
  {
   "cell_type": "code",
   "outputs": [
    {
     "data": {
      "text/plain": "(812765, 1273)"
     },
     "execution_count": 19,
     "metadata": {},
     "output_type": "execute_result"
    }
   ],
   "source": [
    "train_data_b.shape"
   ],
   "metadata": {
    "collapsed": false,
    "ExecuteTime": {
     "end_time": "2024-06-20T20:49:17.890029Z",
     "start_time": "2024-06-20T20:49:17.752912Z"
    }
   },
   "id": "a6fb92c379138cc3",
   "execution_count": 19
  },
  {
   "cell_type": "code",
   "outputs": [],
   "source": [
    "y_pred = rfc.predict(test_data_b)\n",
    " \n",
    "#Obtain accuracy\n",
    "# print(\"Train Score:\",np.mean(accuracies))\n",
    "# print(\"Test Score:\",rfc.score(test_data_b, test_label_b ))"
   ],
   "metadata": {
    "collapsed": false,
    "ExecuteTime": {
     "end_time": "2024-06-21T12:52:10.852231Z",
     "start_time": "2024-06-21T12:52:01.463951Z"
    }
   },
   "id": "fd95f9eb2fbda964",
   "execution_count": 10
  },
  {
   "cell_type": "code",
   "outputs": [
    {
     "data": {
      "text/plain": "array([False, False,  True,  True,  True,  True, False, False, False,\n        True])"
     },
     "execution_count": 23,
     "metadata": {},
     "output_type": "execute_result"
    }
   ],
   "source": [
    "y_pred[:10]"
   ],
   "metadata": {
    "collapsed": false,
    "ExecuteTime": {
     "end_time": "2024-06-20T20:57:00.502357Z",
     "start_time": "2024-06-20T20:57:00.419319Z"
    }
   },
   "id": "c41af86adf808da1",
   "execution_count": 23
  },
  {
   "cell_type": "code",
   "outputs": [
    {
     "name": "stdout",
     "output_type": "stream",
     "text": [
      "Model accuracy score: 0.6708\n"
     ]
    }
   ],
   "source": [
    "print('Model accuracy score: {0:0.4f}'. format(accuracy_score(test_label_b,y_pred)))"
   ],
   "metadata": {
    "collapsed": false,
    "ExecuteTime": {
     "end_time": "2024-06-21T12:52:21.311410Z",
     "start_time": "2024-06-21T12:52:20.184524Z"
    }
   },
   "id": "26250843caac5323",
   "execution_count": 11
  },
  {
   "cell_type": "code",
   "outputs": [
    {
     "name": "stdout",
     "output_type": "stream",
     "text": [
      "Test Score: 0.6692438678688137\n"
     ]
    }
   ],
   "source": [
    "print(\"Test Score:\",rfc.score(test_data_b, test_label_b ))"
   ],
   "metadata": {
    "collapsed": false,
    "ExecuteTime": {
     "end_time": "2024-06-21T08:51:57.652713Z",
     "start_time": "2024-06-21T08:51:49.259756Z"
    }
   },
   "id": "c266c90b31b9aa16",
   "execution_count": 30
  },
  {
   "cell_type": "code",
   "outputs": [],
   "source": [
    "svc = SVC(random_state = 42)\n",
    "#accuracies = cross_val_score(svc,train_data_b, train_label_b.values.ravel(), cv=5)\n",
    "svc.fit(train_data_b, train_label_b.values.ravel())\n"
   ],
   "metadata": {
    "collapsed": false,
    "ExecuteTime": {
     "start_time": "2024-06-21T08:54:26.112002Z"
    }
   },
   "id": "948f73cf20dc7e5c"
  },
  {
   "cell_type": "code",
   "outputs": [],
   "source": [
    "y_pred_svc = svc.predict(test_data_b)\n",
    " \n",
    "#Obtain accuracy\n",
    "# print(\"Train Score:\",np.mean(accuracies))\n",
    "# print(\"Test Score:\",svc.score(X_test,y_test_svc))\n",
    "print('Model accuracy score: {0:0.4f}'. format(accuracy_score(test_label_b,y_pred_svc)))"
   ],
   "metadata": {
    "collapsed": false
   },
   "id": "37bf17b6fe135a9"
  },
  {
   "cell_type": "code",
   "outputs": [],
   "source": [
    "sgdc = SGDClassifier(max_iter=100, early_stopping=True, random_state=1)"
   ],
   "metadata": {
    "collapsed": false,
    "ExecuteTime": {
     "end_time": "2024-06-21T12:58:48.663513Z",
     "start_time": "2024-06-21T12:58:48.519269Z"
    }
   },
   "id": "de9fc720be735d95",
   "execution_count": 18
  },
  {
   "cell_type": "code",
   "outputs": [
    {
     "data": {
      "text/plain": "SGDClassifier(early_stopping=True, max_iter=100, random_state=1)",
      "text/html": "<style>#sk-container-id-4 {\n  /* Definition of color scheme common for light and dark mode */\n  --sklearn-color-text: black;\n  --sklearn-color-line: gray;\n  /* Definition of color scheme for unfitted estimators */\n  --sklearn-color-unfitted-level-0: #fff5e6;\n  --sklearn-color-unfitted-level-1: #f6e4d2;\n  --sklearn-color-unfitted-level-2: #ffe0b3;\n  --sklearn-color-unfitted-level-3: chocolate;\n  /* Definition of color scheme for fitted estimators */\n  --sklearn-color-fitted-level-0: #f0f8ff;\n  --sklearn-color-fitted-level-1: #d4ebff;\n  --sklearn-color-fitted-level-2: #b3dbfd;\n  --sklearn-color-fitted-level-3: cornflowerblue;\n\n  /* Specific color for light theme */\n  --sklearn-color-text-on-default-background: var(--sg-text-color, var(--theme-code-foreground, var(--jp-content-font-color1, black)));\n  --sklearn-color-background: var(--sg-background-color, var(--theme-background, var(--jp-layout-color0, white)));\n  --sklearn-color-border-box: var(--sg-text-color, var(--theme-code-foreground, var(--jp-content-font-color1, black)));\n  --sklearn-color-icon: #696969;\n\n  @media (prefers-color-scheme: dark) {\n    /* Redefinition of color scheme for dark theme */\n    --sklearn-color-text-on-default-background: var(--sg-text-color, var(--theme-code-foreground, var(--jp-content-font-color1, white)));\n    --sklearn-color-background: var(--sg-background-color, var(--theme-background, var(--jp-layout-color0, #111)));\n    --sklearn-color-border-box: var(--sg-text-color, var(--theme-code-foreground, var(--jp-content-font-color1, white)));\n    --sklearn-color-icon: #878787;\n  }\n}\n\n#sk-container-id-4 {\n  color: var(--sklearn-color-text);\n}\n\n#sk-container-id-4 pre {\n  padding: 0;\n}\n\n#sk-container-id-4 input.sk-hidden--visually {\n  border: 0;\n  clip: rect(1px 1px 1px 1px);\n  clip: rect(1px, 1px, 1px, 1px);\n  height: 1px;\n  margin: -1px;\n  overflow: hidden;\n  padding: 0;\n  position: absolute;\n  width: 1px;\n}\n\n#sk-container-id-4 div.sk-dashed-wrapped {\n  border: 1px dashed var(--sklearn-color-line);\n  margin: 0 0.4em 0.5em 0.4em;\n  box-sizing: border-box;\n  padding-bottom: 0.4em;\n  background-color: var(--sklearn-color-background);\n}\n\n#sk-container-id-4 div.sk-container {\n  /* jupyter's `normalize.less` sets `[hidden] { display: none; }`\n     but bootstrap.min.css set `[hidden] { display: none !important; }`\n     so we also need the `!important` here to be able to override the\n     default hidden behavior on the sphinx rendered scikit-learn.org.\n     See: https://github.com/scikit-learn/scikit-learn/issues/21755 */\n  display: inline-block !important;\n  position: relative;\n}\n\n#sk-container-id-4 div.sk-text-repr-fallback {\n  display: none;\n}\n\ndiv.sk-parallel-item,\ndiv.sk-serial,\ndiv.sk-item {\n  /* draw centered vertical line to link estimators */\n  background-image: linear-gradient(var(--sklearn-color-text-on-default-background), var(--sklearn-color-text-on-default-background));\n  background-size: 2px 100%;\n  background-repeat: no-repeat;\n  background-position: center center;\n}\n\n/* Parallel-specific style estimator block */\n\n#sk-container-id-4 div.sk-parallel-item::after {\n  content: \"\";\n  width: 100%;\n  border-bottom: 2px solid var(--sklearn-color-text-on-default-background);\n  flex-grow: 1;\n}\n\n#sk-container-id-4 div.sk-parallel {\n  display: flex;\n  align-items: stretch;\n  justify-content: center;\n  background-color: var(--sklearn-color-background);\n  position: relative;\n}\n\n#sk-container-id-4 div.sk-parallel-item {\n  display: flex;\n  flex-direction: column;\n}\n\n#sk-container-id-4 div.sk-parallel-item:first-child::after {\n  align-self: flex-end;\n  width: 50%;\n}\n\n#sk-container-id-4 div.sk-parallel-item:last-child::after {\n  align-self: flex-start;\n  width: 50%;\n}\n\n#sk-container-id-4 div.sk-parallel-item:only-child::after {\n  width: 0;\n}\n\n/* Serial-specific style estimator block */\n\n#sk-container-id-4 div.sk-serial {\n  display: flex;\n  flex-direction: column;\n  align-items: center;\n  background-color: var(--sklearn-color-background);\n  padding-right: 1em;\n  padding-left: 1em;\n}\n\n\n/* Toggleable style: style used for estimator/Pipeline/ColumnTransformer box that is\nclickable and can be expanded/collapsed.\n- Pipeline and ColumnTransformer use this feature and define the default style\n- Estimators will overwrite some part of the style using the `sk-estimator` class\n*/\n\n/* Pipeline and ColumnTransformer style (default) */\n\n#sk-container-id-4 div.sk-toggleable {\n  /* Default theme specific background. It is overwritten whether we have a\n  specific estimator or a Pipeline/ColumnTransformer */\n  background-color: var(--sklearn-color-background);\n}\n\n/* Toggleable label */\n#sk-container-id-4 label.sk-toggleable__label {\n  cursor: pointer;\n  display: block;\n  width: 100%;\n  margin-bottom: 0;\n  padding: 0.5em;\n  box-sizing: border-box;\n  text-align: center;\n}\n\n#sk-container-id-4 label.sk-toggleable__label-arrow:before {\n  /* Arrow on the left of the label */\n  content: \"▸\";\n  float: left;\n  margin-right: 0.25em;\n  color: var(--sklearn-color-icon);\n}\n\n#sk-container-id-4 label.sk-toggleable__label-arrow:hover:before {\n  color: var(--sklearn-color-text);\n}\n\n/* Toggleable content - dropdown */\n\n#sk-container-id-4 div.sk-toggleable__content {\n  max-height: 0;\n  max-width: 0;\n  overflow: hidden;\n  text-align: left;\n  /* unfitted */\n  background-color: var(--sklearn-color-unfitted-level-0);\n}\n\n#sk-container-id-4 div.sk-toggleable__content.fitted {\n  /* fitted */\n  background-color: var(--sklearn-color-fitted-level-0);\n}\n\n#sk-container-id-4 div.sk-toggleable__content pre {\n  margin: 0.2em;\n  border-radius: 0.25em;\n  color: var(--sklearn-color-text);\n  /* unfitted */\n  background-color: var(--sklearn-color-unfitted-level-0);\n}\n\n#sk-container-id-4 div.sk-toggleable__content.fitted pre {\n  /* unfitted */\n  background-color: var(--sklearn-color-fitted-level-0);\n}\n\n#sk-container-id-4 input.sk-toggleable__control:checked~div.sk-toggleable__content {\n  /* Expand drop-down */\n  max-height: 200px;\n  max-width: 100%;\n  overflow: auto;\n}\n\n#sk-container-id-4 input.sk-toggleable__control:checked~label.sk-toggleable__label-arrow:before {\n  content: \"▾\";\n}\n\n/* Pipeline/ColumnTransformer-specific style */\n\n#sk-container-id-4 div.sk-label input.sk-toggleable__control:checked~label.sk-toggleable__label {\n  color: var(--sklearn-color-text);\n  background-color: var(--sklearn-color-unfitted-level-2);\n}\n\n#sk-container-id-4 div.sk-label.fitted input.sk-toggleable__control:checked~label.sk-toggleable__label {\n  background-color: var(--sklearn-color-fitted-level-2);\n}\n\n/* Estimator-specific style */\n\n/* Colorize estimator box */\n#sk-container-id-4 div.sk-estimator input.sk-toggleable__control:checked~label.sk-toggleable__label {\n  /* unfitted */\n  background-color: var(--sklearn-color-unfitted-level-2);\n}\n\n#sk-container-id-4 div.sk-estimator.fitted input.sk-toggleable__control:checked~label.sk-toggleable__label {\n  /* fitted */\n  background-color: var(--sklearn-color-fitted-level-2);\n}\n\n#sk-container-id-4 div.sk-label label.sk-toggleable__label,\n#sk-container-id-4 div.sk-label label {\n  /* The background is the default theme color */\n  color: var(--sklearn-color-text-on-default-background);\n}\n\n/* On hover, darken the color of the background */\n#sk-container-id-4 div.sk-label:hover label.sk-toggleable__label {\n  color: var(--sklearn-color-text);\n  background-color: var(--sklearn-color-unfitted-level-2);\n}\n\n/* Label box, darken color on hover, fitted */\n#sk-container-id-4 div.sk-label.fitted:hover label.sk-toggleable__label.fitted {\n  color: var(--sklearn-color-text);\n  background-color: var(--sklearn-color-fitted-level-2);\n}\n\n/* Estimator label */\n\n#sk-container-id-4 div.sk-label label {\n  font-family: monospace;\n  font-weight: bold;\n  display: inline-block;\n  line-height: 1.2em;\n}\n\n#sk-container-id-4 div.sk-label-container {\n  text-align: center;\n}\n\n/* Estimator-specific */\n#sk-container-id-4 div.sk-estimator {\n  font-family: monospace;\n  border: 1px dotted var(--sklearn-color-border-box);\n  border-radius: 0.25em;\n  box-sizing: border-box;\n  margin-bottom: 0.5em;\n  /* unfitted */\n  background-color: var(--sklearn-color-unfitted-level-0);\n}\n\n#sk-container-id-4 div.sk-estimator.fitted {\n  /* fitted */\n  background-color: var(--sklearn-color-fitted-level-0);\n}\n\n/* on hover */\n#sk-container-id-4 div.sk-estimator:hover {\n  /* unfitted */\n  background-color: var(--sklearn-color-unfitted-level-2);\n}\n\n#sk-container-id-4 div.sk-estimator.fitted:hover {\n  /* fitted */\n  background-color: var(--sklearn-color-fitted-level-2);\n}\n\n/* Specification for estimator info (e.g. \"i\" and \"?\") */\n\n/* Common style for \"i\" and \"?\" */\n\n.sk-estimator-doc-link,\na:link.sk-estimator-doc-link,\na:visited.sk-estimator-doc-link {\n  float: right;\n  font-size: smaller;\n  line-height: 1em;\n  font-family: monospace;\n  background-color: var(--sklearn-color-background);\n  border-radius: 1em;\n  height: 1em;\n  width: 1em;\n  text-decoration: none !important;\n  margin-left: 1ex;\n  /* unfitted */\n  border: var(--sklearn-color-unfitted-level-1) 1pt solid;\n  color: var(--sklearn-color-unfitted-level-1);\n}\n\n.sk-estimator-doc-link.fitted,\na:link.sk-estimator-doc-link.fitted,\na:visited.sk-estimator-doc-link.fitted {\n  /* fitted */\n  border: var(--sklearn-color-fitted-level-1) 1pt solid;\n  color: var(--sklearn-color-fitted-level-1);\n}\n\n/* On hover */\ndiv.sk-estimator:hover .sk-estimator-doc-link:hover,\n.sk-estimator-doc-link:hover,\ndiv.sk-label-container:hover .sk-estimator-doc-link:hover,\n.sk-estimator-doc-link:hover {\n  /* unfitted */\n  background-color: var(--sklearn-color-unfitted-level-3);\n  color: var(--sklearn-color-background);\n  text-decoration: none;\n}\n\ndiv.sk-estimator.fitted:hover .sk-estimator-doc-link.fitted:hover,\n.sk-estimator-doc-link.fitted:hover,\ndiv.sk-label-container:hover .sk-estimator-doc-link.fitted:hover,\n.sk-estimator-doc-link.fitted:hover {\n  /* fitted */\n  background-color: var(--sklearn-color-fitted-level-3);\n  color: var(--sklearn-color-background);\n  text-decoration: none;\n}\n\n/* Span, style for the box shown on hovering the info icon */\n.sk-estimator-doc-link span {\n  display: none;\n  z-index: 9999;\n  position: relative;\n  font-weight: normal;\n  right: .2ex;\n  padding: .5ex;\n  margin: .5ex;\n  width: min-content;\n  min-width: 20ex;\n  max-width: 50ex;\n  color: var(--sklearn-color-text);\n  box-shadow: 2pt 2pt 4pt #999;\n  /* unfitted */\n  background: var(--sklearn-color-unfitted-level-0);\n  border: .5pt solid var(--sklearn-color-unfitted-level-3);\n}\n\n.sk-estimator-doc-link.fitted span {\n  /* fitted */\n  background: var(--sklearn-color-fitted-level-0);\n  border: var(--sklearn-color-fitted-level-3);\n}\n\n.sk-estimator-doc-link:hover span {\n  display: block;\n}\n\n/* \"?\"-specific style due to the `<a>` HTML tag */\n\n#sk-container-id-4 a.estimator_doc_link {\n  float: right;\n  font-size: 1rem;\n  line-height: 1em;\n  font-family: monospace;\n  background-color: var(--sklearn-color-background);\n  border-radius: 1rem;\n  height: 1rem;\n  width: 1rem;\n  text-decoration: none;\n  /* unfitted */\n  color: var(--sklearn-color-unfitted-level-1);\n  border: var(--sklearn-color-unfitted-level-1) 1pt solid;\n}\n\n#sk-container-id-4 a.estimator_doc_link.fitted {\n  /* fitted */\n  border: var(--sklearn-color-fitted-level-1) 1pt solid;\n  color: var(--sklearn-color-fitted-level-1);\n}\n\n/* On hover */\n#sk-container-id-4 a.estimator_doc_link:hover {\n  /* unfitted */\n  background-color: var(--sklearn-color-unfitted-level-3);\n  color: var(--sklearn-color-background);\n  text-decoration: none;\n}\n\n#sk-container-id-4 a.estimator_doc_link.fitted:hover {\n  /* fitted */\n  background-color: var(--sklearn-color-fitted-level-3);\n}\n</style><div id=\"sk-container-id-4\" class=\"sk-top-container\"><div class=\"sk-text-repr-fallback\"><pre>SGDClassifier(early_stopping=True, max_iter=100, random_state=1)</pre><b>In a Jupyter environment, please rerun this cell to show the HTML representation or trust the notebook. <br />On GitHub, the HTML representation is unable to render, please try loading this page with nbviewer.org.</b></div><div class=\"sk-container\" hidden><div class=\"sk-item\"><div class=\"sk-estimator fitted sk-toggleable\"><input class=\"sk-toggleable__control sk-hidden--visually\" id=\"sk-estimator-id-4\" type=\"checkbox\" checked><label for=\"sk-estimator-id-4\" class=\"sk-toggleable__label fitted sk-toggleable__label-arrow fitted\">&nbsp;&nbsp;SGDClassifier<a class=\"sk-estimator-doc-link fitted\" rel=\"noreferrer\" target=\"_blank\" href=\"https://scikit-learn.org/1.4/modules/generated/sklearn.linear_model.SGDClassifier.html\">?<span>Documentation for SGDClassifier</span></a><span class=\"sk-estimator-doc-link fitted\">i<span>Fitted</span></span></label><div class=\"sk-toggleable__content fitted\"><pre>SGDClassifier(early_stopping=True, max_iter=100, random_state=1)</pre></div> </div></div></div></div>"
     },
     "execution_count": 19,
     "metadata": {},
     "output_type": "execute_result"
    }
   ],
   "source": [
    "sgdc.fit(train_data_b, train_label_b.values.ravel())\n"
   ],
   "metadata": {
    "collapsed": false,
    "ExecuteTime": {
     "end_time": "2024-06-21T12:59:52.502402Z",
     "start_time": "2024-06-21T12:58:53.020193Z"
    }
   },
   "id": "7fcb1d84f01c0a86",
   "execution_count": 19
  },
  {
   "cell_type": "code",
   "outputs": [
    {
     "name": "stdout",
     "output_type": "stream",
     "text": [
      "Model accuracy score: 0.5061\n"
     ]
    }
   ],
   "source": [
    "y_pred_gd = sgdc.predict(test_data_b)\n",
    "print('Model accuracy score: {0:0.4f}'. format(accuracy_score(test_label_b,y_pred_gd)))"
   ],
   "metadata": {
    "collapsed": false,
    "ExecuteTime": {
     "end_time": "2024-06-21T13:00:29.975050Z",
     "start_time": "2024-06-21T13:00:25.580202Z"
    }
   },
   "id": "a70369f8f0d5f20d",
   "execution_count": 20
  },
  {
   "cell_type": "code",
   "outputs": [
    {
     "data": {
      "text/plain": "KNeighborsClassifier()",
      "text/html": "<style>#sk-container-id-1 {\n  /* Definition of color scheme common for light and dark mode */\n  --sklearn-color-text: black;\n  --sklearn-color-line: gray;\n  /* Definition of color scheme for unfitted estimators */\n  --sklearn-color-unfitted-level-0: #fff5e6;\n  --sklearn-color-unfitted-level-1: #f6e4d2;\n  --sklearn-color-unfitted-level-2: #ffe0b3;\n  --sklearn-color-unfitted-level-3: chocolate;\n  /* Definition of color scheme for fitted estimators */\n  --sklearn-color-fitted-level-0: #f0f8ff;\n  --sklearn-color-fitted-level-1: #d4ebff;\n  --sklearn-color-fitted-level-2: #b3dbfd;\n  --sklearn-color-fitted-level-3: cornflowerblue;\n\n  /* Specific color for light theme */\n  --sklearn-color-text-on-default-background: var(--sg-text-color, var(--theme-code-foreground, var(--jp-content-font-color1, black)));\n  --sklearn-color-background: var(--sg-background-color, var(--theme-background, var(--jp-layout-color0, white)));\n  --sklearn-color-border-box: var(--sg-text-color, var(--theme-code-foreground, var(--jp-content-font-color1, black)));\n  --sklearn-color-icon: #696969;\n\n  @media (prefers-color-scheme: dark) {\n    /* Redefinition of color scheme for dark theme */\n    --sklearn-color-text-on-default-background: var(--sg-text-color, var(--theme-code-foreground, var(--jp-content-font-color1, white)));\n    --sklearn-color-background: var(--sg-background-color, var(--theme-background, var(--jp-layout-color0, #111)));\n    --sklearn-color-border-box: var(--sg-text-color, var(--theme-code-foreground, var(--jp-content-font-color1, white)));\n    --sklearn-color-icon: #878787;\n  }\n}\n\n#sk-container-id-1 {\n  color: var(--sklearn-color-text);\n}\n\n#sk-container-id-1 pre {\n  padding: 0;\n}\n\n#sk-container-id-1 input.sk-hidden--visually {\n  border: 0;\n  clip: rect(1px 1px 1px 1px);\n  clip: rect(1px, 1px, 1px, 1px);\n  height: 1px;\n  margin: -1px;\n  overflow: hidden;\n  padding: 0;\n  position: absolute;\n  width: 1px;\n}\n\n#sk-container-id-1 div.sk-dashed-wrapped {\n  border: 1px dashed var(--sklearn-color-line);\n  margin: 0 0.4em 0.5em 0.4em;\n  box-sizing: border-box;\n  padding-bottom: 0.4em;\n  background-color: var(--sklearn-color-background);\n}\n\n#sk-container-id-1 div.sk-container {\n  /* jupyter's `normalize.less` sets `[hidden] { display: none; }`\n     but bootstrap.min.css set `[hidden] { display: none !important; }`\n     so we also need the `!important` here to be able to override the\n     default hidden behavior on the sphinx rendered scikit-learn.org.\n     See: https://github.com/scikit-learn/scikit-learn/issues/21755 */\n  display: inline-block !important;\n  position: relative;\n}\n\n#sk-container-id-1 div.sk-text-repr-fallback {\n  display: none;\n}\n\ndiv.sk-parallel-item,\ndiv.sk-serial,\ndiv.sk-item {\n  /* draw centered vertical line to link estimators */\n  background-image: linear-gradient(var(--sklearn-color-text-on-default-background), var(--sklearn-color-text-on-default-background));\n  background-size: 2px 100%;\n  background-repeat: no-repeat;\n  background-position: center center;\n}\n\n/* Parallel-specific style estimator block */\n\n#sk-container-id-1 div.sk-parallel-item::after {\n  content: \"\";\n  width: 100%;\n  border-bottom: 2px solid var(--sklearn-color-text-on-default-background);\n  flex-grow: 1;\n}\n\n#sk-container-id-1 div.sk-parallel {\n  display: flex;\n  align-items: stretch;\n  justify-content: center;\n  background-color: var(--sklearn-color-background);\n  position: relative;\n}\n\n#sk-container-id-1 div.sk-parallel-item {\n  display: flex;\n  flex-direction: column;\n}\n\n#sk-container-id-1 div.sk-parallel-item:first-child::after {\n  align-self: flex-end;\n  width: 50%;\n}\n\n#sk-container-id-1 div.sk-parallel-item:last-child::after {\n  align-self: flex-start;\n  width: 50%;\n}\n\n#sk-container-id-1 div.sk-parallel-item:only-child::after {\n  width: 0;\n}\n\n/* Serial-specific style estimator block */\n\n#sk-container-id-1 div.sk-serial {\n  display: flex;\n  flex-direction: column;\n  align-items: center;\n  background-color: var(--sklearn-color-background);\n  padding-right: 1em;\n  padding-left: 1em;\n}\n\n\n/* Toggleable style: style used for estimator/Pipeline/ColumnTransformer box that is\nclickable and can be expanded/collapsed.\n- Pipeline and ColumnTransformer use this feature and define the default style\n- Estimators will overwrite some part of the style using the `sk-estimator` class\n*/\n\n/* Pipeline and ColumnTransformer style (default) */\n\n#sk-container-id-1 div.sk-toggleable {\n  /* Default theme specific background. It is overwritten whether we have a\n  specific estimator or a Pipeline/ColumnTransformer */\n  background-color: var(--sklearn-color-background);\n}\n\n/* Toggleable label */\n#sk-container-id-1 label.sk-toggleable__label {\n  cursor: pointer;\n  display: block;\n  width: 100%;\n  margin-bottom: 0;\n  padding: 0.5em;\n  box-sizing: border-box;\n  text-align: center;\n}\n\n#sk-container-id-1 label.sk-toggleable__label-arrow:before {\n  /* Arrow on the left of the label */\n  content: \"▸\";\n  float: left;\n  margin-right: 0.25em;\n  color: var(--sklearn-color-icon);\n}\n\n#sk-container-id-1 label.sk-toggleable__label-arrow:hover:before {\n  color: var(--sklearn-color-text);\n}\n\n/* Toggleable content - dropdown */\n\n#sk-container-id-1 div.sk-toggleable__content {\n  max-height: 0;\n  max-width: 0;\n  overflow: hidden;\n  text-align: left;\n  /* unfitted */\n  background-color: var(--sklearn-color-unfitted-level-0);\n}\n\n#sk-container-id-1 div.sk-toggleable__content.fitted {\n  /* fitted */\n  background-color: var(--sklearn-color-fitted-level-0);\n}\n\n#sk-container-id-1 div.sk-toggleable__content pre {\n  margin: 0.2em;\n  border-radius: 0.25em;\n  color: var(--sklearn-color-text);\n  /* unfitted */\n  background-color: var(--sklearn-color-unfitted-level-0);\n}\n\n#sk-container-id-1 div.sk-toggleable__content.fitted pre {\n  /* unfitted */\n  background-color: var(--sklearn-color-fitted-level-0);\n}\n\n#sk-container-id-1 input.sk-toggleable__control:checked~div.sk-toggleable__content {\n  /* Expand drop-down */\n  max-height: 200px;\n  max-width: 100%;\n  overflow: auto;\n}\n\n#sk-container-id-1 input.sk-toggleable__control:checked~label.sk-toggleable__label-arrow:before {\n  content: \"▾\";\n}\n\n/* Pipeline/ColumnTransformer-specific style */\n\n#sk-container-id-1 div.sk-label input.sk-toggleable__control:checked~label.sk-toggleable__label {\n  color: var(--sklearn-color-text);\n  background-color: var(--sklearn-color-unfitted-level-2);\n}\n\n#sk-container-id-1 div.sk-label.fitted input.sk-toggleable__control:checked~label.sk-toggleable__label {\n  background-color: var(--sklearn-color-fitted-level-2);\n}\n\n/* Estimator-specific style */\n\n/* Colorize estimator box */\n#sk-container-id-1 div.sk-estimator input.sk-toggleable__control:checked~label.sk-toggleable__label {\n  /* unfitted */\n  background-color: var(--sklearn-color-unfitted-level-2);\n}\n\n#sk-container-id-1 div.sk-estimator.fitted input.sk-toggleable__control:checked~label.sk-toggleable__label {\n  /* fitted */\n  background-color: var(--sklearn-color-fitted-level-2);\n}\n\n#sk-container-id-1 div.sk-label label.sk-toggleable__label,\n#sk-container-id-1 div.sk-label label {\n  /* The background is the default theme color */\n  color: var(--sklearn-color-text-on-default-background);\n}\n\n/* On hover, darken the color of the background */\n#sk-container-id-1 div.sk-label:hover label.sk-toggleable__label {\n  color: var(--sklearn-color-text);\n  background-color: var(--sklearn-color-unfitted-level-2);\n}\n\n/* Label box, darken color on hover, fitted */\n#sk-container-id-1 div.sk-label.fitted:hover label.sk-toggleable__label.fitted {\n  color: var(--sklearn-color-text);\n  background-color: var(--sklearn-color-fitted-level-2);\n}\n\n/* Estimator label */\n\n#sk-container-id-1 div.sk-label label {\n  font-family: monospace;\n  font-weight: bold;\n  display: inline-block;\n  line-height: 1.2em;\n}\n\n#sk-container-id-1 div.sk-label-container {\n  text-align: center;\n}\n\n/* Estimator-specific */\n#sk-container-id-1 div.sk-estimator {\n  font-family: monospace;\n  border: 1px dotted var(--sklearn-color-border-box);\n  border-radius: 0.25em;\n  box-sizing: border-box;\n  margin-bottom: 0.5em;\n  /* unfitted */\n  background-color: var(--sklearn-color-unfitted-level-0);\n}\n\n#sk-container-id-1 div.sk-estimator.fitted {\n  /* fitted */\n  background-color: var(--sklearn-color-fitted-level-0);\n}\n\n/* on hover */\n#sk-container-id-1 div.sk-estimator:hover {\n  /* unfitted */\n  background-color: var(--sklearn-color-unfitted-level-2);\n}\n\n#sk-container-id-1 div.sk-estimator.fitted:hover {\n  /* fitted */\n  background-color: var(--sklearn-color-fitted-level-2);\n}\n\n/* Specification for estimator info (e.g. \"i\" and \"?\") */\n\n/* Common style for \"i\" and \"?\" */\n\n.sk-estimator-doc-link,\na:link.sk-estimator-doc-link,\na:visited.sk-estimator-doc-link {\n  float: right;\n  font-size: smaller;\n  line-height: 1em;\n  font-family: monospace;\n  background-color: var(--sklearn-color-background);\n  border-radius: 1em;\n  height: 1em;\n  width: 1em;\n  text-decoration: none !important;\n  margin-left: 1ex;\n  /* unfitted */\n  border: var(--sklearn-color-unfitted-level-1) 1pt solid;\n  color: var(--sklearn-color-unfitted-level-1);\n}\n\n.sk-estimator-doc-link.fitted,\na:link.sk-estimator-doc-link.fitted,\na:visited.sk-estimator-doc-link.fitted {\n  /* fitted */\n  border: var(--sklearn-color-fitted-level-1) 1pt solid;\n  color: var(--sklearn-color-fitted-level-1);\n}\n\n/* On hover */\ndiv.sk-estimator:hover .sk-estimator-doc-link:hover,\n.sk-estimator-doc-link:hover,\ndiv.sk-label-container:hover .sk-estimator-doc-link:hover,\n.sk-estimator-doc-link:hover {\n  /* unfitted */\n  background-color: var(--sklearn-color-unfitted-level-3);\n  color: var(--sklearn-color-background);\n  text-decoration: none;\n}\n\ndiv.sk-estimator.fitted:hover .sk-estimator-doc-link.fitted:hover,\n.sk-estimator-doc-link.fitted:hover,\ndiv.sk-label-container:hover .sk-estimator-doc-link.fitted:hover,\n.sk-estimator-doc-link.fitted:hover {\n  /* fitted */\n  background-color: var(--sklearn-color-fitted-level-3);\n  color: var(--sklearn-color-background);\n  text-decoration: none;\n}\n\n/* Span, style for the box shown on hovering the info icon */\n.sk-estimator-doc-link span {\n  display: none;\n  z-index: 9999;\n  position: relative;\n  font-weight: normal;\n  right: .2ex;\n  padding: .5ex;\n  margin: .5ex;\n  width: min-content;\n  min-width: 20ex;\n  max-width: 50ex;\n  color: var(--sklearn-color-text);\n  box-shadow: 2pt 2pt 4pt #999;\n  /* unfitted */\n  background: var(--sklearn-color-unfitted-level-0);\n  border: .5pt solid var(--sklearn-color-unfitted-level-3);\n}\n\n.sk-estimator-doc-link.fitted span {\n  /* fitted */\n  background: var(--sklearn-color-fitted-level-0);\n  border: var(--sklearn-color-fitted-level-3);\n}\n\n.sk-estimator-doc-link:hover span {\n  display: block;\n}\n\n/* \"?\"-specific style due to the `<a>` HTML tag */\n\n#sk-container-id-1 a.estimator_doc_link {\n  float: right;\n  font-size: 1rem;\n  line-height: 1em;\n  font-family: monospace;\n  background-color: var(--sklearn-color-background);\n  border-radius: 1rem;\n  height: 1rem;\n  width: 1rem;\n  text-decoration: none;\n  /* unfitted */\n  color: var(--sklearn-color-unfitted-level-1);\n  border: var(--sklearn-color-unfitted-level-1) 1pt solid;\n}\n\n#sk-container-id-1 a.estimator_doc_link.fitted {\n  /* fitted */\n  border: var(--sklearn-color-fitted-level-1) 1pt solid;\n  color: var(--sklearn-color-fitted-level-1);\n}\n\n/* On hover */\n#sk-container-id-1 a.estimator_doc_link:hover {\n  /* unfitted */\n  background-color: var(--sklearn-color-unfitted-level-3);\n  color: var(--sklearn-color-background);\n  text-decoration: none;\n}\n\n#sk-container-id-1 a.estimator_doc_link.fitted:hover {\n  /* fitted */\n  background-color: var(--sklearn-color-fitted-level-3);\n}\n</style><div id=\"sk-container-id-1\" class=\"sk-top-container\"><div class=\"sk-text-repr-fallback\"><pre>KNeighborsClassifier()</pre><b>In a Jupyter environment, please rerun this cell to show the HTML representation or trust the notebook. <br />On GitHub, the HTML representation is unable to render, please try loading this page with nbviewer.org.</b></div><div class=\"sk-container\" hidden><div class=\"sk-item\"><div class=\"sk-estimator fitted sk-toggleable\"><input class=\"sk-toggleable__control sk-hidden--visually\" id=\"sk-estimator-id-1\" type=\"checkbox\" checked><label for=\"sk-estimator-id-1\" class=\"sk-toggleable__label fitted sk-toggleable__label-arrow fitted\">&nbsp;&nbsp;KNeighborsClassifier<a class=\"sk-estimator-doc-link fitted\" rel=\"noreferrer\" target=\"_blank\" href=\"https://scikit-learn.org/1.4/modules/generated/sklearn.neighbors.KNeighborsClassifier.html\">?<span>Documentation for KNeighborsClassifier</span></a><span class=\"sk-estimator-doc-link fitted\">i<span>Fitted</span></span></label><div class=\"sk-toggleable__content fitted\"><pre>KNeighborsClassifier()</pre></div> </div></div></div></div>"
     },
     "execution_count": 7,
     "metadata": {},
     "output_type": "execute_result"
    }
   ],
   "source": [
    "knn = KNeighborsClassifier()\n",
    "knn.fit(train_data_b, train_label_b.values.ravel())"
   ],
   "metadata": {
    "collapsed": false,
    "ExecuteTime": {
     "end_time": "2024-06-21T17:23:32.690653Z",
     "start_time": "2024-06-21T17:22:47.869529Z"
    }
   },
   "id": "72310b9a37486e02",
   "execution_count": 7
  },
  {
   "cell_type": "code",
   "outputs": [
    {
     "name": "stdout",
     "output_type": "stream",
     "text": [
      "Model accuracy score: 0.6364\n"
     ]
    }
   ],
   "source": [
    "y_pred_knn = knn.predict(test_data_b)\n",
    "print('Model accuracy score: {0:0.4f}'. format(accuracy_score(test_label_b,y_pred_knn)))"
   ],
   "metadata": {
    "collapsed": false,
    "ExecuteTime": {
     "end_time": "2024-06-21T21:36:59.213140Z",
     "start_time": "2024-06-21T17:23:32.603083Z"
    }
   },
   "id": "ba22e377aaf40a96",
   "execution_count": 8
  },
  {
   "cell_type": "code",
   "outputs": [
    {
     "data": {
      "text/plain": "KNeighborsClassifier(algorithm='kd_tree')",
      "text/html": "<style>#sk-container-id-2 {\n  /* Definition of color scheme common for light and dark mode */\n  --sklearn-color-text: black;\n  --sklearn-color-line: gray;\n  /* Definition of color scheme for unfitted estimators */\n  --sklearn-color-unfitted-level-0: #fff5e6;\n  --sklearn-color-unfitted-level-1: #f6e4d2;\n  --sklearn-color-unfitted-level-2: #ffe0b3;\n  --sklearn-color-unfitted-level-3: chocolate;\n  /* Definition of color scheme for fitted estimators */\n  --sklearn-color-fitted-level-0: #f0f8ff;\n  --sklearn-color-fitted-level-1: #d4ebff;\n  --sklearn-color-fitted-level-2: #b3dbfd;\n  --sklearn-color-fitted-level-3: cornflowerblue;\n\n  /* Specific color for light theme */\n  --sklearn-color-text-on-default-background: var(--sg-text-color, var(--theme-code-foreground, var(--jp-content-font-color1, black)));\n  --sklearn-color-background: var(--sg-background-color, var(--theme-background, var(--jp-layout-color0, white)));\n  --sklearn-color-border-box: var(--sg-text-color, var(--theme-code-foreground, var(--jp-content-font-color1, black)));\n  --sklearn-color-icon: #696969;\n\n  @media (prefers-color-scheme: dark) {\n    /* Redefinition of color scheme for dark theme */\n    --sklearn-color-text-on-default-background: var(--sg-text-color, var(--theme-code-foreground, var(--jp-content-font-color1, white)));\n    --sklearn-color-background: var(--sg-background-color, var(--theme-background, var(--jp-layout-color0, #111)));\n    --sklearn-color-border-box: var(--sg-text-color, var(--theme-code-foreground, var(--jp-content-font-color1, white)));\n    --sklearn-color-icon: #878787;\n  }\n}\n\n#sk-container-id-2 {\n  color: var(--sklearn-color-text);\n}\n\n#sk-container-id-2 pre {\n  padding: 0;\n}\n\n#sk-container-id-2 input.sk-hidden--visually {\n  border: 0;\n  clip: rect(1px 1px 1px 1px);\n  clip: rect(1px, 1px, 1px, 1px);\n  height: 1px;\n  margin: -1px;\n  overflow: hidden;\n  padding: 0;\n  position: absolute;\n  width: 1px;\n}\n\n#sk-container-id-2 div.sk-dashed-wrapped {\n  border: 1px dashed var(--sklearn-color-line);\n  margin: 0 0.4em 0.5em 0.4em;\n  box-sizing: border-box;\n  padding-bottom: 0.4em;\n  background-color: var(--sklearn-color-background);\n}\n\n#sk-container-id-2 div.sk-container {\n  /* jupyter's `normalize.less` sets `[hidden] { display: none; }`\n     but bootstrap.min.css set `[hidden] { display: none !important; }`\n     so we also need the `!important` here to be able to override the\n     default hidden behavior on the sphinx rendered scikit-learn.org.\n     See: https://github.com/scikit-learn/scikit-learn/issues/21755 */\n  display: inline-block !important;\n  position: relative;\n}\n\n#sk-container-id-2 div.sk-text-repr-fallback {\n  display: none;\n}\n\ndiv.sk-parallel-item,\ndiv.sk-serial,\ndiv.sk-item {\n  /* draw centered vertical line to link estimators */\n  background-image: linear-gradient(var(--sklearn-color-text-on-default-background), var(--sklearn-color-text-on-default-background));\n  background-size: 2px 100%;\n  background-repeat: no-repeat;\n  background-position: center center;\n}\n\n/* Parallel-specific style estimator block */\n\n#sk-container-id-2 div.sk-parallel-item::after {\n  content: \"\";\n  width: 100%;\n  border-bottom: 2px solid var(--sklearn-color-text-on-default-background);\n  flex-grow: 1;\n}\n\n#sk-container-id-2 div.sk-parallel {\n  display: flex;\n  align-items: stretch;\n  justify-content: center;\n  background-color: var(--sklearn-color-background);\n  position: relative;\n}\n\n#sk-container-id-2 div.sk-parallel-item {\n  display: flex;\n  flex-direction: column;\n}\n\n#sk-container-id-2 div.sk-parallel-item:first-child::after {\n  align-self: flex-end;\n  width: 50%;\n}\n\n#sk-container-id-2 div.sk-parallel-item:last-child::after {\n  align-self: flex-start;\n  width: 50%;\n}\n\n#sk-container-id-2 div.sk-parallel-item:only-child::after {\n  width: 0;\n}\n\n/* Serial-specific style estimator block */\n\n#sk-container-id-2 div.sk-serial {\n  display: flex;\n  flex-direction: column;\n  align-items: center;\n  background-color: var(--sklearn-color-background);\n  padding-right: 1em;\n  padding-left: 1em;\n}\n\n\n/* Toggleable style: style used for estimator/Pipeline/ColumnTransformer box that is\nclickable and can be expanded/collapsed.\n- Pipeline and ColumnTransformer use this feature and define the default style\n- Estimators will overwrite some part of the style using the `sk-estimator` class\n*/\n\n/* Pipeline and ColumnTransformer style (default) */\n\n#sk-container-id-2 div.sk-toggleable {\n  /* Default theme specific background. It is overwritten whether we have a\n  specific estimator or a Pipeline/ColumnTransformer */\n  background-color: var(--sklearn-color-background);\n}\n\n/* Toggleable label */\n#sk-container-id-2 label.sk-toggleable__label {\n  cursor: pointer;\n  display: block;\n  width: 100%;\n  margin-bottom: 0;\n  padding: 0.5em;\n  box-sizing: border-box;\n  text-align: center;\n}\n\n#sk-container-id-2 label.sk-toggleable__label-arrow:before {\n  /* Arrow on the left of the label */\n  content: \"▸\";\n  float: left;\n  margin-right: 0.25em;\n  color: var(--sklearn-color-icon);\n}\n\n#sk-container-id-2 label.sk-toggleable__label-arrow:hover:before {\n  color: var(--sklearn-color-text);\n}\n\n/* Toggleable content - dropdown */\n\n#sk-container-id-2 div.sk-toggleable__content {\n  max-height: 0;\n  max-width: 0;\n  overflow: hidden;\n  text-align: left;\n  /* unfitted */\n  background-color: var(--sklearn-color-unfitted-level-0);\n}\n\n#sk-container-id-2 div.sk-toggleable__content.fitted {\n  /* fitted */\n  background-color: var(--sklearn-color-fitted-level-0);\n}\n\n#sk-container-id-2 div.sk-toggleable__content pre {\n  margin: 0.2em;\n  border-radius: 0.25em;\n  color: var(--sklearn-color-text);\n  /* unfitted */\n  background-color: var(--sklearn-color-unfitted-level-0);\n}\n\n#sk-container-id-2 div.sk-toggleable__content.fitted pre {\n  /* unfitted */\n  background-color: var(--sklearn-color-fitted-level-0);\n}\n\n#sk-container-id-2 input.sk-toggleable__control:checked~div.sk-toggleable__content {\n  /* Expand drop-down */\n  max-height: 200px;\n  max-width: 100%;\n  overflow: auto;\n}\n\n#sk-container-id-2 input.sk-toggleable__control:checked~label.sk-toggleable__label-arrow:before {\n  content: \"▾\";\n}\n\n/* Pipeline/ColumnTransformer-specific style */\n\n#sk-container-id-2 div.sk-label input.sk-toggleable__control:checked~label.sk-toggleable__label {\n  color: var(--sklearn-color-text);\n  background-color: var(--sklearn-color-unfitted-level-2);\n}\n\n#sk-container-id-2 div.sk-label.fitted input.sk-toggleable__control:checked~label.sk-toggleable__label {\n  background-color: var(--sklearn-color-fitted-level-2);\n}\n\n/* Estimator-specific style */\n\n/* Colorize estimator box */\n#sk-container-id-2 div.sk-estimator input.sk-toggleable__control:checked~label.sk-toggleable__label {\n  /* unfitted */\n  background-color: var(--sklearn-color-unfitted-level-2);\n}\n\n#sk-container-id-2 div.sk-estimator.fitted input.sk-toggleable__control:checked~label.sk-toggleable__label {\n  /* fitted */\n  background-color: var(--sklearn-color-fitted-level-2);\n}\n\n#sk-container-id-2 div.sk-label label.sk-toggleable__label,\n#sk-container-id-2 div.sk-label label {\n  /* The background is the default theme color */\n  color: var(--sklearn-color-text-on-default-background);\n}\n\n/* On hover, darken the color of the background */\n#sk-container-id-2 div.sk-label:hover label.sk-toggleable__label {\n  color: var(--sklearn-color-text);\n  background-color: var(--sklearn-color-unfitted-level-2);\n}\n\n/* Label box, darken color on hover, fitted */\n#sk-container-id-2 div.sk-label.fitted:hover label.sk-toggleable__label.fitted {\n  color: var(--sklearn-color-text);\n  background-color: var(--sklearn-color-fitted-level-2);\n}\n\n/* Estimator label */\n\n#sk-container-id-2 div.sk-label label {\n  font-family: monospace;\n  font-weight: bold;\n  display: inline-block;\n  line-height: 1.2em;\n}\n\n#sk-container-id-2 div.sk-label-container {\n  text-align: center;\n}\n\n/* Estimator-specific */\n#sk-container-id-2 div.sk-estimator {\n  font-family: monospace;\n  border: 1px dotted var(--sklearn-color-border-box);\n  border-radius: 0.25em;\n  box-sizing: border-box;\n  margin-bottom: 0.5em;\n  /* unfitted */\n  background-color: var(--sklearn-color-unfitted-level-0);\n}\n\n#sk-container-id-2 div.sk-estimator.fitted {\n  /* fitted */\n  background-color: var(--sklearn-color-fitted-level-0);\n}\n\n/* on hover */\n#sk-container-id-2 div.sk-estimator:hover {\n  /* unfitted */\n  background-color: var(--sklearn-color-unfitted-level-2);\n}\n\n#sk-container-id-2 div.sk-estimator.fitted:hover {\n  /* fitted */\n  background-color: var(--sklearn-color-fitted-level-2);\n}\n\n/* Specification for estimator info (e.g. \"i\" and \"?\") */\n\n/* Common style for \"i\" and \"?\" */\n\n.sk-estimator-doc-link,\na:link.sk-estimator-doc-link,\na:visited.sk-estimator-doc-link {\n  float: right;\n  font-size: smaller;\n  line-height: 1em;\n  font-family: monospace;\n  background-color: var(--sklearn-color-background);\n  border-radius: 1em;\n  height: 1em;\n  width: 1em;\n  text-decoration: none !important;\n  margin-left: 1ex;\n  /* unfitted */\n  border: var(--sklearn-color-unfitted-level-1) 1pt solid;\n  color: var(--sklearn-color-unfitted-level-1);\n}\n\n.sk-estimator-doc-link.fitted,\na:link.sk-estimator-doc-link.fitted,\na:visited.sk-estimator-doc-link.fitted {\n  /* fitted */\n  border: var(--sklearn-color-fitted-level-1) 1pt solid;\n  color: var(--sklearn-color-fitted-level-1);\n}\n\n/* On hover */\ndiv.sk-estimator:hover .sk-estimator-doc-link:hover,\n.sk-estimator-doc-link:hover,\ndiv.sk-label-container:hover .sk-estimator-doc-link:hover,\n.sk-estimator-doc-link:hover {\n  /* unfitted */\n  background-color: var(--sklearn-color-unfitted-level-3);\n  color: var(--sklearn-color-background);\n  text-decoration: none;\n}\n\ndiv.sk-estimator.fitted:hover .sk-estimator-doc-link.fitted:hover,\n.sk-estimator-doc-link.fitted:hover,\ndiv.sk-label-container:hover .sk-estimator-doc-link.fitted:hover,\n.sk-estimator-doc-link.fitted:hover {\n  /* fitted */\n  background-color: var(--sklearn-color-fitted-level-3);\n  color: var(--sklearn-color-background);\n  text-decoration: none;\n}\n\n/* Span, style for the box shown on hovering the info icon */\n.sk-estimator-doc-link span {\n  display: none;\n  z-index: 9999;\n  position: relative;\n  font-weight: normal;\n  right: .2ex;\n  padding: .5ex;\n  margin: .5ex;\n  width: min-content;\n  min-width: 20ex;\n  max-width: 50ex;\n  color: var(--sklearn-color-text);\n  box-shadow: 2pt 2pt 4pt #999;\n  /* unfitted */\n  background: var(--sklearn-color-unfitted-level-0);\n  border: .5pt solid var(--sklearn-color-unfitted-level-3);\n}\n\n.sk-estimator-doc-link.fitted span {\n  /* fitted */\n  background: var(--sklearn-color-fitted-level-0);\n  border: var(--sklearn-color-fitted-level-3);\n}\n\n.sk-estimator-doc-link:hover span {\n  display: block;\n}\n\n/* \"?\"-specific style due to the `<a>` HTML tag */\n\n#sk-container-id-2 a.estimator_doc_link {\n  float: right;\n  font-size: 1rem;\n  line-height: 1em;\n  font-family: monospace;\n  background-color: var(--sklearn-color-background);\n  border-radius: 1rem;\n  height: 1rem;\n  width: 1rem;\n  text-decoration: none;\n  /* unfitted */\n  color: var(--sklearn-color-unfitted-level-1);\n  border: var(--sklearn-color-unfitted-level-1) 1pt solid;\n}\n\n#sk-container-id-2 a.estimator_doc_link.fitted {\n  /* fitted */\n  border: var(--sklearn-color-fitted-level-1) 1pt solid;\n  color: var(--sklearn-color-fitted-level-1);\n}\n\n/* On hover */\n#sk-container-id-2 a.estimator_doc_link:hover {\n  /* unfitted */\n  background-color: var(--sklearn-color-unfitted-level-3);\n  color: var(--sklearn-color-background);\n  text-decoration: none;\n}\n\n#sk-container-id-2 a.estimator_doc_link.fitted:hover {\n  /* fitted */\n  background-color: var(--sklearn-color-fitted-level-3);\n}\n</style><div id=\"sk-container-id-2\" class=\"sk-top-container\"><div class=\"sk-text-repr-fallback\"><pre>KNeighborsClassifier(algorithm=&#x27;kd_tree&#x27;)</pre><b>In a Jupyter environment, please rerun this cell to show the HTML representation or trust the notebook. <br />On GitHub, the HTML representation is unable to render, please try loading this page with nbviewer.org.</b></div><div class=\"sk-container\" hidden><div class=\"sk-item\"><div class=\"sk-estimator fitted sk-toggleable\"><input class=\"sk-toggleable__control sk-hidden--visually\" id=\"sk-estimator-id-2\" type=\"checkbox\" checked><label for=\"sk-estimator-id-2\" class=\"sk-toggleable__label fitted sk-toggleable__label-arrow fitted\">&nbsp;&nbsp;KNeighborsClassifier<a class=\"sk-estimator-doc-link fitted\" rel=\"noreferrer\" target=\"_blank\" href=\"https://scikit-learn.org/1.4/modules/generated/sklearn.neighbors.KNeighborsClassifier.html\">?<span>Documentation for KNeighborsClassifier</span></a><span class=\"sk-estimator-doc-link fitted\">i<span>Fitted</span></span></label><div class=\"sk-toggleable__content fitted\"><pre>KNeighborsClassifier(algorithm=&#x27;kd_tree&#x27;)</pre></div> </div></div></div></div>"
     },
     "execution_count": 9,
     "metadata": {},
     "output_type": "execute_result"
    }
   ],
   "source": [
    "knnd = KNeighborsClassifier(algorithm=\"kd_tree\", n_neighbors=5)\n",
    "knnd.fit(train_data_b, train_label_b.values.ravel())"
   ],
   "metadata": {
    "collapsed": false,
    "ExecuteTime": {
     "end_time": "2024-06-22T09:50:57.997708Z",
     "start_time": "2024-06-22T09:46:32.728410Z"
    }
   },
   "id": "ef2c98f1ac48e89f",
   "execution_count": 9
  },
  {
   "cell_type": "code",
   "outputs": [
    {
     "name": "stdout",
     "output_type": "stream",
     "text": [
      "Model accuracy score: 0.6361\n"
     ]
    }
   ],
   "source": [
    "y_pred_knnd = knnd.predict(test_data_b)\n",
    "print('Model accuracy score: {0:0.4f}'. format(accuracy_score(test_label_b,y_pred_knnd)))"
   ],
   "metadata": {
    "collapsed": false,
    "ExecuteTime": {
     "end_time": "2024-06-22T17:22:40.955863Z",
     "start_time": "2024-06-22T09:50:57.684080Z"
    }
   },
   "id": "382c8b356d38abf3",
   "execution_count": 10
  },
  {
   "cell_type": "code",
   "outputs": [],
   "source": [],
   "metadata": {
    "collapsed": false
   },
   "id": "2ef3a56b16bbe7c5"
  }
 ],
 "metadata": {
  "kernelspec": {
   "display_name": "Python 3",
   "language": "python",
   "name": "python3"
  },
  "language_info": {
   "codemirror_mode": {
    "name": "ipython",
    "version": 2
   },
   "file_extension": ".py",
   "mimetype": "text/x-python",
   "name": "python",
   "nbconvert_exporter": "python",
   "pygments_lexer": "ipython2",
   "version": "2.7.6"
  }
 },
 "nbformat": 4,
 "nbformat_minor": 5
}
