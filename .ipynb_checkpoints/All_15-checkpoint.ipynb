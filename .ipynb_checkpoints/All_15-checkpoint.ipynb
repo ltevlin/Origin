{
 "cells": [
  {
   "cell_type": "code",
   "outputs": [
    {
     "name": "stderr",
     "output_type": "stream",
     "text": [
      "2024-06-02 16:12:34.046692: I tensorflow/core/platform/cpu_feature_guard.cc:210] This TensorFlow binary is optimized to use available CPU instructions in performance-critical operations.\n",
      "To enable the following instructions: AVX2 FMA, in other operations, rebuild TensorFlow with the appropriate compiler flags.\n"
     ]
    }
   ],
   "source": [
    "import pandas as pd\n",
    "import numpy as np\n",
    "import json\n",
    "import dask.bag as db\n",
    "import dask.dataframe as dd\n",
    "import tensorflow as tf\n",
    "#import seaborn as sns\n",
    "import matplotlib.pyplot as plt\n",
    "from sklearn.model_selection import train_test_split\n",
    "from sklearn.preprocessing import LabelEncoder, StandardScaler\n",
    "from sklearn.tree import DecisionTreeClassifier\n",
    "from sklearn.metrics import accuracy_score\n",
    "from IPython.display import Latex"
   ],
   "metadata": {
    "collapsed": false,
    "ExecuteTime": {
     "end_time": "2024-06-02T14:12:37.440441Z",
     "start_time": "2024-06-02T14:12:31.264664Z"
    }
   },
   "id": "f5935b4d7379b2f0",
   "execution_count": 1
  },
  {
   "cell_type": "markdown",
   "source": [
    "<a id=\"0\"></a> <br>\n",
    " # Table of Contents\n",
    "* [Part I,  From bres_0410 select impressions with sflr == 15] (#part1)\n",
    "<a href='part1'></a>\n",
    "* [Part II] Extract relevant fields from the raw bres_0410 with sflr == 15: resulting file 'processed_bres_15_0410.pkl' (#part2)\n",
    "3. For sflor = sbpr = 15 mark those impressions that are in om_0410 with Y or N depending on whether the bid was successful or not\n",
    "4. For sbpr != 15 eliminate those impressions that are not in om_0410: resulting file \"clean_bres_15_0410_YN.pkl\" NB - don't do that!\n",
    "5. Clean the resulting dataframe\n",
    "    a. convert time to tod\n",
    "    b. cleanup the text /categories in the columns\n",
    "6. Split the dataframe into two:  sbpr = 15 and sbpr != 15 \n",
    "7. Use sbpr = 15 for classification.\n",
    "8. Based on the model in 6 predict which impressions should not be in sbpr != 15 dataframe. Eliminate those from the dataframe\n",
    "9. Plot the probability.\n"
   ],
   "metadata": {
    "collapsed": false
   },
   "id": "5a32ae99b0ccb641"
  },
  {
   "cell_type": "markdown",
   "source": [
    "<a id=\"part1\"></a> <br>\n",
    "Part I: From bres_0410 select impressions with sflor == 15\n"
   ],
   "metadata": {
    "collapsed": false
   },
   "id": "da182164d659c4d4"
  },
  {
   "cell_type": "code",
   "outputs": [],
   "source": [
    "df = dd.read_json('bres_0410.json', blocksize=\"128 MiB\", lines=True)"
   ],
   "metadata": {
    "collapsed": false,
    "ExecuteTime": {
     "end_time": "2024-05-25T23:12:34.872279Z",
     "start_time": "2024-05-25T23:12:34.777364Z"
    }
   },
   "id": "9f0f373c969d0dbe",
   "execution_count": 106
  },
  {
   "cell_type": "code",
   "outputs": [],
   "source": [
    "df1 = df.drop(['level', 'demand_partner', 'opn', 'dbpr', 'dflr', 'kgrp', 'message','bidresponse'], axis=1)"
   ],
   "metadata": {
    "collapsed": false,
    "ExecuteTime": {
     "end_time": "2024-05-25T23:12:38.602283Z",
     "start_time": "2024-05-25T23:12:38.572935Z"
    }
   },
   "id": "82e18c4848da1b28",
   "execution_count": 107
  },
  {
   "cell_type": "code",
   "outputs": [],
   "source": [
    "df_raw_15 = df1[df1['sflr']== 15.0].drop(['sflr'], axis=1).reset_index(drop=True)\n"
   ],
   "metadata": {
    "collapsed": false,
    "ExecuteTime": {
     "end_time": "2024-05-25T23:12:41.799120Z",
     "start_time": "2024-05-25T23:12:41.776482Z"
    }
   },
   "id": "7c7223904172ec87",
   "execution_count": 108
  },
  {
   "cell_type": "code",
   "outputs": [],
   "source": [
    "df_raw_15  = df_raw_15.compute()"
   ],
   "metadata": {
    "collapsed": false,
    "ExecuteTime": {
     "end_time": "2024-05-25T23:22:36.054210Z",
     "start_time": "2024-05-25T23:12:46.076499Z"
    }
   },
   "id": "87a3928823ca2f9c",
   "execution_count": 109
  },
  {
   "cell_type": "code",
   "outputs": [
    {
     "data": {
      "text/plain": "   sbpr  publisher_id                                         bidrequest  \\\n0  15.7        650003  {\"id\":\"faf22f54-7e31-4e82-90f6-d06d7713f9cf\",\"...   \n1  15.1        650003  {\"id\":\"ca929559-cb99-4670-9f64-d7544fd5875d\",\"...   \n2  15.0        650003  {\"id\":\"078615b0-842e-4832-9ca9-0cc93ef3fc77\",\"...   \n3  15.7        650003  {\"id\":\"e118907e-f7f1-4c93-aec5-9b6b14bf2083\",\"...   \n4  15.0        650003  {\"id\":\"8113435b-0e7c-4e7d-9ddc-146bfb4476ae\",\"...   \n\n                   time  \n0  2024-04-10T10:00:08Z  \n1  2024-04-10T10:00:08Z  \n2  2024-04-10T10:00:09Z  \n3  2024-04-10T10:00:15Z  \n4  2024-04-10T10:00:16Z  ",
      "text/html": "<div>\n<style scoped>\n    .dataframe tbody tr th:only-of-type {\n        vertical-align: middle;\n    }\n\n    .dataframe tbody tr th {\n        vertical-align: top;\n    }\n\n    .dataframe thead th {\n        text-align: right;\n    }\n</style>\n<table border=\"1\" class=\"dataframe\">\n  <thead>\n    <tr style=\"text-align: right;\">\n      <th></th>\n      <th>sbpr</th>\n      <th>publisher_id</th>\n      <th>bidrequest</th>\n      <th>time</th>\n    </tr>\n  </thead>\n  <tbody>\n    <tr>\n      <th>0</th>\n      <td>15.7</td>\n      <td>650003</td>\n      <td>{\"id\":\"faf22f54-7e31-4e82-90f6-d06d7713f9cf\",\"...</td>\n      <td>2024-04-10T10:00:08Z</td>\n    </tr>\n    <tr>\n      <th>1</th>\n      <td>15.1</td>\n      <td>650003</td>\n      <td>{\"id\":\"ca929559-cb99-4670-9f64-d7544fd5875d\",\"...</td>\n      <td>2024-04-10T10:00:08Z</td>\n    </tr>\n    <tr>\n      <th>2</th>\n      <td>15.0</td>\n      <td>650003</td>\n      <td>{\"id\":\"078615b0-842e-4832-9ca9-0cc93ef3fc77\",\"...</td>\n      <td>2024-04-10T10:00:09Z</td>\n    </tr>\n    <tr>\n      <th>3</th>\n      <td>15.7</td>\n      <td>650003</td>\n      <td>{\"id\":\"e118907e-f7f1-4c93-aec5-9b6b14bf2083\",\"...</td>\n      <td>2024-04-10T10:00:15Z</td>\n    </tr>\n    <tr>\n      <th>4</th>\n      <td>15.0</td>\n      <td>650003</td>\n      <td>{\"id\":\"8113435b-0e7c-4e7d-9ddc-146bfb4476ae\",\"...</td>\n      <td>2024-04-10T10:00:16Z</td>\n    </tr>\n  </tbody>\n</table>\n</div>"
     },
     "execution_count": 155,
     "metadata": {},
     "output_type": "execute_result"
    }
   ],
   "source": [
    "df_raw_15.head()"
   ],
   "metadata": {
    "collapsed": false,
    "ExecuteTime": {
     "end_time": "2024-05-26T08:57:17.809648Z",
     "start_time": "2024-05-26T08:57:17.776914Z"
    }
   },
   "id": "4bb3986429c29796",
   "execution_count": 155
  },
  {
   "cell_type": "code",
   "outputs": [],
   "source": [
    "df_raw_15.to_pickle(\"raw_bres_15_0410.pkl\")"
   ],
   "metadata": {
    "collapsed": false,
    "ExecuteTime": {
     "end_time": "2024-05-25T23:24:15.414428Z",
     "start_time": "2024-05-25T23:24:10.195393Z"
    }
   },
   "id": "c4db37603b4c2060",
   "execution_count": 111
  },
  {
   "cell_type": "code",
   "outputs": [],
   "source": [
    "df_raw_15 = pd.read_pickle(\"raw_bres_15_0410.pkl\")"
   ],
   "metadata": {
    "collapsed": false,
    "ExecuteTime": {
     "end_time": "2024-05-27T21:36:24.888348Z",
     "start_time": "2024-05-27T21:36:23.598045Z"
    }
   },
   "id": "77d94458791fb83d",
   "execution_count": 117
  },
  {
   "cell_type": "code",
   "outputs": [
    {
     "data": {
      "text/plain": "'{\"id\":\"faf22f54-7e31-4e82-90f6-d06d7713f9cf\",\"imp\":[{\"id\":\"1\",\"video\":{\"mimes\":[\"video/mp4\",\"video/ogg\",\"video/webm\"],\"minduration\":1,\"maxduration\":70,\"startdelay\":-1,\"protocols\":[1,2,3,4,5,6],\"w\":1920,\"h\":1080,\"placement\":1,\"linearity\":1,\"sequence\":1,\"minbitrate\":1,\"maxbitrate\":280000},\"tagid\":\"711665\",\"bidfloor\":16.5,\"bidfloorcur\":\"USD\",\"secure\":1,\"exp\":7080,\"ext\":{\"bidder\":{\"adunit\":\"61833625\"}}},{\"id\":\"2\",\"video\":{\"mimes\":[\"video/mp4\",\"video/ogg\",\"video/webm\"],\"minduration\":1,\"maxduration\":70,\"startdelay\":-1,\"protocols\":[1,2,3,4,5,6],\"w\":1920,\"h\":1080,\"placement\":1,\"linearity\":1,\"sequence\":2,\"minbitrate\":1,\"maxbitrate\":280000},\"tagid\":\"711665\",\"bidfloor\":16.5,\"bidfloorcur\":\"USD\",\"secure\":1,\"exp\":7080,\"ext\":{\"bidder\":{\"adunit\":\"61833625\"}}},{\"id\":\"3\",\"video\":{\"mimes\":[\"video/mp4\",\"video/ogg\",\"video/webm\"],\"minduration\":1,\"maxduration\":70,\"startdelay\":-1,\"protocols\":[1,2,3,4,5,6],\"w\":1920,\"h\":1080,\"placement\":1,\"linearity\":1,\"sequence\":3,\"minbitrate\":1,\"maxbitrate\":280000},\"tagid\":\"711665\",\"bidfloor\":16.5,\"bidfloorcur\":\"USD\",\"secure\":1,\"exp\":7080,\"ext\":{\"bidder\":{\"adunit\":\"61833625\"}}},{\"id\":\"4\",\"video\":{\"mimes\":[\"video/mp4\",\"video/ogg\",\"video/webm\"],\"minduration\":1,\"maxduration\":70,\"startdelay\":-1,\"protocols\":[1,2,3,4,5,6],\"w\":1920,\"h\":1080,\"placement\":1,\"linearity\":1,\"sequence\":4,\"minbitrate\":1,\"maxbitrate\":280000},\"tagid\":\"711665\",\"bidfloor\":16.5,\"bidfloorcur\":\"USD\",\"secure\":1,\"exp\":7080,\"ext\":{\"bidder\":{\"adunit\":\"61833625\"}}}],\"app\":{\"id\":\"711665\",\"name\":\"SLING: Live TV, Shows \\\\u0026 Movies\",\"bundle\":\"com.sling\",\"storeurl\":\"https://play.google.com/store/apps/details?id=com.sling\",\"publisher\":{\"id\":\"1034\"},\"content\":{}},\"device\":{\"geo\":{\"lat\":29.81,\"lon\":-95.5608,\"type\":2,\"ipservice\":3,\"country\":\"USA\",\"region\":\"TX\",\"metro\":\"618\",\"city\":\"Houston\",\"zip\":\"77043\"},\"dnt\":0,\"lmt\":0,\"ua\":\"Dalvik/2.1.0 (Linux; U; Android 11; Smart TV Build/AR2101)\",\"ip\":\"12.75.41.74\",\"devicetype\":3,\"make\":\"Generic\",\"model\":\"Generic Android TV\",\"os\":\"Android\",\"language\":\"en\",\"ifa\":\"2dc2b219-fbb5-4697-86c9-2e29689c3293\",\"ext\":{\"ifa_type\":\"aaid\",\"idfa\":\"2dc2b219-fbb5-4697-86c9-2e29689c3293\"}},\"user\":{\"id\":\"fe9fcf20-0ca0-40e9-a71b-112a0f85d167\"},\"at\":1,\"tmax\":2850,\"source\":{\"ext\":{\"schain\":{\"complete\":1,\"nodes\":[{\"asi\":\"originmedia.tv\",\"sid\":\"61833625\",\"rid\":\"faf22f54-7e31-4e82-90f6-d06d7713f9cf\",\"hp\":1,\"ext\":null}],\"ver\":\"1.0\",\"ext\":null}}},\"regs\":{\"ext\":{\"gdpr\":0,\"us_privacy\":\"1---\",\"dsa\":{\"transparency\":[]}}}}'"
     },
     "execution_count": 118,
     "metadata": {},
     "output_type": "execute_result"
    }
   ],
   "source": [
    "df_raw_15.bidrequest.iloc[0]"
   ],
   "metadata": {
    "collapsed": false,
    "ExecuteTime": {
     "end_time": "2024-05-27T21:36:28.341568Z",
     "start_time": "2024-05-27T21:36:28.272842Z"
    }
   },
   "id": "54b68b506670166",
   "execution_count": 118
  },
  {
   "cell_type": "code",
   "outputs": [
    {
     "data": {
      "text/plain": "dict_keys(['id', 'imp', 'app', 'device', 'user', 'at', 'tmax', 'source', 'regs'])"
     },
     "execution_count": 140,
     "metadata": {},
     "output_type": "execute_result"
    }
   ],
   "source": [
    "json.loads(df_raw_15.bidrequest.iloc[0]).keys()"
   ],
   "metadata": {
    "collapsed": false,
    "ExecuteTime": {
     "end_time": "2024-05-27T21:43:48.770738Z",
     "start_time": "2024-05-27T21:43:48.748767Z"
    }
   },
   "id": "df8d9a018b351b71",
   "execution_count": 140
  },
  {
   "cell_type": "code",
   "outputs": [
    {
     "data": {
      "text/plain": "{'id': '711665',\n 'name': 'XUMO',\n 'bundle': '96065',\n 'storeurl': 'https://channelstore.roku.com/details/0c039747df5e78fba4509a8de79fbeab/xumo-free-movies-and-tv',\n 'publisher': {'id': '1034'},\n 'content': {}}"
     },
     "execution_count": 145,
     "metadata": {},
     "output_type": "execute_result"
    }
   ],
   "source": [
    "json.loads(df_raw_15.bidrequest.iloc[11231])['app']"
   ],
   "metadata": {
    "collapsed": false,
    "ExecuteTime": {
     "end_time": "2024-05-27T21:46:16.355640Z",
     "start_time": "2024-05-27T21:46:16.216144Z"
    }
   },
   "id": "a512d0b9ca1750b0",
   "execution_count": 145
  },
  {
   "cell_type": "code",
   "outputs": [
    {
     "data": {
      "text/plain": "{'geo': {'lat': 47.6137,\n  'lon': -122.3104,\n  'type': 2,\n  'ipservice': 3,\n  'country': 'USA',\n  'region': 'WA',\n  'metro': '819',\n  'city': 'Seattle',\n  'zip': '98122'},\n 'dnt': 0,\n 'lmt': 0,\n 'ua': 'AppleTV5,3/13.4',\n 'ip': '107.122.85.70',\n 'devicetype': 7,\n 'make': 'Apple',\n 'model': 'TV A1625',\n 'os': 'Other',\n 'language': 'en',\n 'ifa': '78ba151e-6eea-495b-8550-546371248d7c',\n 'ext': {'ifa_type': 'idfa', 'idfa': '78ba151e-6eea-495b-8550-546371248d7c'}}"
     },
     "execution_count": 158,
     "metadata": {},
     "output_type": "execute_result"
    }
   ],
   "source": [
    "json.loads(df_raw_15.bidrequest.iloc[11])['device']"
   ],
   "metadata": {
    "collapsed": false,
    "ExecuteTime": {
     "end_time": "2024-05-27T22:27:26.920400Z",
     "start_time": "2024-05-27T22:27:26.819627Z"
    }
   },
   "id": "662862b677e774f8",
   "execution_count": 158
  },
  {
   "cell_type": "code",
   "outputs": [
    {
     "data": {
      "text/plain": "{'ext': {'schain': {'complete': 1,\n   'nodes': [{'asi': 'originmedia.tv',\n     'sid': '61833625',\n     'rid': '6ec6d4f4-bddc-4595-bfbb-2118f2601ebe',\n     'hp': 1,\n     'ext': None}],\n   'ver': '1.0',\n   'ext': None}}}"
     },
     "execution_count": 150,
     "metadata": {},
     "output_type": "execute_result"
    }
   ],
   "source": [
    "json.loads(df_raw_15.bidrequest.iloc[11231])['source']"
   ],
   "metadata": {
    "collapsed": false,
    "ExecuteTime": {
     "end_time": "2024-05-27T21:47:25.456568Z",
     "start_time": "2024-05-27T21:47:25.099558Z"
    }
   },
   "id": "cd013e1fe9b83937",
   "execution_count": 150
  },
  {
   "cell_type": "markdown",
   "source": [
    "Part II, extract features from the raw file."
   ],
   "metadata": {
    "collapsed": false
   },
   "id": "4bbb01e4cb325149"
  },
  {
   "cell_type": "code",
   "outputs": [],
   "source": [
    "def extract_features(df_raw):\n",
    "    list = []\n",
    "    for i in range(len(df_raw)):\n",
    "        d1 = {k:v for k,v in json.loads(df_raw.bidrequest.iloc[i]).items() if k not in ['source','at','tmax','user','regs']}\n",
    "        d2 = {}\n",
    "        d2['id'] = d1['id']\n",
    "        if 'minduration' in d1['imp'][0]['video'].keys():\n",
    "            d2['minduration'] = d1['imp'][0]['video']['minduration']\n",
    "        else: d2['minduration'] = np.nan\n",
    "        d2['maxduration'] = d1['imp'][0]['video']['maxduration']\n",
    "        d2['minbitrate']= d1['imp'][0]['video']['minbitrate']\n",
    "        d2['maxbitrate']= d1['imp'][0]['video']['maxbitrate']  \n",
    "        if 'app' in d1.keys():\n",
    "            if 'id' in d1['app'].keys():\n",
    "                d2['app_id'] = d1['app']['id']\n",
    "            else: d2['app_id'] = np.nan\n",
    "            if 'name' in d1['app'].keys():\n",
    "                d2['app_name'] = d1['app']['name']\n",
    "            else: d2['app_name'] = np.nan\n",
    "            if 'bundle' in d1['app'].keys():\n",
    "                d2['app_bundle'] = d1['app']['bundle']\n",
    "            else: d2['app_bundle'] = np.nan\n",
    "            d2['app_pub_id'] = d1['app']['publisher']['id']\n",
    "            if 'content' in d1['app'].keys():\n",
    "                if 'genre' in d1['app']['content'].keys():\n",
    "                    d2['genre'] = d1['app']['content']['genre']\n",
    "                else: d2['genre'] = np.nan\n",
    "                if 'language' in d1['app']['content'].keys():\n",
    "                    d2['language'] = d1['app']['content']['language']\n",
    "                else: d2['language'] = np.nan\n",
    "            else: d2['genre'] = d2['language'] = np.nan\n",
    "        else: d2['app_id'] = d2['app_bundle']= d2['app_pub_id'] = d2['genre'] = d2['language'] = np.nan\n",
    "        d2['device_make'] = d1['device']['make']\n",
    "        if 'model' in d1['device'].keys():\n",
    "            d2['device_model'] = d1['device']['model']\n",
    "        else: d2['device_model'] = np.nan\n",
    "        if 'os' in d1['device'].keys():\n",
    "            d2['device_os'] = d1['device']['os']\n",
    "        else: d2['device_os'] = np.nan\n",
    "        if 'language' in d1['device'].keys():\n",
    "            d2['device_language'] = d1['device']['language']\n",
    "        else: d2['device_language'] = np.nan\n",
    "        if 'geo' in d1['device'].keys() and 'region' in d1['device']['geo'].keys():\n",
    "            d2['geo_region'] = d1['device']['geo']['region']\n",
    "        else: d2['geo_region'] = np.nan\n",
    "        if 'geo' in d1['device'].keys() and 'metro' in d1['device']['geo'].keys():\n",
    "            d2['geo_metro'] = d1['device']['geo']['metro']\n",
    "        else: d2['geo_metro'] = np.nan\n",
    "        list.append(d2)\n",
    "    df_cl = pd.DataFrame(list)\n",
    "#    time_df = pd.to_datetime(df_raw.time).dt.tz_localize(None)\n",
    "#    df_cl = df_cl.assign(time=time_df)\n",
    "    #df_cl = df_cl.join(sbpr=df_raw.sbpr)\n",
    "    return df_cl"
   ],
   "metadata": {
    "collapsed": false,
    "ExecuteTime": {
     "end_time": "2024-05-27T22:23:25.413911Z",
     "start_time": "2024-05-27T22:23:25.288081Z"
    }
   },
   "id": "997fb1fe3c4d5b0f",
   "execution_count": 151
  },
  {
   "cell_type": "code",
   "outputs": [],
   "source": [
    "df_extracted_15 = extract_features(df_raw_15)"
   ],
   "metadata": {
    "collapsed": false,
    "ExecuteTime": {
     "end_time": "2024-05-27T22:24:05.486934Z",
     "start_time": "2024-05-27T22:23:32.037754Z"
    }
   },
   "id": "b01df0c34a1abdae",
   "execution_count": 152
  },
  {
   "cell_type": "code",
   "outputs": [
    {
     "data": {
      "text/plain": "                                     id  minduration  maxduration  minbitrate  \\\n0  faf22f54-7e31-4e82-90f6-d06d7713f9cf            1           70           1   \n1  ca929559-cb99-4670-9f64-d7544fd5875d            1           70           1   \n2  078615b0-842e-4832-9ca9-0cc93ef3fc77            1           70           1   \n3  e118907e-f7f1-4c93-aec5-9b6b14bf2083            1           70           1   \n4  8113435b-0e7c-4e7d-9ddc-146bfb4476ae            1           60           1   \n\n   maxbitrate  app_id                        app_name    app_bundle  \\\n0      280000  711665  SLING: Live TV, Shows & Movies     com.sling   \n1      280000  711665  SLING: Live TV, Shows & Movies     com.sling   \n2      280000  711667                            Plex  G00002687241   \n3      280000  711667  SLING: Live TV, Shows & Movies     com.sling   \n4      280000  711667  fuboTV: Watch Live Sports & TV     905401434   \n\n  app_pub_id genre language device_make        device_model device_os  \\\n0       1034   NaN      NaN     Generic  Generic Android TV   Android   \n1       1034   NaN      NaN     Generic  Generic Android TV   Android   \n2       1034   NaN       en     Samsung            Tizen TV     Tizen   \n3       1034   NaN       en     Generic  Generic Android TV   Android   \n4       1034   NaN       en       Apple            TV A1625     Other   \n\n  device_language geo_region geo_metro  \n0              en         TX       618  \n1              en         TX       618  \n2              en         FL       528  \n3              en         HI       744  \n4              en         MI       513  ",
      "text/html": "<div>\n<style scoped>\n    .dataframe tbody tr th:only-of-type {\n        vertical-align: middle;\n    }\n\n    .dataframe tbody tr th {\n        vertical-align: top;\n    }\n\n    .dataframe thead th {\n        text-align: right;\n    }\n</style>\n<table border=\"1\" class=\"dataframe\">\n  <thead>\n    <tr style=\"text-align: right;\">\n      <th></th>\n      <th>id</th>\n      <th>minduration</th>\n      <th>maxduration</th>\n      <th>minbitrate</th>\n      <th>maxbitrate</th>\n      <th>app_id</th>\n      <th>app_name</th>\n      <th>app_bundle</th>\n      <th>app_pub_id</th>\n      <th>genre</th>\n      <th>language</th>\n      <th>device_make</th>\n      <th>device_model</th>\n      <th>device_os</th>\n      <th>device_language</th>\n      <th>geo_region</th>\n      <th>geo_metro</th>\n    </tr>\n  </thead>\n  <tbody>\n    <tr>\n      <th>0</th>\n      <td>faf22f54-7e31-4e82-90f6-d06d7713f9cf</td>\n      <td>1</td>\n      <td>70</td>\n      <td>1</td>\n      <td>280000</td>\n      <td>711665</td>\n      <td>SLING: Live TV, Shows &amp; Movies</td>\n      <td>com.sling</td>\n      <td>1034</td>\n      <td>NaN</td>\n      <td>NaN</td>\n      <td>Generic</td>\n      <td>Generic Android TV</td>\n      <td>Android</td>\n      <td>en</td>\n      <td>TX</td>\n      <td>618</td>\n    </tr>\n    <tr>\n      <th>1</th>\n      <td>ca929559-cb99-4670-9f64-d7544fd5875d</td>\n      <td>1</td>\n      <td>70</td>\n      <td>1</td>\n      <td>280000</td>\n      <td>711665</td>\n      <td>SLING: Live TV, Shows &amp; Movies</td>\n      <td>com.sling</td>\n      <td>1034</td>\n      <td>NaN</td>\n      <td>NaN</td>\n      <td>Generic</td>\n      <td>Generic Android TV</td>\n      <td>Android</td>\n      <td>en</td>\n      <td>TX</td>\n      <td>618</td>\n    </tr>\n    <tr>\n      <th>2</th>\n      <td>078615b0-842e-4832-9ca9-0cc93ef3fc77</td>\n      <td>1</td>\n      <td>70</td>\n      <td>1</td>\n      <td>280000</td>\n      <td>711667</td>\n      <td>Plex</td>\n      <td>G00002687241</td>\n      <td>1034</td>\n      <td>NaN</td>\n      <td>en</td>\n      <td>Samsung</td>\n      <td>Tizen TV</td>\n      <td>Tizen</td>\n      <td>en</td>\n      <td>FL</td>\n      <td>528</td>\n    </tr>\n    <tr>\n      <th>3</th>\n      <td>e118907e-f7f1-4c93-aec5-9b6b14bf2083</td>\n      <td>1</td>\n      <td>70</td>\n      <td>1</td>\n      <td>280000</td>\n      <td>711667</td>\n      <td>SLING: Live TV, Shows &amp; Movies</td>\n      <td>com.sling</td>\n      <td>1034</td>\n      <td>NaN</td>\n      <td>en</td>\n      <td>Generic</td>\n      <td>Generic Android TV</td>\n      <td>Android</td>\n      <td>en</td>\n      <td>HI</td>\n      <td>744</td>\n    </tr>\n    <tr>\n      <th>4</th>\n      <td>8113435b-0e7c-4e7d-9ddc-146bfb4476ae</td>\n      <td>1</td>\n      <td>60</td>\n      <td>1</td>\n      <td>280000</td>\n      <td>711667</td>\n      <td>fuboTV: Watch Live Sports &amp; TV</td>\n      <td>905401434</td>\n      <td>1034</td>\n      <td>NaN</td>\n      <td>en</td>\n      <td>Apple</td>\n      <td>TV A1625</td>\n      <td>Other</td>\n      <td>en</td>\n      <td>MI</td>\n      <td>513</td>\n    </tr>\n  </tbody>\n</table>\n</div>"
     },
     "execution_count": 153,
     "metadata": {},
     "output_type": "execute_result"
    }
   ],
   "source": [
    "df_extracted_15.head()"
   ],
   "metadata": {
    "collapsed": false,
    "ExecuteTime": {
     "end_time": "2024-05-27T22:24:09.404865Z",
     "start_time": "2024-05-27T22:24:09.281287Z"
    }
   },
   "id": "642d6965979aa8d3",
   "execution_count": 153
  },
  {
   "cell_type": "code",
   "outputs": [
    {
     "data": {
      "text/plain": "531355"
     },
     "execution_count": 154,
     "metadata": {},
     "output_type": "execute_result"
    }
   ],
   "source": [
    "df_extracted_15.index.nunique()"
   ],
   "metadata": {
    "collapsed": false,
    "ExecuteTime": {
     "end_time": "2024-05-27T22:24:55.725557Z",
     "start_time": "2024-05-27T22:24:55.666900Z"
    }
   },
   "id": "4ec382f89805ffdf",
   "execution_count": 154
  },
  {
   "cell_type": "markdown",
   "source": [
    "add time and sbpr columns from the raw data"
   ],
   "metadata": {
    "collapsed": false
   },
   "id": "cbd074bc64956109"
  },
  {
   "cell_type": "code",
   "outputs": [],
   "source": [
    "df_extracted_15 = df_extracted_15.assign(time=pd.to_datetime(df_raw_15.time).dt.tz_localize(None).reset_index(drop=True))"
   ],
   "metadata": {
    "collapsed": false,
    "ExecuteTime": {
     "end_time": "2024-05-27T22:25:13.412833Z",
     "start_time": "2024-05-27T22:25:08.957448Z"
    }
   },
   "id": "fcfdd08dab5f3bfb",
   "execution_count": 155
  },
  {
   "cell_type": "code",
   "outputs": [],
   "source": [
    "df_extracted_15= df_extracted_15.assign(sbpr=df_raw_15.sbpr.reset_index(drop=True))"
   ],
   "metadata": {
    "collapsed": false,
    "ExecuteTime": {
     "end_time": "2024-05-25T23:49:13.652737Z",
     "start_time": "2024-05-25T23:49:13.500119Z"
    }
   },
   "id": "827d7f62012763d0",
   "execution_count": 150
  },
  {
   "cell_type": "code",
   "outputs": [
    {
     "data": {
      "text/plain": "531355"
     },
     "execution_count": 156,
     "metadata": {},
     "output_type": "execute_result"
    }
   ],
   "source": [
    "len(df_extracted_15)"
   ],
   "metadata": {
    "collapsed": false,
    "ExecuteTime": {
     "end_time": "2024-05-27T22:25:42.053696Z",
     "start_time": "2024-05-27T22:25:42.000608Z"
    }
   },
   "id": "ace764525cabe4ad",
   "execution_count": 156
  },
  {
   "cell_type": "code",
   "outputs": [
    {
     "data": {
      "text/plain": "                                     id  minduration  maxduration  minbitrate  \\\n0  faf22f54-7e31-4e82-90f6-d06d7713f9cf            1           70           1   \n1  ca929559-cb99-4670-9f64-d7544fd5875d            1           70           1   \n2  078615b0-842e-4832-9ca9-0cc93ef3fc77            1           70           1   \n3  e118907e-f7f1-4c93-aec5-9b6b14bf2083            1           70           1   \n4  8113435b-0e7c-4e7d-9ddc-146bfb4476ae            1           60           1   \n\n   maxbitrate  app_id    app_bundle app_pub_id genre language device_make  \\\n0      280000  711665     com.sling       1034   NaN      NaN     Generic   \n1      280000  711665     com.sling       1034   NaN      NaN     Generic   \n2      280000  711667  G00002687241       1034   NaN       en     Samsung   \n3      280000  711667     com.sling       1034   NaN       en     Generic   \n4      280000  711667     905401434       1034   NaN       en       Apple   \n\n         device_model geo_metro                time  sbpr  \n0  Generic Android TV       618 2024-04-10 10:00:08  15.7  \n1  Generic Android TV       618 2024-04-10 10:00:08  15.1  \n2            Tizen TV       528 2024-04-10 10:00:09  15.0  \n3  Generic Android TV       744 2024-04-10 10:00:15  15.7  \n4            TV A1625       513 2024-04-10 10:00:16  15.0  ",
      "text/html": "<div>\n<style scoped>\n    .dataframe tbody tr th:only-of-type {\n        vertical-align: middle;\n    }\n\n    .dataframe tbody tr th {\n        vertical-align: top;\n    }\n\n    .dataframe thead th {\n        text-align: right;\n    }\n</style>\n<table border=\"1\" class=\"dataframe\">\n  <thead>\n    <tr style=\"text-align: right;\">\n      <th></th>\n      <th>id</th>\n      <th>minduration</th>\n      <th>maxduration</th>\n      <th>minbitrate</th>\n      <th>maxbitrate</th>\n      <th>app_id</th>\n      <th>app_bundle</th>\n      <th>app_pub_id</th>\n      <th>genre</th>\n      <th>language</th>\n      <th>device_make</th>\n      <th>device_model</th>\n      <th>geo_metro</th>\n      <th>time</th>\n      <th>sbpr</th>\n    </tr>\n  </thead>\n  <tbody>\n    <tr>\n      <th>0</th>\n      <td>faf22f54-7e31-4e82-90f6-d06d7713f9cf</td>\n      <td>1</td>\n      <td>70</td>\n      <td>1</td>\n      <td>280000</td>\n      <td>711665</td>\n      <td>com.sling</td>\n      <td>1034</td>\n      <td>NaN</td>\n      <td>NaN</td>\n      <td>Generic</td>\n      <td>Generic Android TV</td>\n      <td>618</td>\n      <td>2024-04-10 10:00:08</td>\n      <td>15.7</td>\n    </tr>\n    <tr>\n      <th>1</th>\n      <td>ca929559-cb99-4670-9f64-d7544fd5875d</td>\n      <td>1</td>\n      <td>70</td>\n      <td>1</td>\n      <td>280000</td>\n      <td>711665</td>\n      <td>com.sling</td>\n      <td>1034</td>\n      <td>NaN</td>\n      <td>NaN</td>\n      <td>Generic</td>\n      <td>Generic Android TV</td>\n      <td>618</td>\n      <td>2024-04-10 10:00:08</td>\n      <td>15.1</td>\n    </tr>\n    <tr>\n      <th>2</th>\n      <td>078615b0-842e-4832-9ca9-0cc93ef3fc77</td>\n      <td>1</td>\n      <td>70</td>\n      <td>1</td>\n      <td>280000</td>\n      <td>711667</td>\n      <td>G00002687241</td>\n      <td>1034</td>\n      <td>NaN</td>\n      <td>en</td>\n      <td>Samsung</td>\n      <td>Tizen TV</td>\n      <td>528</td>\n      <td>2024-04-10 10:00:09</td>\n      <td>15.0</td>\n    </tr>\n    <tr>\n      <th>3</th>\n      <td>e118907e-f7f1-4c93-aec5-9b6b14bf2083</td>\n      <td>1</td>\n      <td>70</td>\n      <td>1</td>\n      <td>280000</td>\n      <td>711667</td>\n      <td>com.sling</td>\n      <td>1034</td>\n      <td>NaN</td>\n      <td>en</td>\n      <td>Generic</td>\n      <td>Generic Android TV</td>\n      <td>744</td>\n      <td>2024-04-10 10:00:15</td>\n      <td>15.7</td>\n    </tr>\n    <tr>\n      <th>4</th>\n      <td>8113435b-0e7c-4e7d-9ddc-146bfb4476ae</td>\n      <td>1</td>\n      <td>60</td>\n      <td>1</td>\n      <td>280000</td>\n      <td>711667</td>\n      <td>905401434</td>\n      <td>1034</td>\n      <td>NaN</td>\n      <td>en</td>\n      <td>Apple</td>\n      <td>TV A1625</td>\n      <td>513</td>\n      <td>2024-04-10 10:00:16</td>\n      <td>15.0</td>\n    </tr>\n  </tbody>\n</table>\n</div>"
     },
     "execution_count": 154,
     "metadata": {},
     "output_type": "execute_result"
    }
   ],
   "source": [
    "df_extracted_15.head()"
   ],
   "metadata": {
    "collapsed": false,
    "ExecuteTime": {
     "end_time": "2024-05-26T08:55:47.413995Z",
     "start_time": "2024-05-26T08:55:47.402498Z"
    }
   },
   "id": "c2bb4cfc5113e74e",
   "execution_count": 154
  },
  {
   "cell_type": "code",
   "outputs": [],
   "source": [
    "df_extracted_15.to_pickle(\"extracted_bres_15_0410.pkl\")"
   ],
   "metadata": {
    "collapsed": false,
    "ExecuteTime": {
     "end_time": "2024-05-27T22:25:51.854749Z",
     "start_time": "2024-05-27T22:25:49.048264Z"
    }
   },
   "id": "9296f303f1b564aa",
   "execution_count": 157
  },
  {
   "cell_type": "code",
   "outputs": [],
   "source": [
    "def extract_features_row(df_row):\n",
    "    d1 = {k:v for k,v in json.loads(df_row.bidrequest).items() if k not in ['source','at','tmax','user','regs']}\n",
    "    d2 = {}\n",
    "    d2['id'] = d1['id']\n",
    "    if 'minduration' in d1['imp'][0]['video'].keys():\n",
    "        d2['minduration'] = d1['imp'][0]['video']['minduration']\n",
    "    else: d2['minduration'] = np.nan\n",
    "    d2['maxduration'] = d1['imp'][0]['video']['maxduration']\n",
    "    d2['minbitrate']= d1['imp'][0]['video']['minbitrate']\n",
    "    d2['maxbitrate']= d1['imp'][0]['video']['maxbitrate']  \n",
    "    if 'app' in d1.keys():\n",
    "        if 'id' in d1['app'].keys():\n",
    "            d2['app_id'] = d1['app']['id']\n",
    "        else: d2['app_id'] = np.nan\n",
    "        if 'name' in d1['app'].keys():\n",
    "            d2['app_name'] = d1['app']['name']\n",
    "        else: d2['app_name'] = np.nan\n",
    "        if 'bundle' in d1['app'].keys():\n",
    "            d2['app_bundle'] = d1['app']['bundle']\n",
    "        else: d2['app_bundle'] = np.nan\n",
    "        d2['app_pub_id'] = d1['app']['publisher']['id']\n",
    "        if 'content' in d1['app'].keys():\n",
    "            if 'genre' in d1['app']['content'].keys():\n",
    "                d2['genre'] = d1['app']['content']['genre']\n",
    "            else: d2['genre'] = np.nan\n",
    "            if 'language' in d1['app']['content'].keys():\n",
    "                d2['language'] = d1['app']['content']['language']\n",
    "            else: d2['language'] = np.nan\n",
    "        else: d2['genre'] = d2['language'] = np.nan\n",
    "    else: d2['app_id'] = d2['app_bundle']= d2['app_pub_id'] = d2['genre'] = d2['language'] = np.nan\n",
    "    d2['device_make'] = d1['device']['make']\n",
    "    if 'model' in d1['device'].keys():\n",
    "        d2['device_model'] = d1['device']['model']\n",
    "    else: d2['device_model'] = np.nan\n",
    "    if 'os' in d1['device'].keys():\n",
    "        d2['device_os'] = d1['device']['os']\n",
    "    else: d2['device_os'] = np.nan\n",
    "    if 'language' in d1['device'].keys():\n",
    "        d2['device_language'] = d1['device']['language']\n",
    "    else: d2['device_language'] = np.nan\n",
    "    if 'geo' in d1['device'].keys() and 'region' in d1['device']['geo'].keys():\n",
    "        d2['geo_region'] = d1['device']['geo']['region']\n",
    "    else: d2['geo_region'] = np.nan\n",
    "    if 'geo' in d1['device'].keys() and 'metro' in d1['device']['geo'].keys():\n",
    "        d2['geo_metro'] = d1['device']['geo']['metro']\n",
    "    else: d2['geo_metro'] = np.nan\n",
    "#    time_df = pd.to_datetime(df_raw.time).dt.tz_localize(None)\n",
    "#    df_cl = df_cl.assign(time=time_df)\n",
    "    #df_cl = df_cl.join(sbpr=df_raw.sbpr)\n",
    "    return d2"
   ],
   "metadata": {
    "collapsed": false,
    "ExecuteTime": {
     "end_time": "2024-05-27T22:32:52.569843Z",
     "start_time": "2024-05-27T22:32:52.469516Z"
    }
   },
   "id": "cff5af2ca9049fcc",
   "execution_count": 161
  },
  {
   "cell_type": "code",
   "outputs": [
    {
     "data": {
      "text/plain": "{'id': 'faf22f54-7e31-4e82-90f6-d06d7713f9cf',\n 'minduration': 1,\n 'maxduration': 70,\n 'minbitrate': 1,\n 'maxbitrate': 280000,\n 'app_id': '711665',\n 'app_name': 'SLING: Live TV, Shows & Movies',\n 'app_bundle': 'com.sling',\n 'app_pub_id': '1034',\n 'genre': nan,\n 'language': nan,\n 'device_make': 'Generic',\n 'device_model': 'Generic Android TV',\n 'device_os': 'Android',\n 'device_language': 'en',\n 'geo_region': 'TX',\n 'geo_metro': '618'}"
     },
     "execution_count": 162,
     "metadata": {},
     "output_type": "execute_result"
    }
   ],
   "source": [
    "extract_features_row(df_raw_15.iloc[0])"
   ],
   "metadata": {
    "collapsed": false,
    "ExecuteTime": {
     "end_time": "2024-05-27T22:32:55.922605Z",
     "start_time": "2024-05-27T22:32:55.879525Z"
    }
   },
   "id": "8b5f2f5d8314f3f",
   "execution_count": 162
  },
  {
   "cell_type": "markdown",
   "source": [
    "This is the best way: apply extract_features_row to each row of the raw df, then concatenate with the original."
   ],
   "metadata": {
    "collapsed": false
   },
   "id": "35c4bbc4aeb73c66"
  },
  {
   "cell_type": "code",
   "outputs": [],
   "source": [
    "applied_df = df_raw_15.apply(lambda row: extract_features_row(row), axis='columns', result_type='expand')\n",
    "df_proc_15 = pd.concat([df_raw_15, applied_df], axis='columns').drop(['publisher_id', 'bidrequest'], axis=1)"
   ],
   "metadata": {
    "collapsed": false,
    "ExecuteTime": {
     "end_time": "2024-05-28T09:06:54.086483Z",
     "start_time": "2024-05-28T09:06:14.155166Z"
    }
   },
   "id": "b10a18a5ab0463a8",
   "execution_count": 180
  },
  {
   "cell_type": "code",
   "outputs": [
    {
     "data": {
      "text/plain": "   sbpr                  time                                    id  \\\n0  15.7  2024-04-10T10:00:08Z  faf22f54-7e31-4e82-90f6-d06d7713f9cf   \n1  15.1  2024-04-10T10:00:08Z  ca929559-cb99-4670-9f64-d7544fd5875d   \n2  15.0  2024-04-10T10:00:09Z  078615b0-842e-4832-9ca9-0cc93ef3fc77   \n3  15.7  2024-04-10T10:00:15Z  e118907e-f7f1-4c93-aec5-9b6b14bf2083   \n4  15.0  2024-04-10T10:00:16Z  8113435b-0e7c-4e7d-9ddc-146bfb4476ae   \n\n   minduration  maxduration  minbitrate  maxbitrate  app_id  \\\n0            1           70           1      280000  711665   \n1            1           70           1      280000  711665   \n2            1           70           1      280000  711667   \n3            1           70           1      280000  711667   \n4            1           60           1      280000  711667   \n\n                         app_name    app_bundle app_pub_id genre language  \\\n0  SLING: Live TV, Shows & Movies     com.sling       1034   NaN      NaN   \n1  SLING: Live TV, Shows & Movies     com.sling       1034   NaN      NaN   \n2                            Plex  G00002687241       1034   NaN       en   \n3  SLING: Live TV, Shows & Movies     com.sling       1034   NaN       en   \n4  fuboTV: Watch Live Sports & TV     905401434       1034   NaN       en   \n\n  device_make        device_model device_os device_language geo_region  \\\n0     Generic  Generic Android TV   Android              en         TX   \n1     Generic  Generic Android TV   Android              en         TX   \n2     Samsung            Tizen TV     Tizen              en         FL   \n3     Generic  Generic Android TV   Android              en         HI   \n4       Apple            TV A1625     Other              en         MI   \n\n  geo_metro  \n0       618  \n1       618  \n2       528  \n3       744  \n4       513  ",
      "text/html": "<div>\n<style scoped>\n    .dataframe tbody tr th:only-of-type {\n        vertical-align: middle;\n    }\n\n    .dataframe tbody tr th {\n        vertical-align: top;\n    }\n\n    .dataframe thead th {\n        text-align: right;\n    }\n</style>\n<table border=\"1\" class=\"dataframe\">\n  <thead>\n    <tr style=\"text-align: right;\">\n      <th></th>\n      <th>sbpr</th>\n      <th>time</th>\n      <th>id</th>\n      <th>minduration</th>\n      <th>maxduration</th>\n      <th>minbitrate</th>\n      <th>maxbitrate</th>\n      <th>app_id</th>\n      <th>app_name</th>\n      <th>app_bundle</th>\n      <th>app_pub_id</th>\n      <th>genre</th>\n      <th>language</th>\n      <th>device_make</th>\n      <th>device_model</th>\n      <th>device_os</th>\n      <th>device_language</th>\n      <th>geo_region</th>\n      <th>geo_metro</th>\n    </tr>\n  </thead>\n  <tbody>\n    <tr>\n      <th>0</th>\n      <td>15.7</td>\n      <td>2024-04-10T10:00:08Z</td>\n      <td>faf22f54-7e31-4e82-90f6-d06d7713f9cf</td>\n      <td>1</td>\n      <td>70</td>\n      <td>1</td>\n      <td>280000</td>\n      <td>711665</td>\n      <td>SLING: Live TV, Shows &amp; Movies</td>\n      <td>com.sling</td>\n      <td>1034</td>\n      <td>NaN</td>\n      <td>NaN</td>\n      <td>Generic</td>\n      <td>Generic Android TV</td>\n      <td>Android</td>\n      <td>en</td>\n      <td>TX</td>\n      <td>618</td>\n    </tr>\n    <tr>\n      <th>1</th>\n      <td>15.1</td>\n      <td>2024-04-10T10:00:08Z</td>\n      <td>ca929559-cb99-4670-9f64-d7544fd5875d</td>\n      <td>1</td>\n      <td>70</td>\n      <td>1</td>\n      <td>280000</td>\n      <td>711665</td>\n      <td>SLING: Live TV, Shows &amp; Movies</td>\n      <td>com.sling</td>\n      <td>1034</td>\n      <td>NaN</td>\n      <td>NaN</td>\n      <td>Generic</td>\n      <td>Generic Android TV</td>\n      <td>Android</td>\n      <td>en</td>\n      <td>TX</td>\n      <td>618</td>\n    </tr>\n    <tr>\n      <th>2</th>\n      <td>15.0</td>\n      <td>2024-04-10T10:00:09Z</td>\n      <td>078615b0-842e-4832-9ca9-0cc93ef3fc77</td>\n      <td>1</td>\n      <td>70</td>\n      <td>1</td>\n      <td>280000</td>\n      <td>711667</td>\n      <td>Plex</td>\n      <td>G00002687241</td>\n      <td>1034</td>\n      <td>NaN</td>\n      <td>en</td>\n      <td>Samsung</td>\n      <td>Tizen TV</td>\n      <td>Tizen</td>\n      <td>en</td>\n      <td>FL</td>\n      <td>528</td>\n    </tr>\n    <tr>\n      <th>3</th>\n      <td>15.7</td>\n      <td>2024-04-10T10:00:15Z</td>\n      <td>e118907e-f7f1-4c93-aec5-9b6b14bf2083</td>\n      <td>1</td>\n      <td>70</td>\n      <td>1</td>\n      <td>280000</td>\n      <td>711667</td>\n      <td>SLING: Live TV, Shows &amp; Movies</td>\n      <td>com.sling</td>\n      <td>1034</td>\n      <td>NaN</td>\n      <td>en</td>\n      <td>Generic</td>\n      <td>Generic Android TV</td>\n      <td>Android</td>\n      <td>en</td>\n      <td>HI</td>\n      <td>744</td>\n    </tr>\n    <tr>\n      <th>4</th>\n      <td>15.0</td>\n      <td>2024-04-10T10:00:16Z</td>\n      <td>8113435b-0e7c-4e7d-9ddc-146bfb4476ae</td>\n      <td>1</td>\n      <td>60</td>\n      <td>1</td>\n      <td>280000</td>\n      <td>711667</td>\n      <td>fuboTV: Watch Live Sports &amp; TV</td>\n      <td>905401434</td>\n      <td>1034</td>\n      <td>NaN</td>\n      <td>en</td>\n      <td>Apple</td>\n      <td>TV A1625</td>\n      <td>Other</td>\n      <td>en</td>\n      <td>MI</td>\n      <td>513</td>\n    </tr>\n  </tbody>\n</table>\n</div>"
     },
     "execution_count": 181,
     "metadata": {},
     "output_type": "execute_result"
    }
   ],
   "source": [
    "df_proc_15.head()"
   ],
   "metadata": {
    "collapsed": false,
    "ExecuteTime": {
     "end_time": "2024-05-28T09:07:04.249049Z",
     "start_time": "2024-05-28T09:07:04.210714Z"
    }
   },
   "id": "f21002cd91a71f87",
   "execution_count": 181
  },
  {
   "cell_type": "code",
   "outputs": [],
   "source": [
    "df_proc_15.to_pickle(\"processed_bres_15_0410.pkl\")"
   ],
   "metadata": {
    "collapsed": false,
    "ExecuteTime": {
     "end_time": "2024-05-28T09:07:12.597900Z",
     "start_time": "2024-05-28T09:07:09.972551Z"
    }
   },
   "id": "5295d8cc18d8f8c2",
   "execution_count": 182
  },
  {
   "cell_type": "code",
   "outputs": [],
   "source": [
    "df_proc_15 = pd.read_pickle(\"processed_bres_15_0410.pkl\")"
   ],
   "metadata": {
    "collapsed": false,
    "ExecuteTime": {
     "end_time": "2024-06-02T12:44:36.208044Z",
     "start_time": "2024-06-02T12:44:34.892860Z"
    }
   },
   "id": "d5f3c0b6523458f6",
   "execution_count": 3
  },
  {
   "cell_type": "code",
   "outputs": [
    {
     "data": {
      "text/plain": "<bound method DataFrame.info of       sbpr                  time                                    id  \\\n0     15.7  2024-04-10T10:00:08Z  faf22f54-7e31-4e82-90f6-d06d7713f9cf   \n1     15.1  2024-04-10T10:00:08Z  ca929559-cb99-4670-9f64-d7544fd5875d   \n2     15.0  2024-04-10T10:00:09Z  078615b0-842e-4832-9ca9-0cc93ef3fc77   \n3     15.7  2024-04-10T10:00:15Z  e118907e-f7f1-4c93-aec5-9b6b14bf2083   \n4     15.0  2024-04-10T10:00:16Z  8113435b-0e7c-4e7d-9ddc-146bfb4476ae   \n...    ...                   ...                                   ...   \n2196  15.7  2024-04-10T21:59:38Z  e7a112b3-577b-438f-942c-c7130b7e1b6d   \n2197  15.0  2024-04-10T21:59:39Z  7abfd77c-d9ee-4a22-ab21-efcad777752c   \n2198  15.1  2024-04-10T21:59:45Z  8934aed7-ac23-4b93-8146-4b7f54921970   \n2199  15.7  2024-04-10T21:59:50Z  d5952397-1bd1-4888-a5f7-a35bf6a0e93c   \n2200  15.0  2024-04-10T21:59:57Z  7f4ab1bc-f472-41d1-bfcc-2aa39c16cd05   \n\n      minduration  maxduration  minbitrate  maxbitrate  app_id  \\\n0               1           70           1      280000  711665   \n1               1           70           1      280000  711665   \n2               1           70           1      280000  711667   \n3               1           70           1      280000  711667   \n4               1           60           1      280000  711667   \n...           ...          ...         ...         ...     ...   \n2196            1           70           1      280000  711665   \n2197            1           70           1      280000  711667   \n2198            1          120           1      280000  711665   \n2199            1           30           1      280000  601810   \n2200            1           70           1      280000  711667   \n\n                                               app_name      app_bundle  \\\n0                        SLING: Live TV, Shows & Movies       com.sling   \n1                        SLING: Live TV, Shows & Movies       com.sling   \n2                                                  Plex    G00002687241   \n3                        SLING: Live TV, Shows & Movies       com.sling   \n4                        fuboTV: Watch Live Sports & TV       905401434   \n...                                                 ...             ...   \n2196                                             fuboTV      B019DCHDZK   \n2197                                      samsungtvplus    G15147002586   \n2198  fuboTV: Watch Live Sports, TV Shows, Movies & ...  tv.fubo.mobile   \n2199                                             TubiTV    vizio.tubitv   \n2200                     XUMO: Stream TV Shows & Movies   com.xumo.xumo   \n\n     app_pub_id                                              genre language  \\\n0          1034                                                NaN      NaN   \n1          1034                                                NaN      NaN   \n2          1034                                                NaN       en   \n3          1034                                                NaN       en   \n4          1034                                                NaN       en   \n...         ...                                                ...      ...   \n2196       1034                                                NaN      NaN   \n2197       1034                                                NaN       en   \n2198       1034                                                NaN      NaN   \n2199       1043  GENRE_DRAMA,GENRE_MUSIC,GENRE_ROMANCE,GENRE_SPORT      NaN   \n2200       1034                                                NaN       en   \n\n     device_make        device_model        device_os device_language  \\\n0        Generic  Generic Android TV          Android              en   \n1        Generic  Generic Android TV          Android              en   \n2        Samsung            Tizen TV            Tizen              en   \n3        Generic  Generic Android TV          Android              en   \n4          Apple            TV A1625            Other              en   \n...          ...                 ...              ...             ...   \n2196      Amazon               AFTSS          Fire OS              en   \n2197     Samsung            Tizen TV            Tizen              en   \n2198      Nvidia   Shield Android TV          Android              en   \n2199       Vizio             SmartTV  VIZIO SmartCast              en   \n2200        Sony      Bravia 4K 2015          Android              en   \n\n     geo_region geo_metro  \n0            TX       618  \n1            TX       618  \n2            FL       528  \n3            HI       744  \n4            MI       513  \n...         ...       ...  \n2196         NC       517  \n2197         NY       501  \n2198        NaN       NaN  \n2199         TN       557  \n2200         NY       501  \n\n[531355 rows x 19 columns]>"
     },
     "execution_count": 183,
     "metadata": {},
     "output_type": "execute_result"
    }
   ],
   "source": [
    "df_proc_15.info"
   ],
   "metadata": {
    "collapsed": false,
    "ExecuteTime": {
     "end_time": "2024-05-28T09:07:14.464827Z",
     "start_time": "2024-05-28T09:07:14.413451Z"
    }
   },
   "id": "c109b94bc07b8ceb",
   "execution_count": 183
  },
  {
   "cell_type": "markdown",
   "source": [
    "Part III: Mark impressions in om with Y/N"
   ],
   "metadata": {
    "collapsed": false
   },
   "id": "a65fc87dca24c744"
  },
  {
   "cell_type": "code",
   "outputs": [],
   "source": [
    "df_om= pd.read_pickle(\"clean_om_0410.pkl\")"
   ],
   "metadata": {
    "collapsed": false,
    "ExecuteTime": {
     "end_time": "2024-06-02T12:44:44.936997Z",
     "start_time": "2024-06-02T12:44:44.395724Z"
    }
   },
   "id": "c5208d845582ab81",
   "execution_count": 4
  },
  {
   "cell_type": "code",
   "outputs": [],
   "source": [
    "set_bdid = set(df_om.bdid)"
   ],
   "metadata": {
    "collapsed": false,
    "ExecuteTime": {
     "end_time": "2024-06-02T12:44:48.261608Z",
     "start_time": "2024-06-02T12:44:48.146541Z"
    }
   },
   "id": "15791db3ce6c2a4f",
   "execution_count": 5
  },
  {
   "cell_type": "code",
   "outputs": [],
   "source": [
    "df_proc_15['data'] = df_proc_15.apply(lambda row: row.id in set_bdid, axis=1)"
   ],
   "metadata": {
    "collapsed": false,
    "ExecuteTime": {
     "end_time": "2024-06-02T12:44:58.407799Z",
     "start_time": "2024-06-02T12:44:53.506270Z"
    }
   },
   "id": "8a3b56a4034cf415",
   "execution_count": 6
  },
  {
   "cell_type": "code",
   "outputs": [
    {
     "data": {
      "text/plain": "        sbpr                  time                                    id  \\\n0       15.7  2024-04-10T10:00:08Z  faf22f54-7e31-4e82-90f6-d06d7713f9cf   \n1       15.1  2024-04-10T10:00:08Z  ca929559-cb99-4670-9f64-d7544fd5875d   \n2       15.0  2024-04-10T10:00:09Z  078615b0-842e-4832-9ca9-0cc93ef3fc77   \n3       15.7  2024-04-10T10:00:15Z  e118907e-f7f1-4c93-aec5-9b6b14bf2083   \n4       15.0  2024-04-10T10:00:16Z  8113435b-0e7c-4e7d-9ddc-146bfb4476ae   \n...      ...                   ...                                   ...   \n531350  15.7  2024-04-10T21:59:38Z  e7a112b3-577b-438f-942c-c7130b7e1b6d   \n531351  15.0  2024-04-10T21:59:39Z  7abfd77c-d9ee-4a22-ab21-efcad777752c   \n531352  15.1  2024-04-10T21:59:45Z  8934aed7-ac23-4b93-8146-4b7f54921970   \n531353  15.7  2024-04-10T21:59:50Z  d5952397-1bd1-4888-a5f7-a35bf6a0e93c   \n531354  15.0  2024-04-10T21:59:57Z  7f4ab1bc-f472-41d1-bfcc-2aa39c16cd05   \n\n        minduration  maxduration  minbitrate  maxbitrate  app_id  \\\n0                 1           70           1      280000  711665   \n1                 1           70           1      280000  711665   \n2                 1           70           1      280000  711667   \n3                 1           70           1      280000  711667   \n4                 1           60           1      280000  711667   \n...             ...          ...         ...         ...     ...   \n531350            1           70           1      280000  711665   \n531351            1           70           1      280000  711667   \n531352            1          120           1      280000  711665   \n531353            1           30           1      280000  601810   \n531354            1           70           1      280000  711667   \n\n                                                 app_name      app_bundle  \\\n0                          SLING: Live TV, Shows & Movies       com.sling   \n1                          SLING: Live TV, Shows & Movies       com.sling   \n2                                                    Plex    G00002687241   \n3                          SLING: Live TV, Shows & Movies       com.sling   \n4                          fuboTV: Watch Live Sports & TV       905401434   \n...                                                   ...             ...   \n531350                                             fuboTV      B019DCHDZK   \n531351                                      samsungtvplus    G15147002586   \n531352  fuboTV: Watch Live Sports, TV Shows, Movies & ...  tv.fubo.mobile   \n531353                                             TubiTV    vizio.tubitv   \n531354                     XUMO: Stream TV Shows & Movies   com.xumo.xumo   \n\n       app_pub_id                                              genre language  \\\n0            1034                                                NaN      NaN   \n1            1034                                                NaN      NaN   \n2            1034                                                NaN       en   \n3            1034                                                NaN       en   \n4            1034                                                NaN       en   \n...           ...                                                ...      ...   \n531350       1034                                                NaN      NaN   \n531351       1034                                                NaN       en   \n531352       1034                                                NaN      NaN   \n531353       1043  GENRE_DRAMA,GENRE_MUSIC,GENRE_ROMANCE,GENRE_SPORT      NaN   \n531354       1034                                                NaN       en   \n\n       device_make        device_model        device_os device_language  \\\n0          Generic  Generic Android TV          Android              en   \n1          Generic  Generic Android TV          Android              en   \n2          Samsung            Tizen TV            Tizen              en   \n3          Generic  Generic Android TV          Android              en   \n4            Apple            TV A1625            Other              en   \n...            ...                 ...              ...             ...   \n531350      Amazon               AFTSS          Fire OS              en   \n531351     Samsung            Tizen TV            Tizen              en   \n531352      Nvidia   Shield Android TV          Android              en   \n531353       Vizio             SmartTV  VIZIO SmartCast              en   \n531354        Sony      Bravia 4K 2015          Android              en   \n\n       geo_region geo_metro   data  \n0              TX       618   True  \n1              TX       618   True  \n2              FL       528  False  \n3              HI       744   True  \n4              MI       513  False  \n...           ...       ...    ...  \n531350         NC       517  False  \n531351         NY       501   True  \n531352        NaN       NaN   True  \n531353         TN       557  False  \n531354         NY       501   True  \n\n[531355 rows x 20 columns]",
      "text/html": "<div>\n<style scoped>\n    .dataframe tbody tr th:only-of-type {\n        vertical-align: middle;\n    }\n\n    .dataframe tbody tr th {\n        vertical-align: top;\n    }\n\n    .dataframe thead th {\n        text-align: right;\n    }\n</style>\n<table border=\"1\" class=\"dataframe\">\n  <thead>\n    <tr style=\"text-align: right;\">\n      <th></th>\n      <th>sbpr</th>\n      <th>time</th>\n      <th>id</th>\n      <th>minduration</th>\n      <th>maxduration</th>\n      <th>minbitrate</th>\n      <th>maxbitrate</th>\n      <th>app_id</th>\n      <th>app_name</th>\n      <th>app_bundle</th>\n      <th>app_pub_id</th>\n      <th>genre</th>\n      <th>language</th>\n      <th>device_make</th>\n      <th>device_model</th>\n      <th>device_os</th>\n      <th>device_language</th>\n      <th>geo_region</th>\n      <th>geo_metro</th>\n      <th>data</th>\n    </tr>\n  </thead>\n  <tbody>\n    <tr>\n      <th>0</th>\n      <td>15.7</td>\n      <td>2024-04-10T10:00:08Z</td>\n      <td>faf22f54-7e31-4e82-90f6-d06d7713f9cf</td>\n      <td>1</td>\n      <td>70</td>\n      <td>1</td>\n      <td>280000</td>\n      <td>711665</td>\n      <td>SLING: Live TV, Shows &amp; Movies</td>\n      <td>com.sling</td>\n      <td>1034</td>\n      <td>NaN</td>\n      <td>NaN</td>\n      <td>Generic</td>\n      <td>Generic Android TV</td>\n      <td>Android</td>\n      <td>en</td>\n      <td>TX</td>\n      <td>618</td>\n      <td>True</td>\n    </tr>\n    <tr>\n      <th>1</th>\n      <td>15.1</td>\n      <td>2024-04-10T10:00:08Z</td>\n      <td>ca929559-cb99-4670-9f64-d7544fd5875d</td>\n      <td>1</td>\n      <td>70</td>\n      <td>1</td>\n      <td>280000</td>\n      <td>711665</td>\n      <td>SLING: Live TV, Shows &amp; Movies</td>\n      <td>com.sling</td>\n      <td>1034</td>\n      <td>NaN</td>\n      <td>NaN</td>\n      <td>Generic</td>\n      <td>Generic Android TV</td>\n      <td>Android</td>\n      <td>en</td>\n      <td>TX</td>\n      <td>618</td>\n      <td>True</td>\n    </tr>\n    <tr>\n      <th>2</th>\n      <td>15.0</td>\n      <td>2024-04-10T10:00:09Z</td>\n      <td>078615b0-842e-4832-9ca9-0cc93ef3fc77</td>\n      <td>1</td>\n      <td>70</td>\n      <td>1</td>\n      <td>280000</td>\n      <td>711667</td>\n      <td>Plex</td>\n      <td>G00002687241</td>\n      <td>1034</td>\n      <td>NaN</td>\n      <td>en</td>\n      <td>Samsung</td>\n      <td>Tizen TV</td>\n      <td>Tizen</td>\n      <td>en</td>\n      <td>FL</td>\n      <td>528</td>\n      <td>False</td>\n    </tr>\n    <tr>\n      <th>3</th>\n      <td>15.7</td>\n      <td>2024-04-10T10:00:15Z</td>\n      <td>e118907e-f7f1-4c93-aec5-9b6b14bf2083</td>\n      <td>1</td>\n      <td>70</td>\n      <td>1</td>\n      <td>280000</td>\n      <td>711667</td>\n      <td>SLING: Live TV, Shows &amp; Movies</td>\n      <td>com.sling</td>\n      <td>1034</td>\n      <td>NaN</td>\n      <td>en</td>\n      <td>Generic</td>\n      <td>Generic Android TV</td>\n      <td>Android</td>\n      <td>en</td>\n      <td>HI</td>\n      <td>744</td>\n      <td>True</td>\n    </tr>\n    <tr>\n      <th>4</th>\n      <td>15.0</td>\n      <td>2024-04-10T10:00:16Z</td>\n      <td>8113435b-0e7c-4e7d-9ddc-146bfb4476ae</td>\n      <td>1</td>\n      <td>60</td>\n      <td>1</td>\n      <td>280000</td>\n      <td>711667</td>\n      <td>fuboTV: Watch Live Sports &amp; TV</td>\n      <td>905401434</td>\n      <td>1034</td>\n      <td>NaN</td>\n      <td>en</td>\n      <td>Apple</td>\n      <td>TV A1625</td>\n      <td>Other</td>\n      <td>en</td>\n      <td>MI</td>\n      <td>513</td>\n      <td>False</td>\n    </tr>\n    <tr>\n      <th>...</th>\n      <td>...</td>\n      <td>...</td>\n      <td>...</td>\n      <td>...</td>\n      <td>...</td>\n      <td>...</td>\n      <td>...</td>\n      <td>...</td>\n      <td>...</td>\n      <td>...</td>\n      <td>...</td>\n      <td>...</td>\n      <td>...</td>\n      <td>...</td>\n      <td>...</td>\n      <td>...</td>\n      <td>...</td>\n      <td>...</td>\n      <td>...</td>\n      <td>...</td>\n    </tr>\n    <tr>\n      <th>531350</th>\n      <td>15.7</td>\n      <td>2024-04-10T21:59:38Z</td>\n      <td>e7a112b3-577b-438f-942c-c7130b7e1b6d</td>\n      <td>1</td>\n      <td>70</td>\n      <td>1</td>\n      <td>280000</td>\n      <td>711665</td>\n      <td>fuboTV</td>\n      <td>B019DCHDZK</td>\n      <td>1034</td>\n      <td>NaN</td>\n      <td>NaN</td>\n      <td>Amazon</td>\n      <td>AFTSS</td>\n      <td>Fire OS</td>\n      <td>en</td>\n      <td>NC</td>\n      <td>517</td>\n      <td>False</td>\n    </tr>\n    <tr>\n      <th>531351</th>\n      <td>15.0</td>\n      <td>2024-04-10T21:59:39Z</td>\n      <td>7abfd77c-d9ee-4a22-ab21-efcad777752c</td>\n      <td>1</td>\n      <td>70</td>\n      <td>1</td>\n      <td>280000</td>\n      <td>711667</td>\n      <td>samsungtvplus</td>\n      <td>G15147002586</td>\n      <td>1034</td>\n      <td>NaN</td>\n      <td>en</td>\n      <td>Samsung</td>\n      <td>Tizen TV</td>\n      <td>Tizen</td>\n      <td>en</td>\n      <td>NY</td>\n      <td>501</td>\n      <td>True</td>\n    </tr>\n    <tr>\n      <th>531352</th>\n      <td>15.1</td>\n      <td>2024-04-10T21:59:45Z</td>\n      <td>8934aed7-ac23-4b93-8146-4b7f54921970</td>\n      <td>1</td>\n      <td>120</td>\n      <td>1</td>\n      <td>280000</td>\n      <td>711665</td>\n      <td>fuboTV: Watch Live Sports, TV Shows, Movies &amp; ...</td>\n      <td>tv.fubo.mobile</td>\n      <td>1034</td>\n      <td>NaN</td>\n      <td>NaN</td>\n      <td>Nvidia</td>\n      <td>Shield Android TV</td>\n      <td>Android</td>\n      <td>en</td>\n      <td>NaN</td>\n      <td>NaN</td>\n      <td>True</td>\n    </tr>\n    <tr>\n      <th>531353</th>\n      <td>15.7</td>\n      <td>2024-04-10T21:59:50Z</td>\n      <td>d5952397-1bd1-4888-a5f7-a35bf6a0e93c</td>\n      <td>1</td>\n      <td>30</td>\n      <td>1</td>\n      <td>280000</td>\n      <td>601810</td>\n      <td>TubiTV</td>\n      <td>vizio.tubitv</td>\n      <td>1043</td>\n      <td>GENRE_DRAMA,GENRE_MUSIC,GENRE_ROMANCE,GENRE_SPORT</td>\n      <td>NaN</td>\n      <td>Vizio</td>\n      <td>SmartTV</td>\n      <td>VIZIO SmartCast</td>\n      <td>en</td>\n      <td>TN</td>\n      <td>557</td>\n      <td>False</td>\n    </tr>\n    <tr>\n      <th>531354</th>\n      <td>15.0</td>\n      <td>2024-04-10T21:59:57Z</td>\n      <td>7f4ab1bc-f472-41d1-bfcc-2aa39c16cd05</td>\n      <td>1</td>\n      <td>70</td>\n      <td>1</td>\n      <td>280000</td>\n      <td>711667</td>\n      <td>XUMO: Stream TV Shows &amp; Movies</td>\n      <td>com.xumo.xumo</td>\n      <td>1034</td>\n      <td>NaN</td>\n      <td>en</td>\n      <td>Sony</td>\n      <td>Bravia 4K 2015</td>\n      <td>Android</td>\n      <td>en</td>\n      <td>NY</td>\n      <td>501</td>\n      <td>True</td>\n    </tr>\n  </tbody>\n</table>\n<p>531355 rows × 20 columns</p>\n</div>"
     },
     "execution_count": 7,
     "metadata": {},
     "output_type": "execute_result"
    }
   ],
   "source": [
    "df_proc_15.reset_index(drop=True)"
   ],
   "metadata": {
    "collapsed": false,
    "ExecuteTime": {
     "end_time": "2024-06-02T12:45:01.217953Z",
     "start_time": "2024-06-02T12:45:00.889783Z"
    }
   },
   "id": "2d06659d7566fcb3",
   "execution_count": 7
  },
  {
   "cell_type": "code",
   "outputs": [
    {
     "data": {
      "text/plain": "   sbpr                  time                                    id  \\\n0  15.7  2024-04-10T10:00:08Z  faf22f54-7e31-4e82-90f6-d06d7713f9cf   \n1  15.1  2024-04-10T10:00:08Z  ca929559-cb99-4670-9f64-d7544fd5875d   \n2  15.0  2024-04-10T10:00:09Z  078615b0-842e-4832-9ca9-0cc93ef3fc77   \n3  15.7  2024-04-10T10:00:15Z  e118907e-f7f1-4c93-aec5-9b6b14bf2083   \n4  15.0  2024-04-10T10:00:16Z  8113435b-0e7c-4e7d-9ddc-146bfb4476ae   \n\n   minduration  maxduration  minbitrate  maxbitrate  app_id  \\\n0            1           70           1      280000  711665   \n1            1           70           1      280000  711665   \n2            1           70           1      280000  711667   \n3            1           70           1      280000  711667   \n4            1           60           1      280000  711667   \n\n                         app_name    app_bundle app_pub_id genre language  \\\n0  SLING: Live TV, Shows & Movies     com.sling       1034   NaN      NaN   \n1  SLING: Live TV, Shows & Movies     com.sling       1034   NaN      NaN   \n2                            Plex  G00002687241       1034   NaN       en   \n3  SLING: Live TV, Shows & Movies     com.sling       1034   NaN       en   \n4  fuboTV: Watch Live Sports & TV     905401434       1034   NaN       en   \n\n  device_make        device_model device_os device_language geo_region  \\\n0     Generic  Generic Android TV   Android              en         TX   \n1     Generic  Generic Android TV   Android              en         TX   \n2     Samsung            Tizen TV     Tizen              en         FL   \n3     Generic  Generic Android TV   Android              en         HI   \n4       Apple            TV A1625     Other              en         MI   \n\n  geo_metro   data  \n0       618   True  \n1       618   True  \n2       528  False  \n3       744   True  \n4       513  False  ",
      "text/html": "<div>\n<style scoped>\n    .dataframe tbody tr th:only-of-type {\n        vertical-align: middle;\n    }\n\n    .dataframe tbody tr th {\n        vertical-align: top;\n    }\n\n    .dataframe thead th {\n        text-align: right;\n    }\n</style>\n<table border=\"1\" class=\"dataframe\">\n  <thead>\n    <tr style=\"text-align: right;\">\n      <th></th>\n      <th>sbpr</th>\n      <th>time</th>\n      <th>id</th>\n      <th>minduration</th>\n      <th>maxduration</th>\n      <th>minbitrate</th>\n      <th>maxbitrate</th>\n      <th>app_id</th>\n      <th>app_name</th>\n      <th>app_bundle</th>\n      <th>app_pub_id</th>\n      <th>genre</th>\n      <th>language</th>\n      <th>device_make</th>\n      <th>device_model</th>\n      <th>device_os</th>\n      <th>device_language</th>\n      <th>geo_region</th>\n      <th>geo_metro</th>\n      <th>data</th>\n    </tr>\n  </thead>\n  <tbody>\n    <tr>\n      <th>0</th>\n      <td>15.7</td>\n      <td>2024-04-10T10:00:08Z</td>\n      <td>faf22f54-7e31-4e82-90f6-d06d7713f9cf</td>\n      <td>1</td>\n      <td>70</td>\n      <td>1</td>\n      <td>280000</td>\n      <td>711665</td>\n      <td>SLING: Live TV, Shows &amp; Movies</td>\n      <td>com.sling</td>\n      <td>1034</td>\n      <td>NaN</td>\n      <td>NaN</td>\n      <td>Generic</td>\n      <td>Generic Android TV</td>\n      <td>Android</td>\n      <td>en</td>\n      <td>TX</td>\n      <td>618</td>\n      <td>True</td>\n    </tr>\n    <tr>\n      <th>1</th>\n      <td>15.1</td>\n      <td>2024-04-10T10:00:08Z</td>\n      <td>ca929559-cb99-4670-9f64-d7544fd5875d</td>\n      <td>1</td>\n      <td>70</td>\n      <td>1</td>\n      <td>280000</td>\n      <td>711665</td>\n      <td>SLING: Live TV, Shows &amp; Movies</td>\n      <td>com.sling</td>\n      <td>1034</td>\n      <td>NaN</td>\n      <td>NaN</td>\n      <td>Generic</td>\n      <td>Generic Android TV</td>\n      <td>Android</td>\n      <td>en</td>\n      <td>TX</td>\n      <td>618</td>\n      <td>True</td>\n    </tr>\n    <tr>\n      <th>2</th>\n      <td>15.0</td>\n      <td>2024-04-10T10:00:09Z</td>\n      <td>078615b0-842e-4832-9ca9-0cc93ef3fc77</td>\n      <td>1</td>\n      <td>70</td>\n      <td>1</td>\n      <td>280000</td>\n      <td>711667</td>\n      <td>Plex</td>\n      <td>G00002687241</td>\n      <td>1034</td>\n      <td>NaN</td>\n      <td>en</td>\n      <td>Samsung</td>\n      <td>Tizen TV</td>\n      <td>Tizen</td>\n      <td>en</td>\n      <td>FL</td>\n      <td>528</td>\n      <td>False</td>\n    </tr>\n    <tr>\n      <th>3</th>\n      <td>15.7</td>\n      <td>2024-04-10T10:00:15Z</td>\n      <td>e118907e-f7f1-4c93-aec5-9b6b14bf2083</td>\n      <td>1</td>\n      <td>70</td>\n      <td>1</td>\n      <td>280000</td>\n      <td>711667</td>\n      <td>SLING: Live TV, Shows &amp; Movies</td>\n      <td>com.sling</td>\n      <td>1034</td>\n      <td>NaN</td>\n      <td>en</td>\n      <td>Generic</td>\n      <td>Generic Android TV</td>\n      <td>Android</td>\n      <td>en</td>\n      <td>HI</td>\n      <td>744</td>\n      <td>True</td>\n    </tr>\n    <tr>\n      <th>4</th>\n      <td>15.0</td>\n      <td>2024-04-10T10:00:16Z</td>\n      <td>8113435b-0e7c-4e7d-9ddc-146bfb4476ae</td>\n      <td>1</td>\n      <td>60</td>\n      <td>1</td>\n      <td>280000</td>\n      <td>711667</td>\n      <td>fuboTV: Watch Live Sports &amp; TV</td>\n      <td>905401434</td>\n      <td>1034</td>\n      <td>NaN</td>\n      <td>en</td>\n      <td>Apple</td>\n      <td>TV A1625</td>\n      <td>Other</td>\n      <td>en</td>\n      <td>MI</td>\n      <td>513</td>\n      <td>False</td>\n    </tr>\n  </tbody>\n</table>\n</div>"
     },
     "execution_count": 756,
     "metadata": {},
     "output_type": "execute_result"
    }
   ],
   "source": [
    "df_proc_15.head()"
   ],
   "metadata": {
    "collapsed": false,
    "ExecuteTime": {
     "end_time": "2024-06-02T09:39:44.114647Z",
     "start_time": "2024-06-02T09:39:43.991269Z"
    }
   },
   "id": "60e051bf3f2c5857",
   "execution_count": 756
  },
  {
   "cell_type": "code",
   "outputs": [],
   "source": [
    "df_15_YN = df_proc_15[((df_proc_15.sbpr > 15.0) & (df_proc_15.data == True)) | (df_proc_15.sbpr == 15.0)] # No need to do that!"
   ],
   "metadata": {
    "collapsed": false,
    "ExecuteTime": {
     "end_time": "2024-05-28T09:08:41.664379Z",
     "start_time": "2024-05-28T09:08:41.501218Z"
    }
   },
   "id": "5d6a83eb9593466a",
   "execution_count": 187
  },
  {
   "cell_type": "code",
   "outputs": [
    {
     "data": {
      "text/plain": "      sbpr                  time                                    id  \\\n0   15.700  2024-04-10T10:00:08Z  faf22f54-7e31-4e82-90f6-d06d7713f9cf   \n1   15.100  2024-04-10T10:00:08Z  ca929559-cb99-4670-9f64-d7544fd5875d   \n2   15.000  2024-04-10T10:00:09Z  078615b0-842e-4832-9ca9-0cc93ef3fc77   \n3   15.700  2024-04-10T10:00:15Z  e118907e-f7f1-4c93-aec5-9b6b14bf2083   \n4   15.000  2024-04-10T10:00:16Z  8113435b-0e7c-4e7d-9ddc-146bfb4476ae   \n7   15.000  2024-04-10T10:00:30Z  c7c775cb-7ac5-4b5a-82d5-edbb07e153ae   \n8   15.100  2024-04-10T10:01:04Z  0ded957c-af5c-465b-8f3a-153f532cc031   \n9   15.100  2024-04-10T10:01:05Z  4c97de68-fab1-4576-a20c-d9c8202c323c   \n10  15.700  2024-04-10T10:01:06Z  61294ad1-4c6a-4423-9bb2-f7df93f0eb58   \n11  15.100  2024-04-10T10:01:28Z  dbc53667-9eda-4dd3-acbd-fe738886481d   \n12  15.000  2024-04-10T10:01:29Z  ef616422-381d-4ed6-b8de-c47e9cbdffb7   \n13  15.100  2024-04-10T10:01:29Z  ef616422-381d-4ed6-b8de-c47e9cbdffb7   \n14  16.500  2024-04-10T10:01:32Z  049fc709-368a-4319-83a2-98270077b9d5   \n15  15.000  2024-04-10T10:01:33Z  764d3791-7728-417d-be77-5e8b66d6224c   \n16  15.700  2024-04-10T10:01:34Z  08f19aa1-e4f6-41be-b8aa-17d5b9ed8027   \n17  15.100  2024-04-10T10:01:35Z  508103e4-7b8e-4224-bd5e-27d314c2a525   \n18  15.000  2024-04-10T10:01:36Z  508103e4-7b8e-4224-bd5e-27d314c2a525   \n20  15.000  2024-04-10T10:01:43Z  62b8835f-2bb6-4c93-bbb8-82f813f55bb7   \n21  15.100  2024-04-10T10:01:45Z  df41d1d2-24bb-4487-8065-716a2b39d402   \n25  20.200  2024-04-10T10:01:59Z  f5f6712f-f59a-4c28-9a5e-2862522f32d4   \n26  15.000  2024-04-10T10:02:03Z  ed6ca02c-ed41-4ce5-b8bd-9ca0e539da6f   \n28  15.000  2024-04-10T10:02:12Z  f5d681aa-5505-4846-b3eb-89705c46f314   \n30  15.700  2024-04-10T10:02:31Z  c706fdab-dc24-41db-8382-83415ddd6f75   \n31  15.000  2024-04-10T10:02:33Z  3299fafe-d551-4030-b98f-a342e213a872   \n32  15.000  2024-04-10T10:02:36Z  0acad465-d6cf-45e6-83c5-f7f1c7a72dd2   \n33  15.300  2024-04-10T10:02:40Z  80837d23-3c9d-4cf2-9448-199d511176e2   \n36  15.000  2024-04-10T10:03:03Z  098eca73-da1f-448b-86c8-66f9caeb5971   \n40  15.000  2024-04-10T10:03:19Z  3ce650c2-70a5-4ebd-aa3c-6975d79aafe0   \n42  15.750  2024-04-10T10:03:39Z  e36565f6-7a68-44c6-84ee-dea2e1be663e   \n43  15.000  2024-04-10T10:03:53Z  04fc4f83-6b28-42da-a734-85867ae321e7   \n46  15.000  2024-04-10T10:04:13Z  f97fff82-3a32-41e7-95d5-acdf27ab7a70   \n47  15.611  2024-04-10T10:04:34Z  74738934-d7b2-4776-993d-d7a0b3588079   \n48  15.700  2024-04-10T10:04:49Z  feb7d120-4a8b-4e13-b645-e0f6b1407c86   \n50  15.000  2024-04-10T10:05:03Z  3dda16e9-435d-4f58-9e01-ed967a26c8f4   \n51  15.700  2024-04-10T10:05:28Z  7d9c4cb9-7723-49d8-b7fc-9796e8ec97b9   \n52  15.870  2024-04-10T10:06:12Z  2b6c09d4-b2bd-43e4-b822-0da826a64ffe   \n53  15.000  2024-04-10T10:06:22Z  d5c72eed-5120-4b6a-a98f-deb8be43688d   \n54  15.100  2024-04-10T10:06:28Z  c92cf6d0-050f-479d-9955-fcec718be6ae   \n55  15.000  2024-04-10T10:06:40Z  9c1c3a55-eb6f-407c-ad06-3d95ca3ec257   \n57  15.000  2024-04-10T10:06:58Z  154146c6-4073-4f41-88b1-072a94bf46d1   \n\n    minduration  maxduration  minbitrate  maxbitrate  app_id  \\\n0             1           70           1      280000  711665   \n1             1           70           1      280000  711665   \n2             1           70           1      280000  711667   \n3             1           70           1      280000  711667   \n4             1           60           1      280000  711667   \n7             1           70           1      280000  711667   \n8             1           70           1      280000  711667   \n9             1           70           1      280000  711667   \n10            1           70           1      280000  711665   \n11            1           70           1      280000  711665   \n12            1           60           1      280000  711667   \n13            1           60           1      280000  711667   \n14            1           70           1      280000  711665   \n15            1           70           1      280000  711667   \n16            1           60           1      280000  711667   \n17            1           70           1      280000  711665   \n18            1           70           1      280000  711665   \n20            1           70           1      280000  711667   \n21            1           70           1      280000  711665   \n25           30           90           1      280000  635564   \n26            1           70           1      280000  711667   \n28            1           70           1      280000  711665   \n30            1           70           1      280000  711667   \n31            1           70           1      280000  711667   \n32            1           70           1      280000  711667   \n33            1           70           1      280000  711667   \n36            1           70           1      280000  711665   \n40            1          120           1      280000  711665   \n42            1           70           1      280000  711665   \n43            1           70           1      280000  711667   \n46            1           30           1      280000  683079   \n47            1           70           1      280000  711667   \n48            1           70           1      280000  711667   \n50            1           60           1      280000  711667   \n51            1           70           1      280000  711667   \n52            1          121           1      280000  623265   \n53            1           70           1      280000  711667   \n54            1           70           1      280000  711665   \n55            1           70           1      280000  711665   \n57            1           60           1      280000  711667   \n\n                          app_name       app_bundle app_pub_id  \\\n0   SLING: Live TV, Shows & Movies        com.sling       1034   \n1   SLING: Live TV, Shows & Movies        com.sling       1034   \n2                             Plex     G00002687241       1034   \n3   SLING: Live TV, Shows & Movies        com.sling       1034   \n4   fuboTV: Watch Live Sports & TV        905401434       1034   \n7                    samsungtvplus     G15147002586       1034   \n8                    samsungtvplus     G15147002586       1034   \n9                           fuboTV       B019DCHDZK       1034   \n10  fuboTV: Watch Live Sports & TV        905401434       1034   \n11  fuboTV: Watch Live Sports & TV        905401434       1034   \n12                          fuboTV       B019DCHDZK       1034   \n13                          fuboTV       B019DCHDZK       1034   \n14                          fuboTV       B019DCHDZK       1034   \n15                            Plex           256567       1034   \n16  fuboTV: Watch Live Sports & TV        905401434       1034   \n17                        Sling TV     G17198010041       1034   \n18                        Sling TV     G17198010041       1034   \n20  fuboTV: Watch Live Sports & TV        905401434       1034   \n21  fuboTV: Watch Live Sports & TV        905401434       1034   \n25                       1011 News            47416       1024   \n26  XUMO: Stream TV Shows & Movies    com.xumo.xumo       1034   \n28                         slingtv       B00ODC5N80       1034   \n30                   samsungtvplus     G15147002586       1034   \n31  fuboTV: Watch Live Sports & TV        905401434       1034   \n32                          fuboTV       B019DCHDZK       1034   \n33                  Samsung TVPlus     G15147002586       1034   \n36                 Samsung TV Plus     G15147002586       1034   \n40                            Plex            13535       1034   \n42  SLING: Live TV, Shows & Movies        com.sling       1034   \n43                          fuboTV       B019DCHDZK       1034   \n46                       WatchFree  vizio.watchfree       1043   \n47                            Plex     G00002687241       1034   \n48                          fuboTV       B019DCHDZK       1034   \n50                          fuboTV       B019DCHDZK       1034   \n51                  Samsung TVPlus     G15147002586       1034   \n52                 Samsung TV Plus     G15147002586       1077   \n53                          fuboTV       B019DCHDZK       1034   \n54  fuboTV: Watch Live Sports & TV        905401434       1034   \n55                            XUMO            96065       1034   \n57                   samsungtvplus     G15147002586       1034   \n\n                               genre language device_make  \\\n0                                NaN      NaN     Generic   \n1                                NaN      NaN     Generic   \n2                                NaN       en     Samsung   \n3                                NaN       en     Generic   \n4                                NaN       en       Apple   \n7                                NaN       en     Samsung   \n8                                NaN       en     Samsung   \n9                                NaN       en      Amazon   \n10                               NaN      NaN       Apple   \n11                               NaN      NaN       Apple   \n12                               NaN       en     Unknown   \n13                               NaN       en     Unknown   \n14                               NaN      NaN      Amazon   \n15                               NaN       en          LG   \n16                               NaN       en       Apple   \n17                               NaN      NaN     Samsung   \n18                               NaN      NaN     Samsung   \n20                               NaN       en       Apple   \n21                               NaN      NaN       Apple   \n25                              news       en        Roku   \n26                               NaN       en     Generic   \n28                               NaN      NaN      Amazon   \n30                               NaN       en     Samsung   \n31                               NaN       en       Apple   \n32                               NaN       en      Amazon   \n33                               NaN       en     Samsung   \n36                               NaN      NaN     Samsung   \n40                               NaN      NaN        Roku   \n42                               NaN      NaN      Xiaomi   \n43                               NaN       en      Amazon   \n46                     entertainment      NaN       Vizio   \n47                               NaN       en     Samsung   \n48                               NaN       en     Unknown   \n50                               NaN       en      Amazon   \n51                               NaN       en     Samsung   \n52  Home And Garden,Arts,Documentary       en     Samsung   \n53                               NaN       en      Amazon   \n54                               NaN      NaN       Apple   \n55                               NaN      NaN        Roku   \n57                               NaN       en     Samsung   \n\n            device_model        device_os device_language geo_region  \\\n0     Generic Android TV          Android              en         TX   \n1     Generic Android TV          Android              en         TX   \n2               Tizen TV            Tizen              en         FL   \n3     Generic Android TV          Android              en         HI   \n4               TV A1625            Other              en         MI   \n7               Tizen TV            Tizen              en         NC   \n8               Tizen TV            Tizen              en         SC   \n9                   AFTB          Fire OS              en         IL   \n10              TV A1625            Other              en         TX   \n11              TV A1625            Other              en         WA   \n12                 AFTMM          Fire OS              en         NY   \n13                 AFTMM          Fire OS              en         NY   \n14                AFTSSS          Fire OS              en         FL   \n15      Generic WebOS TV         webOS TV              en         FL   \n16              TV A1625            Other              en         TX   \n17              Tizen TV            Tizen              en         TX   \n18              Tizen TV            Tizen              en         TX   \n20              TV A1625            Other              en         FL   \n21            TV 5th Gen            Other              en         NV   \n25                   DVP          Roku OS              en         NE   \n26    Generic Android TV          Android              en         AL   \n28                 AFTSS          Fire OS              en         WA   \n30              Tizen TV            Tizen              en         FL   \n31            TV 5th Gen            Other              en         FL   \n32                AFTSSS          Fire OS              en         FL   \n33              Tizen TV            Tizen              en         OR   \n36              Tizen TV            Tizen              en         IL   \n40  Digital Video player          Roku OS              en         GA   \n42              Mi Box 3          Android              en         CA   \n43                  AFTT          Fire OS              en         AZ   \n46               V585-H1  VIZIO SmartCast              en         MI   \n47              Tizen TV            Tizen              en         FL   \n48                 AFTMM          Fire OS              en         NV   \n50                AFTSSS          Fire OS              en         NY   \n51              Tizen TV            Tizen              en         CA   \n52         Tizen TV 2021            Tizen              en         MT   \n53                AFTSSS          Fire OS              en         MI   \n54              TV A1625            Other              en         WA   \n55  Digital Video player          Roku OS              en         NC   \n57              Tizen TV            Tizen              en         NY   \n\n   geo_metro   data  \n0        618   True  \n1        618   True  \n2        528  False  \n3        744   True  \n4        513  False  \n7        NaN   True  \n8        567   True  \n9        602   True  \n10       641   True  \n11       819   True  \n12       NaN   True  \n13       NaN   True  \n14       528   True  \n15       528  False  \n16       623   True  \n17       623   True  \n18       623   True  \n20       528   True  \n21       839   True  \n25       722   True  \n26       630   True  \n28       819  False  \n30       539   True  \n31       534  False  \n32       528   True  \n33       NaN   True  \n36       602  False  \n40       503   True  \n42       803   True  \n43       NaN   True  \n46       505  False  \n47       NaN   True  \n48       839   True  \n50       501   True  \n51       803   True  \n52       754   True  \n53       505  False  \n54       819   True  \n55       517   True  \n57       501  False  ",
      "text/html": "<div>\n<style scoped>\n    .dataframe tbody tr th:only-of-type {\n        vertical-align: middle;\n    }\n\n    .dataframe tbody tr th {\n        vertical-align: top;\n    }\n\n    .dataframe thead th {\n        text-align: right;\n    }\n</style>\n<table border=\"1\" class=\"dataframe\">\n  <thead>\n    <tr style=\"text-align: right;\">\n      <th></th>\n      <th>sbpr</th>\n      <th>time</th>\n      <th>id</th>\n      <th>minduration</th>\n      <th>maxduration</th>\n      <th>minbitrate</th>\n      <th>maxbitrate</th>\n      <th>app_id</th>\n      <th>app_name</th>\n      <th>app_bundle</th>\n      <th>app_pub_id</th>\n      <th>genre</th>\n      <th>language</th>\n      <th>device_make</th>\n      <th>device_model</th>\n      <th>device_os</th>\n      <th>device_language</th>\n      <th>geo_region</th>\n      <th>geo_metro</th>\n      <th>data</th>\n    </tr>\n  </thead>\n  <tbody>\n    <tr>\n      <th>0</th>\n      <td>15.700</td>\n      <td>2024-04-10T10:00:08Z</td>\n      <td>faf22f54-7e31-4e82-90f6-d06d7713f9cf</td>\n      <td>1</td>\n      <td>70</td>\n      <td>1</td>\n      <td>280000</td>\n      <td>711665</td>\n      <td>SLING: Live TV, Shows &amp; Movies</td>\n      <td>com.sling</td>\n      <td>1034</td>\n      <td>NaN</td>\n      <td>NaN</td>\n      <td>Generic</td>\n      <td>Generic Android TV</td>\n      <td>Android</td>\n      <td>en</td>\n      <td>TX</td>\n      <td>618</td>\n      <td>True</td>\n    </tr>\n    <tr>\n      <th>1</th>\n      <td>15.100</td>\n      <td>2024-04-10T10:00:08Z</td>\n      <td>ca929559-cb99-4670-9f64-d7544fd5875d</td>\n      <td>1</td>\n      <td>70</td>\n      <td>1</td>\n      <td>280000</td>\n      <td>711665</td>\n      <td>SLING: Live TV, Shows &amp; Movies</td>\n      <td>com.sling</td>\n      <td>1034</td>\n      <td>NaN</td>\n      <td>NaN</td>\n      <td>Generic</td>\n      <td>Generic Android TV</td>\n      <td>Android</td>\n      <td>en</td>\n      <td>TX</td>\n      <td>618</td>\n      <td>True</td>\n    </tr>\n    <tr>\n      <th>2</th>\n      <td>15.000</td>\n      <td>2024-04-10T10:00:09Z</td>\n      <td>078615b0-842e-4832-9ca9-0cc93ef3fc77</td>\n      <td>1</td>\n      <td>70</td>\n      <td>1</td>\n      <td>280000</td>\n      <td>711667</td>\n      <td>Plex</td>\n      <td>G00002687241</td>\n      <td>1034</td>\n      <td>NaN</td>\n      <td>en</td>\n      <td>Samsung</td>\n      <td>Tizen TV</td>\n      <td>Tizen</td>\n      <td>en</td>\n      <td>FL</td>\n      <td>528</td>\n      <td>False</td>\n    </tr>\n    <tr>\n      <th>3</th>\n      <td>15.700</td>\n      <td>2024-04-10T10:00:15Z</td>\n      <td>e118907e-f7f1-4c93-aec5-9b6b14bf2083</td>\n      <td>1</td>\n      <td>70</td>\n      <td>1</td>\n      <td>280000</td>\n      <td>711667</td>\n      <td>SLING: Live TV, Shows &amp; Movies</td>\n      <td>com.sling</td>\n      <td>1034</td>\n      <td>NaN</td>\n      <td>en</td>\n      <td>Generic</td>\n      <td>Generic Android TV</td>\n      <td>Android</td>\n      <td>en</td>\n      <td>HI</td>\n      <td>744</td>\n      <td>True</td>\n    </tr>\n    <tr>\n      <th>4</th>\n      <td>15.000</td>\n      <td>2024-04-10T10:00:16Z</td>\n      <td>8113435b-0e7c-4e7d-9ddc-146bfb4476ae</td>\n      <td>1</td>\n      <td>60</td>\n      <td>1</td>\n      <td>280000</td>\n      <td>711667</td>\n      <td>fuboTV: Watch Live Sports &amp; TV</td>\n      <td>905401434</td>\n      <td>1034</td>\n      <td>NaN</td>\n      <td>en</td>\n      <td>Apple</td>\n      <td>TV A1625</td>\n      <td>Other</td>\n      <td>en</td>\n      <td>MI</td>\n      <td>513</td>\n      <td>False</td>\n    </tr>\n    <tr>\n      <th>7</th>\n      <td>15.000</td>\n      <td>2024-04-10T10:00:30Z</td>\n      <td>c7c775cb-7ac5-4b5a-82d5-edbb07e153ae</td>\n      <td>1</td>\n      <td>70</td>\n      <td>1</td>\n      <td>280000</td>\n      <td>711667</td>\n      <td>samsungtvplus</td>\n      <td>G15147002586</td>\n      <td>1034</td>\n      <td>NaN</td>\n      <td>en</td>\n      <td>Samsung</td>\n      <td>Tizen TV</td>\n      <td>Tizen</td>\n      <td>en</td>\n      <td>NC</td>\n      <td>NaN</td>\n      <td>True</td>\n    </tr>\n    <tr>\n      <th>8</th>\n      <td>15.100</td>\n      <td>2024-04-10T10:01:04Z</td>\n      <td>0ded957c-af5c-465b-8f3a-153f532cc031</td>\n      <td>1</td>\n      <td>70</td>\n      <td>1</td>\n      <td>280000</td>\n      <td>711667</td>\n      <td>samsungtvplus</td>\n      <td>G15147002586</td>\n      <td>1034</td>\n      <td>NaN</td>\n      <td>en</td>\n      <td>Samsung</td>\n      <td>Tizen TV</td>\n      <td>Tizen</td>\n      <td>en</td>\n      <td>SC</td>\n      <td>567</td>\n      <td>True</td>\n    </tr>\n    <tr>\n      <th>9</th>\n      <td>15.100</td>\n      <td>2024-04-10T10:01:05Z</td>\n      <td>4c97de68-fab1-4576-a20c-d9c8202c323c</td>\n      <td>1</td>\n      <td>70</td>\n      <td>1</td>\n      <td>280000</td>\n      <td>711667</td>\n      <td>fuboTV</td>\n      <td>B019DCHDZK</td>\n      <td>1034</td>\n      <td>NaN</td>\n      <td>en</td>\n      <td>Amazon</td>\n      <td>AFTB</td>\n      <td>Fire OS</td>\n      <td>en</td>\n      <td>IL</td>\n      <td>602</td>\n      <td>True</td>\n    </tr>\n    <tr>\n      <th>10</th>\n      <td>15.700</td>\n      <td>2024-04-10T10:01:06Z</td>\n      <td>61294ad1-4c6a-4423-9bb2-f7df93f0eb58</td>\n      <td>1</td>\n      <td>70</td>\n      <td>1</td>\n      <td>280000</td>\n      <td>711665</td>\n      <td>fuboTV: Watch Live Sports &amp; TV</td>\n      <td>905401434</td>\n      <td>1034</td>\n      <td>NaN</td>\n      <td>NaN</td>\n      <td>Apple</td>\n      <td>TV A1625</td>\n      <td>Other</td>\n      <td>en</td>\n      <td>TX</td>\n      <td>641</td>\n      <td>True</td>\n    </tr>\n    <tr>\n      <th>11</th>\n      <td>15.100</td>\n      <td>2024-04-10T10:01:28Z</td>\n      <td>dbc53667-9eda-4dd3-acbd-fe738886481d</td>\n      <td>1</td>\n      <td>70</td>\n      <td>1</td>\n      <td>280000</td>\n      <td>711665</td>\n      <td>fuboTV: Watch Live Sports &amp; TV</td>\n      <td>905401434</td>\n      <td>1034</td>\n      <td>NaN</td>\n      <td>NaN</td>\n      <td>Apple</td>\n      <td>TV A1625</td>\n      <td>Other</td>\n      <td>en</td>\n      <td>WA</td>\n      <td>819</td>\n      <td>True</td>\n    </tr>\n    <tr>\n      <th>12</th>\n      <td>15.000</td>\n      <td>2024-04-10T10:01:29Z</td>\n      <td>ef616422-381d-4ed6-b8de-c47e9cbdffb7</td>\n      <td>1</td>\n      <td>60</td>\n      <td>1</td>\n      <td>280000</td>\n      <td>711667</td>\n      <td>fuboTV</td>\n      <td>B019DCHDZK</td>\n      <td>1034</td>\n      <td>NaN</td>\n      <td>en</td>\n      <td>Unknown</td>\n      <td>AFTMM</td>\n      <td>Fire OS</td>\n      <td>en</td>\n      <td>NY</td>\n      <td>NaN</td>\n      <td>True</td>\n    </tr>\n    <tr>\n      <th>13</th>\n      <td>15.100</td>\n      <td>2024-04-10T10:01:29Z</td>\n      <td>ef616422-381d-4ed6-b8de-c47e9cbdffb7</td>\n      <td>1</td>\n      <td>60</td>\n      <td>1</td>\n      <td>280000</td>\n      <td>711667</td>\n      <td>fuboTV</td>\n      <td>B019DCHDZK</td>\n      <td>1034</td>\n      <td>NaN</td>\n      <td>en</td>\n      <td>Unknown</td>\n      <td>AFTMM</td>\n      <td>Fire OS</td>\n      <td>en</td>\n      <td>NY</td>\n      <td>NaN</td>\n      <td>True</td>\n    </tr>\n    <tr>\n      <th>14</th>\n      <td>16.500</td>\n      <td>2024-04-10T10:01:32Z</td>\n      <td>049fc709-368a-4319-83a2-98270077b9d5</td>\n      <td>1</td>\n      <td>70</td>\n      <td>1</td>\n      <td>280000</td>\n      <td>711665</td>\n      <td>fuboTV</td>\n      <td>B019DCHDZK</td>\n      <td>1034</td>\n      <td>NaN</td>\n      <td>NaN</td>\n      <td>Amazon</td>\n      <td>AFTSSS</td>\n      <td>Fire OS</td>\n      <td>en</td>\n      <td>FL</td>\n      <td>528</td>\n      <td>True</td>\n    </tr>\n    <tr>\n      <th>15</th>\n      <td>15.000</td>\n      <td>2024-04-10T10:01:33Z</td>\n      <td>764d3791-7728-417d-be77-5e8b66d6224c</td>\n      <td>1</td>\n      <td>70</td>\n      <td>1</td>\n      <td>280000</td>\n      <td>711667</td>\n      <td>Plex</td>\n      <td>256567</td>\n      <td>1034</td>\n      <td>NaN</td>\n      <td>en</td>\n      <td>LG</td>\n      <td>Generic WebOS TV</td>\n      <td>webOS TV</td>\n      <td>en</td>\n      <td>FL</td>\n      <td>528</td>\n      <td>False</td>\n    </tr>\n    <tr>\n      <th>16</th>\n      <td>15.700</td>\n      <td>2024-04-10T10:01:34Z</td>\n      <td>08f19aa1-e4f6-41be-b8aa-17d5b9ed8027</td>\n      <td>1</td>\n      <td>60</td>\n      <td>1</td>\n      <td>280000</td>\n      <td>711667</td>\n      <td>fuboTV: Watch Live Sports &amp; TV</td>\n      <td>905401434</td>\n      <td>1034</td>\n      <td>NaN</td>\n      <td>en</td>\n      <td>Apple</td>\n      <td>TV A1625</td>\n      <td>Other</td>\n      <td>en</td>\n      <td>TX</td>\n      <td>623</td>\n      <td>True</td>\n    </tr>\n    <tr>\n      <th>17</th>\n      <td>15.100</td>\n      <td>2024-04-10T10:01:35Z</td>\n      <td>508103e4-7b8e-4224-bd5e-27d314c2a525</td>\n      <td>1</td>\n      <td>70</td>\n      <td>1</td>\n      <td>280000</td>\n      <td>711665</td>\n      <td>Sling TV</td>\n      <td>G17198010041</td>\n      <td>1034</td>\n      <td>NaN</td>\n      <td>NaN</td>\n      <td>Samsung</td>\n      <td>Tizen TV</td>\n      <td>Tizen</td>\n      <td>en</td>\n      <td>TX</td>\n      <td>623</td>\n      <td>True</td>\n    </tr>\n    <tr>\n      <th>18</th>\n      <td>15.000</td>\n      <td>2024-04-10T10:01:36Z</td>\n      <td>508103e4-7b8e-4224-bd5e-27d314c2a525</td>\n      <td>1</td>\n      <td>70</td>\n      <td>1</td>\n      <td>280000</td>\n      <td>711665</td>\n      <td>Sling TV</td>\n      <td>G17198010041</td>\n      <td>1034</td>\n      <td>NaN</td>\n      <td>NaN</td>\n      <td>Samsung</td>\n      <td>Tizen TV</td>\n      <td>Tizen</td>\n      <td>en</td>\n      <td>TX</td>\n      <td>623</td>\n      <td>True</td>\n    </tr>\n    <tr>\n      <th>20</th>\n      <td>15.000</td>\n      <td>2024-04-10T10:01:43Z</td>\n      <td>62b8835f-2bb6-4c93-bbb8-82f813f55bb7</td>\n      <td>1</td>\n      <td>70</td>\n      <td>1</td>\n      <td>280000</td>\n      <td>711667</td>\n      <td>fuboTV: Watch Live Sports &amp; TV</td>\n      <td>905401434</td>\n      <td>1034</td>\n      <td>NaN</td>\n      <td>en</td>\n      <td>Apple</td>\n      <td>TV A1625</td>\n      <td>Other</td>\n      <td>en</td>\n      <td>FL</td>\n      <td>528</td>\n      <td>True</td>\n    </tr>\n    <tr>\n      <th>21</th>\n      <td>15.100</td>\n      <td>2024-04-10T10:01:45Z</td>\n      <td>df41d1d2-24bb-4487-8065-716a2b39d402</td>\n      <td>1</td>\n      <td>70</td>\n      <td>1</td>\n      <td>280000</td>\n      <td>711665</td>\n      <td>fuboTV: Watch Live Sports &amp; TV</td>\n      <td>905401434</td>\n      <td>1034</td>\n      <td>NaN</td>\n      <td>NaN</td>\n      <td>Apple</td>\n      <td>TV 5th Gen</td>\n      <td>Other</td>\n      <td>en</td>\n      <td>NV</td>\n      <td>839</td>\n      <td>True</td>\n    </tr>\n    <tr>\n      <th>25</th>\n      <td>20.200</td>\n      <td>2024-04-10T10:01:59Z</td>\n      <td>f5f6712f-f59a-4c28-9a5e-2862522f32d4</td>\n      <td>30</td>\n      <td>90</td>\n      <td>1</td>\n      <td>280000</td>\n      <td>635564</td>\n      <td>1011 News</td>\n      <td>47416</td>\n      <td>1024</td>\n      <td>news</td>\n      <td>en</td>\n      <td>Roku</td>\n      <td>DVP</td>\n      <td>Roku OS</td>\n      <td>en</td>\n      <td>NE</td>\n      <td>722</td>\n      <td>True</td>\n    </tr>\n    <tr>\n      <th>26</th>\n      <td>15.000</td>\n      <td>2024-04-10T10:02:03Z</td>\n      <td>ed6ca02c-ed41-4ce5-b8bd-9ca0e539da6f</td>\n      <td>1</td>\n      <td>70</td>\n      <td>1</td>\n      <td>280000</td>\n      <td>711667</td>\n      <td>XUMO: Stream TV Shows &amp; Movies</td>\n      <td>com.xumo.xumo</td>\n      <td>1034</td>\n      <td>NaN</td>\n      <td>en</td>\n      <td>Generic</td>\n      <td>Generic Android TV</td>\n      <td>Android</td>\n      <td>en</td>\n      <td>AL</td>\n      <td>630</td>\n      <td>True</td>\n    </tr>\n    <tr>\n      <th>28</th>\n      <td>15.000</td>\n      <td>2024-04-10T10:02:12Z</td>\n      <td>f5d681aa-5505-4846-b3eb-89705c46f314</td>\n      <td>1</td>\n      <td>70</td>\n      <td>1</td>\n      <td>280000</td>\n      <td>711665</td>\n      <td>slingtv</td>\n      <td>B00ODC5N80</td>\n      <td>1034</td>\n      <td>NaN</td>\n      <td>NaN</td>\n      <td>Amazon</td>\n      <td>AFTSS</td>\n      <td>Fire OS</td>\n      <td>en</td>\n      <td>WA</td>\n      <td>819</td>\n      <td>False</td>\n    </tr>\n    <tr>\n      <th>30</th>\n      <td>15.700</td>\n      <td>2024-04-10T10:02:31Z</td>\n      <td>c706fdab-dc24-41db-8382-83415ddd6f75</td>\n      <td>1</td>\n      <td>70</td>\n      <td>1</td>\n      <td>280000</td>\n      <td>711667</td>\n      <td>samsungtvplus</td>\n      <td>G15147002586</td>\n      <td>1034</td>\n      <td>NaN</td>\n      <td>en</td>\n      <td>Samsung</td>\n      <td>Tizen TV</td>\n      <td>Tizen</td>\n      <td>en</td>\n      <td>FL</td>\n      <td>539</td>\n      <td>True</td>\n    </tr>\n    <tr>\n      <th>31</th>\n      <td>15.000</td>\n      <td>2024-04-10T10:02:33Z</td>\n      <td>3299fafe-d551-4030-b98f-a342e213a872</td>\n      <td>1</td>\n      <td>70</td>\n      <td>1</td>\n      <td>280000</td>\n      <td>711667</td>\n      <td>fuboTV: Watch Live Sports &amp; TV</td>\n      <td>905401434</td>\n      <td>1034</td>\n      <td>NaN</td>\n      <td>en</td>\n      <td>Apple</td>\n      <td>TV 5th Gen</td>\n      <td>Other</td>\n      <td>en</td>\n      <td>FL</td>\n      <td>534</td>\n      <td>False</td>\n    </tr>\n    <tr>\n      <th>32</th>\n      <td>15.000</td>\n      <td>2024-04-10T10:02:36Z</td>\n      <td>0acad465-d6cf-45e6-83c5-f7f1c7a72dd2</td>\n      <td>1</td>\n      <td>70</td>\n      <td>1</td>\n      <td>280000</td>\n      <td>711667</td>\n      <td>fuboTV</td>\n      <td>B019DCHDZK</td>\n      <td>1034</td>\n      <td>NaN</td>\n      <td>en</td>\n      <td>Amazon</td>\n      <td>AFTSSS</td>\n      <td>Fire OS</td>\n      <td>en</td>\n      <td>FL</td>\n      <td>528</td>\n      <td>True</td>\n    </tr>\n    <tr>\n      <th>33</th>\n      <td>15.300</td>\n      <td>2024-04-10T10:02:40Z</td>\n      <td>80837d23-3c9d-4cf2-9448-199d511176e2</td>\n      <td>1</td>\n      <td>70</td>\n      <td>1</td>\n      <td>280000</td>\n      <td>711667</td>\n      <td>Samsung TVPlus</td>\n      <td>G15147002586</td>\n      <td>1034</td>\n      <td>NaN</td>\n      <td>en</td>\n      <td>Samsung</td>\n      <td>Tizen TV</td>\n      <td>Tizen</td>\n      <td>en</td>\n      <td>OR</td>\n      <td>NaN</td>\n      <td>True</td>\n    </tr>\n    <tr>\n      <th>36</th>\n      <td>15.000</td>\n      <td>2024-04-10T10:03:03Z</td>\n      <td>098eca73-da1f-448b-86c8-66f9caeb5971</td>\n      <td>1</td>\n      <td>70</td>\n      <td>1</td>\n      <td>280000</td>\n      <td>711665</td>\n      <td>Samsung TV Plus</td>\n      <td>G15147002586</td>\n      <td>1034</td>\n      <td>NaN</td>\n      <td>NaN</td>\n      <td>Samsung</td>\n      <td>Tizen TV</td>\n      <td>Tizen</td>\n      <td>en</td>\n      <td>IL</td>\n      <td>602</td>\n      <td>False</td>\n    </tr>\n    <tr>\n      <th>40</th>\n      <td>15.000</td>\n      <td>2024-04-10T10:03:19Z</td>\n      <td>3ce650c2-70a5-4ebd-aa3c-6975d79aafe0</td>\n      <td>1</td>\n      <td>120</td>\n      <td>1</td>\n      <td>280000</td>\n      <td>711665</td>\n      <td>Plex</td>\n      <td>13535</td>\n      <td>1034</td>\n      <td>NaN</td>\n      <td>NaN</td>\n      <td>Roku</td>\n      <td>Digital Video player</td>\n      <td>Roku OS</td>\n      <td>en</td>\n      <td>GA</td>\n      <td>503</td>\n      <td>True</td>\n    </tr>\n    <tr>\n      <th>42</th>\n      <td>15.750</td>\n      <td>2024-04-10T10:03:39Z</td>\n      <td>e36565f6-7a68-44c6-84ee-dea2e1be663e</td>\n      <td>1</td>\n      <td>70</td>\n      <td>1</td>\n      <td>280000</td>\n      <td>711665</td>\n      <td>SLING: Live TV, Shows &amp; Movies</td>\n      <td>com.sling</td>\n      <td>1034</td>\n      <td>NaN</td>\n      <td>NaN</td>\n      <td>Xiaomi</td>\n      <td>Mi Box 3</td>\n      <td>Android</td>\n      <td>en</td>\n      <td>CA</td>\n      <td>803</td>\n      <td>True</td>\n    </tr>\n    <tr>\n      <th>43</th>\n      <td>15.000</td>\n      <td>2024-04-10T10:03:53Z</td>\n      <td>04fc4f83-6b28-42da-a734-85867ae321e7</td>\n      <td>1</td>\n      <td>70</td>\n      <td>1</td>\n      <td>280000</td>\n      <td>711667</td>\n      <td>fuboTV</td>\n      <td>B019DCHDZK</td>\n      <td>1034</td>\n      <td>NaN</td>\n      <td>en</td>\n      <td>Amazon</td>\n      <td>AFTT</td>\n      <td>Fire OS</td>\n      <td>en</td>\n      <td>AZ</td>\n      <td>NaN</td>\n      <td>True</td>\n    </tr>\n    <tr>\n      <th>46</th>\n      <td>15.000</td>\n      <td>2024-04-10T10:04:13Z</td>\n      <td>f97fff82-3a32-41e7-95d5-acdf27ab7a70</td>\n      <td>1</td>\n      <td>30</td>\n      <td>1</td>\n      <td>280000</td>\n      <td>683079</td>\n      <td>WatchFree</td>\n      <td>vizio.watchfree</td>\n      <td>1043</td>\n      <td>entertainment</td>\n      <td>NaN</td>\n      <td>Vizio</td>\n      <td>V585-H1</td>\n      <td>VIZIO SmartCast</td>\n      <td>en</td>\n      <td>MI</td>\n      <td>505</td>\n      <td>False</td>\n    </tr>\n    <tr>\n      <th>47</th>\n      <td>15.611</td>\n      <td>2024-04-10T10:04:34Z</td>\n      <td>74738934-d7b2-4776-993d-d7a0b3588079</td>\n      <td>1</td>\n      <td>70</td>\n      <td>1</td>\n      <td>280000</td>\n      <td>711667</td>\n      <td>Plex</td>\n      <td>G00002687241</td>\n      <td>1034</td>\n      <td>NaN</td>\n      <td>en</td>\n      <td>Samsung</td>\n      <td>Tizen TV</td>\n      <td>Tizen</td>\n      <td>en</td>\n      <td>FL</td>\n      <td>NaN</td>\n      <td>True</td>\n    </tr>\n    <tr>\n      <th>48</th>\n      <td>15.700</td>\n      <td>2024-04-10T10:04:49Z</td>\n      <td>feb7d120-4a8b-4e13-b645-e0f6b1407c86</td>\n      <td>1</td>\n      <td>70</td>\n      <td>1</td>\n      <td>280000</td>\n      <td>711667</td>\n      <td>fuboTV</td>\n      <td>B019DCHDZK</td>\n      <td>1034</td>\n      <td>NaN</td>\n      <td>en</td>\n      <td>Unknown</td>\n      <td>AFTMM</td>\n      <td>Fire OS</td>\n      <td>en</td>\n      <td>NV</td>\n      <td>839</td>\n      <td>True</td>\n    </tr>\n    <tr>\n      <th>50</th>\n      <td>15.000</td>\n      <td>2024-04-10T10:05:03Z</td>\n      <td>3dda16e9-435d-4f58-9e01-ed967a26c8f4</td>\n      <td>1</td>\n      <td>60</td>\n      <td>1</td>\n      <td>280000</td>\n      <td>711667</td>\n      <td>fuboTV</td>\n      <td>B019DCHDZK</td>\n      <td>1034</td>\n      <td>NaN</td>\n      <td>en</td>\n      <td>Amazon</td>\n      <td>AFTSSS</td>\n      <td>Fire OS</td>\n      <td>en</td>\n      <td>NY</td>\n      <td>501</td>\n      <td>True</td>\n    </tr>\n    <tr>\n      <th>51</th>\n      <td>15.700</td>\n      <td>2024-04-10T10:05:28Z</td>\n      <td>7d9c4cb9-7723-49d8-b7fc-9796e8ec97b9</td>\n      <td>1</td>\n      <td>70</td>\n      <td>1</td>\n      <td>280000</td>\n      <td>711667</td>\n      <td>Samsung TVPlus</td>\n      <td>G15147002586</td>\n      <td>1034</td>\n      <td>NaN</td>\n      <td>en</td>\n      <td>Samsung</td>\n      <td>Tizen TV</td>\n      <td>Tizen</td>\n      <td>en</td>\n      <td>CA</td>\n      <td>803</td>\n      <td>True</td>\n    </tr>\n    <tr>\n      <th>52</th>\n      <td>15.870</td>\n      <td>2024-04-10T10:06:12Z</td>\n      <td>2b6c09d4-b2bd-43e4-b822-0da826a64ffe</td>\n      <td>1</td>\n      <td>121</td>\n      <td>1</td>\n      <td>280000</td>\n      <td>623265</td>\n      <td>Samsung TV Plus</td>\n      <td>G15147002586</td>\n      <td>1077</td>\n      <td>Home And Garden,Arts,Documentary</td>\n      <td>en</td>\n      <td>Samsung</td>\n      <td>Tizen TV 2021</td>\n      <td>Tizen</td>\n      <td>en</td>\n      <td>MT</td>\n      <td>754</td>\n      <td>True</td>\n    </tr>\n    <tr>\n      <th>53</th>\n      <td>15.000</td>\n      <td>2024-04-10T10:06:22Z</td>\n      <td>d5c72eed-5120-4b6a-a98f-deb8be43688d</td>\n      <td>1</td>\n      <td>70</td>\n      <td>1</td>\n      <td>280000</td>\n      <td>711667</td>\n      <td>fuboTV</td>\n      <td>B019DCHDZK</td>\n      <td>1034</td>\n      <td>NaN</td>\n      <td>en</td>\n      <td>Amazon</td>\n      <td>AFTSSS</td>\n      <td>Fire OS</td>\n      <td>en</td>\n      <td>MI</td>\n      <td>505</td>\n      <td>False</td>\n    </tr>\n    <tr>\n      <th>54</th>\n      <td>15.100</td>\n      <td>2024-04-10T10:06:28Z</td>\n      <td>c92cf6d0-050f-479d-9955-fcec718be6ae</td>\n      <td>1</td>\n      <td>70</td>\n      <td>1</td>\n      <td>280000</td>\n      <td>711665</td>\n      <td>fuboTV: Watch Live Sports &amp; TV</td>\n      <td>905401434</td>\n      <td>1034</td>\n      <td>NaN</td>\n      <td>NaN</td>\n      <td>Apple</td>\n      <td>TV A1625</td>\n      <td>Other</td>\n      <td>en</td>\n      <td>WA</td>\n      <td>819</td>\n      <td>True</td>\n    </tr>\n    <tr>\n      <th>55</th>\n      <td>15.000</td>\n      <td>2024-04-10T10:06:40Z</td>\n      <td>9c1c3a55-eb6f-407c-ad06-3d95ca3ec257</td>\n      <td>1</td>\n      <td>70</td>\n      <td>1</td>\n      <td>280000</td>\n      <td>711665</td>\n      <td>XUMO</td>\n      <td>96065</td>\n      <td>1034</td>\n      <td>NaN</td>\n      <td>NaN</td>\n      <td>Roku</td>\n      <td>Digital Video player</td>\n      <td>Roku OS</td>\n      <td>en</td>\n      <td>NC</td>\n      <td>517</td>\n      <td>True</td>\n    </tr>\n    <tr>\n      <th>57</th>\n      <td>15.000</td>\n      <td>2024-04-10T10:06:58Z</td>\n      <td>154146c6-4073-4f41-88b1-072a94bf46d1</td>\n      <td>1</td>\n      <td>60</td>\n      <td>1</td>\n      <td>280000</td>\n      <td>711667</td>\n      <td>samsungtvplus</td>\n      <td>G15147002586</td>\n      <td>1034</td>\n      <td>NaN</td>\n      <td>en</td>\n      <td>Samsung</td>\n      <td>Tizen TV</td>\n      <td>Tizen</td>\n      <td>en</td>\n      <td>NY</td>\n      <td>501</td>\n      <td>False</td>\n    </tr>\n  </tbody>\n</table>\n</div>"
     },
     "execution_count": 188,
     "metadata": {},
     "output_type": "execute_result"
    }
   ],
   "source": [
    "df_15_YN.head(40)"
   ],
   "metadata": {
    "collapsed": false,
    "ExecuteTime": {
     "end_time": "2024-05-28T09:08:46.742158Z",
     "start_time": "2024-05-28T09:08:46.698962Z"
    }
   },
   "id": "2736d622d6b4df61",
   "execution_count": 188
  },
  {
   "cell_type": "code",
   "outputs": [],
   "source": [
    "df_15_YN.to_pickle(\"clean_bres_15_0410_YN.pkl\")"
   ],
   "metadata": {
    "collapsed": false,
    "ExecuteTime": {
     "end_time": "2024-05-28T09:09:02.092782Z",
     "start_time": "2024-05-28T09:09:00.406783Z"
    }
   },
   "id": "c6afcb9a7be6411a",
   "execution_count": 189
  },
  {
   "cell_type": "code",
   "outputs": [],
   "source": [
    "df_15_YN = pd.read_pickle(\"clean_bres_15_0410_YN.pkl\")"
   ],
   "metadata": {
    "collapsed": false,
    "ExecuteTime": {
     "end_time": "2024-05-30T21:06:28.632085Z",
     "start_time": "2024-05-30T21:06:27.528316Z"
    }
   },
   "id": "d176072622d1822",
   "execution_count": 641
  },
  {
   "cell_type": "code",
   "outputs": [],
   "source": [
    "# rename df_proc_15 to df_15_YN so that I can use all the cleaning below.\n",
    "df_15_YN = df_proc_15"
   ],
   "metadata": {
    "collapsed": false,
    "ExecuteTime": {
     "end_time": "2024-06-02T12:45:29.363540Z",
     "start_time": "2024-06-02T12:45:29.178825Z"
    }
   },
   "id": "3d1845a61fc28be3",
   "execution_count": 8
  },
  {
   "cell_type": "markdown",
   "source": [
    "IV. Clean up the categories"
   ],
   "metadata": {
    "collapsed": false
   },
   "id": "ad6d7f2dd18dd004"
  },
  {
   "cell_type": "code",
   "outputs": [
    {
     "data": {
      "text/plain": "<bound method DataFrame.info of       sbpr                  time                                    id  \\\n0     15.7  2024-04-10T10:00:08Z  faf22f54-7e31-4e82-90f6-d06d7713f9cf   \n1     15.1  2024-04-10T10:00:08Z  ca929559-cb99-4670-9f64-d7544fd5875d   \n2     15.0  2024-04-10T10:00:09Z  078615b0-842e-4832-9ca9-0cc93ef3fc77   \n3     15.7  2024-04-10T10:00:15Z  e118907e-f7f1-4c93-aec5-9b6b14bf2083   \n4     15.0  2024-04-10T10:00:16Z  8113435b-0e7c-4e7d-9ddc-146bfb4476ae   \n...    ...                   ...                                   ...   \n2196  15.7  2024-04-10T21:59:38Z  e7a112b3-577b-438f-942c-c7130b7e1b6d   \n2197  15.0  2024-04-10T21:59:39Z  7abfd77c-d9ee-4a22-ab21-efcad777752c   \n2198  15.1  2024-04-10T21:59:45Z  8934aed7-ac23-4b93-8146-4b7f54921970   \n2199  15.7  2024-04-10T21:59:50Z  d5952397-1bd1-4888-a5f7-a35bf6a0e93c   \n2200  15.0  2024-04-10T21:59:57Z  7f4ab1bc-f472-41d1-bfcc-2aa39c16cd05   \n\n      minduration  maxduration  minbitrate  maxbitrate  app_id  \\\n0               1           70           1      280000  711665   \n1               1           70           1      280000  711665   \n2               1           70           1      280000  711667   \n3               1           70           1      280000  711667   \n4               1           60           1      280000  711667   \n...           ...          ...         ...         ...     ...   \n2196            1           70           1      280000  711665   \n2197            1           70           1      280000  711667   \n2198            1          120           1      280000  711665   \n2199            1           30           1      280000  601810   \n2200            1           70           1      280000  711667   \n\n                                               app_name      app_bundle  \\\n0                        SLING: Live TV, Shows & Movies       com.sling   \n1                        SLING: Live TV, Shows & Movies       com.sling   \n2                                                  Plex    G00002687241   \n3                        SLING: Live TV, Shows & Movies       com.sling   \n4                        fuboTV: Watch Live Sports & TV       905401434   \n...                                                 ...             ...   \n2196                                             fuboTV      B019DCHDZK   \n2197                                      samsungtvplus    G15147002586   \n2198  fuboTV: Watch Live Sports, TV Shows, Movies & ...  tv.fubo.mobile   \n2199                                             TubiTV    vizio.tubitv   \n2200                     XUMO: Stream TV Shows & Movies   com.xumo.xumo   \n\n     app_pub_id                                              genre language  \\\n0          1034                                                NaN      NaN   \n1          1034                                                NaN      NaN   \n2          1034                                                NaN       en   \n3          1034                                                NaN       en   \n4          1034                                                NaN       en   \n...         ...                                                ...      ...   \n2196       1034                                                NaN      NaN   \n2197       1034                                                NaN       en   \n2198       1034                                                NaN      NaN   \n2199       1043  GENRE_DRAMA,GENRE_MUSIC,GENRE_ROMANCE,GENRE_SPORT      NaN   \n2200       1034                                                NaN       en   \n\n     device_make        device_model        device_os device_language  \\\n0        Generic  Generic Android TV          Android              en   \n1        Generic  Generic Android TV          Android              en   \n2        Samsung            Tizen TV            Tizen              en   \n3        Generic  Generic Android TV          Android              en   \n4          Apple            TV A1625            Other              en   \n...          ...                 ...              ...             ...   \n2196      Amazon               AFTSS          Fire OS              en   \n2197     Samsung            Tizen TV            Tizen              en   \n2198      Nvidia   Shield Android TV          Android              en   \n2199       Vizio             SmartTV  VIZIO SmartCast              en   \n2200        Sony      Bravia 4K 2015          Android              en   \n\n     geo_region geo_metro   data  \n0            TX       618   True  \n1            TX       618   True  \n2            FL       528  False  \n3            HI       744   True  \n4            MI       513  False  \n...         ...       ...    ...  \n2196         NC       517  False  \n2197         NY       501   True  \n2198        NaN       NaN   True  \n2199         TN       557  False  \n2200         NY       501   True  \n\n[531355 rows x 20 columns]>"
     },
     "execution_count": 759,
     "metadata": {},
     "output_type": "execute_result"
    }
   ],
   "source": [
    "df_15_YN.info"
   ],
   "metadata": {
    "collapsed": false,
    "ExecuteTime": {
     "end_time": "2024-06-02T09:53:25.855297Z",
     "start_time": "2024-06-02T09:53:25.711663Z"
    }
   },
   "id": "e4d5d471a398b3c0",
   "execution_count": 759
  },
  {
   "cell_type": "code",
   "outputs": [
    {
     "data": {
      "text/plain": "sbpr                    0\ntime                    0\nid                      0\nminduration             0\nmaxduration             0\nminbitrate              0\nmaxbitrate              0\napp_id                  0\napp_name              113\napp_bundle             31\napp_pub_id              0\ngenre              463076\nlanguage           226611\ndevice_make             0\ndevice_model            0\ndevice_os               0\ndevice_language         0\ngeo_region           7638\ngeo_metro           68885\ndata                    0\ndtype: int64"
     },
     "execution_count": 758,
     "metadata": {},
     "output_type": "execute_result"
    }
   ],
   "source": [
    "df_15_YN.isnull().sum(axis = 0)"
   ],
   "metadata": {
    "collapsed": false,
    "ExecuteTime": {
     "end_time": "2024-06-02T09:52:58.383614Z",
     "start_time": "2024-06-02T09:52:55.994714Z"
    }
   },
   "id": "a6ceb62046036343",
   "execution_count": 758
  },
  {
   "cell_type": "code",
   "outputs": [
    {
     "data": {
      "text/plain": "sbpr                 1845\ntime                41870\nid                 276565\nminduration             5\nmaxduration            64\nminbitrate              3\nmaxbitrate              6\napp_id                381\napp_name              225\napp_bundle            296\napp_pub_id              9\ngenre                1213\nlanguage               14\ndevice_make            81\ndevice_model          699\ndevice_os               9\ndevice_language         1\ngeo_region             75\ngeo_metro             228\ndata                    2\ndtype: int64"
     },
     "execution_count": 760,
     "metadata": {},
     "output_type": "execute_result"
    }
   ],
   "source": [
    "df_15_YN.nunique()"
   ],
   "metadata": {
    "collapsed": false,
    "ExecuteTime": {
     "end_time": "2024-06-02T09:53:39.307748Z",
     "start_time": "2024-06-02T09:53:37.759439Z"
    }
   },
   "id": "5e5267dc990bf43e",
   "execution_count": 760
  },
  {
   "cell_type": "code",
   "outputs": [
    {
     "data": {
      "text/plain": "<bound method DataFrame.info of       sbpr                  time                                    id  \\\n0     15.7  2024-04-10T10:00:08Z  faf22f54-7e31-4e82-90f6-d06d7713f9cf   \n1     15.1  2024-04-10T10:00:08Z  ca929559-cb99-4670-9f64-d7544fd5875d   \n2     15.0  2024-04-10T10:00:09Z  078615b0-842e-4832-9ca9-0cc93ef3fc77   \n3     15.7  2024-04-10T10:00:15Z  e118907e-f7f1-4c93-aec5-9b6b14bf2083   \n4     15.0  2024-04-10T10:00:16Z  8113435b-0e7c-4e7d-9ddc-146bfb4476ae   \n...    ...                   ...                                   ...   \n2189  15.0  2024-04-10T21:58:49Z  ef58f6e4-7c35-4587-b4bb-19592c7e0b1c   \n2194  15.7  2024-04-10T21:59:31Z  0ed9624b-c4fc-4a94-8f4e-f79841292553   \n2197  15.0  2024-04-10T21:59:39Z  7abfd77c-d9ee-4a22-ab21-efcad777752c   \n2198  15.1  2024-04-10T21:59:45Z  8934aed7-ac23-4b93-8146-4b7f54921970   \n2200  15.0  2024-04-10T21:59:57Z  7f4ab1bc-f472-41d1-bfcc-2aa39c16cd05   \n\n      minduration  maxduration  minbitrate  maxbitrate  app_id  \\\n0               1           70           1      280000  711665   \n1               1           70           1      280000  711665   \n2               1           70           1      280000  711667   \n3               1           70           1      280000  711667   \n4               1           60           1      280000  711667   \n...           ...          ...         ...         ...     ...   \n2189            1           70           1      280000  711665   \n2194            1           70           1      280000  711665   \n2197            1           70           1      280000  711667   \n2198            1          120           1      280000  711665   \n2200            1           70           1      280000  711667   \n\n                                               app_name      app_bundle  \\\n0                        SLING: Live TV, Shows & Movies       com.sling   \n1                        SLING: Live TV, Shows & Movies       com.sling   \n2                                                  Plex    G00002687241   \n3                        SLING: Live TV, Shows & Movies       com.sling   \n4                        fuboTV: Watch Live Sports & TV       905401434   \n...                                                 ...             ...   \n2189                                      samsungtvplus    G15147002586   \n2194                                          Xumo Play           96065   \n2197                                      samsungtvplus    G15147002586   \n2198  fuboTV: Watch Live Sports, TV Shows, Movies & ...  tv.fubo.mobile   \n2200                     XUMO: Stream TV Shows & Movies   com.xumo.xumo   \n\n     app_pub_id genre language device_make          device_model device_os  \\\n0          1034   NaN      NaN     Generic    Generic Android TV   Android   \n1          1034   NaN      NaN     Generic    Generic Android TV   Android   \n2          1034   NaN       en     Samsung              Tizen TV     Tizen   \n3          1034   NaN       en     Generic    Generic Android TV   Android   \n4          1034   NaN       en       Apple              TV A1625     Other   \n...         ...   ...      ...         ...                   ...       ...   \n2189       1034   NaN      NaN     Samsung              Tizen TV     Tizen   \n2194       1034   NaN      NaN        Roku  Digital Video player   Roku OS   \n2197       1034   NaN       en     Samsung              Tizen TV     Tizen   \n2198       1034   NaN      NaN      Nvidia     Shield Android TV   Android   \n2200       1034   NaN       en        Sony        Bravia 4K 2015   Android   \n\n     device_language geo_region geo_metro   data  \n0                 en         TX       618   True  \n1                 en         TX       618   True  \n2                 en         FL       528  False  \n3                 en         HI       744   True  \n4                 en         MI       513  False  \n...              ...        ...       ...    ...  \n2189              en         PA       504   True  \n2194              en         GA       524   True  \n2197              en         NY       501   True  \n2198              en        NaN       NaN   True  \n2200              en         NY       501   True  \n\n[357058 rows x 20 columns]>"
     },
     "execution_count": 175,
     "metadata": {},
     "output_type": "execute_result"
    }
   ],
   "source": [
    "df_15_YN.info"
   ],
   "metadata": {
    "collapsed": false,
    "ExecuteTime": {
     "end_time": "2024-05-27T22:40:34.139990Z",
     "start_time": "2024-05-27T22:40:34.046027Z"
    }
   },
   "id": "803f313de22b851c",
   "execution_count": 175
  },
  {
   "cell_type": "markdown",
   "source": [
    "a. Reformat the time column, assign 'tod', the Time of the Day column, drop 'time' column"
   ],
   "metadata": {
    "collapsed": false
   },
   "id": "85ed6af6c800005f"
  },
  {
   "cell_type": "code",
   "outputs": [],
   "source": [
    "time_df = pd.to_datetime(df_15_YN.time).dt.tz_localize(None)\n",
    "df_15_YN = df_15_YN.assign(time=time_df)"
   ],
   "metadata": {
    "collapsed": false,
    "ExecuteTime": {
     "end_time": "2024-06-02T12:45:43.401602Z",
     "start_time": "2024-06-02T12:45:40.587438Z"
    }
   },
   "id": "94677edc61e4a21f",
   "execution_count": 9
  },
  {
   "cell_type": "code",
   "outputs": [],
   "source": [
    "df_15_YN['tod'] = pd.cut(df_15_YN.time.dt.hour,\n",
    "       bins=[0, 6, 12, 18, 24],\n",
    "       labels=['night', 'morning', 'afternoon', 'evening'],\n",
    "       right=False,\n",
    "       include_lowest=True)"
   ],
   "metadata": {
    "collapsed": false,
    "ExecuteTime": {
     "end_time": "2024-06-02T12:45:45.739627Z",
     "start_time": "2024-06-02T12:45:45.488547Z"
    }
   },
   "id": "2af385855d31b0c3",
   "execution_count": 10
  },
  {
   "cell_type": "code",
   "outputs": [],
   "source": [
    "df_15_YN.drop('time', axis=1,inplace=True)"
   ],
   "metadata": {
    "collapsed": false,
    "ExecuteTime": {
     "end_time": "2024-06-02T12:45:49.854470Z",
     "start_time": "2024-06-02T12:45:49.644376Z"
    }
   },
   "id": "4da3eafbc7114e47",
   "execution_count": 11
  },
  {
   "cell_type": "markdown",
   "source": [
    "Drop 'device_language' as all of them are 'en'"
   ],
   "metadata": {
    "collapsed": false
   },
   "id": "2c6bc1c8b7fcfe2a"
  },
  {
   "cell_type": "code",
   "outputs": [],
   "source": [
    "df_15_YN.drop('device_language', axis=1, inplace=True)"
   ],
   "metadata": {
    "collapsed": false,
    "ExecuteTime": {
     "end_time": "2024-06-02T12:45:52.503080Z",
     "start_time": "2024-06-02T12:45:52.246062Z"
    }
   },
   "id": "3773fd5f42e5e4fd",
   "execution_count": 12
  },
  {
   "cell_type": "code",
   "outputs": [
    {
     "data": {
      "text/plain": "sbpr             float64\nid                object\nminduration        int64\nmaxduration        int64\nminbitrate         int64\nmaxbitrate         int64\napp_id            object\napp_name          object\napp_bundle        object\napp_pub_id        object\ngenre             object\nlanguage          object\ndevice_make       object\ndevice_model      object\ndevice_os         object\ngeo_region        object\ngeo_metro         object\ndata                bool\ntod             category\ndtype: object"
     },
     "execution_count": 211,
     "metadata": {},
     "output_type": "execute_result"
    }
   ],
   "source": [
    "df_15_YN.dtypes"
   ],
   "metadata": {
    "collapsed": false,
    "ExecuteTime": {
     "end_time": "2024-05-28T09:58:21.509814Z",
     "start_time": "2024-05-28T09:58:21.445896Z"
    }
   },
   "id": "de16e574721e2284",
   "execution_count": 211
  },
  {
   "cell_type": "markdown",
   "source": [],
   "metadata": {
    "collapsed": false
   },
   "id": "43ce84c6ef1d1967"
  },
  {
   "cell_type": "markdown",
   "source": [
    "convert all text to lowercase"
   ],
   "metadata": {
    "collapsed": false
   },
   "id": "e75eea525be95f38"
  },
  {
   "cell_type": "code",
   "outputs": [],
   "source": [
    "for column in df_15_YN.columns:\n",
    "    if df_15_YN[column].dtype == 'object':\n",
    "        df_15_YN[column] = df_15_YN[column].str.lower() \n"
   ],
   "metadata": {
    "collapsed": false,
    "ExecuteTime": {
     "end_time": "2024-06-02T12:45:59.821828Z",
     "start_time": "2024-06-02T12:45:58.158960Z"
    }
   },
   "id": "3a6ea226afddced5",
   "execution_count": 13
  },
  {
   "cell_type": "code",
   "outputs": [
    {
     "data": {
      "text/plain": "   sbpr                                    id  minduration  maxduration  \\\n0  15.7  faf22f54-7e31-4e82-90f6-d06d7713f9cf            1           70   \n1  15.1  ca929559-cb99-4670-9f64-d7544fd5875d            1           70   \n2  15.0  078615b0-842e-4832-9ca9-0cc93ef3fc77            1           70   \n3  15.7  e118907e-f7f1-4c93-aec5-9b6b14bf2083            1           70   \n4  15.0  8113435b-0e7c-4e7d-9ddc-146bfb4476ae            1           60   \n\n   minbitrate  maxbitrate  app_id                        app_name  \\\n0           1      280000  711665  sling: live tv, shows & movies   \n1           1      280000  711665  sling: live tv, shows & movies   \n2           1      280000  711667                            plex   \n3           1      280000  711667  sling: live tv, shows & movies   \n4           1      280000  711667  fubotv: watch live sports & tv   \n\n     app_bundle app_pub_id genre language device_make        device_model  \\\n0     com.sling       1034   NaN      NaN     generic  generic android tv   \n1     com.sling       1034   NaN      NaN     generic  generic android tv   \n2  g00002687241       1034   NaN       en     samsung            tizen tv   \n3     com.sling       1034   NaN       en     generic  generic android tv   \n4     905401434       1034   NaN       en       apple            tv a1625   \n\n  device_os geo_region geo_metro   data      tod  \n0   android         tx       618   True  morning  \n1   android         tx       618   True  morning  \n2     tizen         fl       528  False  morning  \n3   android         hi       744   True  morning  \n4     other         mi       513  False  morning  ",
      "text/html": "<div>\n<style scoped>\n    .dataframe tbody tr th:only-of-type {\n        vertical-align: middle;\n    }\n\n    .dataframe tbody tr th {\n        vertical-align: top;\n    }\n\n    .dataframe thead th {\n        text-align: right;\n    }\n</style>\n<table border=\"1\" class=\"dataframe\">\n  <thead>\n    <tr style=\"text-align: right;\">\n      <th></th>\n      <th>sbpr</th>\n      <th>id</th>\n      <th>minduration</th>\n      <th>maxduration</th>\n      <th>minbitrate</th>\n      <th>maxbitrate</th>\n      <th>app_id</th>\n      <th>app_name</th>\n      <th>app_bundle</th>\n      <th>app_pub_id</th>\n      <th>genre</th>\n      <th>language</th>\n      <th>device_make</th>\n      <th>device_model</th>\n      <th>device_os</th>\n      <th>geo_region</th>\n      <th>geo_metro</th>\n      <th>data</th>\n      <th>tod</th>\n    </tr>\n  </thead>\n  <tbody>\n    <tr>\n      <th>0</th>\n      <td>15.7</td>\n      <td>faf22f54-7e31-4e82-90f6-d06d7713f9cf</td>\n      <td>1</td>\n      <td>70</td>\n      <td>1</td>\n      <td>280000</td>\n      <td>711665</td>\n      <td>sling: live tv, shows &amp; movies</td>\n      <td>com.sling</td>\n      <td>1034</td>\n      <td>NaN</td>\n      <td>NaN</td>\n      <td>generic</td>\n      <td>generic android tv</td>\n      <td>android</td>\n      <td>tx</td>\n      <td>618</td>\n      <td>True</td>\n      <td>morning</td>\n    </tr>\n    <tr>\n      <th>1</th>\n      <td>15.1</td>\n      <td>ca929559-cb99-4670-9f64-d7544fd5875d</td>\n      <td>1</td>\n      <td>70</td>\n      <td>1</td>\n      <td>280000</td>\n      <td>711665</td>\n      <td>sling: live tv, shows &amp; movies</td>\n      <td>com.sling</td>\n      <td>1034</td>\n      <td>NaN</td>\n      <td>NaN</td>\n      <td>generic</td>\n      <td>generic android tv</td>\n      <td>android</td>\n      <td>tx</td>\n      <td>618</td>\n      <td>True</td>\n      <td>morning</td>\n    </tr>\n    <tr>\n      <th>2</th>\n      <td>15.0</td>\n      <td>078615b0-842e-4832-9ca9-0cc93ef3fc77</td>\n      <td>1</td>\n      <td>70</td>\n      <td>1</td>\n      <td>280000</td>\n      <td>711667</td>\n      <td>plex</td>\n      <td>g00002687241</td>\n      <td>1034</td>\n      <td>NaN</td>\n      <td>en</td>\n      <td>samsung</td>\n      <td>tizen tv</td>\n      <td>tizen</td>\n      <td>fl</td>\n      <td>528</td>\n      <td>False</td>\n      <td>morning</td>\n    </tr>\n    <tr>\n      <th>3</th>\n      <td>15.7</td>\n      <td>e118907e-f7f1-4c93-aec5-9b6b14bf2083</td>\n      <td>1</td>\n      <td>70</td>\n      <td>1</td>\n      <td>280000</td>\n      <td>711667</td>\n      <td>sling: live tv, shows &amp; movies</td>\n      <td>com.sling</td>\n      <td>1034</td>\n      <td>NaN</td>\n      <td>en</td>\n      <td>generic</td>\n      <td>generic android tv</td>\n      <td>android</td>\n      <td>hi</td>\n      <td>744</td>\n      <td>True</td>\n      <td>morning</td>\n    </tr>\n    <tr>\n      <th>4</th>\n      <td>15.0</td>\n      <td>8113435b-0e7c-4e7d-9ddc-146bfb4476ae</td>\n      <td>1</td>\n      <td>60</td>\n      <td>1</td>\n      <td>280000</td>\n      <td>711667</td>\n      <td>fubotv: watch live sports &amp; tv</td>\n      <td>905401434</td>\n      <td>1034</td>\n      <td>NaN</td>\n      <td>en</td>\n      <td>apple</td>\n      <td>tv a1625</td>\n      <td>other</td>\n      <td>mi</td>\n      <td>513</td>\n      <td>False</td>\n      <td>morning</td>\n    </tr>\n  </tbody>\n</table>\n</div>"
     },
     "execution_count": 534,
     "metadata": {},
     "output_type": "execute_result"
    }
   ],
   "source": [
    "df_15_YN.head()\n"
   ],
   "metadata": {
    "collapsed": false,
    "ExecuteTime": {
     "end_time": "2024-05-30T14:54:01.001042Z",
     "start_time": "2024-05-30T14:54:00.886866Z"
    }
   },
   "id": "d982e2ddc8f25d86",
   "execution_count": 534
  },
  {
   "cell_type": "code",
   "outputs": [
    {
     "data": {
      "text/plain": "sbpr              1845\nid              276565\nminduration          5\nmaxduration         64\nminbitrate           3\nmaxbitrate           6\napp_id             381\napp_name           219\napp_bundle         296\napp_pub_id           9\ngenre             1187\nlanguage            11\ndevice_make         70\ndevice_model       689\ndevice_os            9\ngeo_region          75\ngeo_metro          228\ndata                 2\ntod                  3\ndtype: int64"
     },
     "execution_count": 766,
     "metadata": {},
     "output_type": "execute_result"
    }
   ],
   "source": [
    "df_15_YN.nunique()"
   ],
   "metadata": {
    "collapsed": false,
    "ExecuteTime": {
     "end_time": "2024-06-02T09:54:41.956747Z",
     "start_time": "2024-06-02T09:54:41.367106Z"
    }
   },
   "id": "64fa18093036d0f2",
   "execution_count": 766
  },
  {
   "cell_type": "markdown",
   "source": [
    "dealing with language column"
   ],
   "metadata": {
    "collapsed": false
   },
   "id": "5a92ad42f8300279"
  },
  {
   "cell_type": "code",
   "outputs": [
    {
     "data": {
      "text/plain": "array([nan, 'en', 'es', 'english', 'zh', 'en_us', 'de', 'ja', 'yue',\n       'russian', 'ko', 'english, japanese'], dtype=object)"
     },
     "execution_count": 14,
     "metadata": {},
     "output_type": "execute_result"
    }
   ],
   "source": [
    "df_15_YN.language = df_15_YN.language.str.lower().str.replace('-', \"_\").str.replace('\\[[^\\]]*\\]', 'NaN', regex=True).replace('NaN', np.nan)\n",
    "df_15_YN.language.unique()"
   ],
   "metadata": {
    "collapsed": false,
    "ExecuteTime": {
     "end_time": "2024-06-02T12:46:09.243333Z",
     "start_time": "2024-06-02T12:46:08.812736Z"
    }
   },
   "id": "757e4f28944ce56b",
   "execution_count": 14
  },
  {
   "cell_type": "code",
   "outputs": [
    {
     "data": {
      "text/plain": "language\nen                   303737\nenglish                 601\nen_us                   195\nes                      172\nzh                       24\nja                        7\nde                        4\nenglish, japanese         1\nko                        1\nrussian                   1\nyue                       1\nName: count, dtype: int64"
     },
     "execution_count": 768,
     "metadata": {},
     "output_type": "execute_result"
    }
   ],
   "source": [
    "df_15_YN.groupby(['language'])['language'].value_counts().sort_values(ascending=False)"
   ],
   "metadata": {
    "collapsed": false,
    "ExecuteTime": {
     "end_time": "2024-06-02T09:55:15.133228Z",
     "start_time": "2024-06-02T09:55:14.998031Z"
    }
   },
   "id": "1d089815d168b73e",
   "execution_count": 768
  },
  {
   "cell_type": "code",
   "outputs": [],
   "source": [
    "#drop language as most are in en\n",
    "df_15_YN.drop('language', axis=1, inplace=True)"
   ],
   "metadata": {
    "collapsed": false,
    "ExecuteTime": {
     "end_time": "2024-06-02T12:46:28.205276Z",
     "start_time": "2024-06-02T12:46:27.953054Z"
    }
   },
   "id": "2b6704210940164c",
   "execution_count": 15
  },
  {
   "cell_type": "markdown",
   "source": [
    "dealing with app_id column"
   ],
   "metadata": {
    "collapsed": false
   },
   "id": "25692254ada08025"
  },
  {
   "cell_type": "code",
   "outputs": [
    {
     "data": {
      "text/plain": "app_id\n711667    257848\n711665    195267\n635564     16386\n726329     14347\n601810      8264\n           ...  \n723576         1\n697537         1\n707191         1\n722516         1\n697922         1\nName: count, Length: 381, dtype: int64"
     },
     "execution_count": 770,
     "metadata": {},
     "output_type": "execute_result"
    }
   ],
   "source": [
    "df_15_YN.groupby(['app_id'])['app_id'].value_counts().sort_values(ascending=False)"
   ],
   "metadata": {
    "collapsed": false,
    "ExecuteTime": {
     "end_time": "2024-06-02T09:55:33.918294Z",
     "start_time": "2024-06-02T09:55:33.683759Z"
    }
   },
   "id": "de2d4d219b7f1f2",
   "execution_count": 770
  },
  {
   "cell_type": "code",
   "outputs": [
    {
     "data": {
      "text/plain": "True"
     },
     "execution_count": 240,
     "metadata": {},
     "output_type": "execute_result"
    }
   ],
   "source": [
    "(df_15_YN.app_id =='711665').sum() < df_15_YN.app_id.count()"
   ],
   "metadata": {
    "collapsed": false,
    "ExecuteTime": {
     "end_time": "2024-05-28T19:24:09.209855Z",
     "start_time": "2024-05-28T19:24:09.140846Z"
    }
   },
   "id": "87958fe6b4e49e5f",
   "execution_count": 240
  },
  {
   "cell_type": "code",
   "outputs": [
    {
     "data": {
      "text/plain": "app_id\n711667     True\n711665     True\n635564     True\n726329     True\n601810     True\n          ...  \n708831    False\n722516    False\n720552    False\n671365    False\n725993    False\nName: proportion, Length: 381, dtype: bool"
     },
     "execution_count": 771,
     "metadata": {},
     "output_type": "execute_result"
    }
   ],
   "source": [
    "df_15_YN.app_id.value_counts(normalize=True) > 0.01"
   ],
   "metadata": {
    "collapsed": false,
    "ExecuteTime": {
     "end_time": "2024-06-02T09:55:56.471741Z",
     "start_time": "2024-06-02T09:55:56.360545Z"
    }
   },
   "id": "f069f723b219b923",
   "execution_count": 771
  },
  {
   "cell_type": "markdown",
   "source": [
    "The function replaces the app_id with 'other_id' if the count of that app_id is less the threshhold set by the parameter y: y = 100, means that if the value occurs less than in 1% of the data, it's replaced."
   ],
   "metadata": {
    "collapsed": false
   },
   "id": "fefd861b8a5b1a52"
  },
  {
   "cell_type": "code",
   "outputs": [
    {
     "data": {
      "text/plain": "0       711665\n1       711665\n2       711667\n3       711667\n4       711667\n         ...  \n2189    711665\n2194    711665\n2197    711667\n2198    711665\n2200    711667\nName: app_id, Length: 357058, dtype: object"
     },
     "execution_count": 319,
     "metadata": {},
     "output_type": "execute_result"
    }
   ],
   "source": [
    "df_15_YN.app_id.apply(lambda x, y: x  if (df_15_YN.app_id== x).sum() >= df_15_YN.app_id.count()/y else 'other_id', args=(100,))\n"
   ],
   "metadata": {
    "collapsed": false,
    "ExecuteTime": {
     "end_time": "2024-05-30T02:11:40.023558Z",
     "start_time": "2024-05-29T22:42:18.378260Z"
    }
   },
   "id": "845283c8ba5ba657",
   "execution_count": 319
  },
  {
   "cell_type": "code",
   "outputs": [],
   "source": [
    "df_temp = df_15_YN.iloc[:20]"
   ],
   "metadata": {
    "collapsed": false,
    "ExecuteTime": {
     "end_time": "2024-05-30T13:07:00.097987Z",
     "start_time": "2024-05-30T13:06:59.781729Z"
    }
   },
   "id": "df02b042f8cf322c",
   "execution_count": 431
  },
  {
   "cell_type": "code",
   "outputs": [
    {
     "data": {
      "text/plain": "0      other\n1      other\n2     711667\n3     711667\n4     711667\n7     711667\n8     711667\n9     711667\n10     other\n11     other\n12    711667\n13    711667\n14     other\n15    711667\n16    711667\n17     other\n18     other\n20    711667\n21     other\n25     other\nName: app_id, dtype: object"
     },
     "execution_count": 349,
     "metadata": {},
     "output_type": "execute_result"
    }
   ],
   "source": [
    "df_temp.app_id.apply(lambda x, y: x  if (df_temp.app_id== x).sum() >= df_temp.app_id.count()*y else 'other', args=(0.45,))"
   ],
   "metadata": {
    "collapsed": false,
    "ExecuteTime": {
     "end_time": "2024-05-30T09:37:13.029693Z",
     "start_time": "2024-05-30T09:37:12.933040Z"
    }
   },
   "id": "643dd519b5ead836",
   "execution_count": 349
  },
  {
   "cell_type": "code",
   "outputs": [],
   "source": [
    "ids = df_temp.app_id.value_counts(normalize=True) >= 0.4"
   ],
   "metadata": {
    "collapsed": false,
    "ExecuteTime": {
     "end_time": "2024-05-30T09:40:43.165674Z",
     "start_time": "2024-05-30T09:40:43.095771Z"
    }
   },
   "id": "af919ee222371a53",
   "execution_count": 354
  },
  {
   "cell_type": "code",
   "outputs": [
    {
     "data": {
      "text/plain": "app_id\n711667     True\n711665     True\n635564    False\nName: proportion, dtype: bool"
     },
     "execution_count": 375,
     "metadata": {},
     "output_type": "execute_result"
    }
   ],
   "source": [
    "df_temp.app_id.value_counts(normalize=True) > 0.3"
   ],
   "metadata": {
    "collapsed": false,
    "ExecuteTime": {
     "end_time": "2024-05-30T10:30:48.864242Z",
     "start_time": "2024-05-30T10:30:48.748491Z"
    }
   },
   "id": "90f6fac7334b5aa",
   "execution_count": 375
  },
  {
   "cell_type": "code",
   "outputs": [
    {
     "data": {
      "text/plain": "app_id\n711667     True\n711665     True\n635564    False\nName: proportion, dtype: bool"
     },
     "execution_count": 361,
     "metadata": {},
     "output_type": "execute_result"
    }
   ],
   "source": [
    "ids"
   ],
   "metadata": {
    "collapsed": false,
    "ExecuteTime": {
     "end_time": "2024-05-30T09:41:56.657735Z",
     "start_time": "2024-05-30T09:41:56.590912Z"
    }
   },
   "id": "1519b4ac26ac1236",
   "execution_count": 361
  },
  {
   "cell_type": "code",
   "outputs": [
    {
     "data": {
      "text/plain": "'711667'"
     },
     "execution_count": 371,
     "metadata": {},
     "output_type": "execute_result"
    }
   ],
   "source": [
    "ids[ids].index.values[0]"
   ],
   "metadata": {
    "collapsed": false,
    "ExecuteTime": {
     "end_time": "2024-05-30T09:52:26.434701Z",
     "start_time": "2024-05-30T09:52:26.307162Z"
    }
   },
   "id": "cf53abfdd5bce721",
   "execution_count": 371
  },
  {
   "cell_type": "code",
   "outputs": [],
   "source": [
    "def clean_app_id(row,labels):\n",
    "    if row in labels:\n",
    "        return row\n",
    "    else: return 'other_id'"
   ],
   "metadata": {
    "collapsed": false,
    "ExecuteTime": {
     "end_time": "2024-06-02T12:47:04.534181Z",
     "start_time": "2024-06-02T12:47:04.307280Z"
    }
   },
   "id": "10932b2202df8927",
   "execution_count": 17
  },
  {
   "cell_type": "markdown",
   "source": [
    "Will use the function below as it's much faster."
   ],
   "metadata": {
    "collapsed": false
   },
   "id": "11916a52e0c57e17"
  },
  {
   "cell_type": "code",
   "outputs": [],
   "source": [
    "ids = df_15_YN.app_id.value_counts(normalize=True) >= 0.01\n",
    "labels = ids[ids].index\n",
    "df_15_YN.app_id = df_15_YN.app_id.apply(clean_app_id, args = (labels,))"
   ],
   "metadata": {
    "collapsed": false,
    "ExecuteTime": {
     "end_time": "2024-06-02T12:47:10.189814Z",
     "start_time": "2024-06-02T12:47:09.354255Z"
    }
   },
   "id": "d5598e797bfd9779",
   "execution_count": 18
  },
  {
   "cell_type": "code",
   "outputs": [
    {
     "data": {
      "text/plain": "0       711665\n1       711665\n2       711667\n3       711667\n4       711667\n         ...  \n2196    711665\n2197    711667\n2198    711665\n2199    601810\n2200    711667\nName: app_id, Length: 531355, dtype: object"
     },
     "execution_count": 774,
     "metadata": {},
     "output_type": "execute_result"
    }
   ],
   "source": [
    "df_15_YN.app_id\n"
   ],
   "metadata": {
    "collapsed": false,
    "ExecuteTime": {
     "end_time": "2024-06-02T09:57:09.016533Z",
     "start_time": "2024-06-02T09:57:08.800911Z"
    }
   },
   "id": "8f082aa12f6ddfb9",
   "execution_count": 774
  },
  {
   "cell_type": "code",
   "outputs": [
    {
     "data": {
      "text/plain": "Index(['sbpr', 'id', 'minduration', 'maxduration', 'minbitrate', 'maxbitrate',\n       'app_id', 'app_name', 'app_bundle', 'app_pub_id', 'genre', 'language',\n       'device_make', 'device_model', 'device_os', 'geo_region', 'geo_metro',\n       'data', 'tod'],\n      dtype='object')"
     },
     "execution_count": 422,
     "metadata": {},
     "output_type": "execute_result"
    }
   ],
   "source": [
    "df_15_YN.columns"
   ],
   "metadata": {
    "collapsed": false,
    "ExecuteTime": {
     "end_time": "2024-05-30T12:57:31.815258Z",
     "start_time": "2024-05-30T12:57:31.758593Z"
    }
   },
   "id": "635283e1fcccea73",
   "execution_count": 422
  },
  {
   "cell_type": "markdown",
   "source": [
    "Dealing with app_name"
   ],
   "metadata": {
    "collapsed": false
   },
   "id": "af9604b947f05dbc"
  },
  {
   "cell_type": "code",
   "outputs": [
    {
     "data": {
      "text/plain": "app_name\nfubotv                            0.183463\nplex                              0.150813\nsamsungtvplus                     0.109649\nxumo                              0.107249\nfubotv: watch live sports & tv    0.098475\n                                    ...   \nkalb-tv news channel 5            0.000002\nsyncbak-embedded-player           0.000002\nkkco 11 news                      0.000002\nkmov news st. louis               0.000002\nlivetv                            0.000002\nName: proportion, Length: 219, dtype: float64"
     },
     "execution_count": 775,
     "metadata": {},
     "output_type": "execute_result"
    }
   ],
   "source": [
    "df_15_YN.app_name.value_counts(normalize=True)"
   ],
   "metadata": {
    "collapsed": false,
    "ExecuteTime": {
     "end_time": "2024-06-02T09:57:19.779199Z",
     "start_time": "2024-06-02T09:57:19.602819Z"
    }
   },
   "id": "38a2a184386a784",
   "execution_count": 775
  },
  {
   "cell_type": "code",
   "outputs": [
    {
     "data": {
      "text/plain": "array(['sling: live tv, shows & movies', 'plex',\n       'fubotv: watch live sports & tv', 'xumo', 'wsaz news',\n       'samsungtvplus', 'fubotv', 'sling tv', '1011 news',\n       'xumo: stream tv shows & movies', 'watchfree', 'slingtv',\n       'fubo.tv', 'samsung tvplus', 'xumo play', 'samsung tv plus',\n       'wafb+', 'wfsb plus', 'wcjb tv-20 news', 'walb news 10', 'plutotv',\n       'weau news', 'wowt 6 news', 'kwtx news 10', 'sling', 'localnow',\n       'fox carolina news', 'wink news', 'wsfa 12 news',\n       '14 news wfie tri-state leader', 'the weather channel',\n       'fubotv: watch live sports, tv shows, movies & news', '13abc news',\n       'wdtv news', 'wabi tv5', \"alaska's news source\", 'witn news',\n       'region 8 news - kait', 'wcax channel 3: vt-ny-nh news',\n       'abc7 sarasota tampa', 'the%20weather%20channel', '9&10news',\n       'wilx news 10', 'wfmz+', 'vuit news', '23 news',\n       'fox 19 now cincinnati local', 'wctv news', 'kbtx news',\n       'kwtx news', 'cleveland 19 news',\n       'local news 8 - eyewitness news 3', 'ky3 news', 'fox5 vegas',\n       'kplc 7news', 'haystacktv', 'live 5+', 'wymt', 'wnem tv5 news',\n       'sling.com', 'sling tv - live sports, news, shows + freestream',\n       'wbay action 2 news', 'wbtv', 'wtok news', 'ksla news 12',\n       'wvlt news', 'wtoc 11 news', 'wbko news', 'wbrc fox6 news',\n       'kmov news 4 st. louis', 'cbs7 - kosa', 'frndlytv', 'wagm news',\n       'wave now', 'wtvm news leader 9', nan, 'lgchannels',\n       'wmtv nbc15 news', 'wrdw news 12-wagt nbc 26',\n       'fox 8 wvue new orleans', 'fox10 news', 'hawaii news now',\n       'kswo 7 news', 'frndly', 'wdbj news', 'zeam news', 'kttc news',\n       'koam+ news now', 'wlox local news', 'wluc tv6 & fox up',\n       'kalb-tv news app', 'xumoplay', 'action news 5', 'wdam 7 news',\n       'ksnb local4', 'wkyt news', 'knoe 8 news', 'wbng 12 news',\n       'kxii news', 'kfvs12 - heartland news', 'wlbt', 'kwch 12 news',\n       'wndu news', 'wwbt nbc 12 news', 'wvva news', 'wjhg news',\n       'nbc nebraska news 2', 'wect news 6',\n       '7 news hd - boston news source', '21alive news', 'ktiv news 4',\n       'local 3 news', 'waff 48 news', 'kwqc-tv6', 'pluto', 'whsv news',\n       'kltv 7 news', 'kcrg tv9 news', 'tv.fubo',\n       'newschannel 13 krdo.com', 'wtvy news 4', 'wsvn - 7 news miami',\n       'fox 12 oregon', 'the 9and10news app', 'erie news now',\n       'wwny 7news', 'ktre 9 news', 'vnl news',\n       'sling tv: live sports, news, shows + freestream',\n       'wisc channel 3000', 'dish hopper', 'filmrise', 'wibw news',\n       'nbc29 news', 'ktbs 3 news shreveport', 'cineverse', 'wgem news',\n       'wsmv 4', 'azfamily (3tv & cbs 5)', 'western mass news',\n       'wmbf news', 'wtap now', 'week 25 news', 'fox19 now',\n       'ksla news 12 local news', 'kctv5 news - kansas city', 'wsaw news',\n       'kfyr+', 'kktv 11 news',\n       'sling tv: get live tv streaming for $25 / mo',\n       'atlanta news first +', 'kota news', 'weny news',\n       'kavu crossroads today', 'kgns tv', 'wis news 10',\n       'wafb local news', 'kcbd newschannel 11', 'ktvn 2 news',\n       'kavu crossroads today+', 'kptv fox 12 oregon',\n       'kfda amarillo - newschannel 10', 'kfyr+ local news & weather',\n       'kauz newschannel6', 'wkbt news 8000', 'na', 'northern news now',\n       'wlbt 3 on your side', 'dakota news now ksfy/kdlt',\n       'woio cleveland 19 news', 'wzmq 19', 'wyoming news now',\n       'kalb-tv news channel 5', 'philo', 'azfamily - arizona news',\n       'wflx fox 29', 'dakota news now', 'syncbak-embedded-player',\n       'kota territory news', 'keyc news now', 'kolo news', 'lg channels',\n       'kmov news st. louis', 'fox5 vegas - las vegas news', 'ktvn',\n       'sling: tv: live tv + freestream', 'retrocrush',\n       'wisc channel 3000+', 'plex - free movies & tv',\n       'kctv5 news – kansas city', 'ktvf 11', 'stirr tv', 'kkco 11 news',\n       'vix', 'kevn black hills fox news', 'wfmz+ streaming', 'tubitv',\n       'midnightpulp', 'stirr | the new free tv', '13 news', 'courttv',\n       'atlanta news first', 'zeam - always local news', 'asiancrush',\n       'wkbt news 8000+', 'wect 6 where news comes first',\n       'fox 8 wvue mobile', 'wdam local news', 'freemovies ',\n       'atmosphere', 'fubo tv', 'waff 48 local news',\n       'kptv fox 12 oregon news', 'wtvy news', 'ktre 9 local news',\n       'knoe news', 'zeam.com - embedded', 'app_distrotv', 'wsaz',\n       'livetv'], dtype=object)"
     },
     "execution_count": 776,
     "metadata": {},
     "output_type": "execute_result"
    }
   ],
   "source": [
    "df_15_YN.app_name.unique()"
   ],
   "metadata": {
    "collapsed": false,
    "ExecuteTime": {
     "end_time": "2024-06-02T09:57:33.705777Z",
     "start_time": "2024-06-02T09:57:33.540Z"
    }
   },
   "id": "20de39091b73077c",
   "execution_count": 776
  },
  {
   "cell_type": "code",
   "outputs": [],
   "source": [
    "def clean_app_name(row):\n",
    "    if type(row) == float:\n",
    "        return 'other_name'\n",
    "    if 'fubo' in row:\n",
    "        return 'fubo'\n",
    "    if 'xumo' in row:\n",
    "        return 'xumo'\n",
    "    if 'news' in row:\n",
    "        return 'news'\n",
    "    if 'sling' in row:\n",
    "        return 'sling'\n",
    "    if 'samsung' in row:\n",
    "        return 'samsung tv'\n",
    "    if 'fox' in row:\n",
    "        return 'fox tv'\n",
    "    if 'pluto' in row: \n",
    "        return 'pluto tv'\n",
    "    if 'weather' in row:\n",
    "        return 'weather tv'\n",
    "    if 'plex' in row:\n",
    "        return 'plex'\n",
    "    if 'cbs' in row:\n",
    "        return 'cbs tv'\n",
    "    if 'lg' in row :\n",
    "        return 'lg tv'\n",
    "    if 'wisc' in row:\n",
    "        return 'wisc tv'\n",
    "    if 'stirr' in row:\n",
    "        return 'stirr tv'\n",
    "    if 'kavu' in row:\n",
    "        return 'kavu tv'\n",
    "    if 'frndly' in row:\n",
    "        return 'frndly tv'\n",
    "    if 'live' in row:\n",
    "        return 'live tv'\n",
    "    if 'wlbt' in row:\n",
    "        return 'wlbt tv'\n",
    "    if 'lg' in row:\n",
    "        return 'lg tv'\n",
    "    if 'wafb' in row:\n",
    "        return 'wafb tv'\n",
    "    if 'wfsb' in row:\n",
    "        return 'wfsb tv'\n",
    "    if 'wabi' in row:\n",
    "        return 'wabi tv'\n",
    "    else: return row"
   ],
   "metadata": {
    "collapsed": false,
    "ExecuteTime": {
     "end_time": "2024-06-02T12:47:28.956158Z",
     "start_time": "2024-06-02T12:47:28.654451Z"
    }
   },
   "id": "3ac3797c8f3b7f8d",
   "execution_count": 19
  },
  {
   "cell_type": "code",
   "outputs": [],
   "source": [
    "df_15_YN.app_name= df_15_YN.app_name.apply(clean_app_name)"
   ],
   "metadata": {
    "collapsed": false,
    "ExecuteTime": {
     "end_time": "2024-06-02T12:47:32.445741Z",
     "start_time": "2024-06-02T12:47:31.990163Z"
    }
   },
   "id": "bc427a4be56ebfe8",
   "execution_count": 20
  },
  {
   "cell_type": "code",
   "outputs": [],
   "source": [
    "def reduce_app_name(row,labels_name):\n",
    "    if row in labels_name:\n",
    "        return row\n",
    "    else: return 'other_name'"
   ],
   "metadata": {
    "collapsed": false,
    "ExecuteTime": {
     "end_time": "2024-06-02T12:47:44.072385Z",
     "start_time": "2024-06-02T12:47:43.882056Z"
    }
   },
   "id": "a7bbef1f65ba37cb",
   "execution_count": 21
  },
  {
   "cell_type": "code",
   "outputs": [
    {
     "data": {
      "text/plain": "Index(['fubo', 'samsung tv', 'plex', 'xumo', 'sling', 'news', 'watchfree',\n       'tubitv', 'localnow', 'pluto tv', 'weather tv', 'fox tv', 'cbs tv',\n       'frndly tv'],\n      dtype='object', name='app_name')"
     },
     "execution_count": 22,
     "metadata": {},
     "output_type": "execute_result"
    }
   ],
   "source": [
    "ids_name = df_15_YN.app_name.value_counts(normalize=True) >= 0.001\n",
    "labels_name = ids_name[ids_name].index\n",
    "labels_name"
   ],
   "metadata": {
    "collapsed": false,
    "ExecuteTime": {
     "end_time": "2024-06-02T12:47:50.636524Z",
     "start_time": "2024-06-02T12:47:50.471120Z"
    }
   },
   "id": "ec4b630e743b2652",
   "execution_count": 22
  },
  {
   "cell_type": "code",
   "outputs": [],
   "source": [
    "df_15_YN.app_name = df_15_YN.app_name.apply(reduce_app_name, args=(labels_name,))"
   ],
   "metadata": {
    "collapsed": false,
    "ExecuteTime": {
     "end_time": "2024-06-02T12:47:57.762290Z",
     "start_time": "2024-06-02T12:47:57.369890Z"
    }
   },
   "id": "4ce8cf3bdc6447d2",
   "execution_count": 23
  },
  {
   "cell_type": "code",
   "outputs": [
    {
     "data": {
      "text/plain": "app_name\nfubo          0.304025\nsamsung tv    0.194698\nplex          0.150797\nxumo          0.138004\nsling         0.125274\nnews          0.025806\nwatchfree     0.015715\ntubitv        0.015553\nlocalnow      0.009329\nother_name    0.007855\npluto tv      0.004406\nweather tv    0.003015\nfox tv        0.002512\ncbs tv        0.001773\nfrndly tv     0.001238\nName: proportion, dtype: float64"
     },
     "execution_count": 24,
     "metadata": {},
     "output_type": "execute_result"
    }
   ],
   "source": [
    "df_15_YN.app_name.value_counts(normalize=True)"
   ],
   "metadata": {
    "collapsed": false,
    "ExecuteTime": {
     "end_time": "2024-06-02T12:48:01.754511Z",
     "start_time": "2024-06-02T12:48:01.618189Z"
    }
   },
   "id": "7950fb736c1dd0ea",
   "execution_count": 24
  },
  {
   "cell_type": "code",
   "outputs": [
    {
     "data": {
      "text/plain": "Index(['sbpr', 'id', 'minduration', 'maxduration', 'minbitrate', 'maxbitrate',\n       'app_id', 'app_name', 'app_bundle', 'app_pub_id', 'genre',\n       'device_make', 'device_model', 'device_os', 'geo_region', 'geo_metro',\n       'data', 'tod'],\n      dtype='object')"
     },
     "execution_count": 599,
     "metadata": {},
     "output_type": "execute_result"
    }
   ],
   "source": [
    "df_15_YN.columns"
   ],
   "metadata": {
    "collapsed": false,
    "ExecuteTime": {
     "end_time": "2024-05-30T15:58:35.434656Z",
     "start_time": "2024-05-30T15:58:35.367452Z"
    }
   },
   "id": "a011b24122d22811",
   "execution_count": 599
  },
  {
   "cell_type": "markdown",
   "source": [
    "Dealing with app_bundle"
   ],
   "metadata": {
    "collapsed": false
   },
   "id": "d527a2fba8c8f413"
  },
  {
   "cell_type": "code",
   "outputs": [
    {
     "data": {
      "text/plain": "app_bundle\ng15147002586    0.201226\nb019dchdzk      0.180306\n96065           0.098913\n905401434       0.098441\ncom.sling       0.078240\n                  ...   \n416888137       0.000002\n17639           0.000002\nvizio.pluto     0.000002\n6459996077      0.000002\n449704439       0.000002\nName: proportion, Length: 296, dtype: float64"
     },
     "execution_count": 25,
     "metadata": {},
     "output_type": "execute_result"
    }
   ],
   "source": [
    "bun_val = df_15_YN.app_bundle.value_counts(normalize=True)\n",
    "bun_val\n"
   ],
   "metadata": {
    "collapsed": false,
    "ExecuteTime": {
     "end_time": "2024-06-02T12:48:14.669953Z",
     "start_time": "2024-06-02T12:48:14.530377Z"
    }
   },
   "id": "3e21c356390bc2fe",
   "execution_count": 25
  },
  {
   "cell_type": "code",
   "outputs": [],
   "source": [
    "labels_bundle = bun_val.index[:10]"
   ],
   "metadata": {
    "collapsed": false,
    "ExecuteTime": {
     "end_time": "2024-06-02T12:55:34.014411Z",
     "start_time": "2024-06-02T12:55:33.769004Z"
    }
   },
   "id": "dce4e02042c6276f",
   "execution_count": 26
  },
  {
   "cell_type": "code",
   "outputs": [],
   "source": [
    "def reduce_bundle_name(row,labels_bundle):\n",
    "    if row in labels_bundle:\n",
    "        return row\n",
    "    else: return 'other_bundle'"
   ],
   "metadata": {
    "collapsed": false,
    "ExecuteTime": {
     "end_time": "2024-06-02T12:55:36.642544Z",
     "start_time": "2024-06-02T12:55:36.477611Z"
    }
   },
   "id": "fc36b4f17cd8829d",
   "execution_count": 27
  },
  {
   "cell_type": "code",
   "outputs": [],
   "source": [
    "df_15_YN.app_bundle = df_15_YN.app_bundle.apply(reduce_bundle_name, args=(labels_bundle,))"
   ],
   "metadata": {
    "collapsed": false,
    "ExecuteTime": {
     "end_time": "2024-06-02T12:55:40.072222Z",
     "start_time": "2024-06-02T12:55:39.395046Z"
    }
   },
   "id": "2191cbff4fc9ee83",
   "execution_count": 28
  },
  {
   "cell_type": "code",
   "outputs": [
    {
     "data": {
      "text/plain": "app_bundle\ng15147002586       0.201214\nb019dchdzk         0.180296\n96065              0.098908\n905401434          0.098435\ncom.sling          0.078236\nother_bundle       0.056390\ng00002687241       0.046152\n383457673          0.040912\nb00odc5n80         0.034980\n13535              0.029447\ng16300008593       0.024422\n256567             0.016684\nvizio.watchfree    0.015873\nvizio.tubitv       0.015553\ncom.xumo.xumo      0.014472\ng17198010041       0.011979\n43465              0.009432\nb004y1wcde         0.009099\ntv.fubo.mobile     0.007340\n97955              0.005554\n1074449            0.004622\nName: proportion, dtype: float64"
     },
     "execution_count": 792,
     "metadata": {},
     "output_type": "execute_result"
    }
   ],
   "source": [
    "df_15_YN.app_bundle.value_counts(normalize=True)"
   ],
   "metadata": {
    "collapsed": false,
    "ExecuteTime": {
     "end_time": "2024-06-02T10:04:09.726450Z",
     "start_time": "2024-06-02T10:04:09.566713Z"
    }
   },
   "id": "efc4156214b35b0b",
   "execution_count": 792
  },
  {
   "cell_type": "markdown",
   "source": [
    "Dealing with app_pub_id"
   ],
   "metadata": {
    "collapsed": false
   },
   "id": "c1bf9d94c8649a84"
  },
  {
   "cell_type": "code",
   "outputs": [
    {
     "data": {
      "text/plain": "app_pub_id\n1034    0.886046\n1043    0.035419\n1024    0.035229\n1077    0.025290\n1112    0.012370\n1009    0.004319\n1261    0.001238\n1109    0.000081\n1270    0.000008\nName: proportion, dtype: float64"
     },
     "execution_count": 30,
     "metadata": {},
     "output_type": "execute_result"
    }
   ],
   "source": [
    "app_pub = df_15_YN.app_pub_id.value_counts(normalize=True)\n",
    "app_pub"
   ],
   "metadata": {
    "collapsed": false,
    "ExecuteTime": {
     "end_time": "2024-06-02T12:55:58.797218Z",
     "start_time": "2024-06-02T12:55:58.652612Z"
    }
   },
   "id": "4a02e1cda99b5b9",
   "execution_count": 30
  },
  {
   "cell_type": "code",
   "outputs": [
    {
     "data": {
      "text/plain": "Index(['1034', '1043', '1024', '1077', '1112', '1009', '1261', '1109'], dtype='object', name='app_pub_id')"
     },
     "execution_count": 31,
     "metadata": {},
     "output_type": "execute_result"
    }
   ],
   "source": [
    "labels_app_pub = app_pub.index[:8]\n",
    "labels_app_pub"
   ],
   "metadata": {
    "collapsed": false,
    "ExecuteTime": {
     "end_time": "2024-06-02T12:56:03.960677Z",
     "start_time": "2024-06-02T12:56:03.765535Z"
    }
   },
   "id": "7287b710aef6e26e",
   "execution_count": 31
  },
  {
   "cell_type": "code",
   "outputs": [],
   "source": [
    "def reduce_app_pub(row,labels_app_pub):\n",
    "    if row in labels_app_pub:\n",
    "        return row\n",
    "    else: return 'other_app_pub'"
   ],
   "metadata": {
    "collapsed": false,
    "ExecuteTime": {
     "end_time": "2024-06-02T12:56:09.205065Z",
     "start_time": "2024-06-02T12:56:08.946711Z"
    }
   },
   "id": "495efc45ad50b515",
   "execution_count": 32
  },
  {
   "cell_type": "code",
   "outputs": [],
   "source": [
    "df_15_YN.app_pub_id = df_15_YN.app_pub_id.apply(reduce_app_pub, args=(labels_app_pub,))"
   ],
   "metadata": {
    "collapsed": false,
    "ExecuteTime": {
     "end_time": "2024-06-02T12:56:12.189866Z",
     "start_time": "2024-06-02T12:56:11.767320Z"
    }
   },
   "id": "bbd0f73bde5fe614",
   "execution_count": 33
  },
  {
   "cell_type": "code",
   "outputs": [
    {
     "data": {
      "text/plain": "app_pub_id\n1034             0.886046\n1043             0.035419\n1024             0.035229\n1077             0.025290\n1112             0.012370\n1009             0.004319\n1261             0.001238\n1109             0.000081\nother_app_pub    0.000008\nName: proportion, dtype: float64"
     },
     "execution_count": 34,
     "metadata": {},
     "output_type": "execute_result"
    }
   ],
   "source": [
    "df_15_YN.app_pub_id.value_counts(normalize=True)"
   ],
   "metadata": {
    "collapsed": false,
    "ExecuteTime": {
     "end_time": "2024-06-02T12:56:16.763570Z",
     "start_time": "2024-06-02T12:56:16.599971Z"
    }
   },
   "id": "4a1bd8acc8129529",
   "execution_count": 34
  },
  {
   "cell_type": "markdown",
   "source": [
    "dealing with 'genre'"
   ],
   "metadata": {
    "collapsed": false
   },
   "id": "8ba9ed0deab4b3bc"
  },
  {
   "cell_type": "code",
   "outputs": [
    {
     "data": {
      "text/plain": "genre\nnews                                         0.293633\nhome and garden,arts,documentary             0.096120\nentertainment                                0.060106\nweather                                      0.056035\ncomedy                                       0.046603\n                                               ...   \ngenre_action,genre_comedy,genre_adventure    0.000015\ngenre_action,genre_sci_fi,genre_thriller     0.000015\ngenre_ambient,genre_family                   0.000015\ngenre_action,genre_comedy,genre_western      0.000015\nmusical                                      0.000015\nName: proportion, Length: 1187, dtype: float64"
     },
     "execution_count": 35,
     "metadata": {},
     "output_type": "execute_result"
    }
   ],
   "source": [
    "df_15_YN.genre.value_counts(normalize=True)"
   ],
   "metadata": {
    "collapsed": false,
    "ExecuteTime": {
     "end_time": "2024-06-02T12:56:26.656446Z",
     "start_time": "2024-06-02T12:56:26.470592Z"
    }
   },
   "id": "a1b33a083aca0aee",
   "execution_count": 35
  },
  {
   "cell_type": "code",
   "outputs": [],
   "source": [
    "def cleanup_genre(row):\n",
    "    if type(row) == float:\n",
    "        return 'other_genre'\n",
    "    if 'news' in row: \n",
    "        return 'news'\n",
    "    if 'talk' in row:\n",
    "        return 'news'\n",
    "    if 'documentary' in row:\n",
    "        return 'documentary'\n",
    "    if 'weather' in row:\n",
    "        return 'weather'\n",
    "    if 'comedy' in row:\n",
    "        return 'comedy'\n",
    "    if 'action' in row:\n",
    "        return 'action'\n",
    "    else: return 'other_genre'"
   ],
   "metadata": {
    "collapsed": false,
    "ExecuteTime": {
     "end_time": "2024-06-02T13:01:15.989800Z",
     "start_time": "2024-06-02T13:01:15.721587Z"
    }
   },
   "id": "26066b5d9608c83f",
   "execution_count": 36
  },
  {
   "cell_type": "code",
   "outputs": [],
   "source": [
    "df_15_YN.genre = df_15_YN.genre.apply(cleanup_genre)"
   ],
   "metadata": {
    "collapsed": false,
    "ExecuteTime": {
     "end_time": "2024-06-02T13:01:18.596608Z",
     "start_time": "2024-06-02T13:01:18.325824Z"
    }
   },
   "id": "256fcdf861a0584f",
   "execution_count": 37
  },
  {
   "cell_type": "code",
   "outputs": [
    {
     "data": {
      "text/plain": "genre\nother_genre    0.913570\nnews           0.042143\ndocumentary    0.015244\ncomedy         0.014177\nweather        0.007470\naction         0.007396\nName: proportion, dtype: float64"
     },
     "execution_count": 38,
     "metadata": {},
     "output_type": "execute_result"
    }
   ],
   "source": [
    "df_15_YN.genre.value_counts(normalize=True)"
   ],
   "metadata": {
    "collapsed": false,
    "ExecuteTime": {
     "end_time": "2024-06-02T13:01:21.714499Z",
     "start_time": "2024-06-02T13:01:21.562502Z"
    }
   },
   "id": "4fa4bb5c03ac0e68",
   "execution_count": 38
  },
  {
   "cell_type": "code",
   "outputs": [
    {
     "data": {
      "text/plain": "Index(['sbpr', 'id', 'minduration', 'maxduration', 'minbitrate', 'maxbitrate',\n       'app_id', 'app_name', 'app_bundle', 'app_pub_id', 'genre',\n       'device_make', 'device_model', 'device_os', 'geo_region', 'geo_metro',\n       'data', 'tod'],\n      dtype='object')"
     },
     "execution_count": 628,
     "metadata": {},
     "output_type": "execute_result"
    }
   ],
   "source": [
    "df_15_YN.columns"
   ],
   "metadata": {
    "collapsed": false,
    "ExecuteTime": {
     "end_time": "2024-05-30T19:03:26.807790Z",
     "start_time": "2024-05-30T19:03:26.670752Z"
    }
   },
   "id": "30a152e690e0433c",
   "execution_count": 628
  },
  {
   "cell_type": "markdown",
   "source": [
    "dealing with 'device_make'"
   ],
   "metadata": {
    "collapsed": false
   },
   "id": "a32e267c4441d695"
  },
  {
   "cell_type": "code",
   "outputs": [
    {
     "data": {
      "text/plain": "device_make\nsamsung                     0.286697\nroku                        0.175982\napple                       0.140315\namazon                      0.140215\nunknown                     0.059670\n                              ...   \nhikeen_siliconplayer_rca    0.000002\nbeyondtv                    0.000002\nhkc                         0.000002\nwnc                         0.000002\ntechnicolor                 0.000002\nName: proportion, Length: 70, dtype: float64"
     },
     "execution_count": 39,
     "metadata": {},
     "output_type": "execute_result"
    }
   ],
   "source": [
    "df_15_YN.device_make.value_counts(normalize=True)"
   ],
   "metadata": {
    "collapsed": false,
    "ExecuteTime": {
     "end_time": "2024-06-02T13:01:31.910855Z",
     "start_time": "2024-06-02T13:01:31.752583Z"
    }
   },
   "id": "cf850bda8a5d1c16",
   "execution_count": 39
  },
  {
   "cell_type": "code",
   "outputs": [],
   "source": [
    "def cleanup_device(row):\n",
    "    if 'samsung' in row: return 'samsung'\n",
    "    if 'apple' in row: return 'apple'\n",
    "    if 'roku' in row: return 'roku'\n",
    "    if 'amazon' in row: return 'amazon' \n",
    "    else: return 'device_unknown'"
   ],
   "metadata": {
    "collapsed": false,
    "ExecuteTime": {
     "end_time": "2024-06-02T13:01:38.963200Z",
     "start_time": "2024-06-02T13:01:38.815866Z"
    }
   },
   "id": "1ad40b06d6a4f6b5",
   "execution_count": 40
  },
  {
   "cell_type": "code",
   "outputs": [],
   "source": [
    "df_15_YN.device_make = df_15_YN.device_make.apply(cleanup_device)"
   ],
   "metadata": {
    "collapsed": false,
    "ExecuteTime": {
     "end_time": "2024-06-02T13:01:42.315803Z",
     "start_time": "2024-06-02T13:01:41.939468Z"
    }
   },
   "id": "5ebc132f4dda5cbe",
   "execution_count": 41
  },
  {
   "cell_type": "code",
   "outputs": [
    {
     "data": {
      "text/plain": "device_make\nsamsung           0.286707\ndevice_unknown    0.256774\nroku              0.175988\napple             0.140317\namazon            0.140215\nName: proportion, dtype: float64"
     },
     "execution_count": 806,
     "metadata": {},
     "output_type": "execute_result"
    }
   ],
   "source": [
    "df_15_YN.device_make.value_counts(normalize=True)"
   ],
   "metadata": {
    "collapsed": false,
    "ExecuteTime": {
     "end_time": "2024-06-02T10:07:10.414182Z",
     "start_time": "2024-06-02T10:07:10.268859Z"
    }
   },
   "id": "4af55049690d50da",
   "execution_count": 806
  },
  {
   "cell_type": "markdown",
   "source": [
    "dealing with 'device_model'"
   ],
   "metadata": {
    "collapsed": false
   },
   "id": "994c94696cae5e42"
  },
  {
   "cell_type": "code",
   "outputs": [
    {
     "data": {
      "text/plain": "device_model\ntizen tv                0.255581\ndigital video player    0.134853\ntv a1625                0.121286\naftmm                   0.061940\naftsss                  0.047770\n                          ...   \nmantis                  0.000002\nt-x22udcakuc-1402.7     0.000002\n2k tv stick             0.000002\nsei400tv                0.000002\nlaoshan                 0.000002\nName: proportion, Length: 689, dtype: float64"
     },
     "execution_count": 807,
     "metadata": {},
     "output_type": "execute_result"
    }
   ],
   "source": [
    "df_15_YN.device_model.value_counts(normalize=True)"
   ],
   "metadata": {
    "collapsed": false,
    "ExecuteTime": {
     "end_time": "2024-06-02T10:07:23.733635Z",
     "start_time": "2024-06-02T10:07:23.592Z"
    }
   },
   "id": "5abdff9bbf9a9b3e",
   "execution_count": 807
  },
  {
   "cell_type": "code",
   "outputs": [],
   "source": [
    "def cleanup_model(row):\n",
    "    if 'tizen' in row: return 'tizen'\n",
    "    if 'aft' in row: return 'amazon'\n",
    "    if 'generic' in row: return 'generic'\n",
    "    else: return 'model_unknown'"
   ],
   "metadata": {
    "collapsed": false,
    "ExecuteTime": {
     "end_time": "2024-06-02T13:01:52.218359Z",
     "start_time": "2024-06-02T13:01:52.036445Z"
    }
   },
   "id": "8a4fb064a25bed49",
   "execution_count": 42
  },
  {
   "cell_type": "code",
   "outputs": [],
   "source": [
    "df_15_YN.device_model = df_15_YN.device_model.apply(cleanup_model)"
   ],
   "metadata": {
    "collapsed": false,
    "ExecuteTime": {
     "end_time": "2024-06-02T13:01:54.964466Z",
     "start_time": "2024-06-02T13:01:54.703279Z"
    }
   },
   "id": "b04cf9ed482341d3",
   "execution_count": 43
  },
  {
   "cell_type": "code",
   "outputs": [
    {
     "data": {
      "text/plain": "device_model\nmodel_unknown    0.417865\ntizen            0.292726\namazon           0.237760\ngeneric          0.051650\nName: proportion, dtype: float64"
     },
     "execution_count": 636,
     "metadata": {},
     "output_type": "execute_result"
    }
   ],
   "source": [
    "df_15_YN.device_model.value_counts(normalize=True)"
   ],
   "metadata": {
    "collapsed": false,
    "ExecuteTime": {
     "end_time": "2024-05-30T20:59:33.246578Z",
     "start_time": "2024-05-30T20:59:33.152546Z"
    }
   },
   "id": "5618dad6e15426f8",
   "execution_count": 636
  },
  {
   "cell_type": "markdown",
   "source": [
    "dealing with 'device_os'"
   ],
   "metadata": {
    "collapsed": false
   },
   "id": "98bd3d7e78e4c5cb"
  },
  {
   "cell_type": "code",
   "outputs": [
    {
     "data": {
      "text/plain": "device_os\ntizen              0.285545\nfire os            0.229905\nroku os            0.180106\nother              0.142159\nandroid            0.099192\nvizio smartcast    0.039973\nwebos tv           0.022339\nlinux              0.000736\nwindows            0.000045\nName: proportion, dtype: float64"
     },
     "execution_count": 810,
     "metadata": {},
     "output_type": "execute_result"
    }
   ],
   "source": [
    "df_15_YN.device_os.value_counts(normalize=True)"
   ],
   "metadata": {
    "collapsed": false,
    "ExecuteTime": {
     "end_time": "2024-06-02T10:08:28.454849Z",
     "start_time": "2024-06-02T10:08:28.292518Z"
    }
   },
   "id": "d37969bc8d05d439",
   "execution_count": 810
  },
  {
   "cell_type": "code",
   "outputs": [],
   "source": [
    "def cleanup_os(row):\n",
    "    if 'linux' in row:\n",
    "        return 'other_os'\n",
    "    if 'windows' in row:\n",
    "        return 'other_os'\n",
    "    else: return row"
   ],
   "metadata": {
    "collapsed": false,
    "ExecuteTime": {
     "end_time": "2024-06-02T13:02:06.433124Z",
     "start_time": "2024-06-02T13:02:06.263613Z"
    }
   },
   "id": "bc9dac6539517d62",
   "execution_count": 44
  },
  {
   "cell_type": "code",
   "outputs": [],
   "source": [
    "df_15_YN.device_os = df_15_YN.device_os.apply(cleanup_os)"
   ],
   "metadata": {
    "collapsed": false,
    "ExecuteTime": {
     "end_time": "2024-06-02T13:02:08.807956Z",
     "start_time": "2024-06-02T13:02:08.573598Z"
    }
   },
   "id": "1262b7e5e9b12b3c",
   "execution_count": 45
  },
  {
   "cell_type": "code",
   "outputs": [
    {
     "data": {
      "text/plain": "device_os\ntizen              0.285545\nfire os            0.229905\nroku os            0.180106\nother              0.142159\nandroid            0.099192\nvizio smartcast    0.039973\nwebos tv           0.022339\nother_os           0.000781\nName: proportion, dtype: float64"
     },
     "execution_count": 813,
     "metadata": {},
     "output_type": "execute_result"
    }
   ],
   "source": [
    "df_15_YN.device_os.value_counts(normalize=True)"
   ],
   "metadata": {
    "collapsed": false,
    "ExecuteTime": {
     "end_time": "2024-06-02T10:09:24.197630Z",
     "start_time": "2024-06-02T10:09:24.038839Z"
    }
   },
   "id": "646848133fe1a475",
   "execution_count": 813
  },
  {
   "cell_type": "code",
   "outputs": [
    {
     "data": {
      "text/plain": "Index(['sbpr', 'id', 'minduration', 'maxduration', 'minbitrate', 'maxbitrate',\n       'app_id', 'app_name', 'app_bundle', 'app_pub_id', 'genre',\n       'device_make', 'device_model', 'device_os', 'geo_region', 'geo_metro',\n       'data', 'tod'],\n      dtype='object')"
     },
     "execution_count": 670,
     "metadata": {},
     "output_type": "execute_result"
    }
   ],
   "source": [
    "df_15_YN.columns"
   ],
   "metadata": {
    "collapsed": false,
    "ExecuteTime": {
     "end_time": "2024-05-30T21:14:14.283613Z",
     "start_time": "2024-05-30T21:14:13.958860Z"
    }
   },
   "id": "be527907486b5f87",
   "execution_count": 670
  },
  {
   "cell_type": "markdown",
   "source": [
    "Dealing with geo_region"
   ],
   "metadata": {
    "collapsed": false
   },
   "id": "a0ab1fa20968ba3e"
  },
  {
   "cell_type": "code",
   "outputs": [
    {
     "data": {
      "text/plain": "geo_region\ntx    0.111644\nfl    0.089905\nca    0.079037\nga    0.064014\nny    0.062725\n        ...   \nst    0.000002\nsk    0.000002\nc     0.000002\nnl    0.000002\npv    0.000002\nName: proportion, Length: 75, dtype: float64"
     },
     "execution_count": 814,
     "metadata": {},
     "output_type": "execute_result"
    }
   ],
   "source": [
    "df_15_YN.geo_region.value_counts(normalize=True)"
   ],
   "metadata": {
    "collapsed": false,
    "ExecuteTime": {
     "end_time": "2024-06-02T10:10:04.240377Z",
     "start_time": "2024-06-02T10:10:03.894177Z"
    }
   },
   "id": "61663dd64ed35a4a",
   "execution_count": 814
  },
  {
   "cell_type": "code",
   "outputs": [],
   "source": [
    "def reduce_region(row, labels_region):\n",
    "    if row in labels_region:\n",
    "        return row\n",
    "    else:\n",
    "        return 'other_region'"
   ],
   "metadata": {
    "collapsed": false,
    "ExecuteTime": {
     "end_time": "2024-06-02T13:02:24.424871Z",
     "start_time": "2024-06-02T13:02:24.251384Z"
    }
   },
   "id": "ac3bac43ff6e9fef",
   "execution_count": 46
  },
  {
   "cell_type": "code",
   "outputs": [
    {
     "data": {
      "text/plain": "Index(['tx', 'fl', 'ca', 'ga', 'ny', 'nc', 'il', 'tn', 'pa', 'mo', 'va', 'la',\n       'mi', 'oh', 'az', 'al', 'sc', 'wa', 'ky', 'nj', 'in', 'ok', 'ma', 'md',\n       'ms'],\n      dtype='object', name='geo_region')"
     },
     "execution_count": 47,
     "metadata": {},
     "output_type": "execute_result"
    }
   ],
   "source": [
    "ids_region = df_15_YN.geo_region.value_counts(normalize=True) >= 0.01\n",
    "labels_region = ids_region[ids_region].index\n",
    "labels_region"
   ],
   "metadata": {
    "collapsed": false,
    "ExecuteTime": {
     "end_time": "2024-06-02T13:02:27.331899Z",
     "start_time": "2024-06-02T13:02:27.221135Z"
    }
   },
   "id": "5d518697b554a807",
   "execution_count": 47
  },
  {
   "cell_type": "code",
   "outputs": [],
   "source": [
    "df_15_YN.geo_region = df_15_YN.geo_region.apply(reduce_region, args = (labels_region,))"
   ],
   "metadata": {
    "collapsed": false,
    "ExecuteTime": {
     "end_time": "2024-05-30T21:33:08.133099Z",
     "start_time": "2024-05-30T21:33:07.843998Z"
    }
   },
   "id": "64e91469f6d706d1",
   "execution_count": 675
  },
  {
   "cell_type": "code",
   "outputs": [
    {
     "data": {
      "text/plain": "geo_region\ntx    0.111644\nfl    0.089905\nca    0.079037\nga    0.064014\nny    0.062725\n        ...   \nst    0.000002\nsk    0.000002\nc     0.000002\nnl    0.000002\npv    0.000002\nName: proportion, Length: 75, dtype: float64"
     },
     "execution_count": 817,
     "metadata": {},
     "output_type": "execute_result"
    }
   ],
   "source": [
    "df_15_YN.geo_region.value_counts(normalize=True)"
   ],
   "metadata": {
    "collapsed": false,
    "ExecuteTime": {
     "end_time": "2024-06-02T10:10:23.430677Z",
     "start_time": "2024-06-02T10:10:23.282615Z"
    }
   },
   "id": "34bc4a34fd11d8f6",
   "execution_count": 817
  },
  {
   "cell_type": "code",
   "outputs": [
    {
     "data": {
      "text/plain": "sbpr            False\nid              False\nminduration     False\nmaxduration     False\nminbitrate      False\nmaxbitrate      False\napp_id          False\napp_name        False\napp_bundle      False\napp_pub_id      False\ngenre           False\ndevice_make     False\ndevice_model    False\ndevice_os       False\ngeo_region      False\ngeo_metro        True\ndata            False\ntod             False\ndtype: bool"
     },
     "execution_count": 677,
     "metadata": {},
     "output_type": "execute_result"
    }
   ],
   "source": [
    "df_15_YN.isnull().any()"
   ],
   "metadata": {
    "collapsed": false,
    "ExecuteTime": {
     "end_time": "2024-05-30T21:34:13.143572Z",
     "start_time": "2024-05-30T21:34:13.042907Z"
    }
   },
   "id": "ce51311c8019fa05",
   "execution_count": 677
  },
  {
   "cell_type": "markdown",
   "source": [
    "dealing with 'geo_metro'"
   ],
   "metadata": {
    "collapsed": false
   },
   "id": "327857e821f8cb78"
  },
  {
   "cell_type": "code",
   "outputs": [
    {
     "data": {
      "text/plain": "geo_metro\n501    0.074422\n524    0.052494\n528    0.044020\n803    0.043490\n602    0.042855\n         ...   \n923    0.000002\n900    0.000002\n981    0.000002\n982    0.000002\n916    0.000002\nName: proportion, Length: 228, dtype: float64"
     },
     "execution_count": 818,
     "metadata": {},
     "output_type": "execute_result"
    }
   ],
   "source": [
    "df_15_YN.geo_metro.value_counts(normalize=True)"
   ],
   "metadata": {
    "collapsed": false,
    "ExecuteTime": {
     "end_time": "2024-06-02T10:10:40.631847Z",
     "start_time": "2024-06-02T10:10:40.376167Z"
    }
   },
   "id": "bc7a0eb0268f0acf",
   "execution_count": 818
  },
  {
   "cell_type": "code",
   "outputs": [
    {
     "data": {
      "text/plain": "Index(['501', '524', '528', '803', '602', '623', '517', '504', '641', '511',\n       '753', '618', '505', '659', '560', '529', '622', '544', '534', '807',\n       '609', '630', '819', '862'],\n      dtype='object', name='geo_metro')"
     },
     "execution_count": 49,
     "metadata": {},
     "output_type": "execute_result"
    }
   ],
   "source": [
    "ids_metro = df_15_YN.geo_metro.value_counts(normalize=True) >= 0.01\n",
    "labels_metro = ids_metro[ids_metro].index\n",
    "labels_metro"
   ],
   "metadata": {
    "collapsed": false,
    "ExecuteTime": {
     "end_time": "2024-06-02T13:02:48.955207Z",
     "start_time": "2024-06-02T13:02:48.829008Z"
    }
   },
   "id": "4130cd9f7d4e4c84",
   "execution_count": 49
  },
  {
   "cell_type": "code",
   "outputs": [],
   "source": [
    "def reduce_metro(row, labels_metro):\n",
    "    if row in labels_metro:\n",
    "        return row\n",
    "    else:\n",
    "        return 'other_metro'"
   ],
   "metadata": {
    "collapsed": false,
    "ExecuteTime": {
     "end_time": "2024-06-02T13:02:57.802822Z",
     "start_time": "2024-06-02T13:02:57.630237Z"
    }
   },
   "id": "4c0a498391fb6206",
   "execution_count": 51
  },
  {
   "cell_type": "code",
   "outputs": [],
   "source": [
    "df_15_YN.geo_metro = df_15_YN.geo_metro.apply(reduce_metro, args=(labels_metro,))"
   ],
   "metadata": {
    "collapsed": false,
    "ExecuteTime": {
     "end_time": "2024-06-02T13:03:02.121789Z",
     "start_time": "2024-06-02T13:03:01.221026Z"
    }
   },
   "id": "991b30cc63f02f1",
   "execution_count": 52
  },
  {
   "cell_type": "code",
   "outputs": [
    {
     "data": {
      "text/plain": "geo_metro\nother_metro    0.461180\n501            0.065331\n524            0.046760\n528            0.040559\n602            0.037490\n803            0.034983\n623            0.031499\n517            0.026791\n641            0.021064\n511            0.021022\n753            0.020285\n618            0.020030\n504            0.019818\n505            0.017157\n659            0.016233\n529            0.013908\n622            0.013107\n560            0.013026\n544            0.013023\n609            0.011962\n534            0.011749\n630            0.011567\n819            0.011374\n807            0.010780\n862            0.009304\nName: proportion, dtype: float64"
     },
     "execution_count": 682,
     "metadata": {},
     "output_type": "execute_result"
    }
   ],
   "source": [
    "df_15_YN.geo_metro.value_counts(normalize=True)"
   ],
   "metadata": {
    "collapsed": false,
    "ExecuteTime": {
     "end_time": "2024-05-30T21:52:01.091397Z",
     "start_time": "2024-05-30T21:52:00.887418Z"
    }
   },
   "id": "18b13426ac0582aa",
   "execution_count": 682
  },
  {
   "cell_type": "code",
   "outputs": [
    {
     "data": {
      "text/plain": "sbpr            False\nid              False\nminduration     False\nmaxduration     False\nminbitrate      False\nmaxbitrate      False\napp_id          False\napp_name        False\napp_bundle      False\napp_pub_id      False\ngenre           False\ndevice_make     False\ndevice_model    False\ndevice_os       False\ngeo_region      False\ngeo_metro       False\ndata            False\ntod             False\ndtype: bool"
     },
     "execution_count": 683,
     "metadata": {},
     "output_type": "execute_result"
    }
   ],
   "source": [
    "df_15_YN.isnull().any()"
   ],
   "metadata": {
    "collapsed": false,
    "ExecuteTime": {
     "end_time": "2024-05-30T21:52:29.547752Z",
     "start_time": "2024-05-30T21:52:29.341355Z"
    }
   },
   "id": "9fc50feb32dd041",
   "execution_count": 683
  },
  {
   "cell_type": "markdown",
   "source": [
    "cleaning is complete"
   ],
   "metadata": {
    "collapsed": false
   },
   "id": "a1cb71500592c733"
  },
  {
   "cell_type": "code",
   "outputs": [],
   "source": [
    "df_15_YN.to_pickle('df_15_YN_ready.pkl') # this is a totally cleaned/reduced bres file labelled with Y/N, that is whether the impression is in om as well."
   ],
   "metadata": {
    "collapsed": false,
    "ExecuteTime": {
     "end_time": "2024-06-02T13:03:26.258194Z",
     "start_time": "2024-06-02T13:03:24.783566Z"
    }
   },
   "id": "799fa44895d0ca75",
   "execution_count": 53
  },
  {
   "cell_type": "code",
   "outputs": [],
   "source": [
    "df_15_YN = pd.read_pickle('df_15_YN_ready.pkl')"
   ],
   "metadata": {
    "collapsed": false,
    "ExecuteTime": {
     "end_time": "2024-06-02T14:15:42.642295Z",
     "start_time": "2024-06-02T14:15:41.972767Z"
    }
   },
   "id": "b58eecebdfafa90a",
   "execution_count": 2
  },
  {
   "cell_type": "markdown",
   "source": [
    "VIa. Split the dataframe into two:  sbpr = 15 and sbpr != 15 "
   ],
   "metadata": {
    "collapsed": false
   },
   "id": "69961d01ba9f9fa8"
  },
  {
   "cell_type": "code",
   "outputs": [
    {
     "data": {
      "text/plain": "    sbpr                                    id  minduration  maxduration  \\\n2   15.0  078615b0-842e-4832-9ca9-0cc93ef3fc77            1           70   \n4   15.0  8113435b-0e7c-4e7d-9ddc-146bfb4476ae            1           60   \n7   15.0  c7c775cb-7ac5-4b5a-82d5-edbb07e153ae            1           70   \n12  15.0  ef616422-381d-4ed6-b8de-c47e9cbdffb7            1           60   \n15  15.0  764d3791-7728-417d-be77-5e8b66d6224c            1           70   \n\n    minbitrate  maxbitrate  app_id    app_name    app_bundle app_pub_id  \\\n2            1      280000  711667        plex  g00002687241       1034   \n4            1      280000  711667        fubo     905401434       1034   \n7            1      280000  711667  samsung tv  g15147002586       1034   \n12           1      280000  711667        fubo    b019dchdzk       1034   \n15           1      280000  711667        plex  other_bundle       1034   \n\n          genre     device_make   device_model device_os geo_region  \\\n2   other_genre         samsung          tizen     tizen         fl   \n4   other_genre           apple  model_unknown     other         mi   \n7   other_genre         samsung          tizen     tizen         nc   \n12  other_genre  device_unknown         amazon   fire os         ny   \n15  other_genre  device_unknown        generic  webos tv         fl   \n\n      geo_metro   data      tod  \n2           528  False  morning  \n4   other_metro  False  morning  \n7   other_metro   True  morning  \n12  other_metro   True  morning  \n15          528  False  morning  ",
      "text/html": "<div>\n<style scoped>\n    .dataframe tbody tr th:only-of-type {\n        vertical-align: middle;\n    }\n\n    .dataframe tbody tr th {\n        vertical-align: top;\n    }\n\n    .dataframe thead th {\n        text-align: right;\n    }\n</style>\n<table border=\"1\" class=\"dataframe\">\n  <thead>\n    <tr style=\"text-align: right;\">\n      <th></th>\n      <th>sbpr</th>\n      <th>id</th>\n      <th>minduration</th>\n      <th>maxduration</th>\n      <th>minbitrate</th>\n      <th>maxbitrate</th>\n      <th>app_id</th>\n      <th>app_name</th>\n      <th>app_bundle</th>\n      <th>app_pub_id</th>\n      <th>genre</th>\n      <th>device_make</th>\n      <th>device_model</th>\n      <th>device_os</th>\n      <th>geo_region</th>\n      <th>geo_metro</th>\n      <th>data</th>\n      <th>tod</th>\n    </tr>\n  </thead>\n  <tbody>\n    <tr>\n      <th>2</th>\n      <td>15.0</td>\n      <td>078615b0-842e-4832-9ca9-0cc93ef3fc77</td>\n      <td>1</td>\n      <td>70</td>\n      <td>1</td>\n      <td>280000</td>\n      <td>711667</td>\n      <td>plex</td>\n      <td>g00002687241</td>\n      <td>1034</td>\n      <td>other_genre</td>\n      <td>samsung</td>\n      <td>tizen</td>\n      <td>tizen</td>\n      <td>fl</td>\n      <td>528</td>\n      <td>False</td>\n      <td>morning</td>\n    </tr>\n    <tr>\n      <th>4</th>\n      <td>15.0</td>\n      <td>8113435b-0e7c-4e7d-9ddc-146bfb4476ae</td>\n      <td>1</td>\n      <td>60</td>\n      <td>1</td>\n      <td>280000</td>\n      <td>711667</td>\n      <td>fubo</td>\n      <td>905401434</td>\n      <td>1034</td>\n      <td>other_genre</td>\n      <td>apple</td>\n      <td>model_unknown</td>\n      <td>other</td>\n      <td>mi</td>\n      <td>other_metro</td>\n      <td>False</td>\n      <td>morning</td>\n    </tr>\n    <tr>\n      <th>7</th>\n      <td>15.0</td>\n      <td>c7c775cb-7ac5-4b5a-82d5-edbb07e153ae</td>\n      <td>1</td>\n      <td>70</td>\n      <td>1</td>\n      <td>280000</td>\n      <td>711667</td>\n      <td>samsung tv</td>\n      <td>g15147002586</td>\n      <td>1034</td>\n      <td>other_genre</td>\n      <td>samsung</td>\n      <td>tizen</td>\n      <td>tizen</td>\n      <td>nc</td>\n      <td>other_metro</td>\n      <td>True</td>\n      <td>morning</td>\n    </tr>\n    <tr>\n      <th>12</th>\n      <td>15.0</td>\n      <td>ef616422-381d-4ed6-b8de-c47e9cbdffb7</td>\n      <td>1</td>\n      <td>60</td>\n      <td>1</td>\n      <td>280000</td>\n      <td>711667</td>\n      <td>fubo</td>\n      <td>b019dchdzk</td>\n      <td>1034</td>\n      <td>other_genre</td>\n      <td>device_unknown</td>\n      <td>amazon</td>\n      <td>fire os</td>\n      <td>ny</td>\n      <td>other_metro</td>\n      <td>True</td>\n      <td>morning</td>\n    </tr>\n    <tr>\n      <th>15</th>\n      <td>15.0</td>\n      <td>764d3791-7728-417d-be77-5e8b66d6224c</td>\n      <td>1</td>\n      <td>70</td>\n      <td>1</td>\n      <td>280000</td>\n      <td>711667</td>\n      <td>plex</td>\n      <td>other_bundle</td>\n      <td>1034</td>\n      <td>other_genre</td>\n      <td>device_unknown</td>\n      <td>generic</td>\n      <td>webos tv</td>\n      <td>fl</td>\n      <td>528</td>\n      <td>False</td>\n      <td>morning</td>\n    </tr>\n  </tbody>\n</table>\n</div>"
     },
     "execution_count": 54,
     "metadata": {},
     "output_type": "execute_result"
    }
   ],
   "source": [
    "df_15_train = df_15_YN[df_15_YN.sbpr == 15.0]\n",
    "df_15_train.head()"
   ],
   "metadata": {
    "collapsed": false,
    "ExecuteTime": {
     "end_time": "2024-06-02T13:05:06.312040Z",
     "start_time": "2024-06-02T13:05:06.051393Z"
    }
   },
   "id": "7600352d0cbf090d",
   "execution_count": 54
  },
  {
   "cell_type": "code",
   "outputs": [],
   "source": [
    "df_15_pred = df_15_YN[df_15_YN.sbpr > 15.0]"
   ],
   "metadata": {
    "collapsed": false,
    "ExecuteTime": {
     "end_time": "2024-06-02T13:05:11.245179Z",
     "start_time": "2024-06-02T13:05:11.029762Z"
    }
   },
   "id": "ce82262df0b707cc",
   "execution_count": 55
  },
  {
   "cell_type": "code",
   "outputs": [
    {
     "data": {
      "text/plain": "   sbpr                                    id  minduration  maxduration  \\\n0  15.7  faf22f54-7e31-4e82-90f6-d06d7713f9cf            1           70   \n1  15.1  ca929559-cb99-4670-9f64-d7544fd5875d            1           70   \n3  15.7  e118907e-f7f1-4c93-aec5-9b6b14bf2083            1           70   \n8  15.1  0ded957c-af5c-465b-8f3a-153f532cc031            1           70   \n9  15.1  4c97de68-fab1-4576-a20c-d9c8202c323c            1           70   \n\n   minbitrate  maxbitrate  app_id    app_name    app_bundle app_pub_id  \\\n0           1      280000  711665       sling     com.sling       1034   \n1           1      280000  711665       sling     com.sling       1034   \n3           1      280000  711667       sling     com.sling       1034   \n8           1      280000  711667  samsung tv  g15147002586       1034   \n9           1      280000  711667        fubo    b019dchdzk       1034   \n\n         genre device_make device_model device_os    geo_region    geo_metro  \\\n0  other_genre     unknown      generic   android            tx          618   \n1  other_genre     unknown      generic   android            tx          618   \n3  other_genre     unknown      generic   android  other_region  other_metro   \n8  other_genre     samsung        tizen     tizen            sc  other_metro   \n9  other_genre      amazon       amazon   fire os            il          602   \n\n   data      tod  \n0  True  morning  \n1  True  morning  \n3  True  morning  \n8  True  morning  \n9  True  morning  ",
      "text/html": "<div>\n<style scoped>\n    .dataframe tbody tr th:only-of-type {\n        vertical-align: middle;\n    }\n\n    .dataframe tbody tr th {\n        vertical-align: top;\n    }\n\n    .dataframe thead th {\n        text-align: right;\n    }\n</style>\n<table border=\"1\" class=\"dataframe\">\n  <thead>\n    <tr style=\"text-align: right;\">\n      <th></th>\n      <th>sbpr</th>\n      <th>id</th>\n      <th>minduration</th>\n      <th>maxduration</th>\n      <th>minbitrate</th>\n      <th>maxbitrate</th>\n      <th>app_id</th>\n      <th>app_name</th>\n      <th>app_bundle</th>\n      <th>app_pub_id</th>\n      <th>genre</th>\n      <th>device_make</th>\n      <th>device_model</th>\n      <th>device_os</th>\n      <th>geo_region</th>\n      <th>geo_metro</th>\n      <th>data</th>\n      <th>tod</th>\n    </tr>\n  </thead>\n  <tbody>\n    <tr>\n      <th>0</th>\n      <td>15.7</td>\n      <td>faf22f54-7e31-4e82-90f6-d06d7713f9cf</td>\n      <td>1</td>\n      <td>70</td>\n      <td>1</td>\n      <td>280000</td>\n      <td>711665</td>\n      <td>sling</td>\n      <td>com.sling</td>\n      <td>1034</td>\n      <td>other_genre</td>\n      <td>unknown</td>\n      <td>generic</td>\n      <td>android</td>\n      <td>tx</td>\n      <td>618</td>\n      <td>True</td>\n      <td>morning</td>\n    </tr>\n    <tr>\n      <th>1</th>\n      <td>15.1</td>\n      <td>ca929559-cb99-4670-9f64-d7544fd5875d</td>\n      <td>1</td>\n      <td>70</td>\n      <td>1</td>\n      <td>280000</td>\n      <td>711665</td>\n      <td>sling</td>\n      <td>com.sling</td>\n      <td>1034</td>\n      <td>other_genre</td>\n      <td>unknown</td>\n      <td>generic</td>\n      <td>android</td>\n      <td>tx</td>\n      <td>618</td>\n      <td>True</td>\n      <td>morning</td>\n    </tr>\n    <tr>\n      <th>3</th>\n      <td>15.7</td>\n      <td>e118907e-f7f1-4c93-aec5-9b6b14bf2083</td>\n      <td>1</td>\n      <td>70</td>\n      <td>1</td>\n      <td>280000</td>\n      <td>711667</td>\n      <td>sling</td>\n      <td>com.sling</td>\n      <td>1034</td>\n      <td>other_genre</td>\n      <td>unknown</td>\n      <td>generic</td>\n      <td>android</td>\n      <td>other_region</td>\n      <td>other_metro</td>\n      <td>True</td>\n      <td>morning</td>\n    </tr>\n    <tr>\n      <th>8</th>\n      <td>15.1</td>\n      <td>0ded957c-af5c-465b-8f3a-153f532cc031</td>\n      <td>1</td>\n      <td>70</td>\n      <td>1</td>\n      <td>280000</td>\n      <td>711667</td>\n      <td>samsung tv</td>\n      <td>g15147002586</td>\n      <td>1034</td>\n      <td>other_genre</td>\n      <td>samsung</td>\n      <td>tizen</td>\n      <td>tizen</td>\n      <td>sc</td>\n      <td>other_metro</td>\n      <td>True</td>\n      <td>morning</td>\n    </tr>\n    <tr>\n      <th>9</th>\n      <td>15.1</td>\n      <td>4c97de68-fab1-4576-a20c-d9c8202c323c</td>\n      <td>1</td>\n      <td>70</td>\n      <td>1</td>\n      <td>280000</td>\n      <td>711667</td>\n      <td>fubo</td>\n      <td>b019dchdzk</td>\n      <td>1034</td>\n      <td>other_genre</td>\n      <td>amazon</td>\n      <td>amazon</td>\n      <td>fire os</td>\n      <td>il</td>\n      <td>602</td>\n      <td>True</td>\n      <td>morning</td>\n    </tr>\n  </tbody>\n</table>\n</div>"
     },
     "execution_count": 729,
     "metadata": {},
     "output_type": "execute_result"
    }
   ],
   "source": [
    "df_15_pred.head()"
   ],
   "metadata": {
    "collapsed": false,
    "ExecuteTime": {
     "end_time": "2024-06-01T20:07:11.453018Z",
     "start_time": "2024-06-01T20:07:11.270452Z"
    }
   },
   "id": "5fadf02831f7c7e6",
   "execution_count": 729
  },
  {
   "cell_type": "markdown",
   "source": [
    "VIb. Encode first and then split to avoid missing labels"
   ],
   "metadata": {
    "collapsed": false
   },
   "id": "b8a055f5a8c771c7"
  },
  {
   "cell_type": "code",
   "outputs": [
    {
     "data": {
      "text/plain": "Index(['sbpr', 'id', 'minduration', 'maxduration', 'minbitrate', 'maxbitrate',\n       'app_id', 'app_name', 'app_bundle', 'app_pub_id', 'genre',\n       'device_make', 'device_model', 'device_os', 'geo_region', 'geo_metro',\n       'data', 'tod'],\n      dtype='object')"
     },
     "execution_count": 834,
     "metadata": {},
     "output_type": "execute_result"
    }
   ],
   "source": [
    "df_15_YN.columns"
   ],
   "metadata": {
    "collapsed": false,
    "ExecuteTime": {
     "end_time": "2024-06-02T10:28:04.279584Z",
     "start_time": "2024-06-02T10:28:04.129893Z"
    }
   },
   "id": "54caca36720d3464",
   "execution_count": 834
  },
  {
   "cell_type": "code",
   "outputs": [],
   "source": [
    "old_col = df_15_YN.columns.to_list()\n",
    "new_col = old_col[:-2] + [old_col[-1]] + [old_col[-2]]\n",
    "df_15_YN = df_15_YN[new_col]"
   ],
   "metadata": {
    "collapsed": false,
    "ExecuteTime": {
     "end_time": "2024-06-02T15:46:15.377336Z",
     "start_time": "2024-06-02T15:46:15.117790Z"
    }
   },
   "id": "9d186d192a3ed262",
   "execution_count": 3
  },
  {
   "cell_type": "code",
   "outputs": [],
   "source": [
    "one_hot_1 = pd.get_dummies(df_15_YN[['minduration', 'maxduration', 'minbitrate', 'maxbitrate','app_id','app_name','app_bundle',\n",
    " 'app_pub_id', 'genre', 'device_make', 'device_model','device_os','geo_region','geo_metro','tod']],drop_first=False)"
   ],
   "metadata": {
    "collapsed": false,
    "ExecuteTime": {
     "end_time": "2024-06-02T15:46:25.752485Z",
     "start_time": "2024-06-02T15:46:24.191401Z"
    }
   },
   "id": "a2e013c7022e81e4",
   "execution_count": 4
  },
  {
   "cell_type": "code",
   "outputs": [
    {
     "data": {
      "text/plain": "531355"
     },
     "execution_count": 7,
     "metadata": {},
     "output_type": "execute_result"
    }
   ],
   "source": [
    "len(one_hot_1)"
   ],
   "metadata": {
    "collapsed": false,
    "ExecuteTime": {
     "end_time": "2024-06-02T15:48:23.155406Z",
     "start_time": "2024-06-02T15:48:22.937179Z"
    }
   },
   "id": "98e54729ce0a9124",
   "execution_count": 7
  },
  {
   "cell_type": "code",
   "outputs": [
    {
     "data": {
      "text/plain": "531355"
     },
     "execution_count": 841,
     "metadata": {},
     "output_type": "execute_result"
    }
   ],
   "source": [
    "len(df_15_YN.sbpr)"
   ],
   "metadata": {
    "collapsed": false,
    "ExecuteTime": {
     "end_time": "2024-06-02T10:59:51.093118Z",
     "start_time": "2024-06-02T10:59:50.912946Z"
    }
   },
   "id": "f2e7cd2b62ca6577",
   "execution_count": 841
  },
  {
   "cell_type": "markdown",
   "source": [
    "this is all data, from which I keep just two columns"
   ],
   "metadata": {
    "collapsed": false
   },
   "id": "174de284369c0418"
  },
  {
   "cell_type": "code",
   "outputs": [],
   "source": [
    "df_prel = df_15_YN[['sbpr', 'data']]"
   ],
   "metadata": {
    "collapsed": false,
    "ExecuteTime": {
     "end_time": "2024-06-02T15:47:26.396787Z",
     "start_time": "2024-06-02T15:47:25.702214Z"
    }
   },
   "id": "8e6ac3f20f16d24e",
   "execution_count": 5
  },
  {
   "cell_type": "code",
   "outputs": [
    {
     "data": {
      "text/plain": "531355"
     },
     "execution_count": 6,
     "metadata": {},
     "output_type": "execute_result"
    }
   ],
   "source": [
    "len(df_prel)"
   ],
   "metadata": {
    "collapsed": false,
    "ExecuteTime": {
     "end_time": "2024-06-02T15:48:15.917600Z",
     "start_time": "2024-06-02T15:48:15.755140Z"
    }
   },
   "id": "8a1999e8b571a085",
   "execution_count": 6
  },
  {
   "cell_type": "code",
   "outputs": [],
   "source": [
    "one_hot_data = pd.concat([one_hot_1,df_prel], axis=1)"
   ],
   "metadata": {
    "collapsed": false,
    "ExecuteTime": {
     "end_time": "2024-06-02T16:04:28.769044Z",
     "start_time": "2024-06-02T16:04:28.421332Z"
    }
   },
   "id": "6b9b145e80c7d383",
   "execution_count": 14
  },
  {
   "cell_type": "code",
   "outputs": [
    {
     "data": {
      "text/plain": "Index([   0,    1,    2,    3,    4,    5,    6,    7,    8,    9,\n       ...\n       2191, 2192, 2193, 2194, 2195, 2196, 2197, 2198, 2199, 2200],\n      dtype='int64', length=531355)"
     },
     "execution_count": 15,
     "metadata": {},
     "output_type": "execute_result"
    }
   ],
   "source": [
    "one_hot_data.index"
   ],
   "metadata": {
    "collapsed": false,
    "ExecuteTime": {
     "end_time": "2024-06-02T16:04:31.207648Z",
     "start_time": "2024-06-02T16:04:31.049770Z"
    }
   },
   "id": "1a89baf5288e410",
   "execution_count": 15
  },
  {
   "cell_type": "code",
   "outputs": [
    {
     "name": "stderr",
     "output_type": "stream",
     "text": [
      "/var/folders/kx/b_1b_kg17090wwlbwz4s8m940000gn/T/ipykernel_26582/3760404513.py:1: FutureWarning: Series.__getitem__ treating keys as positions is deprecated. In a future version, integer keys will always be treated as labels (consistent with DataFrame behavior). To access a value by position, use `ser.iloc[pos]`\n",
      "  one_hot_data.iloc[0][-2]\n"
     ]
    },
    {
     "data": {
      "text/plain": "15.7"
     },
     "execution_count": 17,
     "metadata": {},
     "output_type": "execute_result"
    }
   ],
   "source": [
    "one_hot_data.iloc[0][-2]"
   ],
   "metadata": {
    "collapsed": false,
    "ExecuteTime": {
     "end_time": "2024-06-02T16:06:39.028017Z",
     "start_time": "2024-06-02T16:06:38.779450Z"
    }
   },
   "id": "3f9d42eb8a255252",
   "execution_count": 17
  },
  {
   "cell_type": "markdown",
   "source": [
    "now split"
   ],
   "metadata": {
    "collapsed": false
   },
   "id": "a7a5e464dd1ff57e"
  },
  {
   "cell_type": "code",
   "outputs": [],
   "source": [
    "df_train_all = one_hot_data[one_hot_data.sbpr == 15.0]"
   ],
   "metadata": {
    "collapsed": false,
    "ExecuteTime": {
     "end_time": "2024-06-02T16:23:42.682700Z",
     "start_time": "2024-06-02T16:23:42.463956Z"
    }
   },
   "id": "38f2ba4b2b6625f6",
   "execution_count": 18
  },
  {
   "cell_type": "code",
   "outputs": [
    {
     "data": {
      "text/plain": "Index(['minduration', 'maxduration', 'minbitrate', 'maxbitrate',\n       'app_id_601810', 'app_id_623265', 'app_id_635564', 'app_id_711665',\n       'app_id_711667', 'app_id_726329',\n       ...\n       'geo_metro_807', 'geo_metro_819', 'geo_metro_862',\n       'geo_metro_other_metro', 'tod_night', 'tod_morning', 'tod_afternoon',\n       'tod_evening', 'sbpr', 'data'],\n      dtype='object', length=175)"
     },
     "execution_count": 30,
     "metadata": {},
     "output_type": "execute_result"
    }
   ],
   "source": [
    "df_train_all.columns"
   ],
   "metadata": {
    "collapsed": false,
    "ExecuteTime": {
     "end_time": "2024-06-02T17:19:38.614501Z",
     "start_time": "2024-06-02T17:19:38.340780Z"
    }
   },
   "id": "41b5cd05c539727a",
   "execution_count": 30
  },
  {
   "cell_type": "code",
   "outputs": [],
   "source": [
    "train_b, test_b = train_test_split(df_train_all, test_size=0.2)"
   ],
   "metadata": {
    "collapsed": false,
    "ExecuteTime": {
     "end_time": "2024-06-02T16:25:23.785936Z",
     "start_time": "2024-06-02T16:25:23.532112Z"
    }
   },
   "id": "79db36d304b51e6f",
   "execution_count": 20
  },
  {
   "cell_type": "code",
   "outputs": [],
   "source": [
    "train_data_b, train_label_b = train_b.iloc[:, :-2], train_b.iloc[:, [-1]]"
   ],
   "metadata": {
    "collapsed": false,
    "ExecuteTime": {
     "end_time": "2024-06-02T17:20:04.989295Z",
     "start_time": "2024-06-02T17:20:04.778163Z"
    }
   },
   "id": "bea3fc82cb1792ec",
   "execution_count": 31
  },
  {
   "cell_type": "code",
   "outputs": [],
   "source": [
    "test_data_b, test_label_b = test_b.iloc[:, :-2], test_b.iloc[:, [-1]]"
   ],
   "metadata": {
    "collapsed": false,
    "ExecuteTime": {
     "end_time": "2024-06-02T17:20:11.136770Z",
     "start_time": "2024-06-02T17:20:10.863260Z"
    }
   },
   "id": "38bdb27a66ea1aca",
   "execution_count": 32
  },
  {
   "cell_type": "markdown",
   "source": [
    "VIIa. Train using Decision trees with splitting first"
   ],
   "metadata": {
    "collapsed": false
   },
   "id": "7772457e2f5c3dfb"
  },
  {
   "cell_type": "code",
   "outputs": [],
   "source": [
    "old_col = df_15_train.columns.to_list()"
   ],
   "metadata": {
    "collapsed": false,
    "ExecuteTime": {
     "end_time": "2024-06-02T13:05:29.517539Z",
     "start_time": "2024-06-02T13:05:29.310269Z"
    }
   },
   "id": "1dcdfaa652763f39",
   "execution_count": 56
  },
  {
   "cell_type": "code",
   "outputs": [],
   "source": [
    "new_col = old_col[:-2] + [old_col[-1]] + [old_col[-2]]\n",
    "df_15_train = df_15_train[new_col]"
   ],
   "metadata": {
    "collapsed": false,
    "ExecuteTime": {
     "end_time": "2024-06-02T13:05:32.537163Z",
     "start_time": "2024-06-02T13:05:32.323530Z"
    }
   },
   "id": "2a60386d8b3f6077",
   "execution_count": 57
  },
  {
   "cell_type": "code",
   "outputs": [
    {
     "data": {
      "text/plain": "Index(['sbpr', 'id', 'minduration', 'maxduration', 'minbitrate', 'maxbitrate',\n       'app_id', 'app_name', 'app_bundle', 'app_pub_id', 'genre',\n       'device_make', 'device_model', 'device_os', 'geo_region', 'geo_metro',\n       'tod', 'data'],\n      dtype='object')"
     },
     "execution_count": 690,
     "metadata": {},
     "output_type": "execute_result"
    }
   ],
   "source": [
    "df_15_train.columns"
   ],
   "metadata": {
    "collapsed": false,
    "ExecuteTime": {
     "end_time": "2024-06-01T15:04:42.031323Z",
     "start_time": "2024-06-01T15:04:41.887234Z"
    }
   },
   "id": "caf9109cc71d306f",
   "execution_count": 690
  },
  {
   "cell_type": "code",
   "outputs": [],
   "source": [
    "train, test = train_test_split(df_15_train, test_size=0.2)"
   ],
   "metadata": {
    "collapsed": false,
    "ExecuteTime": {
     "end_time": "2024-06-02T13:05:38.065733Z",
     "start_time": "2024-06-02T13:05:37.807019Z"
    }
   },
   "id": "ccf43423f1b39d8a",
   "execution_count": 58
  },
  {
   "cell_type": "code",
   "outputs": [],
   "source": [
    "train_data, train_label = train.iloc[:, :-1], train.iloc[:, [-1]]"
   ],
   "metadata": {
    "collapsed": false,
    "ExecuteTime": {
     "end_time": "2024-06-02T13:05:40.704796Z",
     "start_time": "2024-06-02T13:05:40.475339Z"
    }
   },
   "id": "7a814d62c31c18b9",
   "execution_count": 59
  },
  {
   "cell_type": "code",
   "outputs": [],
   "source": [
    "test_data, test_label = test.iloc[:, :-1], test.iloc[:, [-1]]"
   ],
   "metadata": {
    "collapsed": false,
    "ExecuteTime": {
     "end_time": "2024-06-02T13:05:43.998313Z",
     "start_time": "2024-06-02T13:05:43.780691Z"
    }
   },
   "id": "b7c4fd1c2cdabcc",
   "execution_count": 60
  },
  {
   "cell_type": "code",
   "outputs": [],
   "source": [
    "tree_cl = DecisionTreeClassifier(criterion='entropy')\n",
    "#'\n",
    "one_hot_data = pd.get_dummies(train_data[['minduration', 'maxduration', 'minbitrate', 'maxbitrate','app_id','app_name','app_bundle',\n",
    " 'app_pub_id', 'genre', 'device_make', 'device_model','device_os','geo_region','geo_metro','tod']],drop_first=False)"
   ],
   "metadata": {
    "collapsed": false,
    "ExecuteTime": {
     "end_time": "2024-06-02T13:05:49.917828Z",
     "start_time": "2024-06-02T13:05:49.298681Z"
    }
   },
   "id": "5954ae38b0aecba4",
   "execution_count": 61
  },
  {
   "cell_type": "code",
   "outputs": [],
   "source": [
    "tree_fit = tree_cl.fit(one_hot_data, train_label)"
   ],
   "metadata": {
    "collapsed": false,
    "ExecuteTime": {
     "end_time": "2024-06-02T13:06:01.458487Z",
     "start_time": "2024-06-02T13:05:57.841453Z"
    }
   },
   "id": "4712a7810a56d000",
   "execution_count": 62
  },
  {
   "cell_type": "code",
   "outputs": [],
   "source": [
    "one_hot_test = pd.get_dummies(test_data[['minduration', 'maxduration', 'minbitrate', 'maxbitrate','app_id','app_name','app_bundle',\n",
    " 'app_pub_id', 'genre', 'device_make', 'device_model','device_os','geo_region','geo_metro','tod']],drop_first=False)"
   ],
   "metadata": {
    "collapsed": false,
    "ExecuteTime": {
     "end_time": "2024-06-02T13:06:01.780029Z",
     "start_time": "2024-06-02T13:06:01.462943Z"
    }
   },
   "id": "d188ce69ba54570f",
   "execution_count": 63
  },
  {
   "cell_type": "code",
   "outputs": [
    {
     "ename": "ValueError",
     "evalue": "The feature names should match those that were passed during fit.\nFeature names unseen at fit time:\n- geo_region_nb\nFeature names seen at fit time, yet now missing:\n- geo_region_bw\n- geo_region_c\n- geo_region_he\n- geo_region_m\n- geo_region_qc\n- ...\n",
     "output_type": "error",
     "traceback": [
      "\u001B[0;31m---------------------------------------------------------------------------\u001B[0m",
      "\u001B[0;31mValueError\u001B[0m                                Traceback (most recent call last)",
      "Cell \u001B[0;32mIn[64], line 1\u001B[0m\n\u001B[0;32m----> 1\u001B[0m pred_labels \u001B[38;5;241m=\u001B[39m tree_cl\u001B[38;5;241m.\u001B[39mpredict(one_hot_test)\n",
      "File \u001B[0;32m/opt/anaconda3/lib/python3.11/site-packages/sklearn/tree/_classes.py:529\u001B[0m, in \u001B[0;36mBaseDecisionTree.predict\u001B[0;34m(self, X, check_input)\u001B[0m\n\u001B[1;32m    506\u001B[0m \u001B[38;5;250m\u001B[39m\u001B[38;5;124;03m\"\"\"Predict class or regression value for X.\u001B[39;00m\n\u001B[1;32m    507\u001B[0m \n\u001B[1;32m    508\u001B[0m \u001B[38;5;124;03mFor a classification model, the predicted class for each sample in X is\u001B[39;00m\n\u001B[0;32m   (...)\u001B[0m\n\u001B[1;32m    526\u001B[0m \u001B[38;5;124;03m    The predicted classes, or the predict values.\u001B[39;00m\n\u001B[1;32m    527\u001B[0m \u001B[38;5;124;03m\"\"\"\u001B[39;00m\n\u001B[1;32m    528\u001B[0m check_is_fitted(\u001B[38;5;28mself\u001B[39m)\n\u001B[0;32m--> 529\u001B[0m X \u001B[38;5;241m=\u001B[39m \u001B[38;5;28mself\u001B[39m\u001B[38;5;241m.\u001B[39m_validate_X_predict(X, check_input)\n\u001B[1;32m    530\u001B[0m proba \u001B[38;5;241m=\u001B[39m \u001B[38;5;28mself\u001B[39m\u001B[38;5;241m.\u001B[39mtree_\u001B[38;5;241m.\u001B[39mpredict(X)\n\u001B[1;32m    531\u001B[0m n_samples \u001B[38;5;241m=\u001B[39m X\u001B[38;5;241m.\u001B[39mshape[\u001B[38;5;241m0\u001B[39m]\n",
      "File \u001B[0;32m/opt/anaconda3/lib/python3.11/site-packages/sklearn/tree/_classes.py:489\u001B[0m, in \u001B[0;36mBaseDecisionTree._validate_X_predict\u001B[0;34m(self, X, check_input)\u001B[0m\n\u001B[1;32m    487\u001B[0m \u001B[38;5;28;01melse\u001B[39;00m:\n\u001B[1;32m    488\u001B[0m     force_all_finite \u001B[38;5;241m=\u001B[39m \u001B[38;5;28;01mTrue\u001B[39;00m\n\u001B[0;32m--> 489\u001B[0m X \u001B[38;5;241m=\u001B[39m \u001B[38;5;28mself\u001B[39m\u001B[38;5;241m.\u001B[39m_validate_data(\n\u001B[1;32m    490\u001B[0m     X,\n\u001B[1;32m    491\u001B[0m     dtype\u001B[38;5;241m=\u001B[39mDTYPE,\n\u001B[1;32m    492\u001B[0m     accept_sparse\u001B[38;5;241m=\u001B[39m\u001B[38;5;124m\"\u001B[39m\u001B[38;5;124mcsr\u001B[39m\u001B[38;5;124m\"\u001B[39m,\n\u001B[1;32m    493\u001B[0m     reset\u001B[38;5;241m=\u001B[39m\u001B[38;5;28;01mFalse\u001B[39;00m,\n\u001B[1;32m    494\u001B[0m     force_all_finite\u001B[38;5;241m=\u001B[39mforce_all_finite,\n\u001B[1;32m    495\u001B[0m )\n\u001B[1;32m    496\u001B[0m \u001B[38;5;28;01mif\u001B[39;00m issparse(X) \u001B[38;5;129;01mand\u001B[39;00m (\n\u001B[1;32m    497\u001B[0m     X\u001B[38;5;241m.\u001B[39mindices\u001B[38;5;241m.\u001B[39mdtype \u001B[38;5;241m!=\u001B[39m np\u001B[38;5;241m.\u001B[39mintc \u001B[38;5;129;01mor\u001B[39;00m X\u001B[38;5;241m.\u001B[39mindptr\u001B[38;5;241m.\u001B[39mdtype \u001B[38;5;241m!=\u001B[39m np\u001B[38;5;241m.\u001B[39mintc\n\u001B[1;32m    498\u001B[0m ):\n\u001B[1;32m    499\u001B[0m     \u001B[38;5;28;01mraise\u001B[39;00m \u001B[38;5;167;01mValueError\u001B[39;00m(\u001B[38;5;124m\"\u001B[39m\u001B[38;5;124mNo support for np.int64 index based sparse matrices\u001B[39m\u001B[38;5;124m\"\u001B[39m)\n",
      "File \u001B[0;32m/opt/anaconda3/lib/python3.11/site-packages/sklearn/base.py:608\u001B[0m, in \u001B[0;36mBaseEstimator._validate_data\u001B[0;34m(self, X, y, reset, validate_separately, cast_to_ndarray, **check_params)\u001B[0m\n\u001B[1;32m    537\u001B[0m \u001B[38;5;28;01mdef\u001B[39;00m \u001B[38;5;21m_validate_data\u001B[39m(\n\u001B[1;32m    538\u001B[0m     \u001B[38;5;28mself\u001B[39m,\n\u001B[1;32m    539\u001B[0m     X\u001B[38;5;241m=\u001B[39m\u001B[38;5;124m\"\u001B[39m\u001B[38;5;124mno_validation\u001B[39m\u001B[38;5;124m\"\u001B[39m,\n\u001B[0;32m   (...)\u001B[0m\n\u001B[1;32m    544\u001B[0m     \u001B[38;5;241m*\u001B[39m\u001B[38;5;241m*\u001B[39mcheck_params,\n\u001B[1;32m    545\u001B[0m ):\n\u001B[1;32m    546\u001B[0m \u001B[38;5;250m    \u001B[39m\u001B[38;5;124;03m\"\"\"Validate input data and set or check the `n_features_in_` attribute.\u001B[39;00m\n\u001B[1;32m    547\u001B[0m \n\u001B[1;32m    548\u001B[0m \u001B[38;5;124;03m    Parameters\u001B[39;00m\n\u001B[0;32m   (...)\u001B[0m\n\u001B[1;32m    606\u001B[0m \u001B[38;5;124;03m        validated.\u001B[39;00m\n\u001B[1;32m    607\u001B[0m \u001B[38;5;124;03m    \"\"\"\u001B[39;00m\n\u001B[0;32m--> 608\u001B[0m     \u001B[38;5;28mself\u001B[39m\u001B[38;5;241m.\u001B[39m_check_feature_names(X, reset\u001B[38;5;241m=\u001B[39mreset)\n\u001B[1;32m    610\u001B[0m     \u001B[38;5;28;01mif\u001B[39;00m y \u001B[38;5;129;01mis\u001B[39;00m \u001B[38;5;28;01mNone\u001B[39;00m \u001B[38;5;129;01mand\u001B[39;00m \u001B[38;5;28mself\u001B[39m\u001B[38;5;241m.\u001B[39m_get_tags()[\u001B[38;5;124m\"\u001B[39m\u001B[38;5;124mrequires_y\u001B[39m\u001B[38;5;124m\"\u001B[39m]:\n\u001B[1;32m    611\u001B[0m         \u001B[38;5;28;01mraise\u001B[39;00m \u001B[38;5;167;01mValueError\u001B[39;00m(\n\u001B[1;32m    612\u001B[0m             \u001B[38;5;124mf\u001B[39m\u001B[38;5;124m\"\u001B[39m\u001B[38;5;124mThis \u001B[39m\u001B[38;5;132;01m{\u001B[39;00m\u001B[38;5;28mself\u001B[39m\u001B[38;5;241m.\u001B[39m\u001B[38;5;18m__class__\u001B[39m\u001B[38;5;241m.\u001B[39m\u001B[38;5;18m__name__\u001B[39m\u001B[38;5;132;01m}\u001B[39;00m\u001B[38;5;124m estimator \u001B[39m\u001B[38;5;124m\"\u001B[39m\n\u001B[1;32m    613\u001B[0m             \u001B[38;5;124m\"\u001B[39m\u001B[38;5;124mrequires y to be passed, but the target y is None.\u001B[39m\u001B[38;5;124m\"\u001B[39m\n\u001B[1;32m    614\u001B[0m         )\n",
      "File \u001B[0;32m/opt/anaconda3/lib/python3.11/site-packages/sklearn/base.py:535\u001B[0m, in \u001B[0;36mBaseEstimator._check_feature_names\u001B[0;34m(self, X, reset)\u001B[0m\n\u001B[1;32m    530\u001B[0m \u001B[38;5;28;01mif\u001B[39;00m \u001B[38;5;129;01mnot\u001B[39;00m missing_names \u001B[38;5;129;01mand\u001B[39;00m \u001B[38;5;129;01mnot\u001B[39;00m unexpected_names:\n\u001B[1;32m    531\u001B[0m     message \u001B[38;5;241m+\u001B[39m\u001B[38;5;241m=\u001B[39m (\n\u001B[1;32m    532\u001B[0m         \u001B[38;5;124m\"\u001B[39m\u001B[38;5;124mFeature names must be in the same order as they were in fit.\u001B[39m\u001B[38;5;130;01m\\n\u001B[39;00m\u001B[38;5;124m\"\u001B[39m\n\u001B[1;32m    533\u001B[0m     )\n\u001B[0;32m--> 535\u001B[0m \u001B[38;5;28;01mraise\u001B[39;00m \u001B[38;5;167;01mValueError\u001B[39;00m(message)\n",
      "\u001B[0;31mValueError\u001B[0m: The feature names should match those that were passed during fit.\nFeature names unseen at fit time:\n- geo_region_nb\nFeature names seen at fit time, yet now missing:\n- geo_region_bw\n- geo_region_c\n- geo_region_he\n- geo_region_m\n- geo_region_qc\n- ...\n"
     ]
    }
   ],
   "source": [
    "pred_labels = tree_cl.predict(one_hot_test)"
   ],
   "metadata": {
    "collapsed": false,
    "ExecuteTime": {
     "end_time": "2024-06-02T13:06:06.370871Z",
     "start_time": "2024-06-02T13:06:06.009832Z"
    }
   },
   "id": "c15c53e8f8e79725",
   "execution_count": 64
  },
  {
   "cell_type": "code",
   "outputs": [
    {
     "name": "stdout",
     "output_type": "stream",
     "text": [
      "Model accuracy score: 0.6394\n"
     ]
    }
   ],
   "source": [
    "print('Model accuracy score: {0:0.4f}'. format(accuracy_score(test_label, pred_labels)))"
   ],
   "metadata": {
    "collapsed": false,
    "ExecuteTime": {
     "end_time": "2024-06-01T15:11:02.488946Z",
     "start_time": "2024-06-01T15:11:02.315011Z"
    }
   },
   "id": "fbffc7607b849d2f",
   "execution_count": 704
  },
  {
   "cell_type": "code",
   "outputs": [
    {
     "name": "stdout",
     "output_type": "stream",
     "text": [
      "56\n"
     ]
    }
   ],
   "source": [
    "print(tree_cl.tree_.max_depth)"
   ],
   "metadata": {
    "collapsed": false,
    "ExecuteTime": {
     "end_time": "2024-06-01T15:11:08.447626Z",
     "start_time": "2024-06-01T15:11:08.239026Z"
    }
   },
   "id": "23bcccddb1edf5de",
   "execution_count": 705
  },
  {
   "cell_type": "code",
   "outputs": [],
   "source": [
    "def run_trees():\n",
    "    for criterion in ['gini', 'entropy']:\n",
    "        for max_depth in range(25, 55, 5):\n",
    "            for min_samples_split in range(2,6,2):\n",
    "                for min_samples_leaf in range(2,5):\n",
    "                    tree_cl = DecisionTreeClassifier(criterion=criterion, max_depth=max_depth)\n",
    "                    tree_fit = tree_cl.fit(one_hot_data, train_label)\n",
    "                    pred_labels = tree_fit.predict(one_hot_test)\n",
    "                    acc = accuracy_score(test_label, pred_labels)\n",
    "                    print(f'Model {criterion} with accuracy score: {acc:.4f}, Max depth: {max_depth}, Min depth: {min_samples_split}, Min samples: {min_samples_leaf}')"
   ],
   "metadata": {
    "collapsed": false,
    "ExecuteTime": {
     "end_time": "2024-06-01T15:15:05.221354Z",
     "start_time": "2024-06-01T15:15:05.044739Z"
    }
   },
   "id": "ac78b7415f4b2c1e",
   "execution_count": 709
  },
  {
   "cell_type": "code",
   "outputs": [
    {
     "name": "stdout",
     "output_type": "stream",
     "text": [
      "Model gini with accuracy score: 0.6341, Max depth: 25, Min depth: 2, Min samples: 2\n",
      "Model gini with accuracy score: 0.6342, Max depth: 25, Min depth: 2, Min samples: 3\n",
      "Model gini with accuracy score: 0.6342, Max depth: 25, Min depth: 2, Min samples: 4\n",
      "Model gini with accuracy score: 0.6344, Max depth: 25, Min depth: 4, Min samples: 2\n",
      "Model gini with accuracy score: 0.6341, Max depth: 25, Min depth: 4, Min samples: 3\n",
      "Model gini with accuracy score: 0.6342, Max depth: 25, Min depth: 4, Min samples: 4\n",
      "Model gini with accuracy score: 0.6359, Max depth: 30, Min depth: 2, Min samples: 2\n",
      "Model gini with accuracy score: 0.6356, Max depth: 30, Min depth: 2, Min samples: 3\n",
      "Model gini with accuracy score: 0.6357, Max depth: 30, Min depth: 2, Min samples: 4\n",
      "Model gini with accuracy score: 0.6358, Max depth: 30, Min depth: 4, Min samples: 2\n",
      "Model gini with accuracy score: 0.6356, Max depth: 30, Min depth: 4, Min samples: 3\n",
      "Model gini with accuracy score: 0.6356, Max depth: 30, Min depth: 4, Min samples: 4\n",
      "Model gini with accuracy score: 0.6348, Max depth: 35, Min depth: 2, Min samples: 2\n",
      "Model gini with accuracy score: 0.6347, Max depth: 35, Min depth: 2, Min samples: 3\n",
      "Model gini with accuracy score: 0.6349, Max depth: 35, Min depth: 2, Min samples: 4\n",
      "Model gini with accuracy score: 0.6348, Max depth: 35, Min depth: 4, Min samples: 2\n",
      "Model gini with accuracy score: 0.6346, Max depth: 35, Min depth: 4, Min samples: 3\n",
      "Model gini with accuracy score: 0.6347, Max depth: 35, Min depth: 4, Min samples: 4\n",
      "Model gini with accuracy score: 0.6380, Max depth: 40, Min depth: 2, Min samples: 2\n",
      "Model gini with accuracy score: 0.6385, Max depth: 40, Min depth: 2, Min samples: 3\n",
      "Model gini with accuracy score: 0.6385, Max depth: 40, Min depth: 2, Min samples: 4\n",
      "Model gini with accuracy score: 0.6385, Max depth: 40, Min depth: 4, Min samples: 2\n",
      "Model gini with accuracy score: 0.6384, Max depth: 40, Min depth: 4, Min samples: 3\n",
      "Model gini with accuracy score: 0.6383, Max depth: 40, Min depth: 4, Min samples: 4\n",
      "Model gini with accuracy score: 0.6386, Max depth: 45, Min depth: 2, Min samples: 2\n",
      "Model gini with accuracy score: 0.6386, Max depth: 45, Min depth: 2, Min samples: 3\n",
      "Model gini with accuracy score: 0.6387, Max depth: 45, Min depth: 2, Min samples: 4\n",
      "Model gini with accuracy score: 0.6386, Max depth: 45, Min depth: 4, Min samples: 2\n",
      "Model gini with accuracy score: 0.6387, Max depth: 45, Min depth: 4, Min samples: 3\n",
      "Model gini with accuracy score: 0.6386, Max depth: 45, Min depth: 4, Min samples: 4\n",
      "Model gini with accuracy score: 0.6392, Max depth: 50, Min depth: 2, Min samples: 2\n",
      "Model gini with accuracy score: 0.6393, Max depth: 50, Min depth: 2, Min samples: 3\n",
      "Model gini with accuracy score: 0.6391, Max depth: 50, Min depth: 2, Min samples: 4\n",
      "Model gini with accuracy score: 0.6391, Max depth: 50, Min depth: 4, Min samples: 2\n",
      "Model gini with accuracy score: 0.6390, Max depth: 50, Min depth: 4, Min samples: 3\n",
      "Model gini with accuracy score: 0.6392, Max depth: 50, Min depth: 4, Min samples: 4\n",
      "Model entropy with accuracy score: 0.6328, Max depth: 25, Min depth: 2, Min samples: 2\n",
      "Model entropy with accuracy score: 0.6329, Max depth: 25, Min depth: 2, Min samples: 3\n",
      "Model entropy with accuracy score: 0.6329, Max depth: 25, Min depth: 2, Min samples: 4\n",
      "Model entropy with accuracy score: 0.6327, Max depth: 25, Min depth: 4, Min samples: 2\n",
      "Model entropy with accuracy score: 0.6330, Max depth: 25, Min depth: 4, Min samples: 3\n",
      "Model entropy with accuracy score: 0.6330, Max depth: 25, Min depth: 4, Min samples: 4\n",
      "Model entropy with accuracy score: 0.6354, Max depth: 30, Min depth: 2, Min samples: 2\n",
      "Model entropy with accuracy score: 0.6357, Max depth: 30, Min depth: 2, Min samples: 3\n",
      "Model entropy with accuracy score: 0.6354, Max depth: 30, Min depth: 2, Min samples: 4\n",
      "Model entropy with accuracy score: 0.6357, Max depth: 30, Min depth: 4, Min samples: 2\n",
      "Model entropy with accuracy score: 0.6354, Max depth: 30, Min depth: 4, Min samples: 3\n",
      "Model entropy with accuracy score: 0.6356, Max depth: 30, Min depth: 4, Min samples: 4\n",
      "Model entropy with accuracy score: 0.6351, Max depth: 35, Min depth: 2, Min samples: 2\n",
      "Model entropy with accuracy score: 0.6354, Max depth: 35, Min depth: 2, Min samples: 3\n",
      "Model entropy with accuracy score: 0.6354, Max depth: 35, Min depth: 2, Min samples: 4\n",
      "Model entropy with accuracy score: 0.6350, Max depth: 35, Min depth: 4, Min samples: 2\n",
      "Model entropy with accuracy score: 0.6351, Max depth: 35, Min depth: 4, Min samples: 3\n",
      "Model entropy with accuracy score: 0.6353, Max depth: 35, Min depth: 4, Min samples: 4\n",
      "Model entropy with accuracy score: 0.6384, Max depth: 40, Min depth: 2, Min samples: 2\n",
      "Model entropy with accuracy score: 0.6384, Max depth: 40, Min depth: 2, Min samples: 3\n",
      "Model entropy with accuracy score: 0.6386, Max depth: 40, Min depth: 2, Min samples: 4\n",
      "Model entropy with accuracy score: 0.6386, Max depth: 40, Min depth: 4, Min samples: 2\n",
      "Model entropy with accuracy score: 0.6387, Max depth: 40, Min depth: 4, Min samples: 3\n",
      "Model entropy with accuracy score: 0.6382, Max depth: 40, Min depth: 4, Min samples: 4\n",
      "Model entropy with accuracy score: 0.6384, Max depth: 45, Min depth: 2, Min samples: 2\n",
      "Model entropy with accuracy score: 0.6382, Max depth: 45, Min depth: 2, Min samples: 3\n",
      "Model entropy with accuracy score: 0.6384, Max depth: 45, Min depth: 2, Min samples: 4\n",
      "Model entropy with accuracy score: 0.6384, Max depth: 45, Min depth: 4, Min samples: 2\n",
      "Model entropy with accuracy score: 0.6385, Max depth: 45, Min depth: 4, Min samples: 3\n",
      "Model entropy with accuracy score: 0.6385, Max depth: 45, Min depth: 4, Min samples: 4\n",
      "Model entropy with accuracy score: 0.6389, Max depth: 50, Min depth: 2, Min samples: 2\n",
      "Model entropy with accuracy score: 0.6390, Max depth: 50, Min depth: 2, Min samples: 3\n",
      "Model entropy with accuracy score: 0.6389, Max depth: 50, Min depth: 2, Min samples: 4\n",
      "Model entropy with accuracy score: 0.6389, Max depth: 50, Min depth: 4, Min samples: 2\n",
      "Model entropy with accuracy score: 0.6390, Max depth: 50, Min depth: 4, Min samples: 3\n",
      "Model entropy with accuracy score: 0.6390, Max depth: 50, Min depth: 4, Min samples: 4\n"
     ]
    }
   ],
   "source": [
    "run_trees()"
   ],
   "metadata": {
    "collapsed": false,
    "ExecuteTime": {
     "end_time": "2024-06-01T15:17:27.503584Z",
     "start_time": "2024-06-01T15:15:07.502332Z"
    }
   },
   "id": "8e770999ecdadf7c",
   "execution_count": 710
  },
  {
   "cell_type": "markdown",
   "source": [
    "VIIb. Train with all data, then split"
   ],
   "metadata": {
    "collapsed": false
   },
   "id": "657546733c04185a"
  },
  {
   "cell_type": "code",
   "outputs": [],
   "source": [
    "tree_b = DecisionTreeClassifier(criterion='entropy')"
   ],
   "metadata": {
    "collapsed": false,
    "ExecuteTime": {
     "end_time": "2024-06-02T16:27:49.390342Z",
     "start_time": "2024-06-02T16:27:49.252677Z"
    }
   },
   "id": "6d6a0b3f5f9f3c39",
   "execution_count": 22
  },
  {
   "cell_type": "code",
   "outputs": [],
   "source": [
    "tree_fit_b = tree_b.fit(train_data_b, train_label_b)"
   ],
   "metadata": {
    "collapsed": false,
    "ExecuteTime": {
     "end_time": "2024-06-02T17:20:38.853574Z",
     "start_time": "2024-06-02T17:20:35.106494Z"
    }
   },
   "id": "e545df6ed3e9280a",
   "execution_count": 33
  },
  {
   "cell_type": "code",
   "outputs": [],
   "source": [
    "pred_b = tree_fit_b.predict(test_data_b)"
   ],
   "metadata": {
    "collapsed": false,
    "ExecuteTime": {
     "end_time": "2024-06-02T17:20:41.500740Z",
     "start_time": "2024-06-02T17:20:41.293559Z"
    }
   },
   "id": "873feb65253be8a2",
   "execution_count": 34
  },
  {
   "cell_type": "code",
   "outputs": [
    {
     "name": "stdout",
     "output_type": "stream",
     "text": [
      "Model accuracy score: 0.6411\n"
     ]
    }
   ],
   "source": [
    "print('Model accuracy score: {0:0.4f}'. format(accuracy_score(test_label_b, pred_b)))"
   ],
   "metadata": {
    "collapsed": false,
    "ExecuteTime": {
     "end_time": "2024-06-02T17:20:44.643693Z",
     "start_time": "2024-06-02T17:20:44.452522Z"
    }
   },
   "id": "cf75138ae42d0c09",
   "execution_count": 35
  },
  {
   "cell_type": "markdown",
   "source": [
    "VIIIa. Predict labels for sbpr > 15.0 splitting first"
   ],
   "metadata": {
    "collapsed": false
   },
   "id": "2f5b9d9ba116335e"
  },
  {
   "cell_type": "code",
   "outputs": [
    {
     "data": {
      "text/plain": "Index(['sbpr', 'id', 'minduration', 'maxduration', 'minbitrate', 'maxbitrate',\n       'app_id', 'app_name', 'app_bundle', 'app_pub_id', 'genre',\n       'device_make', 'device_model', 'device_os', 'geo_region', 'geo_metro',\n       'data', 'tod'],\n      dtype='object')"
     },
     "execution_count": 730,
     "metadata": {},
     "output_type": "execute_result"
    }
   ],
   "source": [
    "df_15_pred.columns"
   ],
   "metadata": {
    "collapsed": false,
    "ExecuteTime": {
     "end_time": "2024-06-01T20:07:29.716562Z",
     "start_time": "2024-06-01T20:07:29.526294Z"
    }
   },
   "id": "c66187f51c0e5d5e",
   "execution_count": 730
  },
  {
   "cell_type": "code",
   "outputs": [],
   "source": [
    "one_hot_pred = pd.get_dummies(df_15_pred[['minduration', 'maxduration', 'minbitrate', 'maxbitrate','app_id','app_name','app_bundle',\n",
    " 'app_pub_id', 'genre', 'device_make', 'device_model','device_os','geo_region','geo_metro','tod']],drop_first=False)"
   ],
   "metadata": {
    "collapsed": false,
    "ExecuteTime": {
     "end_time": "2024-06-01T15:36:04.079169Z",
     "start_time": "2024-06-01T15:36:03.722052Z"
    }
   },
   "id": "1dbac11b969ecc83",
   "execution_count": 717
  },
  {
   "cell_type": "code",
   "outputs": [],
   "source": [
    "real_pred = tree_cl.predict(one_hot_pred)"
   ],
   "metadata": {
    "collapsed": false,
    "ExecuteTime": {
     "end_time": "2024-06-01T15:36:42.571742Z",
     "start_time": "2024-06-01T15:36:42.348820Z"
    }
   },
   "id": "ea0eba1326e8a6ba",
   "execution_count": 718
  },
  {
   "cell_type": "code",
   "outputs": [
    {
     "data": {
      "text/plain": "array([ True,  True,  True,  True, False,  True,  True,  True,  True,\n        True])"
     },
     "execution_count": 720,
     "metadata": {},
     "output_type": "execute_result"
    }
   ],
   "source": [
    "real_pred[:10]"
   ],
   "metadata": {
    "collapsed": false,
    "ExecuteTime": {
     "end_time": "2024-06-01T15:37:10.042527Z",
     "start_time": "2024-06-01T15:37:09.865643Z"
    }
   },
   "id": "6f755af36de62e34",
   "execution_count": 720
  },
  {
   "cell_type": "markdown",
   "source": [
    "this are all counts, as in bres"
   ],
   "metadata": {
    "collapsed": false
   },
   "id": "c7ba2ed4cd266fd"
  },
  {
   "cell_type": "code",
   "outputs": [],
   "source": [
    "df_2 = pd.DataFrame(df_15_pred.groupby(['sbpr'])['sbpr'].count())"
   ],
   "metadata": {
    "collapsed": false,
    "ExecuteTime": {
     "end_time": "2024-06-01T21:01:47.337284Z",
     "start_time": "2024-06-01T21:01:47.200674Z"
    }
   },
   "id": "51c36e4d85ae72f5",
   "execution_count": 739
  },
  {
   "cell_type": "code",
   "outputs": [],
   "source": [
    "df_2.rename(columns={'sbpr':'total_cnt'}, inplace=True)"
   ],
   "metadata": {
    "collapsed": false,
    "ExecuteTime": {
     "end_time": "2024-06-01T21:02:00.319155Z",
     "start_time": "2024-06-01T21:02:00.159026Z"
    }
   },
   "id": "6c222f602bc316b8",
   "execution_count": 740
  },
  {
   "cell_type": "code",
   "outputs": [
    {
     "data": {
      "text/plain": "           total_cnt\nsbpr                \n15.000051         19\n15.000090         70\n15.000480        906\n15.003951          8\n15.004497          1\n15.009528          1\n15.010542          1\n15.012570         83\n15.015200         13\n15.015550         11\n15.017913          1\n15.018264          1\n15.019750          6\n15.020450          4\n15.021033          1\n15.021345          1\n15.022575          1\n15.024000          8\n15.025700         23\n15.027100         10",
      "text/html": "<div>\n<style scoped>\n    .dataframe tbody tr th:only-of-type {\n        vertical-align: middle;\n    }\n\n    .dataframe tbody tr th {\n        vertical-align: top;\n    }\n\n    .dataframe thead th {\n        text-align: right;\n    }\n</style>\n<table border=\"1\" class=\"dataframe\">\n  <thead>\n    <tr style=\"text-align: right;\">\n      <th></th>\n      <th>total_cnt</th>\n    </tr>\n    <tr>\n      <th>sbpr</th>\n      <th></th>\n    </tr>\n  </thead>\n  <tbody>\n    <tr>\n      <th>15.000051</th>\n      <td>19</td>\n    </tr>\n    <tr>\n      <th>15.000090</th>\n      <td>70</td>\n    </tr>\n    <tr>\n      <th>15.000480</th>\n      <td>906</td>\n    </tr>\n    <tr>\n      <th>15.003951</th>\n      <td>8</td>\n    </tr>\n    <tr>\n      <th>15.004497</th>\n      <td>1</td>\n    </tr>\n    <tr>\n      <th>15.009528</th>\n      <td>1</td>\n    </tr>\n    <tr>\n      <th>15.010542</th>\n      <td>1</td>\n    </tr>\n    <tr>\n      <th>15.012570</th>\n      <td>83</td>\n    </tr>\n    <tr>\n      <th>15.015200</th>\n      <td>13</td>\n    </tr>\n    <tr>\n      <th>15.015550</th>\n      <td>11</td>\n    </tr>\n    <tr>\n      <th>15.017913</th>\n      <td>1</td>\n    </tr>\n    <tr>\n      <th>15.018264</th>\n      <td>1</td>\n    </tr>\n    <tr>\n      <th>15.019750</th>\n      <td>6</td>\n    </tr>\n    <tr>\n      <th>15.020450</th>\n      <td>4</td>\n    </tr>\n    <tr>\n      <th>15.021033</th>\n      <td>1</td>\n    </tr>\n    <tr>\n      <th>15.021345</th>\n      <td>1</td>\n    </tr>\n    <tr>\n      <th>15.022575</th>\n      <td>1</td>\n    </tr>\n    <tr>\n      <th>15.024000</th>\n      <td>8</td>\n    </tr>\n    <tr>\n      <th>15.025700</th>\n      <td>23</td>\n    </tr>\n    <tr>\n      <th>15.027100</th>\n      <td>10</td>\n    </tr>\n  </tbody>\n</table>\n</div>"
     },
     "execution_count": 741,
     "metadata": {},
     "output_type": "execute_result"
    }
   ],
   "source": [
    "df_2.head(20)"
   ],
   "metadata": {
    "collapsed": false,
    "ExecuteTime": {
     "end_time": "2024-06-01T21:02:04.289964Z",
     "start_time": "2024-06-01T21:02:04.192377Z"
    }
   },
   "id": "eaadc54667d2cf97",
   "execution_count": 741
  },
  {
   "cell_type": "code",
   "outputs": [],
   "source": [
    "df_3 = pd.DataFrame(df_15_pred[df_15_pred.data == True].groupby(['sbpr'])['sbpr'].count())"
   ],
   "metadata": {
    "collapsed": false,
    "ExecuteTime": {
     "end_time": "2024-06-01T21:48:30.048889Z",
     "start_time": "2024-06-01T21:48:29.850879Z"
    }
   },
   "id": "db728068134660c4",
   "execution_count": 745
  },
  {
   "cell_type": "code",
   "outputs": [],
   "source": [
    "df_3.rename(columns={'sbpr':'om_cnt'}, inplace=True)"
   ],
   "metadata": {
    "collapsed": false,
    "ExecuteTime": {
     "end_time": "2024-06-01T21:53:54.767485Z",
     "start_time": "2024-06-01T21:53:54.572380Z"
    }
   },
   "id": "349bf6bc4894fdf1",
   "execution_count": 752
  },
  {
   "cell_type": "code",
   "outputs": [
    {
     "data": {
      "text/plain": "169699"
     },
     "execution_count": 753,
     "metadata": {},
     "output_type": "execute_result"
    }
   ],
   "source": [
    "df_3.om_cnt.sum()"
   ],
   "metadata": {
    "collapsed": false,
    "ExecuteTime": {
     "end_time": "2024-06-01T21:54:17.563025Z",
     "start_time": "2024-06-01T21:54:17.381686Z"
    }
   },
   "id": "76d0328815cf19d5",
   "execution_count": 753
  },
  {
   "cell_type": "code",
   "outputs": [
    {
     "data": {
      "text/plain": "169699"
     },
     "execution_count": 754,
     "metadata": {},
     "output_type": "execute_result"
    }
   ],
   "source": [
    "df_2.total_cnt.sum()"
   ],
   "metadata": {
    "collapsed": false,
    "ExecuteTime": {
     "end_time": "2024-06-01T21:54:36.188320Z",
     "start_time": "2024-06-01T21:54:35.713341Z"
    }
   },
   "id": "23469df8c3ac01b4",
   "execution_count": 754
  },
  {
   "cell_type": "code",
   "outputs": [
    {
     "data": {
      "text/plain": "2"
     },
     "execution_count": 755,
     "metadata": {},
     "output_type": "execute_result"
    }
   ],
   "source": [
    "df_15_YN.data.nunique()"
   ],
   "metadata": {
    "collapsed": false,
    "ExecuteTime": {
     "end_time": "2024-06-01T21:59:08.888385Z",
     "start_time": "2024-06-01T21:59:08.733086Z"
    }
   },
   "id": "17ff6d364b29c07c",
   "execution_count": 755
  },
  {
   "cell_type": "markdown",
   "source": [
    "VIII. Predict labels for sbpr > 15.0 splitting after"
   ],
   "metadata": {
    "collapsed": false
   },
   "id": "1250c8594984785b"
  },
  {
   "cell_type": "code",
   "outputs": [],
   "source": [
    "df_predict_all = one_hot_data[one_hot_data.sbpr > 15.0]"
   ],
   "metadata": {
    "collapsed": false,
    "ExecuteTime": {
     "end_time": "2024-06-02T17:17:28.031091Z",
     "start_time": "2024-06-02T17:17:27.853154Z"
    }
   },
   "id": "7dabd7d964186d19",
   "execution_count": 28
  },
  {
   "cell_type": "code",
   "outputs": [
    {
     "data": {
      "text/plain": "Index(['minduration', 'maxduration', 'minbitrate', 'maxbitrate',\n       'app_id_601810', 'app_id_623265', 'app_id_635564', 'app_id_711665',\n       'app_id_711667', 'app_id_726329',\n       ...\n       'geo_metro_807', 'geo_metro_819', 'geo_metro_862',\n       'geo_metro_other_metro', 'tod_night', 'tod_morning', 'tod_afternoon',\n       'tod_evening', 'sbpr', 'data'],\n      dtype='object', length=175)"
     },
     "execution_count": 29,
     "metadata": {},
     "output_type": "execute_result"
    }
   ],
   "source": [
    "df_predict_all.columns"
   ],
   "metadata": {
    "collapsed": false,
    "ExecuteTime": {
     "end_time": "2024-06-02T17:17:43.715850Z",
     "start_time": "2024-06-02T17:17:43.561726Z"
    }
   },
   "id": "67e30fa017f52941",
   "execution_count": 29
  },
  {
   "cell_type": "code",
   "outputs": [],
   "source": [
    "to_predict_data = df_predict_all.iloc[:,:-2]"
   ],
   "metadata": {
    "collapsed": false,
    "ExecuteTime": {
     "end_time": "2024-06-02T17:22:30.356080Z",
     "start_time": "2024-06-02T17:22:30.204432Z"
    }
   },
   "id": "9b4336530f5c1386",
   "execution_count": 36
  },
  {
   "cell_type": "code",
   "outputs": [],
   "source": [
    "real_pred_b = tree_fit_b.predict(to_predict_data)"
   ],
   "metadata": {
    "collapsed": false,
    "ExecuteTime": {
     "end_time": "2024-06-02T17:23:32.791860Z",
     "start_time": "2024-06-02T17:23:32.250687Z"
    }
   },
   "id": "b4537a78619a8246",
   "execution_count": 37
  },
  {
   "cell_type": "code",
   "outputs": [
    {
     "data": {
      "text/plain": "343996"
     },
     "execution_count": 38,
     "metadata": {},
     "output_type": "execute_result"
    }
   ],
   "source": [
    "len(real_pred_b)"
   ],
   "metadata": {
    "collapsed": false,
    "ExecuteTime": {
     "end_time": "2024-06-02T17:23:57.645572Z",
     "start_time": "2024-06-02T17:23:57.331262Z"
    }
   },
   "id": "2470ceb213156ec5",
   "execution_count": 38
  },
  {
   "cell_type": "code",
   "outputs": [],
   "source": [
    "df_m = df_prel[df_prel.sbpr > 15.0]"
   ],
   "metadata": {
    "collapsed": false,
    "ExecuteTime": {
     "end_time": "2024-06-02T19:43:02.434606Z",
     "start_time": "2024-06-02T19:43:02.240597Z"
    }
   },
   "id": "900634d85cd2f24d",
   "execution_count": 39
  },
  {
   "cell_type": "code",
   "outputs": [
    {
     "data": {
      "text/plain": "   sbpr   data\n0  15.7   True\n1  15.1   True\n3  15.7   True\n5  15.1  False\n6  17.4  False",
      "text/html": "<div>\n<style scoped>\n    .dataframe tbody tr th:only-of-type {\n        vertical-align: middle;\n    }\n\n    .dataframe tbody tr th {\n        vertical-align: top;\n    }\n\n    .dataframe thead th {\n        text-align: right;\n    }\n</style>\n<table border=\"1\" class=\"dataframe\">\n  <thead>\n    <tr style=\"text-align: right;\">\n      <th></th>\n      <th>sbpr</th>\n      <th>data</th>\n    </tr>\n  </thead>\n  <tbody>\n    <tr>\n      <th>0</th>\n      <td>15.7</td>\n      <td>True</td>\n    </tr>\n    <tr>\n      <th>1</th>\n      <td>15.1</td>\n      <td>True</td>\n    </tr>\n    <tr>\n      <th>3</th>\n      <td>15.7</td>\n      <td>True</td>\n    </tr>\n    <tr>\n      <th>5</th>\n      <td>15.1</td>\n      <td>False</td>\n    </tr>\n    <tr>\n      <th>6</th>\n      <td>17.4</td>\n      <td>False</td>\n    </tr>\n  </tbody>\n</table>\n</div>"
     },
     "execution_count": 40,
     "metadata": {},
     "output_type": "execute_result"
    }
   ],
   "source": [
    "df_m.head()"
   ],
   "metadata": {
    "collapsed": false,
    "ExecuteTime": {
     "end_time": "2024-06-02T19:43:10.040605Z",
     "start_time": "2024-06-02T19:43:09.840596Z"
    }
   },
   "id": "3e921e6cf68e21b3",
   "execution_count": 40
  },
  {
   "cell_type": "code",
   "outputs": [],
   "source": [
    "df_matters = pd.concat([df_m, df_pred_b], axis=1)\n",
    "df_matters.drop('index', axis=1, inplace=True)"
   ],
   "metadata": {
    "collapsed": false,
    "ExecuteTime": {
     "end_time": "2024-06-02T20:56:20.573470Z",
     "start_time": "2024-06-02T20:56:20.443600Z"
    }
   },
   "id": "98f6a1cce5189c51",
   "execution_count": 62
  },
  {
   "cell_type": "code",
   "outputs": [],
   "source": [
    "df_pred_b = pd.DataFrame(real_pred_b, columns=[\"pred\"])"
   ],
   "metadata": {
    "collapsed": false,
    "ExecuteTime": {
     "end_time": "2024-06-02T20:50:54.599199Z",
     "start_time": "2024-06-02T20:50:54.353903Z"
    }
   },
   "id": "c3b6d2be73124866",
   "execution_count": 48
  },
  {
   "cell_type": "code",
   "outputs": [],
   "source": [
    "df_pred_b.reset_index(inplace=True, drop=True)"
   ],
   "metadata": {
    "collapsed": false,
    "ExecuteTime": {
     "end_time": "2024-06-02T20:54:24.706845Z",
     "start_time": "2024-06-02T20:54:24.505646Z"
    }
   },
   "id": "9de367a653000b00",
   "execution_count": 56
  },
  {
   "cell_type": "code",
   "outputs": [
    {
     "data": {
      "text/plain": "RangeIndex(start=0, stop=343996, step=1)"
     },
     "execution_count": 58,
     "metadata": {},
     "output_type": "execute_result"
    }
   ],
   "source": [
    "df_pred_b.index"
   ],
   "metadata": {
    "collapsed": false,
    "ExecuteTime": {
     "end_time": "2024-06-02T20:54:50.508293Z",
     "start_time": "2024-06-02T20:54:50.301910Z"
    }
   },
   "id": "660668c31bc48350",
   "execution_count": 58
  },
  {
   "cell_type": "code",
   "outputs": [],
   "source": [
    "df_m.reset_index(inplace=True, drop=True)"
   ],
   "metadata": {
    "collapsed": false,
    "ExecuteTime": {
     "end_time": "2024-06-02T20:55:08.692968Z",
     "start_time": "2024-06-02T20:55:08.526495Z"
    }
   },
   "id": "6fc69fa277e09ef7",
   "execution_count": 59
  },
  {
   "cell_type": "code",
   "outputs": [
    {
     "data": {
      "text/plain": "   sbpr   data   pred\n0  15.7   True   True\n1  15.1   True   True\n2  15.7   True   True\n3  15.1  False  False\n4  17.4  False  False",
      "text/html": "<div>\n<style scoped>\n    .dataframe tbody tr th:only-of-type {\n        vertical-align: middle;\n    }\n\n    .dataframe tbody tr th {\n        vertical-align: top;\n    }\n\n    .dataframe thead th {\n        text-align: right;\n    }\n</style>\n<table border=\"1\" class=\"dataframe\">\n  <thead>\n    <tr style=\"text-align: right;\">\n      <th></th>\n      <th>sbpr</th>\n      <th>data</th>\n      <th>pred</th>\n    </tr>\n  </thead>\n  <tbody>\n    <tr>\n      <th>0</th>\n      <td>15.7</td>\n      <td>True</td>\n      <td>True</td>\n    </tr>\n    <tr>\n      <th>1</th>\n      <td>15.1</td>\n      <td>True</td>\n      <td>True</td>\n    </tr>\n    <tr>\n      <th>2</th>\n      <td>15.7</td>\n      <td>True</td>\n      <td>True</td>\n    </tr>\n    <tr>\n      <th>3</th>\n      <td>15.1</td>\n      <td>False</td>\n      <td>False</td>\n    </tr>\n    <tr>\n      <th>4</th>\n      <td>17.4</td>\n      <td>False</td>\n      <td>False</td>\n    </tr>\n  </tbody>\n</table>\n</div>"
     },
     "execution_count": 63,
     "metadata": {},
     "output_type": "execute_result"
    }
   ],
   "source": [
    "df_matters.head()"
   ],
   "metadata": {
    "collapsed": false,
    "ExecuteTime": {
     "end_time": "2024-06-02T20:56:41.972608Z",
     "start_time": "2024-06-02T20:56:41.803476Z"
    }
   },
   "id": "5475525c4419461f",
   "execution_count": 63
  },
  {
   "cell_type": "code",
   "outputs": [
    {
     "data": {
      "text/plain": "           total_cnt\nsbpr                \n15.000051         44\n15.000090        139\n15.000480       1998\n15.000753          1\n15.001221          1",
      "text/html": "<div>\n<style scoped>\n    .dataframe tbody tr th:only-of-type {\n        vertical-align: middle;\n    }\n\n    .dataframe tbody tr th {\n        vertical-align: top;\n    }\n\n    .dataframe thead th {\n        text-align: right;\n    }\n</style>\n<table border=\"1\" class=\"dataframe\">\n  <thead>\n    <tr style=\"text-align: right;\">\n      <th></th>\n      <th>total_cnt</th>\n    </tr>\n    <tr>\n      <th>sbpr</th>\n      <th></th>\n    </tr>\n  </thead>\n  <tbody>\n    <tr>\n      <th>15.000051</th>\n      <td>44</td>\n    </tr>\n    <tr>\n      <th>15.000090</th>\n      <td>139</td>\n    </tr>\n    <tr>\n      <th>15.000480</th>\n      <td>1998</td>\n    </tr>\n    <tr>\n      <th>15.000753</th>\n      <td>1</td>\n    </tr>\n    <tr>\n      <th>15.001221</th>\n      <td>1</td>\n    </tr>\n  </tbody>\n</table>\n</div>"
     },
     "execution_count": 67,
     "metadata": {},
     "output_type": "execute_result"
    }
   ],
   "source": [
    "df_all_bres = pd.DataFrame(df_matters.groupby(['sbpr'])['sbpr'].count())\n",
    "df_all_bres=df_all_bres.rename(columns={\"sbpr\":\"total_cnt\"})\n",
    "df_all_bres.head()"
   ],
   "metadata": {
    "collapsed": false,
    "ExecuteTime": {
     "end_time": "2024-06-02T21:18:04.158154Z",
     "start_time": "2024-06-02T21:18:03.711178Z"
    }
   },
   "id": "f887f025007d8078",
   "execution_count": 67
  },
  {
   "cell_type": "code",
   "outputs": [],
   "source": [
    "df_all_om = pd.DataFrame(df_matters[df_matters.data==True].groupby(['sbpr'])['sbpr'].count())"
   ],
   "metadata": {
    "collapsed": false,
    "ExecuteTime": {
     "end_time": "2024-06-02T21:20:30.639456Z",
     "start_time": "2024-06-02T21:20:29.999060Z"
    }
   },
   "id": "14d86c9ec60ba814",
   "execution_count": 69
  },
  {
   "cell_type": "code",
   "outputs": [
    {
     "data": {
      "text/plain": "           om_cnt\nsbpr             \n15.000051      19\n15.000090      70\n15.000480     906\n15.003951       8\n15.004497       1",
      "text/html": "<div>\n<style scoped>\n    .dataframe tbody tr th:only-of-type {\n        vertical-align: middle;\n    }\n\n    .dataframe tbody tr th {\n        vertical-align: top;\n    }\n\n    .dataframe thead th {\n        text-align: right;\n    }\n</style>\n<table border=\"1\" class=\"dataframe\">\n  <thead>\n    <tr style=\"text-align: right;\">\n      <th></th>\n      <th>om_cnt</th>\n    </tr>\n    <tr>\n      <th>sbpr</th>\n      <th></th>\n    </tr>\n  </thead>\n  <tbody>\n    <tr>\n      <th>15.000051</th>\n      <td>19</td>\n    </tr>\n    <tr>\n      <th>15.000090</th>\n      <td>70</td>\n    </tr>\n    <tr>\n      <th>15.000480</th>\n      <td>906</td>\n    </tr>\n    <tr>\n      <th>15.003951</th>\n      <td>8</td>\n    </tr>\n    <tr>\n      <th>15.004497</th>\n      <td>1</td>\n    </tr>\n  </tbody>\n</table>\n</div>"
     },
     "execution_count": 70,
     "metadata": {},
     "output_type": "execute_result"
    }
   ],
   "source": [
    "df_all_om=df_all_om.rename(columns={\"sbpr\":\"om_cnt\"})\n",
    "df_all_om.head()"
   ],
   "metadata": {
    "collapsed": false,
    "ExecuteTime": {
     "end_time": "2024-06-02T21:21:25.081389Z",
     "start_time": "2024-06-02T21:21:24.879657Z"
    }
   },
   "id": "ed4ae66bc32f30a8",
   "execution_count": 70
  },
  {
   "cell_type": "code",
   "outputs": [],
   "source": [
    "prob_1 = df_all_om.join(df_all_bres, on='sbpr', how=\"left\")"
   ],
   "metadata": {
    "collapsed": false,
    "ExecuteTime": {
     "end_time": "2024-06-02T21:24:21.074346Z",
     "start_time": "2024-06-02T21:24:20.871775Z"
    }
   },
   "id": "1d78faa99ce69803",
   "execution_count": 71
  },
  {
   "cell_type": "code",
   "outputs": [
    {
     "data": {
      "text/plain": "           om_cnt  total_cnt\nsbpr                        \n15.000051      19         44\n15.000090      70        139\n15.000480     906       1998\n15.003951       8         13\n15.004497       1          1",
      "text/html": "<div>\n<style scoped>\n    .dataframe tbody tr th:only-of-type {\n        vertical-align: middle;\n    }\n\n    .dataframe tbody tr th {\n        vertical-align: top;\n    }\n\n    .dataframe thead th {\n        text-align: right;\n    }\n</style>\n<table border=\"1\" class=\"dataframe\">\n  <thead>\n    <tr style=\"text-align: right;\">\n      <th></th>\n      <th>om_cnt</th>\n      <th>total_cnt</th>\n    </tr>\n    <tr>\n      <th>sbpr</th>\n      <th></th>\n      <th></th>\n    </tr>\n  </thead>\n  <tbody>\n    <tr>\n      <th>15.000051</th>\n      <td>19</td>\n      <td>44</td>\n    </tr>\n    <tr>\n      <th>15.000090</th>\n      <td>70</td>\n      <td>139</td>\n    </tr>\n    <tr>\n      <th>15.000480</th>\n      <td>906</td>\n      <td>1998</td>\n    </tr>\n    <tr>\n      <th>15.003951</th>\n      <td>8</td>\n      <td>13</td>\n    </tr>\n    <tr>\n      <th>15.004497</th>\n      <td>1</td>\n      <td>1</td>\n    </tr>\n  </tbody>\n</table>\n</div>"
     },
     "execution_count": 74,
     "metadata": {},
     "output_type": "execute_result"
    }
   ],
   "source": [
    "prob_1.head()"
   ],
   "metadata": {
    "collapsed": false,
    "ExecuteTime": {
     "end_time": "2024-06-02T21:25:39.661517Z",
     "start_time": "2024-06-02T21:25:39.502338Z"
    }
   },
   "id": "942b1c134cf9be9b",
   "execution_count": 74
  },
  {
   "cell_type": "code",
   "outputs": [
    {
     "data": {
      "text/plain": "          om_cnt  total_cnt\nsbpr                       \n15.00009      70        139\n15.00048     906       1998\n15.01257      83        181\n15.02570      23         28\n15.04635      24         33",
      "text/html": "<div>\n<style scoped>\n    .dataframe tbody tr th:only-of-type {\n        vertical-align: middle;\n    }\n\n    .dataframe tbody tr th {\n        vertical-align: top;\n    }\n\n    .dataframe thead th {\n        text-align: right;\n    }\n</style>\n<table border=\"1\" class=\"dataframe\">\n  <thead>\n    <tr style=\"text-align: right;\">\n      <th></th>\n      <th>om_cnt</th>\n      <th>total_cnt</th>\n    </tr>\n    <tr>\n      <th>sbpr</th>\n      <th></th>\n      <th></th>\n    </tr>\n  </thead>\n  <tbody>\n    <tr>\n      <th>15.00009</th>\n      <td>70</td>\n      <td>139</td>\n    </tr>\n    <tr>\n      <th>15.00048</th>\n      <td>906</td>\n      <td>1998</td>\n    </tr>\n    <tr>\n      <th>15.01257</th>\n      <td>83</td>\n      <td>181</td>\n    </tr>\n    <tr>\n      <th>15.02570</th>\n      <td>23</td>\n      <td>28</td>\n    </tr>\n    <tr>\n      <th>15.04635</th>\n      <td>24</td>\n      <td>33</td>\n    </tr>\n  </tbody>\n</table>\n</div>"
     },
     "execution_count": 75,
     "metadata": {},
     "output_type": "execute_result"
    }
   ],
   "source": [
    "prob_2 = prob_1[prob_1.om_cnt>20]\n",
    "prob_2.head()"
   ],
   "metadata": {
    "collapsed": false,
    "ExecuteTime": {
     "end_time": "2024-06-02T21:26:40.017285Z",
     "start_time": "2024-06-02T21:26:39.870396Z"
    }
   },
   "id": "66ac51e37e101d29",
   "execution_count": 75
  },
  {
   "cell_type": "code",
   "outputs": [
    {
     "name": "stderr",
     "output_type": "stream",
     "text": [
      "/var/folders/kx/b_1b_kg17090wwlbwz4s8m940000gn/T/ipykernel_26582/1865371656.py:1: SettingWithCopyWarning: \n",
      "A value is trying to be set on a copy of a slice from a DataFrame.\n",
      "Try using .loc[row_indexer,col_indexer] = value instead\n",
      "\n",
      "See the caveats in the documentation: https://pandas.pydata.org/pandas-docs/stable/user_guide/indexing.html#returning-a-view-versus-a-copy\n",
      "  prob_2[\"prob_before\"] = prob_2.om_cnt/prob_2.total_cnt\n"
     ]
    }
   ],
   "source": [
    "prob_2[\"prob_before\"] = prob_2.om_cnt/prob_2.total_cnt"
   ],
   "metadata": {
    "collapsed": false,
    "ExecuteTime": {
     "end_time": "2024-06-02T21:28:54.380125Z",
     "start_time": "2024-06-02T21:28:54.145498Z"
    }
   },
   "id": "ca17ea54a3e8e126",
   "execution_count": 76
  },
  {
   "cell_type": "code",
   "outputs": [],
   "source": [
    "prob_2 = prob_2.reset_index()"
   ],
   "metadata": {
    "collapsed": false,
    "ExecuteTime": {
     "end_time": "2024-06-02T21:31:59.366831Z",
     "start_time": "2024-06-02T21:31:59.180459Z"
    }
   },
   "id": "40f36b5d581532a5",
   "execution_count": 81
  },
  {
   "cell_type": "code",
   "outputs": [
    {
     "data": {
      "text/plain": "     sbpr  om_cnt  total_cnt  prob_before\n51  20.25      38        119     0.319328",
      "text/html": "<div>\n<style scoped>\n    .dataframe tbody tr th:only-of-type {\n        vertical-align: middle;\n    }\n\n    .dataframe tbody tr th {\n        vertical-align: top;\n    }\n\n    .dataframe thead th {\n        text-align: right;\n    }\n</style>\n<table border=\"1\" class=\"dataframe\">\n  <thead>\n    <tr style=\"text-align: right;\">\n      <th></th>\n      <th>sbpr</th>\n      <th>om_cnt</th>\n      <th>total_cnt</th>\n      <th>prob_before</th>\n    </tr>\n  </thead>\n  <tbody>\n    <tr>\n      <th>51</th>\n      <td>20.25</td>\n      <td>38</td>\n      <td>119</td>\n      <td>0.319328</td>\n    </tr>\n  </tbody>\n</table>\n</div>"
     },
     "execution_count": 103,
     "metadata": {},
     "output_type": "execute_result"
    }
   ],
   "source": [
    "prob_2[-1:]"
   ],
   "metadata": {
    "collapsed": false,
    "ExecuteTime": {
     "end_time": "2024-06-02T22:27:29.360397Z",
     "start_time": "2024-06-02T22:27:29.153171Z"
    }
   },
   "id": "4f1189cc7692b030",
   "execution_count": 103
  },
  {
   "cell_type": "code",
   "outputs": [
    {
     "data": {
      "text/plain": "<Axes: title={'center': 'sflr = 15.0 vs prob before'}, xlabel='sbpr', ylabel='prob_before'>"
     },
     "execution_count": 82,
     "metadata": {},
     "output_type": "execute_result"
    },
    {
     "data": {
      "text/plain": "<Figure size 640x480 with 1 Axes>",
      "image/png": "[encoded data removed]"
     },
     "metadata": {},
     "output_type": "display_data"
    }
   ],
   "source": [
    "prob_2.plot(kind='scatter', x='sbpr', y='prob_before', color='r', title=f'sflr = 15.0 vs prob before')"
   ],
   "metadata": {
    "collapsed": false,
    "ExecuteTime": {
     "end_time": "2024-06-02T21:32:04.469147Z",
     "start_time": "2024-06-02T21:32:04.106335Z"
    }
   },
   "id": "b63abcd1ad2d6937",
   "execution_count": 82
  },
  {
   "cell_type": "code",
   "outputs": [],
   "source": [
    "df_clean = df_matters[df_matters.pred==False]\n"
   ],
   "metadata": {
    "collapsed": false,
    "ExecuteTime": {
     "end_time": "2024-06-02T21:40:43.993220Z",
     "start_time": "2024-06-02T21:40:43.835933Z"
    }
   },
   "id": "2083f86bd924d4bc",
   "execution_count": 83
  },
  {
   "cell_type": "code",
   "outputs": [
    {
     "data": {
      "text/plain": "           total_cnt\nsbpr                \n15.000051         25\n15.000090         83\n15.000480       1173\n15.001221          1\n15.001494          2",
      "text/html": "<div>\n<style scoped>\n    .dataframe tbody tr th:only-of-type {\n        vertical-align: middle;\n    }\n\n    .dataframe tbody tr th {\n        vertical-align: top;\n    }\n\n    .dataframe thead th {\n        text-align: right;\n    }\n</style>\n<table border=\"1\" class=\"dataframe\">\n  <thead>\n    <tr style=\"text-align: right;\">\n      <th></th>\n      <th>total_cnt</th>\n    </tr>\n    <tr>\n      <th>sbpr</th>\n      <th></th>\n    </tr>\n  </thead>\n  <tbody>\n    <tr>\n      <th>15.000051</th>\n      <td>25</td>\n    </tr>\n    <tr>\n      <th>15.000090</th>\n      <td>83</td>\n    </tr>\n    <tr>\n      <th>15.000480</th>\n      <td>1173</td>\n    </tr>\n    <tr>\n      <th>15.001221</th>\n      <td>1</td>\n    </tr>\n    <tr>\n      <th>15.001494</th>\n      <td>2</td>\n    </tr>\n  </tbody>\n</table>\n</div>"
     },
     "execution_count": 84,
     "metadata": {},
     "output_type": "execute_result"
    }
   ],
   "source": [
    "df_bres_after = pd.DataFrame(df_clean.groupby(['sbpr'])['sbpr'].count())\n",
    "df_bres_after=df_bres_after.rename(columns={\"sbpr\":\"total_cnt\"})\n",
    "df_bres_after.head()"
   ],
   "metadata": {
    "collapsed": false,
    "ExecuteTime": {
     "end_time": "2024-06-02T21:42:17.866562Z",
     "start_time": "2024-06-02T21:42:17.683217Z"
    }
   },
   "id": "105618c08999682e",
   "execution_count": 84
  },
  {
   "cell_type": "code",
   "outputs": [],
   "source": [
    "df_om_after = pd.DataFrame(df_clean[df_clean.data==True].groupby(['sbpr'])['sbpr'].count())"
   ],
   "metadata": {
    "collapsed": false,
    "ExecuteTime": {
     "end_time": "2024-06-02T21:43:23.605044Z",
     "start_time": "2024-06-02T21:43:23.372303Z"
    }
   },
   "id": "854838ec3e66af38",
   "execution_count": 85
  },
  {
   "cell_type": "code",
   "outputs": [],
   "source": [
    "df_om_after = df_om_after.rename(columns={\"sbpr\":\"om_cnt\"})"
   ],
   "metadata": {
    "collapsed": false,
    "ExecuteTime": {
     "end_time": "2024-06-02T21:46:17.529370Z",
     "start_time": "2024-06-02T21:46:17.284934Z"
    }
   },
   "id": "15ab483e80cfebf3",
   "execution_count": 88
  },
  {
   "cell_type": "code",
   "outputs": [
    {
     "data": {
      "text/plain": "           om_cnt  total_cnt\nsbpr                        \n15.000051       8         25\n15.000090      38         83\n15.000480     433       1173\n15.003951       5          8\n15.009528       1          1",
      "text/html": "<div>\n<style scoped>\n    .dataframe tbody tr th:only-of-type {\n        vertical-align: middle;\n    }\n\n    .dataframe tbody tr th {\n        vertical-align: top;\n    }\n\n    .dataframe thead th {\n        text-align: right;\n    }\n</style>\n<table border=\"1\" class=\"dataframe\">\n  <thead>\n    <tr style=\"text-align: right;\">\n      <th></th>\n      <th>om_cnt</th>\n      <th>total_cnt</th>\n    </tr>\n    <tr>\n      <th>sbpr</th>\n      <th></th>\n      <th></th>\n    </tr>\n  </thead>\n  <tbody>\n    <tr>\n      <th>15.000051</th>\n      <td>8</td>\n      <td>25</td>\n    </tr>\n    <tr>\n      <th>15.000090</th>\n      <td>38</td>\n      <td>83</td>\n    </tr>\n    <tr>\n      <th>15.000480</th>\n      <td>433</td>\n      <td>1173</td>\n    </tr>\n    <tr>\n      <th>15.003951</th>\n      <td>5</td>\n      <td>8</td>\n    </tr>\n    <tr>\n      <th>15.009528</th>\n      <td>1</td>\n      <td>1</td>\n    </tr>\n  </tbody>\n</table>\n</div>"
     },
     "execution_count": 89,
     "metadata": {},
     "output_type": "execute_result"
    }
   ],
   "source": [
    "prob_1_after = df_om_after.join(df_bres_after, on='sbpr', how=\"left\")\n",
    "prob_1_after.head()"
   ],
   "metadata": {
    "collapsed": false,
    "ExecuteTime": {
     "end_time": "2024-06-02T21:46:21.536006Z",
     "start_time": "2024-06-02T21:46:21.326436Z"
    }
   },
   "id": "71036970b326a3e4",
   "execution_count": 89
  },
  {
   "cell_type": "code",
   "outputs": [
    {
     "data": {
      "text/plain": "          om_cnt  total_cnt\nsbpr                       \n15.00009      38         83\n15.00048     433       1173\n15.01257      23         89\n15.10000   24880      72981\n15.17250     298       1409",
      "text/html": "<div>\n<style scoped>\n    .dataframe tbody tr th:only-of-type {\n        vertical-align: middle;\n    }\n\n    .dataframe tbody tr th {\n        vertical-align: top;\n    }\n\n    .dataframe thead th {\n        text-align: right;\n    }\n</style>\n<table border=\"1\" class=\"dataframe\">\n  <thead>\n    <tr style=\"text-align: right;\">\n      <th></th>\n      <th>om_cnt</th>\n      <th>total_cnt</th>\n    </tr>\n    <tr>\n      <th>sbpr</th>\n      <th></th>\n      <th></th>\n    </tr>\n  </thead>\n  <tbody>\n    <tr>\n      <th>15.00009</th>\n      <td>38</td>\n      <td>83</td>\n    </tr>\n    <tr>\n      <th>15.00048</th>\n      <td>433</td>\n      <td>1173</td>\n    </tr>\n    <tr>\n      <th>15.01257</th>\n      <td>23</td>\n      <td>89</td>\n    </tr>\n    <tr>\n      <th>15.10000</th>\n      <td>24880</td>\n      <td>72981</td>\n    </tr>\n    <tr>\n      <th>15.17250</th>\n      <td>298</td>\n      <td>1409</td>\n    </tr>\n  </tbody>\n</table>\n</div>"
     },
     "execution_count": 90,
     "metadata": {},
     "output_type": "execute_result"
    }
   ],
   "source": [
    "prob_2_after = prob_1_after[prob_1_after.om_cnt>20]\n",
    "prob_2_after.head()"
   ],
   "metadata": {
    "collapsed": false,
    "ExecuteTime": {
     "end_time": "2024-06-02T21:47:06.275930Z",
     "start_time": "2024-06-02T21:47:06.021731Z"
    }
   },
   "id": "bc63080e41ba1c06",
   "execution_count": 90
  },
  {
   "cell_type": "code",
   "outputs": [
    {
     "name": "stderr",
     "output_type": "stream",
     "text": [
      "/var/folders/kx/b_1b_kg17090wwlbwz4s8m940000gn/T/ipykernel_26582/1985792403.py:1: SettingWithCopyWarning: \n",
      "A value is trying to be set on a copy of a slice from a DataFrame.\n",
      "Try using .loc[row_indexer,col_indexer] = value instead\n",
      "\n",
      "See the caveats in the documentation: https://pandas.pydata.org/pandas-docs/stable/user_guide/indexing.html#returning-a-view-versus-a-copy\n",
      "  prob_2_after[\"prob_after\"] = prob_2_after.om_cnt/prob_2_after.total_cnt\n"
     ]
    }
   ],
   "source": [
    "prob_2_after[\"prob_after\"] = prob_2_after.om_cnt/prob_2_after.total_cnt"
   ],
   "metadata": {
    "collapsed": false,
    "ExecuteTime": {
     "end_time": "2024-06-02T21:47:56.769802Z",
     "start_time": "2024-06-02T21:47:56.588394Z"
    }
   },
   "id": "37fd8d827ad2bdd3",
   "execution_count": 91
  },
  {
   "cell_type": "code",
   "outputs": [],
   "source": [
    "prob_2_after = prob_2_after.reset_index()"
   ],
   "metadata": {
    "collapsed": false,
    "ExecuteTime": {
     "end_time": "2024-06-02T21:48:31.278894Z",
     "start_time": "2024-06-02T21:48:31.087733Z"
    }
   },
   "id": "d66b66009b3d15bb",
   "execution_count": 92
  },
  {
   "cell_type": "code",
   "outputs": [
    {
     "data": {
      "text/plain": "<Axes: title={'center': 'sflr = 15.0 vs prob after'}, xlabel='sbpr', ylabel='prob_after'>"
     },
     "execution_count": 93,
     "metadata": {},
     "output_type": "execute_result"
    },
    {
     "data": {
      "text/plain": "<Figure size 640x480 with 1 Axes>",
      "image/png": "[encoded data removed]"
     },
     "metadata": {},
     "output_type": "display_data"
    }
   ],
   "source": [
    "prob_2_after.plot(kind='scatter', x='sbpr', y='prob_after', color='g', title=f'sflr = 15.0 vs prob after')"
   ],
   "metadata": {
    "collapsed": false,
    "ExecuteTime": {
     "end_time": "2024-06-02T21:49:12.868773Z",
     "start_time": "2024-06-02T21:49:12.604752Z"
    }
   },
   "id": "715dc855f78814c1",
   "execution_count": 93
  },
  {
   "cell_type": "code",
   "outputs": [
    {
     "data": {
      "text/plain": "<Figure size 640x480 with 1 Axes>",
      "image/png": "[encoded data removed]"
     },
     "metadata": {},
     "output_type": "display_data"
    }
   ],
   "source": [
    "ax = prob_2_after.plot(kind='scatter', x='sbpr', y='prob_after', color='g') #, title=f'sflr = 15.0 vs prob after'\n",
    "ax = prob_2.plot(ax=ax, kind='scatter', x='sbpr', y='prob_before', color='r', title=f'sflr = 15.0; prob before (in red) and after (in green) classification')\n",
    "ax.set_ylabel(\"Probability\")\n",
    "plt.savefig(\"prob.png\")"
   ],
   "metadata": {
    "collapsed": false,
    "ExecuteTime": {
     "end_time": "2024-06-02T22:18:03.144366Z",
     "start_time": "2024-06-02T22:18:02.660080Z"
    }
   },
   "id": "18c42abed290fede",
   "execution_count": 101
  },
  {
   "cell_type": "code",
   "outputs": [
    {
     "data": {
      "text/plain": "          om_cnt  total_cnt\nsbpr                       \n15.00009      38         83\n15.00048     433       1173\n15.10000   24880      72981\n15.17250     298       1409\n15.30000    3768      12896",
      "text/html": "<div>\n<style scoped>\n    .dataframe tbody tr th:only-of-type {\n        vertical-align: middle;\n    }\n\n    .dataframe tbody tr th {\n        vertical-align: top;\n    }\n\n    .dataframe thead th {\n        text-align: right;\n    }\n</style>\n<table border=\"1\" class=\"dataframe\">\n  <thead>\n    <tr style=\"text-align: right;\">\n      <th></th>\n      <th>om_cnt</th>\n      <th>total_cnt</th>\n    </tr>\n    <tr>\n      <th>sbpr</th>\n      <th></th>\n      <th></th>\n    </tr>\n  </thead>\n  <tbody>\n    <tr>\n      <th>15.00009</th>\n      <td>38</td>\n      <td>83</td>\n    </tr>\n    <tr>\n      <th>15.00048</th>\n      <td>433</td>\n      <td>1173</td>\n    </tr>\n    <tr>\n      <th>15.10000</th>\n      <td>24880</td>\n      <td>72981</td>\n    </tr>\n    <tr>\n      <th>15.17250</th>\n      <td>298</td>\n      <td>1409</td>\n    </tr>\n    <tr>\n      <th>15.30000</th>\n      <td>3768</td>\n      <td>12896</td>\n    </tr>\n  </tbody>\n</table>\n</div>"
     },
     "execution_count": 138,
     "metadata": {},
     "output_type": "execute_result"
    }
   ],
   "source": [
    "prob_3_after = prob_1_after[prob_1_after.om_cnt>30]\n",
    "prob_3_after.head()"
   ],
   "metadata": {
    "collapsed": false,
    "ExecuteTime": {
     "end_time": "2024-06-07T20:56:22.571434Z",
     "start_time": "2024-06-07T20:56:22.170776Z"
    }
   },
   "id": "5e3db442fef4e8a7",
   "execution_count": 138
  },
  {
   "cell_type": "code",
   "outputs": [],
   "source": [
    "def prob(row):\n",
    "    return row.om_cnt/row.total_cnt"
   ],
   "metadata": {
    "collapsed": false,
    "ExecuteTime": {
     "end_time": "2024-06-03T09:06:42.049503Z",
     "start_time": "2024-06-03T09:06:41.845207Z"
    }
   },
   "id": "10a3c45bb5e965cd",
   "execution_count": 106
  },
  {
   "cell_type": "code",
   "outputs": [
    {
     "name": "stderr",
     "output_type": "stream",
     "text": [
      "/var/folders/kx/b_1b_kg17090wwlbwz4s8m940000gn/T/ipykernel_26582/2956944785.py:1: SettingWithCopyWarning: \n",
      "A value is trying to be set on a copy of a slice from a DataFrame.\n",
      "Try using .loc[row_indexer,col_indexer] = value instead\n",
      "\n",
      "See the caveats in the documentation: https://pandas.pydata.org/pandas-docs/stable/user_guide/indexing.html#returning-a-view-versus-a-copy\n",
      "  prob_3_after[\"prob\"]= prob_3_after.apply(prob, axis=1, result_type='expand')\n"
     ]
    }
   ],
   "source": [
    "prob_3_after[\"prob\"]= prob_3_after.apply(prob, axis=1, result_type='expand')"
   ],
   "metadata": {
    "collapsed": false,
    "ExecuteTime": {
     "end_time": "2024-06-07T20:56:30.026571Z",
     "start_time": "2024-06-07T20:56:29.664790Z"
    }
   },
   "id": "dcb17481603cf411",
   "execution_count": 139
  },
  {
   "cell_type": "code",
   "outputs": [],
   "source": [
    "prob_3_after = prob_3_after.reset_index()"
   ],
   "metadata": {
    "collapsed": false,
    "ExecuteTime": {
     "end_time": "2024-06-07T20:56:36.895116Z",
     "start_time": "2024-06-07T20:56:36.693203Z"
    }
   },
   "id": "b3b7403b033dc565",
   "execution_count": 140
  },
  {
   "cell_type": "code",
   "outputs": [],
   "source": [
    "proba = prob_3_after.prob"
   ],
   "metadata": {
    "collapsed": false,
    "ExecuteTime": {
     "end_time": "2024-06-07T20:56:39.181668Z",
     "start_time": "2024-06-07T20:56:38.980961Z"
    }
   },
   "id": "fbece272b1b9d399",
   "execution_count": 141
  },
  {
   "cell_type": "code",
   "outputs": [
    {
     "data": {
      "text/plain": "<Axes: title={'center': 'sflr = 15.0 vs prob after'}, xlabel='sbpr', ylabel='prob'>"
     },
     "execution_count": 142,
     "metadata": {},
     "output_type": "execute_result"
    },
    {
     "data": {
      "text/plain": "<Figure size 640x480 with 1 Axes>",
      "image/png": "[encoded data removed]"
     },
     "metadata": {},
     "output_type": "display_data"
    }
   ],
   "source": [
    "prob_3_after.plot(kind='scatter', x='sbpr', y='prob', color='g', s = proba*100 , title=f'sflr = 15.0 vs prob after')"
   ],
   "metadata": {
    "collapsed": false,
    "ExecuteTime": {
     "end_time": "2024-06-07T20:56:42.657649Z",
     "start_time": "2024-06-07T20:56:42.250033Z"
    }
   },
   "id": "30a14bdcdc6d7b5f",
   "execution_count": 142
  },
  {
   "cell_type": "code",
   "outputs": [],
   "source": [],
   "metadata": {
    "collapsed": false
   },
   "id": "aba632c36ff10cb2"
  }
 ],
 "metadata": {
  "kernelspec": {
   "display_name": "Python 3",
   "language": "python",
   "name": "python3"
  },
  "language_info": {
   "codemirror_mode": {
    "name": "ipython",
    "version": 2
   },
   "file_extension": ".py",
   "mimetype": "text/x-python",
   "name": "python",
   "nbconvert_exporter": "python",
   "pygments_lexer": "ipython2",
   "version": "2.7.6"
  }
 },
 "nbformat": 4,
 "nbformat_minor": 5
}
