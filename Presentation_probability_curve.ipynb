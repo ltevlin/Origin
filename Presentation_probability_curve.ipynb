{
 "cells": [
  {
   "cell_type": "code",
   "execution_count": 1,
   "id": "initial_id",
   "metadata": {
    "collapsed": true,
    "ExecuteTime": {
     "end_time": "2024-08-27T08:54:27.490982Z",
     "start_time": "2024-08-27T08:54:21.797900Z"
    }
   },
   "outputs": [
    {
     "name": "stderr",
     "output_type": "stream",
     "text": [
      "2024-08-27 10:54:24.372632: I tensorflow/core/platform/cpu_feature_guard.cc:210] This TensorFlow binary is optimized to use available CPU instructions in performance-critical operations.\n",
      "To enable the following instructions: AVX2 FMA, in other operations, rebuild TensorFlow with the appropriate compiler flags.\n"
     ]
    }
   ],
   "source": [
    "import pandas as pd\n",
    "import numpy as np\n",
    "import json\n",
    "import dask.bag as db\n",
    "import dask.dataframe as dd\n",
    "import tensorflow as tf\n",
    "#import seaborn as sns\n",
    "import matplotlib.pyplot as plt\n",
    "from sklearn.model_selection import train_test_split\n",
    "from sklearn.preprocessing import LabelEncoder, StandardScaler\n",
    "from sklearn.tree import DecisionTreeClassifier\n",
    "from sklearn.metrics import accuracy_score"
   ]
  },
  {
   "cell_type": "markdown",
   "source": [
    "# Table of Contents\n",
    "[Step 0](#part0) The statement of the problem <br>\n",
    "[Step 1](#part1) From bres select impressions with sflr == 15 <br>\n",
    "[Step 2](#part2) Extract relevant fields from the raw bres  with sflr == 15: resulting file 'processed_bres_15_date.pkl' <br>\n",
    "[Step 3](#part3) Extract relevant fields form om file. Mark those impressions in bres that are in om with Y or N depending on whether the bid was successful or not <br>\n",
    "[Step 4](#part4) Plot the data, zero in on the floor price bids  <br>\n",
    "[Step 5](#part5) Clean the resulting dataframe\n",
    "    a. convert time to hourly slots\n",
    "    b. cleanup the text /categories in the columns <br>\n",
    "[Step 6](#part6) Split the dataframe into two:  sbpr = 15 and sbpr != 15 <br>\n",
    "[Step 7](#part7). Use sbpr = 15 for classification. <br>\n",
    "[Step 8](#part8) Based on the model in Step 6 predict which impressions should not be in sbpr != 15 dataframe. Eliminate those from the dataframe <br>\n",
    "[Step 9](#part9) Plot the learned probability."
   ],
   "metadata": {
    "collapsed": false
   },
   "id": "bc736e1dfcfb377b"
  },
  {
   "cell_type": "code",
   "outputs": [],
   "source": [],
   "metadata": {
    "collapsed": false
   },
   "id": "93cf517da98c6093"
  }
 ],
 "metadata": {
  "kernelspec": {
   "display_name": "Python 3",
   "language": "python",
   "name": "python3"
  },
  "language_info": {
   "codemirror_mode": {
    "name": "ipython",
    "version": 2
   },
   "file_extension": ".py",
   "mimetype": "text/x-python",
   "name": "python",
   "nbconvert_exporter": "python",
   "pygments_lexer": "ipython2",
   "version": "2.7.6"
  }
 },
 "nbformat": 4,
 "nbformat_minor": 5
}
