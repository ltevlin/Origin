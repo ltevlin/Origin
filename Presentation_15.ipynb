{
 "cells": [
  {
   "cell_type": "code",
   "execution_count": 1,
   "id": "initial_id",
   "metadata": {
    "collapsed": true,
    "ExecuteTime": {
     "end_time": "2024-07-24T09:27:52.862117Z",
     "start_time": "2024-07-24T09:27:46.193639Z"
    }
   },
   "outputs": [
    {
     "name": "stderr",
     "output_type": "stream",
     "text": [
      "2024-07-24 11:27:49.529754: I tensorflow/core/platform/cpu_feature_guard.cc:210] This TensorFlow binary is optimized to use available CPU instructions in performance-critical operations.\n",
      "To enable the following instructions: AVX2 FMA, in other operations, rebuild TensorFlow with the appropriate compiler flags.\n"
     ]
    }
   ],
   "source": [
    "import pandas as pd\n",
    "import numpy as np\n",
    "import json\n",
    "import dask.bag as db\n",
    "import dask.dataframe as dd\n",
    "import tensorflow as tf\n",
    "#import seaborn as sns\n",
    "import matplotlib.pyplot as plt\n",
    "from sklearn.model_selection import train_test_split\n",
    "from sklearn.preprocessing import LabelEncoder, StandardScaler\n",
    "from sklearn.tree import DecisionTreeClassifier\n",
    "from sklearn.metrics import accuracy_score"
   ]
  },
  {
   "cell_type": "markdown",
   "source": [
    "# Table of Contents\n",
    "[Step 0](#part0) The statement of the problem <br>\n",
    "[Step 1](#part1) From bres select impressions with sflr == 15 <br>\n",
    "[Step 2](#part2) Extract relevant fields from the raw bres  with sflr == 15: resulting file 'processed_bres_15_date.pkl' <br>\n",
    "[Step 3](#part3) Extract relevant fields form om file. Mark those impressions in bres that are in om with Y or N depending on whether the bid was successful or not <br>\n",
    "[Step 4](#part4) Plot the data, zero in on the  <br>\n",
    "[Step 5](#part5) Clean the resulting dataframe\n",
    "    a. convert time to hourly slots\n",
    "    b. cleanup the text /categories in the columns <br>\n",
    "[Step 6](#part6) Split the dataframe into two:  sbpr = 15 and sbpr != 15 <br>\n",
    "[Step 7](#part7). Use sbpr = 15 for classification. <br>\n",
    "[Step 8](#part8) Based on the model in Step 6 predict which impressions should not be in sbpr != 15 dataframe. Eliminate those from the dataframe <br>\n",
    "[Step 9](#part9) Plot the learned probability."
   ],
   "metadata": {
    "collapsed": false
   },
   "id": "ad520ae9c69719c4"
  },
  {
   "cell_type": "markdown",
   "source": [
    "Step 0: The statement of the problem. <br>\n",
    "<a id=\"part2\"></a>\n"
   ],
   "metadata": {
    "collapsed": false
   },
   "id": "a9222dfe20151f5a"
  },
  {
   "cell_type": "markdown",
   "source": [
    "The problem comes from the world of real-time bidding in advertising. To simplify for the purposes of this short POC, a platform submits bids for ads, following some strategy. Some of these bids get accepted and the question is how to optimize the strategy. \n",
    "More specifically, each add is injected with a floor price 'sflr' and the platform places bids at prices 'sbpr' $>=$ 'sflr'. In the ideal world one expects the probability of the bid being accepted to be a monotonically increasing function the bid price 'sbpr'. \n",
    "However, as the plot below shows this is totally not the case. In this example I'm displaying the probability for a single 'sflr'$=$15.0 for one day."
   ],
   "metadata": {
    "collapsed": false
   },
   "id": "791f571a86ca0c6e"
  },
  {
   "cell_type": "markdown",
   "source": [
    "Step 1: Extraction of data from the submitted bids 'bres' and accepted bids 'om' files."
   ],
   "metadata": {
    "collapsed": false
   },
   "id": "d469b509fd0b6443"
  },
  {
   "cell_type": "markdown",
   "source": [
    "Start with the submitted bids, will take the data for one, and only one floor price 'sflr' $=$ 15"
   ],
   "metadata": {
    "collapsed": false
   },
   "id": "ad5b25ddc26de5f2"
  },
  {
   "cell_type": "code",
   "outputs": [],
   "source": [
    "df_0409 = dd.read_json('bres_0409.json', blocksize=\"128 MiB\", lines=True) # load the json file"
   ],
   "metadata": {
    "collapsed": false,
    "ExecuteTime": {
     "end_time": "2024-07-24T10:21:23.654520Z",
     "start_time": "2024-07-24T10:21:22.547450Z"
    }
   },
   "id": "1a150721fe97554f",
   "execution_count": 3
  },
  {
   "cell_type": "code",
   "outputs": [
    {
     "data": {
      "text/plain": "  level demand_partner  opn       dbpr       sbpr  dflr  sflr  publisher_id  \\\n0  info      freewheel  1.1   2.250924   2.125462   2.1   2.0      18000792   \n1  info      freewheel  1.4   2.325414   2.000000   2.1   2.0      18000792   \n2  info           wurl  1.4  12.000000  10.000000  10.5  10.0        109759   \n3  info      bidswitch  3.4  17.112000  16.000000  18.4  16.0      94372221   \n4  info           wurl  2.4  12.000000  10.000000  11.0  10.0        109759   \n\n  kgrp                                         bidrequest  \\\n0    c  {\"id\":\"b97c3bdb-cd9d-439e-8562-4ccd52245965\",\"...   \n1    t  {\"id\":\"1cbcb65d-1f4c-4f03-bdc6-8f92be484672\",\"...   \n2    c  {\"id\":\"78f06a03-ece8-4113-bdc5-e03d488bb32f\",\"...   \n3    t  {\"id\":\"coa8a05itjdcn86dc5g0\",\"imp\":[{\"id\":\"520...   \n4    t  {\"id\":\"b2106c3b-9688-47d9-9cdc-7c57a4446e54\",\"...   \n\n                                         bidresponse                  time  \\\n0  {'id': 'b97c3bdb-cd9d-439e-8562-4ccd52245965',...  2024-04-09T00:00:00Z   \n1  {'id': '1cbcb65d-1f4c-4f03-bdc6-8f92be484672',...  2024-04-09T00:00:00Z   \n2  {'id': '78f06a03-ece8-4113-bdc5-e03d488bb32f',...  2024-04-09T00:00:00Z   \n3  {'id': 'coa8a05itjdcn86dc5g0', 'seatbid': [{'b...  2024-04-09T00:00:00Z   \n4  {'id': 'b2106c3b-9688-47d9-9cdc-7c57a4446e54',...  2024-04-09T00:00:00Z   \n\n    message  \n0  response  \n1  response  \n2  response  \n3  response  \n4  response  ",
      "text/html": "<div>\n<style scoped>\n    .dataframe tbody tr th:only-of-type {\n        vertical-align: middle;\n    }\n\n    .dataframe tbody tr th {\n        vertical-align: top;\n    }\n\n    .dataframe thead th {\n        text-align: right;\n    }\n</style>\n<table border=\"1\" class=\"dataframe\">\n  <thead>\n    <tr style=\"text-align: right;\">\n      <th></th>\n      <th>level</th>\n      <th>demand_partner</th>\n      <th>opn</th>\n      <th>dbpr</th>\n      <th>sbpr</th>\n      <th>dflr</th>\n      <th>sflr</th>\n      <th>publisher_id</th>\n      <th>kgrp</th>\n      <th>bidrequest</th>\n      <th>bidresponse</th>\n      <th>time</th>\n      <th>message</th>\n    </tr>\n  </thead>\n  <tbody>\n    <tr>\n      <th>0</th>\n      <td>info</td>\n      <td>freewheel</td>\n      <td>1.1</td>\n      <td>2.250924</td>\n      <td>2.125462</td>\n      <td>2.1</td>\n      <td>2.0</td>\n      <td>18000792</td>\n      <td>c</td>\n      <td>{\"id\":\"b97c3bdb-cd9d-439e-8562-4ccd52245965\",\"...</td>\n      <td>{'id': 'b97c3bdb-cd9d-439e-8562-4ccd52245965',...</td>\n      <td>2024-04-09T00:00:00Z</td>\n      <td>response</td>\n    </tr>\n    <tr>\n      <th>1</th>\n      <td>info</td>\n      <td>freewheel</td>\n      <td>1.4</td>\n      <td>2.325414</td>\n      <td>2.000000</td>\n      <td>2.1</td>\n      <td>2.0</td>\n      <td>18000792</td>\n      <td>t</td>\n      <td>{\"id\":\"1cbcb65d-1f4c-4f03-bdc6-8f92be484672\",\"...</td>\n      <td>{'id': '1cbcb65d-1f4c-4f03-bdc6-8f92be484672',...</td>\n      <td>2024-04-09T00:00:00Z</td>\n      <td>response</td>\n    </tr>\n    <tr>\n      <th>2</th>\n      <td>info</td>\n      <td>wurl</td>\n      <td>1.4</td>\n      <td>12.000000</td>\n      <td>10.000000</td>\n      <td>10.5</td>\n      <td>10.0</td>\n      <td>109759</td>\n      <td>c</td>\n      <td>{\"id\":\"78f06a03-ece8-4113-bdc5-e03d488bb32f\",\"...</td>\n      <td>{'id': '78f06a03-ece8-4113-bdc5-e03d488bb32f',...</td>\n      <td>2024-04-09T00:00:00Z</td>\n      <td>response</td>\n    </tr>\n    <tr>\n      <th>3</th>\n      <td>info</td>\n      <td>bidswitch</td>\n      <td>3.4</td>\n      <td>17.112000</td>\n      <td>16.000000</td>\n      <td>18.4</td>\n      <td>16.0</td>\n      <td>94372221</td>\n      <td>t</td>\n      <td>{\"id\":\"coa8a05itjdcn86dc5g0\",\"imp\":[{\"id\":\"520...</td>\n      <td>{'id': 'coa8a05itjdcn86dc5g0', 'seatbid': [{'b...</td>\n      <td>2024-04-09T00:00:00Z</td>\n      <td>response</td>\n    </tr>\n    <tr>\n      <th>4</th>\n      <td>info</td>\n      <td>wurl</td>\n      <td>2.4</td>\n      <td>12.000000</td>\n      <td>10.000000</td>\n      <td>11.0</td>\n      <td>10.0</td>\n      <td>109759</td>\n      <td>t</td>\n      <td>{\"id\":\"b2106c3b-9688-47d9-9cdc-7c57a4446e54\",\"...</td>\n      <td>{'id': 'b2106c3b-9688-47d9-9cdc-7c57a4446e54',...</td>\n      <td>2024-04-09T00:00:00Z</td>\n      <td>response</td>\n    </tr>\n  </tbody>\n</table>\n</div>"
     },
     "execution_count": 8,
     "metadata": {},
     "output_type": "execute_result"
    }
   ],
   "source": [
    "df_0409.head() # take a look"
   ],
   "metadata": {
    "collapsed": false,
    "ExecuteTime": {
     "end_time": "2024-07-24T11:27:03.796672Z",
     "start_time": "2024-07-24T11:27:00.485216Z"
    }
   },
   "id": "9dbac1cb4d9fbd73",
   "execution_count": 8
  },
  {
   "cell_type": "code",
   "outputs": [],
   "source": [
    "df1_0409 = df_0409.drop(['level', 'demand_partner', 'opn', 'dbpr', 'dflr', 'kgrp', 'message','bidresponse'], axis=1)\n",
    "df_raw0409_15 = df1_0409[df1_0409['sflr']== 15.0].drop(['sflr'], axis=1).reset_index(drop=True) # drop redundant fields"
   ],
   "metadata": {
    "collapsed": false,
    "ExecuteTime": {
     "end_time": "2024-07-24T11:27:27.126120Z",
     "start_time": "2024-07-24T11:27:27.076069Z"
    }
   },
   "id": "8fe8e2f0f684e591",
   "execution_count": 9
  },
  {
   "cell_type": "code",
   "outputs": [],
   "source": [
    "df_raw0409_15  = df_raw0409_15.compute()"
   ],
   "metadata": {
    "collapsed": false,
    "ExecuteTime": {
     "end_time": "2024-07-24T13:19:10.613622Z",
     "start_time": "2024-07-24T12:41:11.537266Z"
    }
   },
   "id": "6d287c326d4d2a55",
   "execution_count": 25
  },
  {
   "cell_type": "code",
   "outputs": [
    {
     "data": {
      "text/plain": "   sbpr  publisher_id                                         bidrequest  \\\n0  15.0        650003  {\"id\":\"51821639-48a2-447b-b5de-aee0beb878bd\",\"...   \n1  15.0        650003  {\"id\":\"5aa54938-a3a7-447b-b6cf-14b43764f8e3\",\"...   \n2  15.0        650003  {\"id\":\"37b89a1e-e9e3-4697-a7f9-e20f0906fd30\",\"...   \n3  16.5        650003  {\"id\":\"ee6d522b-838e-4ecd-bb10-71637c4b0505\",\"...   \n4  15.0        650003  {\"id\":\"97253b20-00e5-445c-90c0-8cdf19da12c6\",\"...   \n\n                   time  \n0  2024-04-09T00:00:01Z  \n1  2024-04-09T00:00:01Z  \n2  2024-04-09T00:00:02Z  \n3  2024-04-09T00:00:03Z  \n4  2024-04-09T00:00:03Z  ",
      "text/html": "<div>\n<style scoped>\n    .dataframe tbody tr th:only-of-type {\n        vertical-align: middle;\n    }\n\n    .dataframe tbody tr th {\n        vertical-align: top;\n    }\n\n    .dataframe thead th {\n        text-align: right;\n    }\n</style>\n<table border=\"1\" class=\"dataframe\">\n  <thead>\n    <tr style=\"text-align: right;\">\n      <th></th>\n      <th>sbpr</th>\n      <th>publisher_id</th>\n      <th>bidrequest</th>\n      <th>time</th>\n    </tr>\n  </thead>\n  <tbody>\n    <tr>\n      <th>0</th>\n      <td>15.0</td>\n      <td>650003</td>\n      <td>{\"id\":\"51821639-48a2-447b-b5de-aee0beb878bd\",\"...</td>\n      <td>2024-04-09T00:00:01Z</td>\n    </tr>\n    <tr>\n      <th>1</th>\n      <td>15.0</td>\n      <td>650003</td>\n      <td>{\"id\":\"5aa54938-a3a7-447b-b6cf-14b43764f8e3\",\"...</td>\n      <td>2024-04-09T00:00:01Z</td>\n    </tr>\n    <tr>\n      <th>2</th>\n      <td>15.0</td>\n      <td>650003</td>\n      <td>{\"id\":\"37b89a1e-e9e3-4697-a7f9-e20f0906fd30\",\"...</td>\n      <td>2024-04-09T00:00:02Z</td>\n    </tr>\n    <tr>\n      <th>3</th>\n      <td>16.5</td>\n      <td>650003</td>\n      <td>{\"id\":\"ee6d522b-838e-4ecd-bb10-71637c4b0505\",\"...</td>\n      <td>2024-04-09T00:00:03Z</td>\n    </tr>\n    <tr>\n      <th>4</th>\n      <td>15.0</td>\n      <td>650003</td>\n      <td>{\"id\":\"97253b20-00e5-445c-90c0-8cdf19da12c6\",\"...</td>\n      <td>2024-04-09T00:00:03Z</td>\n    </tr>\n  </tbody>\n</table>\n</div>"
     },
     "execution_count": 26,
     "metadata": {},
     "output_type": "execute_result"
    }
   ],
   "source": [
    "df_raw0409_15.head()"
   ],
   "metadata": {
    "collapsed": false,
    "ExecuteTime": {
     "end_time": "2024-07-24T13:28:02.602403Z",
     "start_time": "2024-07-24T13:28:02.106727Z"
    }
   },
   "id": "4e83ceda9744cf43",
   "execution_count": 26
  },
  {
   "cell_type": "code",
   "outputs": [],
   "source": [
    "def extract_features(df_raw):\n",
    "    \"\"\" extract features from bidreqeust column\"\"\"\n",
    "    list = []\n",
    "    for i in range(len(df_raw)):\n",
    "        d1 = {k:v for k,v in json.loads(df_raw.bidrequest.iloc[i]).items() if k not in ['source','at','tmax','user','regs']}\n",
    "        d2 = {}\n",
    "        d2['id'] = d1['id']\n",
    "        if 'minduration' in d1['imp'][0]['video'].keys():\n",
    "            d2['minduration'] = d1['imp'][0]['video']['minduration']\n",
    "        else: d2['minduration'] = np.nan\n",
    "        d2['maxduration'] = d1['imp'][0]['video']['maxduration']\n",
    "        d2['minbitrate']= d1['imp'][0]['video']['minbitrate']\n",
    "        d2['maxbitrate']= d1['imp'][0]['video']['maxbitrate']  \n",
    "        if 'app' in d1.keys():\n",
    "            if 'id' in d1['app'].keys():\n",
    "                d2['app_id'] = d1['app']['id']\n",
    "            else: d2['app_id'] = np.nan\n",
    "            if 'name' in d1['app'].keys():\n",
    "                d2['app_name'] = d1['app']['name']\n",
    "            else: d2['app_name'] = np.nan\n",
    "            if 'bundle' in d1['app'].keys():\n",
    "                d2['app_bundle'] = d1['app']['bundle']\n",
    "            else: d2['app_bundle'] = np.nan\n",
    "            d2['app_pub_id'] = d1['app']['publisher']['id']\n",
    "            if 'content' in d1['app'].keys():\n",
    "                if 'genre' in d1['app']['content'].keys():\n",
    "                    d2['genre'] = d1['app']['content']['genre']\n",
    "                else: d2['genre'] = np.nan\n",
    "                if 'language' in d1['app']['content'].keys():\n",
    "                    d2['language'] = d1['app']['content']['language']\n",
    "                else: d2['language'] = np.nan\n",
    "            else: d2['genre'] = d2['language'] = np.nan\n",
    "        else: d2['app_id'] = d2['app_bundle']= d2['app_pub_id'] = d2['genre'] = d2['language'] = np.nan\n",
    "        d2['device_make'] = d1['device']['make']\n",
    "        if 'model' in d1['device'].keys():\n",
    "            d2['device_model'] = d1['device']['model']\n",
    "        else: d2['device_model'] = np.nan\n",
    "        if 'os' in d1['device'].keys():\n",
    "            d2['device_os'] = d1['device']['os']\n",
    "        else: d2['device_os'] = np.nan\n",
    "        if 'language' in d1['device'].keys():\n",
    "            d2['device_language'] = d1['device']['language']\n",
    "        else: d2['device_language'] = np.nan\n",
    "        if 'geo' in d1['device'].keys() and 'region' in d1['device']['geo'].keys():\n",
    "            d2['geo_region'] = d1['device']['geo']['region']\n",
    "        else: d2['geo_region'] = np.nan\n",
    "        if 'geo' in d1['device'].keys() and 'metro' in d1['device']['geo'].keys():\n",
    "            d2['geo_metro'] = d1['device']['geo']['metro']\n",
    "        else: d2['geo_metro'] = np.nan\n",
    "        list.append(d2)\n",
    "    df_cl = pd.DataFrame(list)\n",
    "    return df_cl"
   ],
   "metadata": {
    "collapsed": false,
    "ExecuteTime": {
     "end_time": "2024-07-24T13:29:56.771682Z",
     "start_time": "2024-07-24T13:29:56.630269Z"
    }
   },
   "id": "8438acc062243869",
   "execution_count": 27
  },
  {
   "cell_type": "code",
   "outputs": [],
   "source": [
    "df_extr0409_15 = extract_features(df_raw0409_15)"
   ],
   "metadata": {
    "collapsed": false,
    "ExecuteTime": {
     "end_time": "2024-07-24T13:32:56.513352Z",
     "start_time": "2024-07-24T13:30:03.542084Z"
    }
   },
   "id": "9e7fe3550c4d29d8",
   "execution_count": 28
  },
  {
   "cell_type": "code",
   "outputs": [
    {
     "data": {
      "text/plain": "                                     id  minduration  maxduration  minbitrate  \\\n0  51821639-48a2-447b-b5de-aee0beb878bd            1          120           1   \n1  5aa54938-a3a7-447b-b6cf-14b43764f8e3            1          120           1   \n2  37b89a1e-e9e3-4697-a7f9-e20f0906fd30            1          120           1   \n3  ee6d522b-838e-4ecd-bb10-71637c4b0505            1           70           1   \n4  97253b20-00e5-445c-90c0-8cdf19da12c6            1           70           1   \n\n   maxbitrate  app_id                        app_name    app_bundle  \\\n0      280000  702131                            Plex  G15147002586   \n1      280000  711665  SLING: Live TV, Shows & Movies     com.sling   \n2      280000  726329                            Plex  G15147002586   \n3      280000  711667  fuboTV: Watch Live Sports & TV     905401434   \n4      280000  711667  fuboTV: Watch Live Sports & TV     905401434   \n\n  app_pub_id          genre language device_make        device_model  \\\n0       1034  entertainment      NaN     Samsung            Tizen TV   \n1       1034            NaN      NaN     Generic  Generic Android TV   \n2       1034  entertainment      NaN     Samsung            Tizen TV   \n3       1034            NaN       en       Apple            TV A1625   \n4       1034            NaN       en       Apple            TV A1625   \n\n  device_os device_language geo_region geo_metro  \n0     Tizen              en         SC       546  \n1   Android              en         OH       NaN  \n2     Tizen              en         TN       691  \n3     Other              en         GA       524  \n4     Other              en         GA       524  ",
      "text/html": "<div>\n<style scoped>\n    .dataframe tbody tr th:only-of-type {\n        vertical-align: middle;\n    }\n\n    .dataframe tbody tr th {\n        vertical-align: top;\n    }\n\n    .dataframe thead th {\n        text-align: right;\n    }\n</style>\n<table border=\"1\" class=\"dataframe\">\n  <thead>\n    <tr style=\"text-align: right;\">\n      <th></th>\n      <th>id</th>\n      <th>minduration</th>\n      <th>maxduration</th>\n      <th>minbitrate</th>\n      <th>maxbitrate</th>\n      <th>app_id</th>\n      <th>app_name</th>\n      <th>app_bundle</th>\n      <th>app_pub_id</th>\n      <th>genre</th>\n      <th>language</th>\n      <th>device_make</th>\n      <th>device_model</th>\n      <th>device_os</th>\n      <th>device_language</th>\n      <th>geo_region</th>\n      <th>geo_metro</th>\n    </tr>\n  </thead>\n  <tbody>\n    <tr>\n      <th>0</th>\n      <td>51821639-48a2-447b-b5de-aee0beb878bd</td>\n      <td>1</td>\n      <td>120</td>\n      <td>1</td>\n      <td>280000</td>\n      <td>702131</td>\n      <td>Plex</td>\n      <td>G15147002586</td>\n      <td>1034</td>\n      <td>entertainment</td>\n      <td>NaN</td>\n      <td>Samsung</td>\n      <td>Tizen TV</td>\n      <td>Tizen</td>\n      <td>en</td>\n      <td>SC</td>\n      <td>546</td>\n    </tr>\n    <tr>\n      <th>1</th>\n      <td>5aa54938-a3a7-447b-b6cf-14b43764f8e3</td>\n      <td>1</td>\n      <td>120</td>\n      <td>1</td>\n      <td>280000</td>\n      <td>711665</td>\n      <td>SLING: Live TV, Shows &amp; Movies</td>\n      <td>com.sling</td>\n      <td>1034</td>\n      <td>NaN</td>\n      <td>NaN</td>\n      <td>Generic</td>\n      <td>Generic Android TV</td>\n      <td>Android</td>\n      <td>en</td>\n      <td>OH</td>\n      <td>NaN</td>\n    </tr>\n    <tr>\n      <th>2</th>\n      <td>37b89a1e-e9e3-4697-a7f9-e20f0906fd30</td>\n      <td>1</td>\n      <td>120</td>\n      <td>1</td>\n      <td>280000</td>\n      <td>726329</td>\n      <td>Plex</td>\n      <td>G15147002586</td>\n      <td>1034</td>\n      <td>entertainment</td>\n      <td>NaN</td>\n      <td>Samsung</td>\n      <td>Tizen TV</td>\n      <td>Tizen</td>\n      <td>en</td>\n      <td>TN</td>\n      <td>691</td>\n    </tr>\n    <tr>\n      <th>3</th>\n      <td>ee6d522b-838e-4ecd-bb10-71637c4b0505</td>\n      <td>1</td>\n      <td>70</td>\n      <td>1</td>\n      <td>280000</td>\n      <td>711667</td>\n      <td>fuboTV: Watch Live Sports &amp; TV</td>\n      <td>905401434</td>\n      <td>1034</td>\n      <td>NaN</td>\n      <td>en</td>\n      <td>Apple</td>\n      <td>TV A1625</td>\n      <td>Other</td>\n      <td>en</td>\n      <td>GA</td>\n      <td>524</td>\n    </tr>\n    <tr>\n      <th>4</th>\n      <td>97253b20-00e5-445c-90c0-8cdf19da12c6</td>\n      <td>1</td>\n      <td>70</td>\n      <td>1</td>\n      <td>280000</td>\n      <td>711667</td>\n      <td>fuboTV: Watch Live Sports &amp; TV</td>\n      <td>905401434</td>\n      <td>1034</td>\n      <td>NaN</td>\n      <td>en</td>\n      <td>Apple</td>\n      <td>TV A1625</td>\n      <td>Other</td>\n      <td>en</td>\n      <td>GA</td>\n      <td>524</td>\n    </tr>\n  </tbody>\n</table>\n</div>"
     },
     "execution_count": 29,
     "metadata": {},
     "output_type": "execute_result"
    }
   ],
   "source": [
    "df_extr0409_15.head()"
   ],
   "metadata": {
    "collapsed": false,
    "ExecuteTime": {
     "end_time": "2024-07-24T13:36:28.229745Z",
     "start_time": "2024-07-24T13:36:27.972374Z"
    }
   },
   "id": "161824d439e6856c",
   "execution_count": 29
  },
  {
   "cell_type": "code",
   "outputs": [
    {
     "data": {
      "text/plain": "1176608"
     },
     "execution_count": 30,
     "metadata": {},
     "output_type": "execute_result"
    }
   ],
   "source": [
    "df_extr0409_15.index.nunique()"
   ],
   "metadata": {
    "collapsed": false,
    "ExecuteTime": {
     "end_time": "2024-07-24T13:44:08.304400Z",
     "start_time": "2024-07-24T13:44:08.280104Z"
    }
   },
   "id": "369f72fe655b8059",
   "execution_count": 30
  },
  {
   "cell_type": "code",
   "outputs": [],
   "source": [
    "\"\"\"add time column from the raw file\"\"\"\n",
    "time = pd.to_datetime(df_raw0409_15.time)\n",
    "hour = pd.to_datetime(df_raw0409_15.time).dt.hour"
   ],
   "metadata": {
    "collapsed": false,
    "ExecuteTime": {
     "end_time": "2024-07-24T17:46:44.739079Z",
     "start_time": "2024-07-24T17:46:42.882874Z"
    }
   },
   "id": "55d0b5641d0aa330",
   "execution_count": 63
  },
  {
   "cell_type": "code",
   "outputs": [
    {
     "data": {
      "text/plain": "                                     id  minduration  maxduration  minbitrate  \\\n0  51821639-48a2-447b-b5de-aee0beb878bd            1          120           1   \n1  5aa54938-a3a7-447b-b6cf-14b43764f8e3            1          120           1   \n2  37b89a1e-e9e3-4697-a7f9-e20f0906fd30            1          120           1   \n3  ee6d522b-838e-4ecd-bb10-71637c4b0505            1           70           1   \n4  97253b20-00e5-445c-90c0-8cdf19da12c6            1           70           1   \n\n   maxbitrate  app_id                        app_name    app_bundle  \\\n0      280000  702131                            Plex  G15147002586   \n1      280000  711665  SLING: Live TV, Shows & Movies     com.sling   \n2      280000  726329                            Plex  G15147002586   \n3      280000  711667  fuboTV: Watch Live Sports & TV     905401434   \n4      280000  711667  fuboTV: Watch Live Sports & TV     905401434   \n\n  app_pub_id          genre language device_make        device_model  \\\n0       1034  entertainment      NaN     Samsung            Tizen TV   \n1       1034            NaN      NaN     Generic  Generic Android TV   \n2       1034  entertainment      NaN     Samsung            Tizen TV   \n3       1034            NaN       en       Apple            TV A1625   \n4       1034            NaN       en       Apple            TV A1625   \n\n  device_os device_language geo_region geo_metro  hour  \\\n0     Tizen              en         SC       546     0   \n1   Android              en         OH       NaN     0   \n2     Tizen              en         TN       691     0   \n3     Other              en         GA       524     0   \n4     Other              en         GA       524     0   \n\n                       time  sbpr  \n0 2024-04-09 00:00:01+00:00  15.0  \n1 2024-04-09 00:00:01+00:00  15.0  \n2 2024-04-09 00:00:02+00:00  15.0  \n3 2024-04-09 00:00:03+00:00  16.5  \n4 2024-04-09 00:00:03+00:00  15.0  ",
      "text/html": "<div>\n<style scoped>\n    .dataframe tbody tr th:only-of-type {\n        vertical-align: middle;\n    }\n\n    .dataframe tbody tr th {\n        vertical-align: top;\n    }\n\n    .dataframe thead th {\n        text-align: right;\n    }\n</style>\n<table border=\"1\" class=\"dataframe\">\n  <thead>\n    <tr style=\"text-align: right;\">\n      <th></th>\n      <th>id</th>\n      <th>minduration</th>\n      <th>maxduration</th>\n      <th>minbitrate</th>\n      <th>maxbitrate</th>\n      <th>app_id</th>\n      <th>app_name</th>\n      <th>app_bundle</th>\n      <th>app_pub_id</th>\n      <th>genre</th>\n      <th>language</th>\n      <th>device_make</th>\n      <th>device_model</th>\n      <th>device_os</th>\n      <th>device_language</th>\n      <th>geo_region</th>\n      <th>geo_metro</th>\n      <th>hour</th>\n      <th>time</th>\n      <th>sbpr</th>\n    </tr>\n  </thead>\n  <tbody>\n    <tr>\n      <th>0</th>\n      <td>51821639-48a2-447b-b5de-aee0beb878bd</td>\n      <td>1</td>\n      <td>120</td>\n      <td>1</td>\n      <td>280000</td>\n      <td>702131</td>\n      <td>Plex</td>\n      <td>G15147002586</td>\n      <td>1034</td>\n      <td>entertainment</td>\n      <td>NaN</td>\n      <td>Samsung</td>\n      <td>Tizen TV</td>\n      <td>Tizen</td>\n      <td>en</td>\n      <td>SC</td>\n      <td>546</td>\n      <td>0</td>\n      <td>2024-04-09 00:00:01+00:00</td>\n      <td>15.0</td>\n    </tr>\n    <tr>\n      <th>1</th>\n      <td>5aa54938-a3a7-447b-b6cf-14b43764f8e3</td>\n      <td>1</td>\n      <td>120</td>\n      <td>1</td>\n      <td>280000</td>\n      <td>711665</td>\n      <td>SLING: Live TV, Shows &amp; Movies</td>\n      <td>com.sling</td>\n      <td>1034</td>\n      <td>NaN</td>\n      <td>NaN</td>\n      <td>Generic</td>\n      <td>Generic Android TV</td>\n      <td>Android</td>\n      <td>en</td>\n      <td>OH</td>\n      <td>NaN</td>\n      <td>0</td>\n      <td>2024-04-09 00:00:01+00:00</td>\n      <td>15.0</td>\n    </tr>\n    <tr>\n      <th>2</th>\n      <td>37b89a1e-e9e3-4697-a7f9-e20f0906fd30</td>\n      <td>1</td>\n      <td>120</td>\n      <td>1</td>\n      <td>280000</td>\n      <td>726329</td>\n      <td>Plex</td>\n      <td>G15147002586</td>\n      <td>1034</td>\n      <td>entertainment</td>\n      <td>NaN</td>\n      <td>Samsung</td>\n      <td>Tizen TV</td>\n      <td>Tizen</td>\n      <td>en</td>\n      <td>TN</td>\n      <td>691</td>\n      <td>0</td>\n      <td>2024-04-09 00:00:02+00:00</td>\n      <td>15.0</td>\n    </tr>\n    <tr>\n      <th>3</th>\n      <td>ee6d522b-838e-4ecd-bb10-71637c4b0505</td>\n      <td>1</td>\n      <td>70</td>\n      <td>1</td>\n      <td>280000</td>\n      <td>711667</td>\n      <td>fuboTV: Watch Live Sports &amp; TV</td>\n      <td>905401434</td>\n      <td>1034</td>\n      <td>NaN</td>\n      <td>en</td>\n      <td>Apple</td>\n      <td>TV A1625</td>\n      <td>Other</td>\n      <td>en</td>\n      <td>GA</td>\n      <td>524</td>\n      <td>0</td>\n      <td>2024-04-09 00:00:03+00:00</td>\n      <td>16.5</td>\n    </tr>\n    <tr>\n      <th>4</th>\n      <td>97253b20-00e5-445c-90c0-8cdf19da12c6</td>\n      <td>1</td>\n      <td>70</td>\n      <td>1</td>\n      <td>280000</td>\n      <td>711667</td>\n      <td>fuboTV: Watch Live Sports &amp; TV</td>\n      <td>905401434</td>\n      <td>1034</td>\n      <td>NaN</td>\n      <td>en</td>\n      <td>Apple</td>\n      <td>TV A1625</td>\n      <td>Other</td>\n      <td>en</td>\n      <td>GA</td>\n      <td>524</td>\n      <td>0</td>\n      <td>2024-04-09 00:00:03+00:00</td>\n      <td>15.0</td>\n    </tr>\n  </tbody>\n</table>\n</div>"
     },
     "execution_count": 64,
     "metadata": {},
     "output_type": "execute_result"
    }
   ],
   "source": [
    "df_extr0409_15_plus = df_extr0409_15.assign(hour=hour,time=time,sbpr=df_raw0409_15.sbpr)\n",
    "df_extr0409_15_plus.head()"
   ],
   "metadata": {
    "collapsed": false,
    "ExecuteTime": {
     "end_time": "2024-07-24T17:46:48.902675Z",
     "start_time": "2024-07-24T17:46:48.503915Z"
    }
   },
   "id": "69621a89ffc88d5f",
   "execution_count": 64
  },
  {
   "cell_type": "code",
   "outputs": [],
   "source": [
    "\"\"\"this concludes the cleaning of the submitted bids file\"\"\"\n",
    "df_extr0409_15_plus.to_pickle(\"bres_0409_15_clean\")"
   ],
   "metadata": {
    "collapsed": false,
    "ExecuteTime": {
     "end_time": "2024-07-24T19:02:06.097553Z",
     "start_time": "2024-07-24T19:01:58.827551Z"
    }
   },
   "id": "b40b1517a58138df",
   "execution_count": 65
  },
  {
   "cell_type": "code",
   "outputs": [],
   "source": [],
   "metadata": {
    "collapsed": false
   },
   "id": "d4ce53435ce8affb"
  }
 ],
 "metadata": {
  "kernelspec": {
   "display_name": "Python 3",
   "language": "python",
   "name": "python3"
  },
  "language_info": {
   "codemirror_mode": {
    "name": "ipython",
    "version": 2
   },
   "file_extension": ".py",
   "mimetype": "text/x-python",
   "name": "python",
   "nbconvert_exporter": "python",
   "pygments_lexer": "ipython2",
   "version": "2.7.6"
  }
 },
 "nbformat": 4,
 "nbformat_minor": 5
}
